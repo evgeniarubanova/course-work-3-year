{
 "cells": [
  {
   "cell_type": "code",
   "execution_count": 1,
   "metadata": {},
   "outputs": [],
   "source": [
    "import os"
   ]
  },
  {
   "cell_type": "code",
   "execution_count": 112,
   "metadata": {},
   "outputs": [
    {
     "data": {
      "text/plain": [
       "16"
      ]
     },
     "execution_count": 112,
     "metadata": {},
     "output_type": "execute_result"
    }
   ],
   "source": [
    "curr_dir = os.getcwd()\n",
    "gr_bad_arr = []\n",
    "for root, dirs, files in os.walk(curr_dir):\n",
    "    for file in files:\n",
    "        if file.endswith('.txt') == True:\n",
    "            with open(file, 'r', encoding = 'utf-8') as f: \n",
    "                text = f.read()\n",
    "                gr_bad_arr.append(text)\n",
    "len(gr_bad_arr)"
   ]
  },
  {
   "cell_type": "code",
   "execution_count": 2,
   "metadata": {},
   "outputs": [],
   "source": [
    "import re"
   ]
  },
  {
   "cell_type": "code",
   "execution_count": 114,
   "metadata": {},
   "outputs": [],
   "source": [
    "gr_arr = []\n",
    "reg_let = '(?<![А-Яа-яёЁa-zA-Z]{2})(?<=[А-Яа-яёЁa-zA-Z]{1}) +(?=[А-Яа-яёЁa-zA-Z] |.$)'\n",
    "reg_space = re.compile('\\s{1,}', re.DOTALL)\n",
    "for gr in gr_bad_arr:\n",
    "    text = re.sub(r'\\d', '', gr)\n",
    "    text = re.sub(r'\\n', ' ', text)\n",
    "    if re.search(r'­\\n', text):\n",
    "        text = re.sub(r'­\\n', '', text)\n",
    "    if re.search(reg_let, text):\n",
    "        text = re.sub(reg_let, '', text)\n",
    "    gr_arr.append(text)"
   ]
  },
  {
   "cell_type": "code",
   "execution_count": 115,
   "metadata": {},
   "outputs": [
    {
     "data": {
      "text/plain": [
       "16"
      ]
     },
     "execution_count": 115,
     "metadata": {},
     "output_type": "execute_result"
    }
   ],
   "source": [
    "len(gr_arr)"
   ]
  },
  {
   "cell_type": "code",
   "execution_count": 116,
   "metadata": {},
   "outputs": [],
   "source": [
    "#split into sentences\n",
    "sents_arr = []\n",
    "reg_n = re.compile('(\\n)+', re.DOTALL)\n",
    "reg_space = re.compile('\\s{2,}', re.DOTALL)\n",
    "for text in gr_arr:\n",
    "    text = reg_n.sub(' ', text)\n",
    "    text = reg_space.sub(' ', text)\n",
    "    sents = re.split('(?<=[.!?]) (?=[A-ЯЁA-Z])', text)\n",
    "    for sent in sents:\n",
    "        sents_arr.append(sent)   "
   ]
  },
  {
   "cell_type": "code",
   "execution_count": 117,
   "metadata": {},
   "outputs": [
    {
     "data": {
      "text/plain": [
       "156581"
      ]
     },
     "execution_count": 117,
     "metadata": {},
     "output_type": "execute_result"
    }
   ],
   "source": [
    "len(sents_arr)"
   ]
  },
  {
   "cell_type": "code",
   "execution_count": 3,
   "metadata": {},
   "outputs": [],
   "source": [
    "import pymorphy2\n",
    "from pymorphy2 import MorphAnalyzer\n",
    "morph = MorphAnalyzer()"
   ]
  },
  {
   "cell_type": "code",
   "execution_count": 119,
   "metadata": {},
   "outputs": [],
   "source": [
    "#Морфологическая обработка всех предложений\n",
    "morph_arr = []\n",
    "for sent in sents_arr:\n",
    "    arr = []\n",
    "    words = sent.split()\n",
    "    for word in words:\n",
    "        word_morph = morph.parse(word)\n",
    "        if isinstance(word_morph, list):\n",
    "            word_morph = word_morph[0]\n",
    "        arr.append(word_morph)\n",
    "    morph_arr.append(arr)"
   ]
  },
  {
   "cell_type": "code",
   "execution_count": 120,
   "metadata": {},
   "outputs": [
    {
     "data": {
      "text/plain": [
       "156581"
      ]
     },
     "execution_count": 120,
     "metadata": {},
     "output_type": "execute_result"
    }
   ],
   "source": [
    "len(morph_arr)"
   ]
  },
  {
   "cell_type": "code",
   "execution_count": 121,
   "metadata": {},
   "outputs": [],
   "source": [
    "#X [-/:] (это) Y\n",
    "sents_1 = []\n",
    "for indx, sent in enumerate(morph_arr):\n",
    "    arr = []\n",
    "    for word in sent:\n",
    "        if '–' in str(word) or '—' in str(word) or ':' in str(word):\n",
    "            arr.append('symbol')\n",
    "        if 'это' in str(word):\n",
    "            arr.append('word')\n",
    "        if 'symbol' in arr and 'word' in arr:\n",
    "            if arr.index('word') == 1:\n",
    "                if sents_arr[indx] not in sents_1:\n",
    "                    sents_1.append(sents_arr[indx])\n",
    "with open('pattern_1.txt', 'w', encoding = 'utf-8') as f:\n",
    "    for sent in sents_1:\n",
    "        f.write(\"%s\\n\" % sent)"
   ]
  },
  {
   "cell_type": "code",
   "execution_count": 122,
   "metadata": {},
   "outputs": [
    {
     "data": {
      "text/plain": [
       "Parse(word='факультет', tag=OpencorporaTag('NOUN,inan,masc sing,nomn'), normal_form='факультет', score=0.75, methods_stack=((<DictionaryAnalyzer>, 'факультет', 33, 0),))"
      ]
     },
     "execution_count": 122,
     "metadata": {},
     "output_type": "execute_result"
    }
   ],
   "source": [
    "morph_arr[0][0]"
   ]
  },
  {
   "cell_type": "code",
   "execution_count": 123,
   "metadata": {},
   "outputs": [],
   "source": [
    "#X.Nom [называться, назвать, называть, являться, служить, считаться, оказываться] Y.Abl\n",
    "sents_2 = []\n",
    "for indx, sent in enumerate(morph_arr):\n",
    "    arr = []\n",
    "    for word in sent:\n",
    "        if 'называться' in str(word) and 'VERB' in str(word):\n",
    "            arr.append('verb')\n",
    "        elif 'назвать' in str(word) and 'VERB' in str(word):\n",
    "            arr.append('verb')\n",
    "        elif 'называть' in str(word) and 'VERB' in str(word):\n",
    "            arr.append('verb')\n",
    "        elif 'являться' in str(word) and 'VERB' in str(word):\n",
    "            arr.append('verb')\n",
    "        elif 'служить' in str(word) and 'VERB' in str(word):\n",
    "            arr.append('verb')\n",
    "        elif 'считаться' in str(word) and 'VERB' in str(word):\n",
    "            arr.append('verb')\n",
    "        elif 'оказываться' in str(word) and 'VERB' in str(word):\n",
    "            arr.append('verb')\n",
    "        if 'NOUN' in str(word) and 'ablt' in str(word):\n",
    "            arr.append('noun')\n",
    "        if 'verb' in arr and 'noun' in arr:\n",
    "            if sents_arr[indx] not in sents_2:\n",
    "                sents_2.append(sents_arr[indx])\n",
    "with open('pattern_2.txt', 'w', encoding = 'utf-8') as f:\n",
    "    for sent in sents_2:\n",
    "        f.write(\"%s\\n\" % sent)"
   ]
  },
  {
   "cell_type": "code",
   "execution_count": 124,
   "metadata": {},
   "outputs": [],
   "source": [
    "#X [пониматься/трактоваться/проявляться/рассматриваться/определить/толковаться] как Y\n",
    "sents_3 = []\n",
    "for indx, sent in enumerate(morph_arr):\n",
    "    arr = []\n",
    "    for word in sent:\n",
    "        if 'определить' in str(word) and 'VERB' in str(word):\n",
    "            arr.append('verb')\n",
    "        if 'пониматься' in str(word) and 'VERB' in str(word) and 'pres' in str(word):\n",
    "            arr.append('verb')\n",
    "        if 'трактоваться' in str(word) and 'VERB' in str(word) and 'pres' in str(word):\n",
    "            arr.append('verb')\n",
    "        if 'проявляться' in str(word) and 'VERB' in str(word) and 'pres' in str(word):\n",
    "            arr.append('verb')\n",
    "        if 'рассматриваться' in str(word) and 'VERB' in str(word) and 'pres' in str(word):\n",
    "            arr.append('verb')\n",
    "        if 'толковаться' in str(word) and 'VERB' in str(word) and 'pres' in str(word):\n",
    "            arr.append('verb')\n",
    "        if 'как' in str(word):\n",
    "            arr.append('как')\n",
    "        if 'verb' in arr and 'как' in arr:\n",
    "            if sents_arr[indx] not in sents_3:\n",
    "                sents_3.append(sents_arr[indx])\n",
    "with open('pattern_3.txt', 'w', encoding = 'utf-8') as f:\n",
    "    for sent in sents_3:\n",
    "        f.write(\"%s\\n\" % sent)"
   ]
  },
  {
   "cell_type": "code",
   "execution_count": 125,
   "metadata": {},
   "outputs": [],
   "source": [
    "#X [служить для] Y\n",
    "sents_4 = []\n",
    "for indx, sent in enumerate(morph_arr):\n",
    "    arr = []\n",
    "    for word in sent:\n",
    "        if 'служить' in str(word) and 'VERB' in str(word):\n",
    "            arr.append('служить')\n",
    "        if 'для' in str(word):\n",
    "            arr.append('для')\n",
    "        if 'служить' in arr and 'для' in arr:\n",
    "            if sents_arr[indx] not in sents_4:\n",
    "                sents_4.append(sents_arr[indx])\n",
    "with open('pattern_4.txt', 'w', encoding = 'utf-8') as f:\n",
    "    for sent in sents_4:\n",
    "        f.write(\"%s\\n\" % sent)"
   ]
  },
  {
   "cell_type": "code",
   "execution_count": 126,
   "metadata": {},
   "outputs": [],
   "source": [
    "#X, (т.е./или/так) [называемый] Y\n",
    "sents_5 = []\n",
    "for indx, sent in enumerate(morph_arr):\n",
    "    for word in sent:\n",
    "        if 'называть' in str(word) and 'PRTF' in str(word) and 'pssv' in str(word):\n",
    "            if sents_arr[indx] not in sents_5:\n",
    "                sents_5.append(sents_arr[indx])\n",
    "with open('pattern_5.txt', 'w', encoding = 'utf-8') as f:\n",
    "    for sent in sents_5:\n",
    "        f.write(\"%s\\n\" % sent)"
   ]
  },
  {
   "cell_type": "code",
   "execution_count": 127,
   "metadata": {},
   "outputs": [],
   "source": [
    "#X [составлять/образовать/изучать/обозначать/выражать/указывать] Y\n",
    "sents_6 = []\n",
    "for indx, sent in enumerate(morph_arr):\n",
    "    arr = []\n",
    "    for word in sent:\n",
    "        if 'составлять' in str(word) and 'VERB' in str(word) and 'pres' in str(word):\n",
    "            arr.append('verb')\n",
    "        elif 'образовать' in str(word) and 'VERB' in str(word) and 'futr' in str(word):\n",
    "            arr.append('verb')\n",
    "        elif 'изучать' in str(word) and 'VERB' in str(word) and 'pres' in str(word):\n",
    "            arr.append('verb')\n",
    "        elif 'обозначать' in str(word) and 'VERB' in str(word) and 'pres' in str(word):\n",
    "            arr.append('verb')\n",
    "        elif 'выражать' in str(word) and 'VERB' in str(word) and 'pres' in str(word):\n",
    "            arr.append('verb')\n",
    "        elif 'указывать' in str(word) and 'VERB' in str(word) and 'pres' in str(word):\n",
    "            arr.append('verb')\n",
    "        if 'verb' in arr:\n",
    "            if sents_arr[indx] not in sents_6:\n",
    "                sents_6.append(sents_arr[indx])\n",
    "with open('pattern_6.txt', 'w', encoding = 'utf-8') as f:\n",
    "    for sent in sents_6:\n",
    "        f.write(\"%s\\n\" % sent)"
   ]
  },
  {
   "cell_type": "code",
   "execution_count": 128,
   "metadata": {},
   "outputs": [],
   "source": [
    "#Под X [пониматься/разуметься/понимать/разуметь/объединяться] Y\n",
    "sents_7 = []\n",
    "for indx, sent in enumerate(morph_arr):\n",
    "    arr = []\n",
    "    for word in sent:\n",
    "        if 'пониматься' in str(word) and 'VERB' in str(word) and 'pres' in str(word):\n",
    "            arr.append('verb')\n",
    "        elif 'понимать' in str(word) and 'VERB' in str(word) and 'pres' in str(word):\n",
    "            arr.append('verb')\n",
    "        elif 'разуметься' in str(word) and 'VERB' in str(word) and 'pres' in str(word):\n",
    "            arr.append('verb')\n",
    "        elif 'разуметь' in str(word) and 'VERB' in str(word) and 'pres' in str(word):\n",
    "            arr.append('verb')\n",
    "        elif 'объединяться' in str(word) and 'VERB' in str(word) and 'pres' in str(word):\n",
    "            arr.append('verb')\n",
    "        if 'под' in str(word):\n",
    "            arr.append('под')\n",
    "        if 'verb' in arr and 'под' in arr:\n",
    "            if sents_arr[indx] not in sents_7:\n",
    "                sents_7.append(sents_arr[indx])\n",
    "with open('pattern_7.txt', 'w', encoding = 'utf-8') as f:\n",
    "    for sent in sents_7:\n",
    "        f.write(\"%s\\n\" % sent)"
   ]
  },
  {
   "cell_type": "code",
   "execution_count": 129,
   "metadata": {},
   "outputs": [],
   "source": [
    "#X [относиться] к Y\n",
    "sents_8 = []\n",
    "for indx, sent in enumerate(morph_arr):\n",
    "    for word in sent:\n",
    "        if 'относиться' in str(word) and 'VERB' in str(word) and 'pres' in str(word):\n",
    "            if sents_arr[indx] not in sents_8:\n",
    "                sents_8.append(sents_arr[indx])\n",
    "with open('pattern_8.txt', 'w', encoding = 'utf-8') as f:\n",
    "    for sent in sents_8:\n",
    "        f.write(\"%s\\n\" % sent)"
   ]
  },
  {
   "cell_type": "code",
   "execution_count": 130,
   "metadata": {},
   "outputs": [],
   "source": [
    "#X [есть/суть] Y\n",
    "sents_9 = []\n",
    "for indx, sent in enumerate(morph_arr):\n",
    "    for word in sent:\n",
    "        if 'есть' in str(word):\n",
    "            if sents_arr[indx] not in sents_9:\n",
    "                sents_9.append(sents_arr[indx])\n",
    "        if 'суть' in str(word) and 'VERB' in str(word):\n",
    "            if sents_arr[indx] not in sents_9:\n",
    "                sents_9.append(sents_arr[indx])\n",
    "with open('pattern_9.txt', 'w', encoding = 'utf-8') as f:\n",
    "    for sent in sents_9:\n",
    "        f.write(\"%s\\n\" % sent)"
   ]
  },
  {
   "cell_type": "code",
   "execution_count": 131,
   "metadata": {},
   "outputs": [],
   "source": [
    "#X [заключаться в] Y\n",
    "sents_10 = []\n",
    "for indx, sent in enumerate(morph_arr):\n",
    "    for word in sent:\n",
    "        if 'заключаться' in str(word) and 'VERB' in str(word):\n",
    "            if sents_arr[indx] not in sents_10:\n",
    "                sents_10.append(sents_arr[indx])\n",
    "with open('pattern_10.txt', 'w', encoding = 'utf-8') as f:\n",
    "    for sent in sents_10:\n",
    "        f.write(\"%s\\n\" % sent)"
   ]
  },
  {
   "cell_type": "code",
   "execution_count": 132,
   "metadata": {},
   "outputs": [],
   "source": [
    "#X [состоять из] Y\n",
    "sents_11 = []\n",
    "for indx, sent in enumerate(morph_arr):\n",
    "    arr = []\n",
    "    for word in sent:\n",
    "        if 'состоять' in str(word) and 'VERB' in str(word):\n",
    "            arr.append('состоять')\n",
    "        if 'из' in str(word):\n",
    "            arr.append('из')\n",
    "        if 'состоять' in arr and 'из' in arr:\n",
    "            if sents_arr[indx] not in sents_11:\n",
    "                sents_11.append(sents_arr[indx])\n",
    "with open('pattern_11.txt', 'w', encoding = 'utf-8') as f:\n",
    "    for sent in sents_11:\n",
    "        f.write(\"%s\\n\" % sent)"
   ]
  },
  {
   "cell_type": "code",
   "execution_count": 133,
   "metadata": {},
   "outputs": [],
   "source": [
    "#X [включать в себя/представлять собой] Y\n",
    "sents_12 = []\n",
    "for indx, sent in enumerate(morph_arr):\n",
    "    arr = []\n",
    "    for word in sent:\n",
    "        if 'включать' in str(word) and 'VERB' in str(word) and 'pres' in str(word):\n",
    "            arr.append('verb')\n",
    "        if 'представлять' in str(word) and 'VERB' in str(word) and 'pres' in str(word):\n",
    "            arr.append('verb')\n",
    "        if 'себя' in str(word):\n",
    "            arr.append('self')\n",
    "        if 'verb' in arr and 'self' in arr:\n",
    "            if sents_arr[indx] not in sents_12:\n",
    "                sents_12.append(sents_arr[indx])\n",
    "with open('pattern_12.txt', 'w', encoding = 'utf-8') as f:\n",
    "    for sent in sents_12:\n",
    "        f.write(\"%s\\n\" % sent)"
   ]
  },
  {
   "cell_type": "code",
   "execution_count": 4,
   "metadata": {},
   "outputs": [],
   "source": [
    "import urllib.request"
   ]
  },
  {
   "cell_type": "code",
   "execution_count": 5,
   "metadata": {},
   "outputs": [
    {
     "data": {
      "text/plain": [
       "'<!DOCTYPE HTML PUBLIC \"-//W3C//DTD HTML 4.01 Transitional//EN\" \"http://www.w3.org/TR/html4/loose.dtd\">\\r\\n<html>\\r\\n<head>\\r\\n<meta http-equiv=\"Content-Type\" content=\"text/html; charset=windows-1251\">\\r\\n<title>Словарь лингвистических терминов и основных понятий общего и русского языкознания, толкования и определения основных терминов лингвистики :: Textologia.ru</title>\\r\\n<meta name=\"description\" content=\"Алфавитный список терминов и понятий лингвистики и русского языкознания, словарь лингвистических терминов на сайте Textologia.ru\">\\r\\n<meta name=\"keywords\" content=\"словарь лингвистических терминов понятий толкование расшифровка\">\\r\\n<link rel=\"icon\" href=\"/favicon.ico\" type=\"image/x-icon\">\\r\\n<link rel=\"shortcut icon\" href=\"/favicon.ico\" type=\"image/x-icon\">\\r\\n<link href=\"/templates/css/css.css\" rel=\"stylesheet\" type=\"text/css\">\\r\\n<script type=\"text/javascript\" src=\"/templates/js/favorite.js\"></script>\\r\\n<script type=\"text/javascript\">if(top!=self)top.location.href=self.location.href;</script>\\r\\n<script type=\"text/javascript\" src=\"/templates/js/jquery02.js\"></script>\\r\\n<script type=\"text/javascript\" src=\"/templates/js/jquery02-menu.js\"></script>\\r\\n<script language=\"JavaScript\" src=\"/templates/js/add2copy/jquerymain.js\" type=\"text/javascript\"></script>\\r\\n<script language=\"JavaScript\" src=\"/templates/js/add2copy/add2copy.js\" type=\"text/javascript\"></script>\\r\\n<link rel=\"stylesheet\" type=\"text/css\" href=\"/templates/js/add2copy/add2copy.css\"></head>\\r\\n<body>\\r\\n<div class=\"hpmd-header-native\" style=\"width:100%\"></div>\\r\\n    <div align=\"center\" style=\"margin: 0 0 25px 0;\">\\r\\n     <div style=\"background-color: #E5E5E5; background:url(/templates/img/fon_bnr_cap.gif); background-repeat:repeat-x; background-position: bottom; padding: 9px 0 10px 0;\"></div>\\r\\n    </div>\\r\\n\\r\\n<script language=\"JavaScript\">\\r\\n<!--\\r\\n\\r\\nfunction doClear(theText) \\r\\n{\\r\\n\\tif (theText.value == theText.defaultValue) { theText.value = \"\" } \\r\\n}\\r\\n\\r\\nfunction doDefault(theText) \\r\\n{ \\r\\n\\tif (theText.value == \"\") { theText.value = theText.defaultValue } \\r\\n}\\r\\n//-->\\r\\n</script>\\r\\n\\r\\n<div align=\"center\" id=\"cap_top\">\\r\\n\\t<table width=\"1000px\" border=\"0\" cellspacing=\"0\" cellpadding=\"0\">\\r\\n\\t  <tr>\\r\\n\\t    <td valign=\"top\" align=\"left\" width=\"61\"><a href=\"http://www.textologia.ru/\" title=\"Образовательный сайт, учебные материалы и статьи  - Textologia.ru\"><img src=\"/templates/img/logo-new.gif\" alt=\"Образовательная энциклопедия и электронная библиотека полезных материалов и статей для обучения\" height=\"59\" width=\"61\"></a></td>\\r\\n\\t    <td valign=\"top\" align=\"left\" width=\"305\">\\r\\n\\t\\t <a href=\"http://www.textologia.ru/\" title=\"Журнал об образовании и обучении, полезные материалы для развития и самообразования, получения знаний\"><img src=\"/templates/img/logo_txt.gif\" alt=\"Полезная информация, учебные материалы и обучающие статьи в электронно образовательном журнале Textologia.ru\" height=\"35\" width=\"205\" class=\"logo_t\"></a>\\r\\n\\t\\t <div align=\"right\" class=\"logo_txt\"><a href=\"http://www.textologia.ru/\" title=\"Образовательный портал об образовании, науке и культуре\">образовательный журнал</a></div>\\r\\n\\t\\t</td>\\r\\n\\t    <td valign=\"top\" align=\"left\" width=\"364\">\\r\\n     <div style=\"font-size:13px; color:#6c8872; font-weight:bold; margin: -3px 0 9px 0;\">Последние новости образования</div>\\r\\n    \\r\\n\\t         <div style=\"float:left;\"><img src=\"/templates/img/nws01.gif\" height=\"14\" width=\"14\" alt=\"Бесплатное российское образование может повысить лояльность к России\" style=\"margin: 1px 11px 0px 0px;\"></div>\\r\\n\\t\\t\\t <div style=\"font-size:12px;\" class=\"nws-top\"><a href=\"http://event.textologia.ru/one-besplatnoe-rossiyskoe-obrazovanie-mozhet-povisit-loyalnost-k-rossii/?q=933&n=1010\" title=\"Бесплатное российское образование может повысить лояльность к России\">Бесплатное российское образование может  ... </a></div>\\r\\n             <div style=\"margin: 0 0 7px 0;\"><img src=\"/templates/img/x.gif\" width=\"1\" height=\"1\"></div>\\r\\n            \\r\\n\\t         <div style=\"float:left;\"><img src=\"/templates/img/nws02.gif\" height=\"14\" width=\"14\" alt=\"Учителя из разных регионов отправились в географическую экспедицию\" style=\"margin: 1px 11px 0px 0px;\"></div>\\r\\n\\t\\t\\t <div style=\"font-size:12px;\" class=\"nws-top\"><a href=\"http://event.textologia.ru/one-uchitelya-iz-raznih-regionov-otpravilis-v-geograficheskuyu-ekspediciyu/?q=933&n=1009\" title=\"Учителя из разных регионов отправились в географическую экспедицию\">Учителя из разных регионов отправились в ... </a></div>\\r\\n           \\t\\t</td>\\r\\n\\t    <td valign=\"top\" align=\"left\" width=\"270\">\\r\\n\\r\\n        <form action=\"http://www.textologia.ru\" method=\"POST\">\\r\\n          <table width=\"266px\" border=\"0\" cellpadding=\"0\" cellspacing=\"0\">\\r\\n           <tr>\\r\\n            <td width=\"217px\" align=\"left\"><input type=\"text\" maxlength=\"100\" name=\"login\" value=\"Логин\" class=\"avtoriz\" style=\"width:98px;\" onFocus=\"doClear(this)\"onBlur=\"doDefault(this)\"> <input type=\"password\" maxlength=\"100\" name=\"pass\" value=\"Пароль\" class=\"avtoriz\" style=\"width:99px;\" onFocus=\"doClear(this)\"onBlur=\"doDefault(this)\"></td>\\r\\n            <td width=\"49px\"><input type=\"image\" alt=\"Вход\" src=\"/templates/img/enter.gif\"></td>\\r\\n           </tr>\\r\\n          </table>\\r\\n        </form>\\r\\n        <div class=\"pnctr2\"><img src=\"/templates/img/x.gif\" alt=\"\" height=\"1\" width=\"1\"></div>\\r\\n\\r\\n<div  style=\"margin-top:11px;\">\\r\\n <div align=\"right\" class=\"avtoriz_txt\" style=\"margin-top:10px;\"><a href=\"http://www.textologia.ru/registration/?q=523\"><img src=\"/templates/img/regst-icon.gif\" height=\"8\" width=\"7\" alt=\"Регистрация\"></a>&nbsp; <a href=\"http://www.textologia.ru/registration/?q=523\">Регистрация</a> &nbsp;|&nbsp;  <a href=\"http://www.textologia.ru/vosstanovlenie/?q=522\">Забыли пароль?</a> &nbsp;|&nbsp;  <a href=\"http://www.textologia.ru/pravila/?q=1071\">Правила сайта</a></div>\\r\\n</div>\\r\\n\\t\\t\\t \\r\\n\\t\\t</td>\\r\\n\\t  </tr>\\r\\n\\t</table>\\r\\n</div><div align=\"center\" id=\"cap\">\\r\\n <table width=\"1000px\" border=\"0\" cellspacing=\"0\" cellpadding=\"0\">\\r\\n  <tr>\\r\\n    <td valign=\"top\"  align=\"left\" class=\"c_left\" width=\"391\">\\r\\n    <img src=\"/templates/img/foto-top_3.jpg\" alt=\"\" height=\"245\" width=\"391\">    \\t</td>\\r\\n\\t<td><img src=\"/templates/img/x.gif\" alt=\"\" height=\"1\" width=\"1\"></td>\\r\\n    <td valign=\"top\" align=\"left\" class=\"c_right\" width=\"608\">\\r\\n     \\r\\n<table width=\"608\" border=\"0\" cellspacing=\"0\" cellpadding=\"0\">\\r\\n      <tr>\\r\\n       <td width=\"202\" valign=\"top\" class=\"menu_t_l\">\\r\\n    \\r\\n   <ul id=\"jsddm\">\\r\\n\\t<li><div class=\"m_bg\"><div class=\"m_z\"><a href=\"http://www.textologia.ru/russkiy/?q=394\" title=\"Русский язык\">Русский язык</a></div>\\r\\n\\t    <div class=\"m_pnctr\"><img src=\"/templates/img/x.gif\" alt=\"\" height=\"1\" width=\"1\"></div>\\r\\n\\t <div class=\"m_txt\"><a href=\"http://www.textologia.ru/russkiy/alfavit-istoria/?q=554\" title=\"Алфавит и его история\">Алфавит и его история</a></div><div class=\"m_txt\"><a href=\"http://www.textologia.ru/russkiy/orfografia/?q=496\" title=\"Орфография\">Орфография</a></div><div class=\"m_txt\"><a href=\"http://www.textologia.ru/russkiy/punktuatsia/?q=504\" title=\"Пунктуация\">Пунктуация</a></div><div class=\"m_txt\"><a href=\"http://www.textologia.ru/russkiy/fonetika-fonologia/?q=451\" title=\"Фонетика и фонология\">Фонетика и фонология</a></div><div class=\"m_txt\"><a href=\"http://www.textologia.ru/russkiy/morfemika-slovoobrazovanie/?q=452\" title=\"Морфемика и словообразование\">Морфемика и словообразование</a></div><div class=\"m_txt\"><a href=\"http://www.textologia.ru/russkiy/morfologia/?q=453\" title=\"Морфология\">Морфология</a></div><div class=\"m_txt\"><a href=\"http://www.textologia.ru/russkiy/sintaksis/?q=454\" title=\"Синтаксис\">Синтаксис</a></div>\\r\\n\\t   </div>\\r\\n\\t    <ul>\\r\\n\\t        <li><a href=\"http://www.textologia.ru/russkiy/leksikologia/?q=579\" title=\"Лексикология и фразеология\">Лексикология и фразеология</a></li>\\r\\n\\t        <li><a href=\"http://www.textologia.ru/russkiy/istoria-literaturnogo-jazika/?q=609\" title=\"История литературного языка\">История литературного языка</a></li>\\r\\n\\t        <li><a href=\"http://www.textologia.ru/russkiy/russkaya-dialektologia/?q=695\" title=\"Диалектология\">Диалектология</a></li>\\r\\n\\t        <li><a href=\"http://www.textologia.ru/russkiy/stilistika/?q=587\" title=\"Стилистика\">Стилистика</a></li>\\r\\n\\t        <li><a href=\"http://www.textologia.ru/russkiy/kultura-rechi/?q=590\" title=\"Культура речи\">Культура речи</a></li>\\r\\n\\t        <li><a href=\"http://www.textologia.ru/russkiy/onomastika/?q=622\" title=\"Ономастика\">Ономастика</a></li>\\r\\n\\t        <li><a href=\"http://www.textologia.ru/russkiy/lingvisticheskiy-analiz/?q=415\" title=\"Лингвистический анализ текста\">Лингвистический анализ текста</a></li>\\r\\n\\t        <li><a href=\"http://www.textologia.ru/russkiy/interesnie-fakti-yazika/?q=689\" title=\"Интересные факты о языке\">Интересные факты о языке</a></li>\\r\\n\\t        <li><a href=\"http://www.textologia.ru/russkiy/ege-rus-yazik/?q=887\" title=\"ЕГЭ по русскому языку\">ЕГЭ по русскому языку</a></li>\\r\\n\\t        <li><a href=\"http://www.textologia.ru/russkiy/gia-rus-yazik/?q=888\" title=\"ОГЭ (ГИА) по русскому языку\">ОГЭ (ГИА) по русскому языку</a></li><li><a href=\"http://slova.textologia.ru/\" title=\"Словарные слова\">Словарные слова</a></li><li><a href=\"http://www.textologia.ru/faq/?q=490\" title=\"Задать вопрос\">Задать вопрос</a></li>\\r\\n\\t\\t</ul>\\r\\n\\t</li>\\r\\n   </ul>\\r\\n\\t   </td>\\r\\n       <td width=\"1\" class=\"pict_line\"><img src=\"/templates/img/x.gif\" alt=\"\" height=\"1\" width=\"1\"></td>\\r\\n       <td width=\"202\" valign=\"top\" class=\"menu_t_c\">\\r\\n   <ul id=\"jsddm2\">\\r\\n\\t<li><div class=\"m_bg2\">\\r\\n\\t    <div class=\"m_z\"><a href=\"http://www.textologia.ru/yazikoznanie/?q=628\" title=\"Языкознание\">Языкознание</a></div>\\r\\n\\t    <div class=\"m_pnctr\"><img src=\"/templates/img/x.gif\" alt=\"\" height=\"1\" width=\"1\"></div>\\r\\n\\t <div class=\"m_txt\"><a href=\"http://www.textologia.ru/yazikoznanie/teoria-yazikoznania/?q=642\" title=\"Теория языкознания\">Теория языкознания</a></div><div class=\"m_txt\"><a href=\"http://www.textologia.ru/yazikoznanie/istoria-yazikoznania/?q=629\" title=\"История языкознания\">История языкознания</a></div><div class=\"m_txt\"><a href=\"http://www.textologia.ru/yazikoznanie/tekstologiya/?q=722\" title=\"Текстология\">Текстология</a></div><div class=\"m_txt\"><a href=\"http://www.textologia.ru/yazikoznanie/etimologia/?q=649\" title=\"Этимология\">Этимология</a></div><div class=\"m_txt\"><a href=\"http://www.textologia.ru/yazikoznanie/lingvokulturologia/?q=670\" title=\"Лингвокультурология\">Лингвокультурология</a></div><div class=\"m_txt\"><a href=\"http://www.textologia.ru/yazikoznanie/yazik-mezhkult-kommun/?q=715\" title=\"Язык и коммуникация\">Язык и коммуникация</a></div><div class=\"m_txt\"><a href=\"http://www.textologia.ru/yazikoznanie/yazik-religiya/?q=678\" title=\"Язык и религия\">Язык и религия</a></div>\\r\\n\\t   </div>\\r\\n\\t    <ul>\\r\\n\\t\\t\\t<li><a href=\"http://www.textologia.ru/yazikoznanie/interesnie-fakti-yazikoznania/?q=748\" title=\"Интересные факты языкознания\">Интересные факты языкознания</a></li><li><a href=\"http://www.textologia.ru/faq/?q=490\" title=\"Задать вопрос\">Задать вопрос</a></li>\\r\\n\\t\\t</ul>\\r\\n\\t</li>\\r\\n   </ul>\\r\\n\\t   </td>\\r\\n       <td width=\"1\" class=\"pict_line\"><img src=\"/templates/img/x.gif\" alt=\"\" height=\"245\" width=\"1\"></td>\\r\\n       <td width=\"202\" valign=\"top\" class=\"menu_t_r\">\\r\\n   <ul id=\"jsddm3\">\\r\\n\\t<li><div class=\"m_bg3\">\\r\\n\\t    <div class=\"m_z\"><a href=\"http://www.textologia.ru/literature/?q=397\" title=\"Литература\">Литература</a></div>\\r\\n\\t    <div class=\"m_pnctr\"><img src=\"/templates/img/x.gif\" alt=\"\" height=\"1\" width=\"1\"></div>\\r\\n\\t <div class=\"m_txt\"><a href=\"http://www.textologia.ru/literature/istoria-mirovoy-literatury/?q=994\" title=\"История мировой литературы\">История мировой литературы</a></div><div class=\"m_txt\"><a href=\"http://www.textologia.ru/literature/teoria-literatury/?q=411\" title=\"Теория литературы\">Теория литературы</a></div><div class=\"m_txt\"><a href=\"http://www.textologia.ru/literature/russkiy-folklor/?q=752\" title=\"Теория и история фольклора\">Теория и история фольклора</a></div><div class=\"m_txt\"><a href=\"http://www.textologia.ru/literature/analiz-hudozhestvennogo-texta/?q=660\" title=\"Анализ текста произведения\">Анализ текста произведения</a></div><div class=\"m_txt\"><a href=\"http://www.textologia.ru/literature/interesnie-fakti-literaruri/?q=796\" title=\"Интересные факты литературы\">Интересные факты литературы</a></div><div class=\"m_txt\"><a href=\"http://www.textologia.ru/literature/ege-literatura/?q=889\" title=\"ЕГЭ по литературе\">ЕГЭ по литературе</a></div><div class=\"m_txt\"><a href=\"http://www.textologia.ru/literature/gia-literatura/?q=890\" title=\"ОГЭ (ГИА) по литературе\">ОГЭ (ГИА) по литературе</a></div>\\r\\n\\t   </div>\\r\\n\\t    <ul><li><a href=\"http://www.textologia.ru/faq/?q=490\" title=\"Задать вопрос\">Задать вопрос</a></li>\\r\\n\\t\\t</ul>\\r\\n\\t</li>\\r\\n   </ul>   \\r\\n\\t   </td>\\r\\n      </tr>\\r\\n</table>\\r\\n\\t</td>\\r\\n  </tr>\\r\\n  <tr>\\r\\n    <td valign=\"top\" align=\"left\" class=\"c_left_bot\">\\r\\n     \\r\\n    <div style=\"float:left;\"><a href=\"http://www.textologia.ru\" title=\"Текстология.ру - мир знаний и образования\"><img src=\"/templates/img/adv-img-p.gif\" alt=\"Текстология.ру - открой мир знаний и образования\" height=\"16\" width=\"16\" style=\"margin: 7px 9px 0 0;\"></a></div>\\r\\n    <div style=\"margin: 8px 0 0 0;\"><a href=\"http://www.textologia.ru\" title=\"Текстология.ру - мир знаний и образования\" style=\"color:#e1ebd2; text-decoration: none;\">ТекстоЛогия.ру &ndash; открой МИР ЗНАНИЙ и образования !!!</a></div>\\r\\n    </td>\\r\\n\\t<td><img src=\"/templates/img/x.gif\" alt=\"\" height=\"1\" width=\"1\"></td>\\r\\n    <td valign=\"top\" align=\"left\" class=\"c_right_bot\">\\r\\n<table width=\"608\" border=\"0\" cellspacing=\"0\" cellpadding=\"0\">\\r\\n     <tr>\\r\\n      <td width=\"405\" valign=\"top\" class=\"menu_t_b\">\\r\\n\\t   <ul id=\"jsddm4\">\\r\\n\\t\\t<li><div class=\"m_bg4\"> \\r\\n\\t\\t\\t<table width=\"380\" border=\"0\" cellspacing=\"0\" cellpadding=\"0\">\\r\\n\\t\\t\\t      <tr>\\r\\n\\t\\t\\t       <td width=\"67\" valign=\"top\"><div class=\"m_z2\"><a href=\"http://forum.textologia.ru/\" title=\"Форум сайта\">Форум</a></div></td>\\r\\n\\t\\t\\t       <td width=\"1\" valign=\"top\" class=\"m_pnctr3\"><img src=\"/templates/img/mn_pnktr.gif\" alt=\"\" height=\"11\" width=\"1\"></td>\\r\\n\\t\\t\\t       <td width=\"75\" valign=\"top\"><div class=\"m_txt2\"><a href=\"http://forum.textologia.ru/part/108/?q=536&prt=108\" title=\"Русский язык для учащихся на форуме\">Русский язык</a></div></td>\\r\\n\\t\\t\\t       <td width=\"1\" valign=\"top\" class=\"m_pnctr3\"><img src=\"/templates/img/mn_pnktr.gif\" alt=\"\" height=\"11\" width=\"1\"></td>\\r\\n\\t\\t\\t       <td width=\"69\" valign=\"top\"><div class=\"m_txt2\"><a href=\"http://forum.textologia.ru/part/120/?q=536&prt=120\" title=\"Языкознание на форуме\">Языкознание</a></div></td>\\r\\n\\t\\t\\t       <td width=\"1\" valign=\"top\" class=\"m_pnctr3\"><img src=\"/templates/img/mn_pnktr.gif\" alt=\"\" height=\"11\" width=\"1\"></td>\\r\\n\\t\\t\\t       <td  valign=\"top\"><div class=\"m_txt2\"><a href=\"http://forum.textologia.ru/part/112/?q=536&prt=112\" title=\"Литература для учащихся на форуме\">Литература</a></div></td>\\r\\n\\t\\t\\t      </tr>\\r\\n\\t\\t\\t</table>\\r\\n\\t       </div>\\r\\n\\t\\t    <ul>\\r\\n\\t\\t        <li><div class=\"m_pnctr2\" style=\"margin: 3px 10px 15px 0;\"><img src=\"/templates/img/x.gif\" alt=\"\" height=\"1\" width=\"1\"></div></li>\\r\\n\\t\\t        <li><a href=\"http://forum.textologia.ru/part/108/?q=536&prt=108\" title=\"Русский язык для учащихся на форуме\">Русский язык для учащихся</a></li>\\r\\n\\t\\t        <li><a href=\"http://forum.textologia.ru/part/109/?q=536&prt=109\" title=\"Русский язык для учителей и преподавателей на форуме\">Русский язык для учителей и преподавателей</a></li>\\r\\n\\t\\t        <li><a href=\"http://forum.textologia.ru/part/110/?q=536&prt=110\" title=\"Русский язык как иностранный на форуме\">Русский язык как иностранный</a></li>\\r\\n\\t\\t\\t\\t<li><a href=\"http://forum.textologia.ru/part/111/?q=536&prt=111\" title=\"Иностранные языки на форуме\">Иностранные языки</a></li>\\r\\n\\t\\t\\t\\t<li><a href=\"http://forum.textologia.ru/part/120/?q=536&prt=120\" title=\"Языкознание на форуме\">Языкознание</a></li>\\r\\n\\t\\t        <li><a href=\"http://forum.textologia.ru/part/112/?q=536&prt=112\" title=\"Литература для учащихся на форуме\">Литература для учащихся</a></li>\\r\\n\\t\\t        <li><a href=\"http://forum.textologia.ru/part/113/?q=536&prt=113\" title=\"Литература для учителей и преподавателей на форуме\">Литература для учителей и преподавателей</a></li>\\r\\n\\t\\t        <li><a href=\"http://forum.textologia.ru/part/114/?q=536&prt=114\" title=\"Литературный клуб на форуме\">Литературный клуб</a></li>\\r\\n\\t\\t        <li><a href=\"http://forum.textologia.ru/part/115/?q=536&prt=115\" title=\"Обсуждение раздела «Задать вопрос» на форуме\">Обсуждение раздела «Задать вопрос»</a></li>\\r\\n\\t\\t        <li><a href=\"http://forum.textologia.ru/part/116/?q=536&prt=116\" title=\"Юмор и коллекции ошибок на форуме\">Юмор и коллекции ошибок</a></li>\\r\\n\\t\\t\\t\\t<li><a href=\"http://forum.textologia.ru/part/117/?q=536&prt=117\" title=\"Языковые и литературные игры на форуме\">Языковые и литературные игры</a></li>\\r\\n\\t\\t\\t\\t<li><a href=\"http://forum.textologia.ru/part/118/?q=536&prt=118\" title=\"О профессиональной деятельности на форуме\">О профессиональной деятельности</a></li>\\r\\n\\t\\t\\t\\t<li><a href=\"http://forum.textologia.ru/part/119/?q=536&prt=119\" title=\"О работе сайта на форуме\">О работе сайта</a></li>\\r\\n\\t\\t\\t</ul>\\r\\n\\t\\t</li>\\r\\n\\t   </ul>\\t \\r\\n\\t  </td>\\r\\n      <td width=\"1\" class=\"pict_line\"><img src=\"/templates/img/x.gif\" alt=\"\" height=\"32\" width=\"1\"></td>\\r\\n      <td width=\"202\" valign=\"top\" class=\"menu_t_b2\">\\r\\n\\t    <ul id=\"jsddm5\">\\r\\n\\t\\t <li><div class=\"m_bg5\"> <div class=\"m_z2\"><a href=\"http://www.textologia.ru/slovari/?q=408\" title=\"Словари сайта\">Словари сайта</a></div> </div> \\r\\n\\t\\t    <ul>\\r\\n\\t\\t        <li><div class=\"m_pnctr2\" style=\"margin: 3px 10px 15px 0;\"><img src=\"/templates/img/x.gif\" alt=\"\" height=\"1\" width=\"1\"></div></li>\\r\\n\\t\\t\\t\\t<li><a href=\"http://www.textologia.ru/slovari/literaturovedcheskie-terminy/?q=456\" title=\"Литературоведческий словарь\">Литературоведческий словарь</a></li>\\r\\n\\t\\t\\t\\t<li><a href=\"http://www.textologia.ru/slovari/lingvisticheskie-terminy/?q=484\" title=\"Лингвистический словарь\">Лингвистический словарь</a></li>\\r\\n\\t\\t\\t\\t<li><a href=\"http://www.textologia.ru/slovari/sinonimi/?q=524\" title=\"Синонимы русского языка\">Синонимы русского языка</a></li>\\r\\n                <li><a href=\"http://orf.textologia.ru/\" title=\"Орфографический словарь\">Орфографический словарь</a></li>\\r\\n                <li><a href=\"http://ozhegov.textologia.ru/\" title=\"Толковый словарь русского языка Ожегова и Шведовой\">Толковый словарь русского языка Ожегова и Шведовой</a></li>\\r\\n                <li><a href=\"http://slova.textologia.ru/\" title=\"Словарные слова русского языка\">Словарные слова русского языка</a></li>\\r\\n\\t\\t\\t\\t<li><a href=\"http://sostav.textologia.ru/\" title=\"Морфемный словарь разбора слов по составу\">Морфемный словарь разбора слов по составу</a></li>\\r\\n\\t\\t\\t\\t<li><a href=\"http://www.textologia.ru/slovari/pedagogicheskie-terminy/?q=1055\" title=\"Педагогический словарь\">Педагогический словарь</a></li>\\r\\n\\t\\t\\t</ul>\\r\\n\\t\\t</li>\\r\\n\\t   </ul> \\r\\n\\t  </td>\\r\\n     </tr>\\r\\n</table>\\r\\n</td>\\r\\n  </tr>\\r\\n </table>\\r\\n</div><div align=\"center\" id=\"cen\">\\r\\n <table width=\"1000px\" border=\"0\" cellspacing=\"0\" cellpadding=\"0\">\\r\\n  <tr>\\r\\n    <td valign=\"top\" align=\"left\" width=\"258\" class=\"cen_fon\">\\r\\n     <div class=\"menu_left\" style=\"padding:35px 0px 0 0px;\">\\n<div class=\"menu_l\" style=\"margin:0 20px 0 20px;\"><a href=\"http://www.textologia.ru/\" title=\"Текстология.ру\">Главная</a></div><div class=\"menu_l\" style=\"margin:0 20px 0 20px;\"><a href=\"http://www.textologia.ru/about/?q=375\" title=\"О проекте\">О проекте</a></div>\\n\\t\\t<div class=\"menu_l\" style=\"margin:0 20px 0 20px;\"><a href=\"http://www.textologia.ru/russkiy/?q=394\" title=\"Русский язык\">Русский язык</a></div>\\n\\t\\t<div class=\"menu_l\" style=\"margin:0 20px 0 20px;\"><a href=\"http://www.textologia.ru/angliyskiy/?q=1066\" title=\"Английский язык\">Английский язык</a></div>\\n\\t\\t<div class=\"menu_l\" style=\"margin:0 20px 0 20px;\"><a href=\"http://www.textologia.ru/yazikoznanie/?q=628\" title=\"Языкознание\">Языкознание</a></div>\\n\\t\\t<div class=\"menu_l\" style=\"margin:0 20px 0 20px;\"><a href=\"http://www.textologia.ru/literature/?q=397\" title=\"Литература\">Литература</a></div>\\n\\t\\t<div class=\"menu_l\" style=\"margin:0 20px 0 20px;\"><a href=\"http://www.textologia.ru/ege-gia/?q=879\" title=\"ЕГЭ и ОГЭ (ГИА)\">ЕГЭ и ОГЭ (ГИА)</a></div>\\n\\t\\t<div class=\"menu_l\" style=\"margin:0 20px 0 20px;\"><a href=\"http://www.textologia.ru/pedagogika/?q=1061\" title=\"Педагогика\">Педагогика</a></div>\\n\\t\\t<div class=\"menu_l\" style=\"margin:0 20px 0 20px;\"><a href=\"http://www.textologia.ru/faq/?q=490\" title=\"Задать вопрос\">Задать вопрос</a></div>\\n\\t\\t<div class=\"menu_l\" style=\"margin:0 20px 0 20px;\"><a href=\"http://forum.textologia.ru/\" title=\"Форум\">Форум</a></div>\\n\\t\\t<div class=\"menu_l\" style=\"margin:0 20px 0 20px;\"><a href=\"http://www.textologia.ru/slovari/?q=408\" title=\"Словари\">Словари</a></div>\\n\\t\\t <div class=\"menu_2\"><a href=\"http://www.textologia.ru/slovari/literaturovedcheskie-terminy/?q=456\" title=\"Словарь литературоведческих терминов\">Словарь литературоведческих терминов</a></div> <div class=\"menu_2\"><a href=\"http://www.textologia.ru/slovari/lingvisticheskie-terminy/?q=484\" title=\"Словарь лингвистических терминов\">Словарь лингвистических терминов</a></div> <div class=\"menu_2\"><a href=\"http://www.textologia.ru/slovari/sinonimi/?q=524\" title=\"Словарь синонимов русского языка\">Словарь синонимов русского языка</a></div> <div class=\"menu_2\"><a href=\"http://orf.textologia.ru/\" title=\"Орфографический словарь русского языка \">Орфографический словарь русского языка </a></div> <div class=\"menu_2\"><a href=\"http://ozhegov.textologia.ru/\" title=\"Толковый словарь русского языка Ожегова С. И. \">Толковый словарь русского языка Ожегова С. И. </a></div> <div class=\"menu_2\"><a href=\"http://slova.textologia.ru/\" title=\"Словарные слова русского языка\">Словарные слова русского языка</a></div> <div class=\"menu_2\"><a href=\"http://sostav.textologia.ru/\" title=\"Словарь разбора слов по составу\">Словарь разбора слов по составу</a></div> <div class=\"menu_2\"><a href=\"http://www.textologia.ru/slovari/pedagogicheskie-terminy/?q=1055\" title=\"Словарь педагогических терминов\">Словарь педагогических терминов</a></div><div class=\"menu_l\" style=\"margin:0 20px 0 20px;\"><a href=\"http://event.textologia.ru/\" title=\"События и новости культуры и образования\">События и новости в мире<br> культуры и образования</a></div>\\n\\t<div class=\"menu_l\" style=\"margin:0 20px 0 20px;\"><a href=\"http://www.textologia.ru/uchastniki/?q=550\" title=\"Участники сайта\">Участники сайта</a></div><div class=\"menu_l\" style=\"margin:0 20px 0 20px;\"><a href=\"http://www.textologia.ru/guestbook/?q=395\" title=\"Сообщить об ошибке\">Сообщить об ошибке</a></div>\\n</div>\\n\\n<div align=\"left\" style=\"background-color:#ffffff; padding:20px 0 20px 0; margin-top: 20px;\"><div class=\"menu_3\" style=\"margin:0 20px 0 6px;\">Поиск информации на сайте</div>\\r\\n<noindex>\\r\\n  <form action=\"/search/?q=469\" method=\"POST\" rel=\"nofollow\">\\r\\n     <input type=\"hidden\" name=\"s\" value=\"byysjqyyqjsyybbyysjqy\">\\r\\n     <table width=\"218px\" border=\"0\" cellpadding=\"0\" cellspacing=\"0\" style=\"margin: 0 0 0 20px;\">\\r\\n        <tr>\\r\\n          <td width=\"134px\" align=\"left\"><input type=\"hidden\" name=\"q\" value=\"469\"><input type=\"text\" maxlength=\"100\" name=\"s_w\" value=\"слово или фраза\" class=\"sch\" onFocus=\"doClear(this)\"onBlur=\"doDefault(this)\" style=\"width:120px;\"></td>\\r\\n          <td><input type=\"image\" alt=\"Искать\" src=\"/templates/img/search.gif\"></td>\\r\\n        </tr>\\r\\n     </table>\\r\\n     \\r\\n     <table width=\"218px\" border=\"0\" cellpadding=\"0\" cellspacing=\"0\" style=\"margin: 0 0 0 20px;\">\\r\\n        <tr>\\r\\n          <td width=\"134px\" align=\"left\"><span class=\"sch_txt\"><input name=\"ncd\" type=\"text\" maxlength=\"9\" value=\"код с картинки\" size=\"14\" class=\"sch2\" onFocus=\"doClear(this)\"onBlur=\"doDefault(this)\" style=\"width:120px;\"></td>\\r\\n          <td><img src=\"http://www.textologia.ru/templates/cptcha/cpcha_img.php?s=byysjqyyqjsyybbyysjqy\" width=\"50\" height=\"40\" style=\"padding: 0 0 0 16px;\"></td>\\r\\n        </tr>\\r\\n     </table>\\r\\n  </form>\\r\\n</noindex>\\r\\n</div><noindex><div align=\"center\" style=\"margin-top:20px;\"><div id=\"yandex_rtb_R-A-192501-14\"></div>\\r\\n\\t\\t\\t\\t<script type=\"text/javascript\">\\r\\n\\t\\t\\t\\t    (function(w, d, n, s, t) {\\r\\n\\t\\t\\t\\t        w[n] = w[n] || [];\\r\\n\\t\\t\\t\\t        w[n].push(function() {\\r\\n\\t\\t\\t\\t            Ya.Context.AdvManager.render({\\r\\n\\t\\t\\t\\t                blockId: \"R-A-192501-14\",\\r\\n\\t\\t\\t\\t                renderTo: \"yandex_rtb_R-A-192501-14\",\\r\\n\\t\\t\\t\\t                horizontalAlign: true,\\r\\n\\t\\t\\t\\t                async: true\\r\\n\\t\\t\\t\\t            });\\r\\n\\t\\t\\t\\t        });\\r\\n\\t\\t\\t\\t        t = d.getElementsByTagName(\"script\")[0];\\r\\n\\t\\t\\t\\t        s = d.createElement(\"script\");\\r\\n\\t\\t\\t\\t        s.type = \"text/javascript\";\\r\\n\\t\\t\\t\\t        s.src = \"//an.yandex.ru/system/context.js\";\\r\\n\\t\\t\\t\\t        s.async = true;\\r\\n\\t\\t\\t\\t        t.parentNode.insertBefore(s, t);\\r\\n\\t\\t\\t\\t    })(this, this.document, \"yandexContextAsyncCallbacks\");\\r\\n\\t\\t\\t\\t</script></div></noindex>\\n\\n<div align=\"left\" style=\"background-color:#ffffff; padding:20px 0 20px 0; margin-top: 20px;\"><div class=\"menu_3\" style=\"margin:0 20px 0 6px;\">Словари сайта</div>\\r\\n<ul style=\"padding:0px; margin:0px 0px 0px 0px;\">\\r\\n\\t<li class=\"menu_2\" style=\"list-style:none; padding:0 20px 9px 20px; margin:0px 0px 0px 0px;\"><a href=\"http://www.textologia.ru/slovari/literaturovedcheskie-terminy/?q=456\" title=\"Литературоведческий словарь\">Литературоведческий словарь</a></li>\\r\\n\\t<li class=\"menu_2\" style=\"list-style:none; padding:0 20px 9px 20px; margin:0px 0px 0px 0px;\"><a href=\"http://www.textologia.ru/slovari/lingvisticheskie-terminy/?q=484\" title=\"Лингвистический словарь\">Лингвистический словарь</a></li>\\r\\n\\t<li class=\"menu_2\" style=\"list-style:none; padding:0 20px 9px 20px; margin:0px 0px 0px 0px;\"><a href=\"http://www.textologia.ru/slovari/sinonimi/?q=524\" title=\"Синонимы русского языка\">Синонимы русского языка</a></li>\\r\\n\\t<li class=\"menu_2\" style=\"list-style:none; padding:0 20px 9px 20px; margin:0px 0px 0px 0px;\"><a href=\"http://orf.textologia.ru/\" title=\"Орфографический словарь\">Орфографический словарь</a></li>\\r\\n\\t<li class=\"menu_2\" style=\"list-style:none; padding:0 20px 9px 20px; margin:0px 0px 0px 0px;\"><a href=\"http://ozhegov.textologia.ru/\" title=\"Толковый словарь русского языка Ожегова и Шведовой\">Толковый словарь Ожегова С. И.</a></li>\\r\\n\\t<li class=\"menu_2\" style=\"list-style:none; padding:0 20px 9px 20px; margin:0px 0px 0px 0px;\"><a href=\"http://slova.textologia.ru/\" title=\"Словарные слова русского языка\">Cловарные слова русского языка</a></li>\\r\\n\\t<li class=\"menu_2\" style=\"list-style:none; padding:0 20px 9px 20px; margin:0px 0px 0px 0px;\"><a href=\"http://sostav.textologia.ru/\" title=\"Морфемный словарь разбора слов по составу\">Словарь разбора слов по составу</a></li>\\r\\n\\t<li class=\"menu_2\" style=\"list-style:none; padding:0 20px 9px 20px; margin:0px 0px 0px 0px;\"><a href=\"http://www.textologia.ru/slovari/pedagogicheskie-terminy/?q=1055\" title=\"Педагогический словарь\">Педагогический словарь</a></li>\\r\\n\\t<li class=\"menu_2\" style=\"list-style:none; padding:0 20px 9px 20px; margin:0px 0px 0px 0px;\"><a href=\"http://www.textologia.ru/slovari/?q=408\" title=\"Все словари сайта\">Все словари сайта</a></li>\\r\\n</ul>\\r\\n</div>\\n\\n<noindex><div align=\"center\" style=\"padding: 20px 0 20px 0; margin: 0 0 0 0;\"><div style=\"width: 160px;\"><div id=\"yandex_rtb_R-A-192501-2\" align=\"center\"></div></div>\\r\\n\\t\\t\\t\\t<script type=\"text/javascript\">\\r\\n\\t\\t\\t\\t    (function(w, d, n, s, t) {\\r\\n\\t\\t\\t\\t        w[n] = w[n] || [];\\r\\n\\t\\t\\t\\t        w[n].push(function() {\\r\\n\\t\\t\\t\\t            Ya.Context.AdvManager.render({\\r\\n\\t\\t\\t\\t                blockId: \"R-A-192501-2\",\\r\\n\\t\\t\\t\\t                renderTo: \"yandex_rtb_R-A-192501-2\",\\r\\n\\t                \\t\\t\\thorizontalAlign: true,\\r\\n\\t\\t\\t\\t                async: true\\r\\n\\t\\t\\t\\t            });\\r\\n\\t\\t\\t\\t        });\\r\\n\\t\\t\\t\\t        t = d.getElementsByTagName(\"script\")[0];\\r\\n\\t\\t\\t\\t        s = d.createElement(\"script\");\\r\\n\\t\\t\\t\\t        s.type = \"text/javascript\";\\r\\n\\t\\t\\t\\t        s.src = \"//an.yandex.ru/system/context.js\";\\r\\n\\t\\t\\t\\t        s.async = true;\\r\\n\\t\\t\\t\\t        t.parentNode.insertBefore(s, t);\\r\\n\\t\\t\\t\\t    })(this, this.document, \"yandexContextAsyncCallbacks\");\\r\\n\\t\\t\\t\\t</script></div></noindex>\\n\\n<div align=\"left\" style=\"background-color:#ffffff; padding:20px 0 5px 0;\"><div class=\"menu_3\" style=\"margin:0 20px 0 7px;\">Знаете ли Вы?</div><div style=\"float:left;\"><a href=\"http://www.textologia.ru/russkiy/interesnie-fakti-yazika/facty-leksikologii/istochnik-virazheniya-tam-horosho-gde-nas-net/6119/?q=463&n=6119\" title=\"Источник выражения \"Там хорошо, где нас нет\"\"><img src=\"/templates/img/text-staty-19.jpg\" height=\"50\" width=\"50\" style=\"margin: 3px 8px 2px 20px\" alt=\"Источник выражения \"Там хорошо, где нас нет\"\"></a></div><div style=\"font-size: 11px; margin:0 20px 0 20px;\"><a href=\"http://www.textologia.ru/russkiy/interesnie-fakti-yazika/facty-leksikologii/istochnik-virazheniya-tam-horosho-gde-nas-net/6119/?q=463&n=6119\">Источник выражения Там хорошо, где нас нет</a></div><div style=\"font-size: 11px; margin: 5px 20px 0 20px; color:#336130;\">Автором всеми известного устойчивого словосочетания &laquo;там хорошо, где нас нет&raquo; является А.С. Грибое... </div><div style=\"margin:0 0 16px 0;\"><img src=\"/templates/img/x.gif\" width=\"1\" height=\"1\"></div>\\r\\n<div style=\"float:left;\"><a href=\"http://www.textologia.ru/yazikoznanie/interesnie-fakti-yazikoznania/leksikologia/chto-znachit-fraza-mama-miya-mamma-mia/6827/?q=641&n=6827\" title=\"Что значит фраза «мама мия» («mamma mia»)?\"><img src=\"/templates/img/text-staty-27.jpg\" height=\"50\" width=\"50\" style=\"margin: 3px 8px 2px 20px\" alt=\"Что значит фраза «мама мия» («mamma mia»)?\"></a></div><div style=\"font-size: 11px; margin:0 20px 0 20px;\"><a href=\"http://www.textologia.ru/yazikoznanie/interesnie-fakti-yazikoznania/leksikologia/chto-znachit-fraza-mama-miya-mamma-mia/6827/?q=641&n=6827\">Что значит фраза «мама мия» («mamma mia»)?</a></div><div style=\"font-size: 11px; margin: 5px 20px 0 20px; color:#336130;\">Мама мия &ndash; устойчивое выражение, пришедшее в русский язык из Италии.Этот речевой оборот означает искре... </div><div style=\"margin:0 0 16px 0;\"><img src=\"/templates/img/x.gif\" width=\"1\" height=\"1\"></div>\\r\\n<div style=\"float:left;\"><a href=\"http://www.textologia.ru/yazikoznanie/interesnie-fakti-yazikoznania/alfavity/samaya-dorogaya-bukva-v-mire/3242/?q=641&n=3242\" title=\"Самая дорогая буква в мире\"><img src=\"/templates/img/text-staty-42.jpg\" height=\"50\" width=\"50\" style=\"margin: 3px 8px 2px 20px\" alt=\"Самая дорогая буква в мире\"></a></div><div style=\"font-size: 11px; margin:0 20px 0 20px;\"><a href=\"http://www.textologia.ru/yazikoznanie/interesnie-fakti-yazikoznania/alfavity/samaya-dorogaya-bukva-v-mire/3242/?q=641&n=3242\">Самая дорогая буква в мире</a></div><div style=\"font-size: 11px; margin: 5px 20px 0 20px; color:#336130;\">Сейчас нам хорошо известна буква &laquo;ер&raquo; - &laquo;ъ&raquo;, как твёрдый знак.  Раньше, до реформ... </div><div style=\"margin:0 0 16px 0;\"><img src=\"/templates/img/x.gif\" width=\"1\" height=\"1\"></div>\\r\\n</div>\\n\\n<div align=\"center\" style=\"padding: 20px 0 20px 0; margin: 0 0 0 0;\"><div id=\"yandex_rtb_R-A-192501-11\"></div>\\r\\n\\t\\t\\t\\t<script type=\"text/javascript\">\\r\\n\\t\\t\\t\\t    (function(w, d, n, s, t) {\\r\\n\\t\\t\\t\\t        w[n] = w[n] || [];\\r\\n\\t\\t\\t\\t        w[n].push(function() {\\r\\n\\t\\t\\t\\t            Ya.Context.AdvManager.render({\\r\\n\\t\\t\\t\\t                blockId: \"R-A-192501-11\",\\r\\n\\t\\t\\t\\t                renderTo: \"yandex_rtb_R-A-192501-11\",\\r\\n\\t\\t\\t\\t                horizontalAlign: true,\\r\\n\\t\\t\\t\\t                async: true\\r\\n\\t\\t\\t\\t            });\\r\\n\\t\\t\\t\\t        });\\r\\n\\t\\t\\t\\t        t = d.getElementsByTagName(\"script\")[0];\\r\\n\\t\\t\\t\\t        s = d.createElement(\"script\");\\r\\n\\t\\t\\t\\t        s.type = \"text/javascript\";\\r\\n\\t\\t\\t\\t        s.src = \"//an.yandex.ru/system/context.js\";\\r\\n\\t\\t\\t\\t        s.async = true;\\r\\n\\t\\t\\t\\t        t.parentNode.insertBefore(s, t);\\r\\n\\t\\t\\t\\t    })(this, this.document, \"yandexContextAsyncCallbacks\");\\r\\n\\t\\t\\t\\t</script></div>\\n\\n\\n\\n\\n\\n\\n\\r\\n\\n\\n\\r\\n\\n\\n\\n\\n\\n\\n\\n\\n\\n\\n\\n\\t</td>\\r\\n    <td valign=\"top\" align=\"left\" width=\"484\">\\r\\n\\t <div class=\"centr\">\\r\\n\\t  <div class=\"centr2\">\\r\\n\\t  <div class=\"way\"><a href=\"http://www.textologia.ru/\" title=\"Текстология.ру\">Текстология.ру</a><a href=\"http://www.textologia.ru/\" title=\"Текстология.ру\"><img src=\"/templates/img/str.png\" alt=\"Текстология.ру\" height=\"10\" width=\"27\"></a><a href=\"http://www.textologia.ru/slovari/?q=408\" title=\"Словари\">Словари</a><a href=\"http://www.textologia.ru/slovari/?q=408\" title=\"Словари\"><img src=\"/templates/img/str.png\" height=\"10\" width=\"27\" alt=\"Словари\"></a>\\r\\nСловарь лингвистических терминов</div>\\t  \\n\\n<div class=\"advert_top\">\\n<div id=\"yandex_rtb_R-A-192501-6\"></div>\\n<script type=\"text/javascript\">\\n    (function(w, d, n, s, t) {\\n        w[n] = w[n] || [];\\n        w[n].push(function() {\\n            Ya.Context.AdvManager.render({\\n                blockId: \"R-A-192501-6\",\\n                renderTo: \"yandex_rtb_R-A-192501-6\",\\n                horizontalAlign: false,\\n                async: true\\n            });\\n        });\\n        t = d.getElementsByTagName(\"script\")[0];\\n        s = d.createElement(\"script\");\\n        s.type = \"text/javascript\";\\n        s.src = \"//an.yandex.ru/system/context.js\";\\n        s.async = true;\\n        t.parentNode.insertBefore(s, t);\\n    })(this, this.document, \"yandexContextAsyncCallbacks\");\\n</script>\\n\\t</div>\\t   <h1>Словарь лингвистических терминов</h1>\\r\\n       <div id=\"content_txtl\"><div class=\"slv_aut\"><a href=\"http://www.textologia.ru/slovari/lingvisticheskie-terminy/letter/C0/?q=485&let=C0\">А</a> <img src=\"/templates/img/x.gif\" width=\"3px\" height=\"1\"><a href=\"http://www.textologia.ru/slovari/lingvisticheskie-terminy/letter/C1/?q=485&let=C1\">Б</a> <img src=\"/templates/img/x.gif\" width=\"3px\" height=\"1\"><a href=\"http://www.textologia.ru/slovari/lingvisticheskie-terminy/letter/C2/?q=485&let=C2\">В</a> <img src=\"/templates/img/x.gif\" width=\"3px\" height=\"1\"><a href=\"http://www.textologia.ru/slovari/lingvisticheskie-terminy/letter/C3/?q=485&let=C3\">Г</a> <img src=\"/templates/img/x.gif\" width=\"3px\" height=\"1\"><a href=\"http://www.textologia.ru/slovari/lingvisticheskie-terminy/letter/C4/?q=485&let=C4\">Д</a> <img src=\"/templates/img/x.gif\" width=\"3px\" height=\"1\"><a href=\"http://www.textologia.ru/slovari/lingvisticheskie-terminy/letter/C5/?q=485&let=C5\">Е</a> <img src=\"/templates/img/x.gif\" width=\"3px\" height=\"1\"><a href=\"http://www.textologia.ru/slovari/lingvisticheskie-terminy/letter/C6/?q=485&let=C6\">Ж</a> <img src=\"/templates/img/x.gif\" width=\"3px\" height=\"1\"><a href=\"http://www.textologia.ru/slovari/lingvisticheskie-terminy/letter/C7/?q=485&let=C7\">З</a> <img src=\"/templates/img/x.gif\" width=\"3px\" height=\"1\"><a href=\"http://www.textologia.ru/slovari/lingvisticheskie-terminy/letter/C8/?q=485&let=C8\">И</a> <img src=\"/templates/img/x.gif\" width=\"3px\" height=\"1\"><a href=\"http://www.textologia.ru/slovari/lingvisticheskie-terminy/letter/C9/?q=485&let=C9\">Й</a> <img src=\"/templates/img/x.gif\" width=\"3px\" height=\"1\"><a href=\"http://www.textologia.ru/slovari/lingvisticheskie-terminy/letter/CA/?q=485&let=CA\">К</a> <img src=\"/templates/img/x.gif\" width=\"3px\" height=\"1\"><a href=\"http://www.textologia.ru/slovari/lingvisticheskie-terminy/letter/CB/?q=485&let=CB\">Л</a> <img src=\"/templates/img/x.gif\" width=\"3px\" height=\"1\"><a href=\"http://www.textologia.ru/slovari/lingvisticheskie-terminy/letter/CC/?q=485&let=CC\">М</a> <img src=\"/templates/img/x.gif\" width=\"3px\" height=\"1\"><a href=\"http://www.textologia.ru/slovari/lingvisticheskie-terminy/letter/CD/?q=485&let=CD\">Н</a> <img src=\"/templates/img/x.gif\" width=\"3px\" height=\"1\"><a href=\"http://www.textologia.ru/slovari/lingvisticheskie-terminy/letter/CE/?q=485&let=CE\">О</a> <img src=\"/templates/img/x.gif\" width=\"3px\" height=\"1\"><a href=\"http://www.textologia.ru/slovari/lingvisticheskie-terminy/letter/CF/?q=485&let=CF\">П</a> <img src=\"/templates/img/x.gif\" width=\"3px\" height=\"1\"><a href=\"http://www.textologia.ru/slovari/lingvisticheskie-terminy/letter/D0/?q=485&let=D0\">Р</a> <img src=\"/templates/img/x.gif\" width=\"3px\" height=\"1\"><a href=\"http://www.textologia.ru/slovari/lingvisticheskie-terminy/letter/D1/?q=485&let=D1\">С</a> <img src=\"/templates/img/x.gif\" width=\"3px\" height=\"1\"><a href=\"http://www.textologia.ru/slovari/lingvisticheskie-terminy/letter/D2/?q=485&let=D2\">Т</a> <img src=\"/templates/img/x.gif\" width=\"3px\" height=\"1\"><a href=\"http://www.textologia.ru/slovari/lingvisticheskie-terminy/letter/D3/?q=485&let=D3\">У</a> <img src=\"/templates/img/x.gif\" width=\"3px\" height=\"1\"><a href=\"http://www.textologia.ru/slovari/lingvisticheskie-terminy/letter/D4/?q=485&let=D4\">Ф</a> <img src=\"/templates/img/x.gif\" width=\"3px\" height=\"1\"><a href=\"http://www.textologia.ru/slovari/lingvisticheskie-terminy/letter/D5/?q=485&let=D5\">Х</a> <img src=\"/templates/img/x.gif\" width=\"3px\" height=\"1\"><a href=\"http://www.textologia.ru/slovari/lingvisticheskie-terminy/letter/D6/?q=485&let=D6\">Ц</a> <img src=\"/templates/img/x.gif\" width=\"3px\" height=\"1\"><a href=\"http://www.textologia.ru/slovari/lingvisticheskie-terminy/letter/D7/?q=485&let=D7\">Ч</a> <img src=\"/templates/img/x.gif\" width=\"3px\" height=\"1\"><a href=\"http://www.textologia.ru/slovari/lingvisticheskie-terminy/letter/D8/?q=485&let=D8\">Ш</a> <img src=\"/templates/img/x.gif\" width=\"3px\" height=\"1\"><a href=\"http://www.textologia.ru/slovari/lingvisticheskie-terminy/letter/D9/?q=485&let=D9\">Щ</a> <img src=\"/templates/img/x.gif\" width=\"3px\" height=\"1\"><a href=\"http://www.textologia.ru/slovari/lingvisticheskie-terminy/letter/DD/?q=485&let=DD\">Э</a> <img src=\"/templates/img/x.gif\" width=\"3px\" height=\"1\"><a href=\"http://www.textologia.ru/slovari/lingvisticheskie-terminy/letter/DE/?q=485&let=DE\">Ю</a> <img src=\"/templates/img/x.gif\" width=\"3px\" height=\"1\"><a href=\"http://www.textologia.ru/slovari/lingvisticheskie-terminy/letter/DF/?q=485&let=DF\">Я</a> <img src=\"/templates/img/x.gif\" width=\"3px\" height=\"1\"><img src=\"/templates/img/x.gif\" width=\"2px\" height=\"1\">[Все]</div><p>Словарь лингвистических терминов представляет собой сборник терминов и понятий общей лингвистики, русского языкознания, истории языка и диалектологии. Для каждого термина приведено определение и описание его значения.</p>\\r\\n<p>Словарь лингвистических терминов будет полезен при выполнении различных заданий и написании научных работ по русскому языку и общей лингвистике.</p>\\r\\n<p><em>Основные библиографические данные:</em></p>\\r\\n<p>Розенталь Д. Э., Теленкова М. А. Словарь-справочник лингвистических терминов - Москва, 1976 г.</p><div class=\"m_pnctr2\" style=\"margin:20px 0px 15px 0px;\"><img src=\"/templates/img/x.gif\" alt=\"\" height=\"1\" width=\"1\"></div>\\r\\n<table width=\"100%\" border=\"0\" cellspacing=\"0\" cellpadding=\"0\">\\r\\n <tr>\\r\\n  <td align=\"left\" width=\"50%\" valign=\"top\" style=\"padding:0 0 0 20px;\">\\r\\n<div style=\"margin: 7px 0 5px 0;\"><b>А</b></div><div class=\\'list_aut\\'><a href=\\'http://www.textologia.ru/slovari/lingvisticheskie-terminy/abazinskiy-yazik/?q=486&n=2275\\'>Абазинский язык</a></div>\\r\\n\\t<div class=\\'list_aut\\'><a href=\\'http://www.textologia.ru/slovari/lingvisticheskie-terminy/abbreviatura/?q=486&n=272\\'>Аббревиатура</a></div>\\r\\n\\t<div class=\\'list_aut\\'><a href=\\'http://www.textologia.ru/slovari/lingvisticheskie-terminy/abbreviaciya/?q=486&n=273\\'>Аббревиация</a></div>\\r\\n\\t<div class=\\'list_aut\\'><a href=\\'http://www.textologia.ru/slovari/lingvisticheskie-terminy/abecedariy/?q=486&n=2349\\'>Абецедарий</a></div>\\r\\n\\t<div class=\\'list_aut\\'><a href=\\'http://www.textologia.ru/slovari/lingvisticheskie-terminy/abzac/?q=486&n=274\\'>Абзац</a></div>\\r\\n\\t<div class=\\'list_aut\\'><a href=\\'http://www.textologia.ru/slovari/lingvisticheskie-terminy/ablativ/?q=486&n=275\\'>Аблатив</a></div>\\r\\n\\t<div class=\\'list_aut\\'><a href=\\'http://www.textologia.ru/slovari/lingvisticheskie-terminy/ablaut/?q=486&n=276\\'>Аблаут</a></div>\\r\\n\\t<div class=\\'list_aut\\'><a href=\\'http://www.textologia.ru/slovari/lingvisticheskie-terminy/absolyutnoe-vremya/?q=486&n=277\\'>Абсолютное время</a></div>\\r\\n\\t<div class=\\'list_aut\\'><a href=\\'http://www.textologia.ru/slovari/lingvisticheskie-terminy/absolyutnie-sinonimi/?q=486&n=278\\'>Абсолютные синонимы</a></div>\\r\\n\\t<div class=\\'list_aut\\'><a href=\\'http://www.textologia.ru/slovari/lingvisticheskie-terminy/abstraktnaya-leksika/?q=486&n=279\\'>Абстрактная лексика</a></div>\\r\\n\\t<div class=\\'list_aut\\'><a href=\\'http://www.textologia.ru/slovari/lingvisticheskie-terminy/abstraktnie-suschestvitelnie/?q=486&n=280\\'>Абстрактные существительные</a></div>\\r\\n\\t<div class=\\'list_aut\\'><a href=\\'http://www.textologia.ru/slovari/lingvisticheskie-terminy/abhazskiy-yazik/?q=486&n=2276\\'>Абхазский язык</a></div>\\r\\n\\t<div class=\\'list_aut\\'><a href=\\'http://www.textologia.ru/slovari/lingvisticheskie-terminy/abhazsko-adigskie-yaziki/?q=486&n=2277\\'>Абхазско-адыгские языки</a></div>\\r\\n\\t<div class=\\'list_aut\\'><a href=\\'http://www.textologia.ru/slovari/lingvisticheskie-terminy/avaro-ando-cezskie-yaziki/?q=486&n=2278\\'>Аваро-андо-цезские языки</a></div>\\r\\n\\t<div class=\\'list_aut\\'><a href=\\'http://www.textologia.ru/slovari/lingvisticheskie-terminy/avarskiy-yazik/?q=486&n=2279\\'>Аварский язык</a></div>\\r\\n\\t<div class=\\'list_aut\\'><a href=\\'http://www.textologia.ru/slovari/lingvisticheskie-terminy/avestiyskiy-yazik/?q=486&n=2281\\'>Авестийский язык</a></div>\\r\\n\\t<div class=\\'list_aut\\'><a href=\\'http://www.textologia.ru/slovari/lingvisticheskie-terminy/avstraliyskie-yaziki/?q=486&n=2282\\'>Австралийские языки</a></div>\\r\\n\\t<div class=\\'list_aut\\'><a href=\\'http://www.textologia.ru/slovari/lingvisticheskie-terminy/avstroneziyskie-yaziki/?q=486&n=2283\\'>Австронезийские языки</a></div>\\r\\n\\t<div class=\\'list_aut\\'><a href=\\'http://www.textologia.ru/slovari/lingvisticheskie-terminy/avtorskaya-rech/?q=486&n=281\\'>Авторская речь</a></div>\\r\\n\\t<div class=\\'list_aut\\'><a href=\\'http://www.textologia.ru/slovari/lingvisticheskie-terminy/avtorskie-znaki-prepinaniya/?q=486&n=2240\\'>Авторские знаки препинания</a></div>\\r\\n\\t<div class=\\'list_aut\\'><a href=\\'http://www.textologia.ru/slovari/lingvisticheskie-terminy/avtorskie-slova/?q=486&n=282\\'>Авторские слова</a></div>\\r\\n\\t<div class=\\'list_aut\\'><a href=\\'http://www.textologia.ru/slovari/lingvisticheskie-terminy/avtosemanticheskiy/?q=486&n=283\\'>Автосемантический</a></div>\\r\\n\\t<div class=\\'list_aut\\'><a href=\\'http://www.textologia.ru/slovari/lingvisticheskie-terminy/agavskie-yaziki/?q=486&n=2284\\'>Агавские языки</a></div>\\r\\n\\t<div class=\\'list_aut\\'><a href=\\'http://www.textologia.ru/slovari/lingvisticheskie-terminy/agvanskoe-pismo/?q=486&n=2286\\'>Агванское письмо</a></div>\\r\\n\\t<div class=\\'list_aut\\'><a href=\\'http://www.textologia.ru/slovari/lingvisticheskie-terminy/agglyutinativnie-agglyutiniruyuschie-yaziki/?q=486&n=284\\'>Агглютинативные (агглютинирующие) языки</a></div>\\r\\n\\t<div class=\\'list_aut\\'><a href=\\'http://www.textologia.ru/slovari/lingvisticheskie-terminy/agglyutinacii-teoriya/?q=486&n=2287\\'>Агглютинации теория</a></div>\\r\\n\\t<div class=\\'list_aut\\'><a href=\\'http://www.textologia.ru/slovari/lingvisticheskie-terminy/agglyutinaciya/?q=486&n=285\\'>Агглютинация</a></div>\\r\\n\\t<div class=\\'list_aut\\'><a href=\\'http://www.textologia.ru/slovari/lingvisticheskie-terminy/agglyutiniruyuschie-yaziki/?q=486&n=286\\'>Агглютинирующие языки</a></div>\\r\\n\\t<div class=\\'list_aut\\'><a href=\\'http://www.textologia.ru/slovari/lingvisticheskie-terminy/agens/?q=486&n=2288\\'>Агенс</a></div>\\r\\n\\t<div class=\\'list_aut\\'><a href=\\'http://www.textologia.ru/slovari/lingvisticheskie-terminy/agentyvnoe-znachenie/?q=486&n=287\\'>Агентйвное значение</a></div>\\r\\n\\t<div class=\\'list_aut\\'><a href=\\'http://www.textologia.ru/slovari/lingvisticheskie-terminy/agulskiy-yazik/?q=486&n=2289\\'>Агульский язык</a></div>\\r\\n\\t<div class=\\'list_aut\\'><a href=\\'http://www.textologia.ru/slovari/lingvisticheskie-terminy/adamaua-vostochnie-yaziki/?q=486&n=2290\\'>Адамауа-восточные языки</a></div>\\r\\n\\t<div class=\\'list_aut\\'><a href=\\'http://www.textologia.ru/slovari/lingvisticheskie-terminy/adaptacii-teoriya/?q=486&n=2291\\'>Адаптации теория</a></div>\\r\\n\\t<div class=\\'list_aut\\'><a href=\\'http://www.textologia.ru/slovari/lingvisticheskie-terminy/adaptaciya/?q=486&n=288\\'>Адаптация</a></div>\\r\\n\\t<div class=\\'list_aut\\'><a href=\\'http://www.textologia.ru/slovari/lingvisticheskie-terminy/adverbializaciya/?q=486&n=289\\'>Адвербиализация</a></div>\\r\\n\\t<div class=\\'list_aut\\'><a href=\\'http://www.textologia.ru/slovari/lingvisticheskie-terminy/adstrat/?q=486&n=2292\\'>Адстрат</a></div>\\r\\n\\t<div class=\\'list_aut\\'><a href=\\'http://www.textologia.ru/slovari/lingvisticheskie-terminy/adektivaciya/?q=486&n=290\\'>Адъективация</a></div>\\r\\n\\t<div class=\\'list_aut\\'><a href=\\'http://www.textologia.ru/slovari/lingvisticheskie-terminy/adektivirovannie-prichastiya/?q=486&n=291\\'>Адъективированные причастия</a></div>\\r\\n\\t<div class=\\'list_aut\\'><a href=\\'http://www.textologia.ru/slovari/lingvisticheskie-terminy/adektivnie-slovosochetaniya/?q=486&n=292\\'>Адъективные словосочетания</a></div>\\r\\n\\t<div class=\\'list_aut\\'><a href=\\'http://www.textologia.ru/slovari/lingvisticheskie-terminy/adigeyskiy-yazik/?q=486&n=2293\\'>Адыгейский язык</a></div>\\r\\n\\t<div class=\\'list_aut\\'><a href=\\'http://www.textologia.ru/slovari/lingvisticheskie-terminy/azbuka/?q=486&n=293\\'>Азбука</a></div>\\r\\n\\t<div class=\\'list_aut\\'><a href=\\'http://www.textologia.ru/slovari/lingvisticheskie-terminy/azbukovniki/?q=486&n=2294\\'>Азбуковники</a></div>\\r\\n\\t<div class=\\'list_aut\\'><a href=\\'http://www.textologia.ru/slovari/lingvisticheskie-terminy/azerbaydzhanskiy-yazik/?q=486&n=2295\\'>Азербайджанский язык</a></div>\\r\\n\\t<div class=\\'list_aut\\'><a href=\\'http://www.textologia.ru/slovari/lingvisticheskie-terminy/aymara/?q=486&n=2296\\'>Аймара</a></div>\\r\\n\\t<div class=\\'list_aut\\'><a href=\\'http://www.textologia.ru/slovari/lingvisticheskie-terminy/aynskiy-yazik/?q=486&n=2297\\'>Айнский язык </a></div>\\r\\n\\t<div class=\\'list_aut\\'><a href=\\'http://www.textologia.ru/slovari/lingvisticheskie-terminy/akademiya-rossiyskaya/?q=486&n=2298\\'>Академия Российская</a></div>\\r\\n\\t<div class=\\'list_aut\\'><a href=\\'http://www.textologia.ru/slovari/lingvisticheskie-terminy/akan/?q=486&n=2299\\'>Акан</a></div>\\r\\n\\t<div class=\\'list_aut\\'><a href=\\'http://www.textologia.ru/slovari/lingvisticheskie-terminy/akane/?q=486&n=294\\'>Аканье</a></div>\\r\\n\\t<div class=\\'list_aut\\'><a href=\\'http://www.textologia.ru/slovari/lingvisticheskie-terminy/akkadskiy-yazik/?q=486&n=2300\\'>Аккадский язык</a></div>\\r\\n\\t<div class=\\'list_aut\\'><a href=\\'http://www.textologia.ru/slovari/lingvisticheskie-terminy/akkomodaciya/?q=486&n=295\\'>Аккомодация</a></div>\\r\\n\\t<div class=\\'list_aut\\'><a href=\\'http://www.textologia.ru/slovari/lingvisticheskie-terminy/aktivnie-organi-rechi/?q=486&n=296\\'>Активные органы речи</a></div>\\r\\n\\t<div class=\\'list_aut\\'><a href=\\'http://www.textologia.ru/slovari/lingvisticheskie-terminy/aktivniy-oborot/?q=486&n=297\\'>Активный оборот</a></div>\\r\\n\\t<div class=\\'list_aut\\'><a href=\\'http://www.textologia.ru/slovari/lingvisticheskie-terminy/aktivniy-slovar-aktivniy-slovarniy-zapas/?q=486&n=298\\'>Активный словарь (активный словарный запас)</a></div>\\r\\n\\t<div class=\\'list_aut\\'><a href=\\'http://www.textologia.ru/slovari/lingvisticheskie-terminy/aktualizaciya/?q=486&n=299\\'>Актуализация</a></div>\\r\\n\\t<div class=\\'list_aut\\'><a href=\\'http://www.textologia.ru/slovari/lingvisticheskie-terminy/aktualnoe-chlenenie-predlozheniya/?q=486&n=300\\'>Актуальное членение предложения</a></div>\\r\\n\\t<div class=\\'list_aut\\'><a href=\\'http://www.textologia.ru/slovari/lingvisticheskie-terminy/akusticheskiy/?q=486&n=301\\'>Акустический</a></div>\\r\\n\\t<div class=\\'list_aut\\'><a href=\\'http://www.textologia.ru/slovari/lingvisticheskie-terminy/akcent/?q=486&n=302\\'>Акцент</a></div>\\r\\n\\t<div class=\\'list_aut\\'><a href=\\'http://www.textologia.ru/slovari/lingvisticheskie-terminy/akcentirovat/?q=486&n=303\\'>Акцентировать</a></div>\\r\\n\\t<div class=\\'list_aut\\'><a href=\\'http://www.textologia.ru/slovari/lingvisticheskie-terminy/akcentologiya/?q=486&n=304\\'>Акцентология</a></div>\\r\\n\\t<div class=\\'list_aut\\'><a href=\\'http://www.textologia.ru/slovari/lingvisticheskie-terminy/akcentuaciya/?q=486&n=305\\'>Акцентуация</a></div>\\r\\n\\t<div class=\\'list_aut\\'><a href=\\'http://www.textologia.ru/slovari/lingvisticheskie-terminy/allomorf/?q=486&n=306\\'>Алломoрф</a></div>\\r\\n\\t<div class=\\'list_aut\\'><a href=\\'http://www.textologia.ru/slovari/lingvisticheskie-terminy/allofon/?q=486&n=307\\'>Аллофон</a></div>\\r\\n\\t<div class=\\'list_aut\\'><a href=\\'http://www.textologia.ru/slovari/lingvisticheskie-terminy/alfavit/?q=486&n=308\\'>Алфавит</a></div>\\r\\n\\t<div class=\\'list_aut\\'><a href=\\'http://www.textologia.ru/slovari/lingvisticheskie-terminy/alfavitnoe-pismo/?q=486&n=309\\'>Алфавитное письмо</a></div>\\r\\n\\t<div class=\\'list_aut\\'><a href=\\'http://www.textologia.ru/slovari/lingvisticheskie-terminy/alveolyarnie-soglasnie/?q=486&n=310\\'>Альвеолярные согласные</a></div>\\r\\n\\t<div class=\\'list_aut\\'><a href=\\'http://www.textologia.ru/slovari/lingvisticheskie-terminy/alternaciya/?q=486&n=311\\'>Альтернация</a></div>\\r\\n\\t<div class=\\'list_aut\\'><a href=\\'http://www.textologia.ru/slovari/lingvisticheskie-terminy/alyutorskiy-yazik/?q=486&n=2317\\'>Алюторский язык</a></div>\\r\\n\\t<div class=\\'list_aut\\'><a href=\\'http://www.textologia.ru/slovari/lingvisticheskie-terminy/amorfnie-yaziki/?q=486&n=312\\'>Аморфные языки</a></div>\\r\\n\\t<div class=\\'list_aut\\'><a href=\\'http://www.textologia.ru/slovari/lingvisticheskie-terminy/amfiboliya/?q=486&n=313\\'>Амфиболия</a></div>\\r\\n\\t<div class=\\'list_aut\\'><a href=\\'http://www.textologia.ru/slovari/lingvisticheskie-terminy/anagramma/?q=486&n=314\\'>Анаграмма</a></div>\\r\\n\\t<div class=\\'list_aut\\'><a href=\\'http://www.textologia.ru/slovari/lingvisticheskie-terminy/anakoluf/?q=486&n=315\\'>Анаколуф</a></div>\\r\\n\\t<div class=\\'list_aut\\'><a href=\\'http://www.textologia.ru/slovari/lingvisticheskie-terminy/analiz/?q=486&n=316\\'>Анализ</a></div>\\r\\n\\t<div class=\\'list_aut\\'><a href=\\'http://www.textologia.ru/slovari/lingvisticheskie-terminy/analiticheskaya-forma/?q=486&n=317\\'>Аналитическая форма</a></div>\\r\\n\\t<div class=\\'list_aut\\'><a href=\\'http://www.textologia.ru/slovari/lingvisticheskie-terminy/analiticheskie-yaziki/?q=486&n=318\\'>Аналитические языки</a></div>\\r\\n\\t<div class=\\'list_aut\\'><a href=\\'http://www.textologia.ru/slovari/lingvisticheskie-terminy/analogiya/?q=486&n=319\\'>Аналогия</a></div>\\r\\n\\t<div class=\\'list_aut\\'><a href=\\'http://www.textologia.ru/slovari/lingvisticheskie-terminy/anaforicheskiy/?q=486&n=320\\'>Анафорический</a></div>\\r\\n\\t<div class=\\'list_aut\\'><a href=\\'http://www.textologia.ru/slovari/lingvisticheskie-terminy/antonimiya/?q=486&n=321\\'>Антонимия</a></div>\\r\\n\\t<div class=\\'list_aut\\'><a href=\\'http://www.textologia.ru/slovari/lingvisticheskie-terminy/antonimi/?q=486&n=322\\'>Антонимы</a></div>\\r\\n\\t<div class=\\'list_aut\\'><a href=\\'http://www.textologia.ru/slovari/lingvisticheskie-terminy/antropologicheskaya-lingvistika/?q=486&n=2334\\'>Антропологическая лингвистика</a></div>\\r\\n\\t<div class=\\'list_aut\\'><a href=\\'http://www.textologia.ru/slovari/lingvisticheskie-terminy/antroponim/?q=486&n=323\\'>Антропоним</a></div>\\r\\n\\t<div class=\\'list_aut\\'><a href=\\'http://www.textologia.ru/slovari/lingvisticheskie-terminy/antroponimika/?q=486&n=324\\'>Антропонимика</a></div>\\r\\n\\t<div class=\\'list_aut\\'><a href=\\'http://www.textologia.ru/slovari/lingvisticheskie-terminy/aorist/?q=486&n=325\\'>Аорист</a></div>\\r\\n\\t<div class=\\'list_aut\\'><a href=\\'http://www.textologia.ru/slovari/lingvisticheskie-terminy/apellyativ/?q=486&n=326\\'>Апеллятив</a></div>\\r\\n\\t<div class=\\'list_aut\\'><a href=\\'http://www.textologia.ru/slovari/lingvisticheskie-terminy/apikalnie-soglasnie/?q=486&n=327\\'>Апикальные согласные</a></div>\\r\\n\\t<div class=\\'list_aut\\'><a href=\\'http://www.textologia.ru/slovari/lingvisticheskie-terminy/apodozis/?q=486&n=328\\'>Аподозис</a></div>\\r\\n\\t<div class=\\'list_aut\\'><a href=\\'http://www.textologia.ru/slovari/lingvisticheskie-terminy/apokopa/?q=486&n=329\\'>Апокопа</a></div>\\r\\n\\t<div class=\\'list_aut\\'><a href=\\'http://www.textologia.ru/slovari/lingvisticheskie-terminy/apostrof/?q=486&n=330\\'>Апостроф</a></div>\\r\\n\\t<div class=\\'list_aut\\'><a href=\\'http://www.textologia.ru/slovari/lingvisticheskie-terminy/applikaciya/?q=486&n=331\\'>Аппликация</a></div>\\r\\n\\t<div class=\\'list_aut\\'><a href=\\'http://www.textologia.ru/slovari/lingvisticheskie-terminy/appozitivnaya-svyaz/?q=486&n=332\\'>Аппозитивная связь</a></div>\\r\\n\\t<div class=\\'list_aut\\'><a href=\\'http://www.textologia.ru/slovari/lingvisticheskie-terminy/appozitivnie-otnosheniya/?q=486&n=333\\'>Аппозитивные отношения</a></div>\\r\\n\\t<div class=\\'list_aut\\'><a href=\\'http://www.textologia.ru/slovari/lingvisticheskie-terminy/appoziciya/?q=486&n=334\\'>Аппозиция</a></div>\\r\\n\\t<div class=\\'list_aut\\'><a href=\\'http://www.textologia.ru/slovari/lingvisticheskie-terminy/argo/?q=486&n=335\\'>Арго</a></div>\\r\\n\\t<div class=\\'list_aut\\'><a href=\\'http://www.textologia.ru/slovari/lingvisticheskie-terminy/argotizmi/?q=486&n=336\\'>Арготизмы</a></div>\\r\\n\\t<div class=\\'list_aut\\'><a href=\\'http://www.textologia.ru/slovari/lingvisticheskie-terminy/areal/?q=486&n=337\\'>Ареал</a></div>\\r\\n\\t<div class=\\'list_aut\\'><a href=\\'http://www.textologia.ru/slovari/lingvisticheskie-terminy/artikl/?q=486&n=338\\'>Артикль</a></div>\\r\\n\\t<div class=\\'list_aut\\'><a href=\\'http://www.textologia.ru/slovari/lingvisticheskie-terminy/artikulyacionnaya-baza/?q=486&n=339\\'>Артикуляционная база</a></div>\\r\\n\\t<div class=\\'list_aut\\'><a href=\\'http://www.textologia.ru/slovari/lingvisticheskie-terminy/artikulyaciya/?q=486&n=340\\'>Артикуляция</a></div>\\r\\n\\t<div class=\\'list_aut\\'><a href=\\'http://www.textologia.ru/slovari/lingvisticheskie-terminy/arhetip/?q=486&n=2310\\'>Архетип</a></div>\\r\\n\\t<div class=\\'list_aut\\'><a href=\\'http://www.textologia.ru/slovari/lingvisticheskie-terminy/asemanticheskie-soyuzi/?q=486&n=341\\'>Асемантические союзы</a></div>\\r\\n\\t<div class=\\'list_aut\\'><a href=\\'http://www.textologia.ru/slovari/lingvisticheskie-terminy/asindeton/?q=486&n=342\\'>Асиндетон</a></div>\\r\\n\\t<div class=\\'list_aut\\'><a href=\\'http://www.textologia.ru/slovari/lingvisticheskie-terminy/aspirati/?q=486&n=343\\'>Аспираты</a></div>\\r\\n\\t<div class=\\'list_aut\\'><a href=\\'http://www.textologia.ru/slovari/lingvisticheskie-terminy/assimilyaciya/?q=486&n=344\\'>Ассимиляция</a></div>\\r\\n\\t<div class=\\'list_aut\\'><a href=\\'http://www.textologia.ru/slovari/lingvisticheskie-terminy/atlas-dialektologicheskiy/?q=486&n=345\\'>Атлас диалектологический</a></div>\\r\\n\\t<div class=\\'list_aut\\'><a href=\\'http://www.textologia.ru/slovari/lingvisticheskie-terminy/atribut/?q=486&n=346\\'>Атрибут</a></div>\\r\\n\\t<div class=\\'list_aut\\'><a href=\\'http://www.textologia.ru/slovari/lingvisticheskie-terminy/atributivnaya-leksika/?q=486&n=2143\\'>Атрибутивная лексика</a></div>\\r\\n\\t<div class=\\'list_aut\\'><a href=\\'http://www.textologia.ru/slovari/lingvisticheskie-terminy/atributivnaya-svyaz/?q=486&n=347\\'>Атрибутивная связь</a></div>\\r\\n\\t<div class=\\'list_aut\\'><a href=\\'http://www.textologia.ru/slovari/lingvisticheskie-terminy/atributivno-predikativniy/?q=486&n=348\\'>Атрибутивно-предикативный</a></div>\\r\\n\\t<div class=\\'list_aut\\'><a href=\\'http://www.textologia.ru/slovari/lingvisticheskie-terminy/atributivnie-otnosheniya/?q=486&n=349\\'>Атрибутивные отношения</a></div>\\r\\n\\t<div class=\\'list_aut\\'><a href=\\'http://www.textologia.ru/slovari/lingvisticheskie-terminy/atributivnie-formi-glagola/?q=486&n=350\\'>Атрибутивные формы глагола</a></div>\\r\\n\\t<div class=\\'list_aut\\'><a href=\\'http://www.textologia.ru/slovari/lingvisticheskie-terminy/atributivnyj/?q=486&n=2142\\'>Атрибутивный</a></div>\\r\\n\\t<div class=\\'list_aut\\'><a href=\\'http://www.textologia.ru/slovari/lingvisticheskie-terminy/aforistichnost-rechi/?q=486&n=351\\'>Афористичность речи</a></div>\\r\\n\\t<div class=\\'list_aut\\'><a href=\\'http://www.textologia.ru/slovari/lingvisticheskie-terminy/affiks/?q=486&n=352\\'>Аффикс</a></div>\\r\\n\\t<div class=\\'list_aut\\'><a href=\\'http://www.textologia.ru/slovari/lingvisticheskie-terminy/affiksaciya/?q=486&n=353\\'>Аффиксация</a></div>\\r\\n\\t<div class=\\'list_aut\\'><a href=\\'http://www.textologia.ru/slovari/lingvisticheskie-terminy/affiksoid/?q=486&n=354\\'>Аффиксоид</a></div>\\r\\n\\t<div class=\\'list_aut\\'><a href=\\'http://www.textologia.ru/slovari/lingvisticheskie-terminy/affrikata/?q=486&n=355\\'>Аффриката</a></div>\\r\\n\\t<div class=\\'list_aut\\'><a href=\\'http://www.textologia.ru/slovari/lingvisticheskie-terminy/ahvahskiy-yazik/?q=486&n=2314\\'>Ахвахский язык</a></div>\\r\\n\\t<div style=\"margin: 7px 0 5px 0;\"><b>Б</b></div><div class=\\'list_aut\\'><a href=\\'http://www.textologia.ru/slovari/lingvisticheskie-terminy/bagirmi/?q=486&n=2322\\'>Багирми</a></div>\\r\\n\\t<div class=\\'list_aut\\'><a href=\\'http://www.textologia.ru/slovari/lingvisticheskie-terminy/baltiyskie-yaziki/?q=486&n=2160\\'>Балтийские языки</a></div>\\r\\n\\t<div class=\\'list_aut\\'><a href=\\'http://www.textologia.ru/slovari/lingvisticheskie-terminy/baltoslavyanskie-yaziki/?q=486&n=2157\\'>Балтославянские языки</a></div>\\r\\n\\t<div class=\\'list_aut\\'><a href=\\'http://www.textologia.ru/slovari/lingvisticheskie-terminy/bamana/?q=486&n=2309\\'>Бамана</a></div>\\r\\n\\t<div class=\\'list_aut\\'><a href=\\'http://www.textologia.ru/slovari/lingvisticheskie-terminy/beglie-glasnie/?q=486&n=356\\'>Беглые гласные</a></div>\\r\\n\\t<div class=\\'list_aut\\'><a href=\\'http://www.textologia.ru/slovari/lingvisticheskie-terminy/bezaffiksniy-sposob-slovoobrazovaniya/?q=486&n=1705\\'>Безаффиксный способ словообразования</a></div>\\r\\n\\t<div class=\\'list_aut\\'><a href=\\'http://www.textologia.ru/slovari/lingvisticheskie-terminy/bezlichnaya-forma-glagola/?q=486&n=358\\'>Безличная форма глагола</a></div>\\r\\n\\t<div class=\\'list_aut\\'><a href=\\'http://www.textologia.ru/slovari/lingvisticheskie-terminy/bezlichno-predikativnie-slova/?q=486&n=360\\'>Безлично-предикативные слова</a></div>\\r\\n\\t<div class=\\'list_aut\\'><a href=\\'http://www.textologia.ru/slovari/lingvisticheskie-terminy/bezlichnoe-predlozhenie/?q=486&n=359\\'>Безличное предложение</a></div>\\r\\n\\t<div class=\\'list_aut\\'><a href=\\'http://www.textologia.ru/slovari/lingvisticheskie-terminy/bezlichniy-glagol/?q=486&n=361\\'>Безличный глагол</a></div>\\r\\n\\t<div class=\\'list_aut\\'><a href=\\'http://www.textologia.ru/slovari/lingvisticheskie-terminy/bezudarniy-glasniy/?q=486&n=362\\'>Безударный гласный</a></div>\\r\\n\\t<div class=\\'list_aut\\'><a href=\\'http://www.textologia.ru/slovari/lingvisticheskie-terminy/bespoverochnie-napisaniya/?q=486&n=363\\'>Бесповерочные написания</a></div>\\r\\n\\t<div class=\\'list_aut\\'><a href=\\'http://www.textologia.ru/slovari/lingvisticheskie-terminy/bespodlezhaschpoe-predlozhenie/?q=486&n=364\\'>Бесподлежащпое предложение</a></div>\\r\\n\\t<div class=\\'list_aut\\'><a href=\\'http://www.textologia.ru/slovari/lingvisticheskie-terminy/bespredlozhvoe-upravlenie/?q=486&n=367\\'>Беспредложвое управление</a></div>\\r\\n\\t<div class=\\'list_aut\\'><a href=\\'http://www.textologia.ru/slovari/lingvisticheskie-terminy/bespredlozhnaya-svyaz/?q=486&n=365\\'>Беспредложная связь</a></div>\\r\\n\\t<div class=\\'list_aut\\'><a href=\\'http://www.textologia.ru/slovari/lingvisticheskie-terminy/bespredlozhnoe-slovosochetanie/?q=486&n=366\\'>Беспредложное словосочетание</a></div>\\r\\n\\t<div class=\\'list_aut\\'><a href=\\'http://www.textologia.ru/slovari/lingvisticheskie-terminy/besskazuemnoe-predlozhenie/?q=486&n=368\\'>Бессказуемное предложение</a></div>\\r\\n\\t<div class=\\'list_aut\\'><a href=\\'http://www.textologia.ru/slovari/lingvisticheskie-terminy/besskazuemo-podlezhaschnoe-predlozhenie/?q=486&n=369\\'>Бессказуемо-подлежащное предложение</a></div>\\r\\n\\t<div class=\\'list_aut\\'><a href=\\'http://www.textologia.ru/slovari/lingvisticheskie-terminy/bessoyuzie/?q=486&n=370\\'>Бессоюзие</a></div>\\r\\n\\t<div class=\\'list_aut\\'><a href=\\'http://www.textologia.ru/slovari/lingvisticheskie-terminy/bessoyuznaya-svyaz/?q=486&n=371\\'>Бессоюзная связь</a></div>\\r\\n\\t<div class=\\'list_aut\\'><a href=\\'http://www.textologia.ru/slovari/lingvisticheskie-terminy/bessoyuznoe-slozhnoe-predlozhenie/?q=486&n=372\\'>Бессоюзное сложное предложение</a></div>\\r\\n\\t<div class=\\'list_aut\\'><a href=\\'http://www.textologia.ru/slovari/lingvisticheskie-terminy/bessubektnoe-predlozhenie/?q=486&n=373\\'>Бессубъектное предложение</a></div>\\r\\n\\t<div class=\\'list_aut\\'><a href=\\'http://www.textologia.ru/slovari/lingvisticheskie-terminy/besformennie-slova/?q=486&n=374\\'>Бесформенные слова</a></div>\\r\\n\\t<div class=\\'list_aut\\'><a href=\\'http://www.textologia.ru/slovari/lingvisticheskie-terminy/besformennie-yaziki/?q=486&n=375\\'>Бесформенные языки</a></div>\\r\\n\\t<div class=\\'list_aut\\'><a href=\\'http://www.textologia.ru/slovari/lingvisticheskie-terminy/bikolskiy-yazik/?q=486&n=2321\\'>Бикольский язык</a></div>\\r\\n\\t<div class=\\'list_aut\\'><a href=\\'http://www.textologia.ru/slovari/lingvisticheskie-terminy/bilabialnie-soglasnie/?q=486&n=376\\'>Билабиальные согласные</a></div>\\r\\n\\t<div class=\\'list_aut\\'><a href=\\'http://www.textologia.ru/slovari/lingvisticheskie-terminy/bilingva/?q=486&n=2150\\'>Билингва</a></div>\\r\\n\\t<div class=\\'list_aut\\'><a href=\\'http://www.textologia.ru/slovari/lingvisticheskie-terminy/bilingvizm/?q=486&n=377\\'>Билингвизм</a></div>\\r\\n\\t<div class=\\'list_aut\\'><a href=\\'http://www.textologia.ru/slovari/lingvisticheskie-terminy/binarniy/?q=486&n=378\\'>Бинарный</a></div>\\r\\n\\t<div class=\\'list_aut\\'><a href=\\'http://www.textologia.ru/slovari/lingvisticheskie-terminy/blagozvuchie/?q=486&n=379\\'>Благозвучие</a></div>\\r\\n\\t<div class=\\'list_aut\\'><a href=\\'http://www.textologia.ru/slovari/lingvisticheskie-terminy/blat/?q=486&n=380\\'>Блат</a></div>\\r\\n\\t<div class=\\'list_aut\\'><a href=\\'http://www.textologia.ru/slovari/lingvisticheskie-terminy/blatnoy-yazik/?q=486&n=381\\'>Блатной язык</a></div>\\r\\n\\t<div class=\\'list_aut\\'><a href=\\'http://www.textologia.ru/slovari/lingvisticheskie-terminy/bokovoy--soglasniy/?q=486&n=382\\'>Боковой  согласный</a></div>\\r\\n\\t<div class=\\'list_aut\\'><a href=\\'http://www.textologia.ru/slovari/lingvisticheskie-terminy/bolshaya-bukva/?q=486&n=383\\'>Большая буква</a></div>\\r\\n\\t<div class=\\'list_aut\\'><a href=\\'http://www.textologia.ru/slovari/lingvisticheskie-terminy/brahui/?q=486&n=2311\\'>Брахуи</a></div>\\r\\n\\t<div class=\\'list_aut\\'><a href=\\'http://www.textologia.ru/slovari/lingvisticheskie-terminy/buduschee-vremya/?q=486&n=384\\'>Будущее время</a></div>\\r\\n\\t<div class=\\'list_aut\\'><a href=\\'http://www.textologia.ru/slovari/lingvisticheskie-terminy/bukva/?q=486&n=385\\'>Буква</a></div>\\r\\n\\t<div class=\\'list_aut\\'><a href=\\'http://www.textologia.ru/slovari/lingvisticheskie-terminy/bukvar/?q=486&n=2347\\'>Букварь</a></div>\\r\\n\\t<div class=\\'list_aut\\'><a href=\\'http://www.textologia.ru/slovari/lingvisticheskie-terminy/bukvennoe-pismo/?q=486&n=386\\'>Буквенное письмо</a></div>\\r\\n\\t<div class=\\'list_aut\\'><a href=\\'http://www.textologia.ru/slovari/lingvisticheskie-terminy/bukvica/?q=486&n=2341\\'>Буквица</a></div>\\r\\n\\t<div class=\\'list_aut\\'><a href=\\'http://www.textologia.ru/slovari/lingvisticheskie-terminy/burushaski/?q=486&n=2318\\'>Бурушаски</a></div>\\r\\n\\t<div class=\\'list_aut\\'><a href=\\'http://www.textologia.ru/slovari/lingvisticheskie-terminy/bitiynoe-nominativnoe-predlozhenie/?q=486&n=387\\'>Бытийное номинативное предложение</a></div>\\r\\n\\t<div class=\\'list_aut\\'><a href=\\'http://www.textologia.ru/slovari/lingvisticheskie-terminy/bitovaya-leksika/?q=486&n=388\\'>Бытовая лексика</a></div>\\r\\n\\t<div style=\"margin: 7px 0 5px 0;\"><b>В</b></div><div class=\\'list_aut\\'><a href=\\'http://www.textologia.ru/slovari/lingvisticheskie-terminy/valentnost-slova/?q=486&n=389\\'>Валентность слова</a></div>\\r\\n\\t<div class=\\'list_aut\\'><a href=\\'http://www.textologia.ru/slovari/lingvisticheskie-terminy/variant-kornya/?q=486&n=390\\'>Вариант корня</a></div>\\r\\n\\t<div class=\\'list_aut\\'><a href=\\'http://www.textologia.ru/slovari/lingvisticheskie-terminy/variant-morfemi/?q=486&n=391\\'>Вариант морфемы</a></div>\\r\\n\\t<div class=\\'list_aut\\'><a href=\\'http://www.textologia.ru/slovari/lingvisticheskie-terminy/variant-fonemi/?q=486&n=392\\'>Вариант фонемы</a></div>\\r\\n\\t<div class=\\'list_aut\\'><a href=\\'http://www.textologia.ru/slovari/lingvisticheskie-terminy/variantnie-fleksii/?q=486&n=393\\'>Вариантные флексии</a></div>\\r\\n\\t<div class=\\'list_aut\\'><a href=\\'http://www.textologia.ru/slovari/lingvisticheskie-terminy/varianti-slova/?q=486&n=394\\'>Варианты слова</a></div>\\r\\n\\t<div class=\\'list_aut\\'><a href=\\'http://www.textologia.ru/slovari/lingvisticheskie-terminy/varianti-frazeologicheskih-edinic/?q=486&n=395\\'>Варианты фразеологических единиц</a></div>\\r\\n\\t<div class=\\'list_aut\\'><a href=\\'http://www.textologia.ru/slovari/lingvisticheskie-terminy/variaciya-fonemi/?q=486&n=396\\'>Вариация фонемы</a></div>\\r\\n\\t<div class=\\'list_aut\\'><a href=\\'http://www.textologia.ru/slovari/lingvisticheskie-terminy/vvodnie-predlozheniya/?q=486&n=397\\'>Вводные предложения</a></div>\\r\\n\\t<div class=\\'list_aut\\'><a href=\\'http://www.textologia.ru/slovari/lingvisticheskie-terminy/vvodnie-slova/?q=486&n=398\\'>Вводные слова</a></div>\\r\\n\\t<div class=\\'list_aut\\'><a href=\\'http://www.textologia.ru/slovari/lingvisticheskie-terminy/velyarizaciya/?q=486&n=399\\'>Веляризация</a></div>\\r\\n\\t<div class=\\'list_aut\\'><a href=\\'http://www.textologia.ru/slovari/lingvisticheskie-terminy/velyarizovanniy-soglasniy/?q=486&n=400\\'>Веляризованный согласный</a></div>\\r\\n\\t<div class=\\'list_aut\\'><a href=\\'http://www.textologia.ru/slovari/lingvisticheskie-terminy/velyarnie-soglasnie/?q=486&n=401\\'>Велярные согласные</a></div>\\r\\n\\t<div class=\\'list_aut\\'><a href=\\'http://www.textologia.ru/slovari/lingvisticheskie-terminy/verbalizaciya/?q=486&n=402\\'>Вербализация</a></div>\\r\\n\\t<div class=\\'list_aut\\'><a href=\\'http://www.textologia.ru/slovari/lingvisticheskie-terminy/vetv-yazikovaya/?q=486&n=403\\'>Ветвь языковая</a></div>\\r\\n\\t<div class=\\'list_aut\\'><a href=\\'http://www.textologia.ru/slovari/lingvisticheskie-terminy/veschestvennaya-svyazka/?q=486&n=404\\'>Вещественная связка</a></div>\\r\\n\\t<div class=\\'list_aut\\'><a href=\\'http://www.textologia.ru/slovari/lingvisticheskie-terminy/veschestvennoe-znachenie/?q=486&n=405\\'>Вещественное значение</a></div>\\r\\n\\t<div class=\\'list_aut\\'><a href=\\'http://www.textologia.ru/slovari/lingvisticheskie-terminy/veschestvennie-suschestvitelnie/?q=486&n=406\\'>Вещественные существительные</a></div>\\r\\n\\t<div class=\\'list_aut\\'><a href=\\'http://www.textologia.ru/slovari/lingvisticheskie-terminy/vzaimnoe-podchinenie/?q=486&n=407\\'>Взаимное подчинение</a></div>\\r\\n\\t<div class=\\'list_aut\\'><a href=\\'http://www.textologia.ru/slovari/lingvisticheskie-terminy/vzaimniy-zalog/?q=486&n=408\\'>Взаимный залог</a></div>\\r\\n\\t<div class=\\'list_aut\\'><a href=\\'http://www.textologia.ru/slovari/lingvisticheskie-terminy/vzriv/?q=486&n=409\\'>Взрыв</a></div>\\r\\n\\t<div class=\\'list_aut\\'><a href=\\'http://www.textologia.ru/slovari/lingvisticheskie-terminy/vzrivnie-soglasnie/?q=486&n=410\\'>Взрывные согласные</a></div>\\r\\n\\t<div class=\\'list_aut\\'><a href=\\'http://www.textologia.ru/slovari/lingvisticheskie-terminy/vibranti/?q=486&n=411\\'>Вибранты</a></div>\\r\\n\\t<div class=\\'list_aut\\'><a href=\\'http://www.textologia.ru/slovari/lingvisticheskie-terminy/vid-glagola/?q=486&n=412\\'>Вид глагола</a></div>\\r\\n\\t<div class=\\'list_aut\\'><a href=\\'http://www.textologia.ru/slovari/lingvisticheskie-terminy/vidovaya-korrelyaciya/?q=486&n=413\\'>Видовая корреляция</a></div>\\r\\n\\t<div class=\\'list_aut\\'><a href=\\'http://www.textologia.ru/slovari/lingvisticheskie-terminy/vidovaya-para/?q=486&n=414\\'>Видовая пара</a></div>\\r\\n\\t<div class=\\'list_aut\\'><a href=\\'http://www.textologia.ru/slovari/lingvisticheskie-terminy/vinitelniy-padezh/?q=486&n=415\\'>Винительный падеж</a></div>\\r\\n\\t<div class=\\'list_aut\\'><a href=\\'http://www.textologia.ru/slovari/lingvisticheskie-terminy/visyachiy-defis/?q=486&n=416\\'>Висячий дефис</a></div>\\r\\n\\t<div class=\\'list_aut\\'><a href=\\'http://www.textologia.ru/slovari/lingvisticheskie-terminy/vklyuchenie/?q=486&n=417\\'>Включение</a></div>\\r\\n\\t<div class=\\'list_aut\\'><a href=\\'http://www.textologia.ru/slovari/lingvisticheskie-terminy/vneliteraturnaya-leksika/?q=486&n=418\\'>Внелитературная лексика</a></div>\\r\\n\\t<div class=\\'list_aut\\'><a href=\\'http://www.textologia.ru/slovari/lingvisticheskie-terminy/vnesenie/?q=486&n=419\\'>Внесение</a></div>\\r\\n\\t<div class=\\'list_aut\\'><a href=\\'http://www.textologia.ru/slovari/lingvisticheskie-terminy/vneshnyaya-rech/?q=486&n=420\\'>Внешняя речь</a></div>\\r\\n\\t<div class=\\'list_aut\\'><a href=\\'http://www.textologia.ru/slovari/lingvisticheskie-terminy/vneshnyaya-fleksiya/?q=486&n=421\\'>Внешняя флексия</a></div>\\r\\n\\t<div class=\\'list_aut\\'><a href=\\'http://www.textologia.ru/slovari/lingvisticheskie-terminy/vneyazikovie-sredstva-obscheniya/?q=486&n=422\\'>Внеязыковые средства общения</a></div>\\r\\n\\t<div class=\\'list_aut\\'><a href=\\'http://www.textologia.ru/slovari/lingvisticheskie-terminy/vnutrennie-zakoni-razvitiya-yazika/?q=486&n=423\\'>Внутренние законы развития языка</a></div>\\r\\n\\t<div class=\\'list_aut\\'><a href=\\'http://www.textologia.ru/slovari/lingvisticheskie-terminy/vnutrennyaya-rech/?q=486&n=424\\'>Внутренняя речь</a></div>\\r\\n\\t<div class=\\'list_aut\\'><a href=\\'http://www.textologia.ru/slovari/lingvisticheskie-terminy/vnutrennyaya-fleksiya/?q=486&n=425\\'>Внутренняя флексия</a></div>\\r\\n\\t<div class=\\'list_aut\\'><a href=\\'http://www.textologia.ru/slovari/lingvisticheskie-terminy/vnutrennyaya-forma-slova/?q=486&n=426\\'>Внутренняя форма слова</a></div>\\r\\n\\t<div class=\\'list_aut\\'><a href=\\'http://www.textologia.ru/slovari/lingvisticheskie-terminy/vozvratnaya-forma-glagola/?q=486&n=427\\'>Возвратная форма глагола</a></div>\\r\\n\\t<div class=\\'list_aut\\'><a href=\\'http://www.textologia.ru/slovari/lingvisticheskie-terminy/vozvratnaya-chastica/?q=486&n=428\\'>Возвратная частица</a></div>\\r\\n\\t<div class=\\'list_aut\\'><a href=\\'http://www.textologia.ru/slovari/lingvisticheskie-terminy/vozvratniy-glagol/?q=486&n=429\\'>Возвратный глагол</a></div>\\r\\n\\t<div class=\\'list_aut\\'><a href=\\'http://www.textologia.ru/slovari/lingvisticheskie-terminy/vokabula/?q=486&n=430\\'>Вокабула</a></div>\\r\\n\\t<div class=\\'list_aut\\'><a href=\\'http://www.textologia.ru/slovari/lingvisticheskie-terminy/vokalizm/?q=486&n=431\\'>Вокализм</a></div>\\r\\n\\t<div class=\\'list_aut\\'><a href=\\'http://www.textologia.ru/slovari/lingvisticheskie-terminy/vokativ/?q=486&n=432\\'>Вокатив</a></div>\\r\\n\\t<div class=\\'list_aut\\'><a href=\\'http://www.textologia.ru/slovari/lingvisticheskie-terminy/vokativnoe-predlozhenie/?q=486&n=433\\'>Вокативное предложение</a></div>\\r\\n\\t<div class=\\'list_aut\\'><a href=\\'http://www.textologia.ru/slovari/lingvisticheskie-terminy/volof/?q=486&n=2312\\'>Волоф</a></div>\\r\\n\\t<div class=\\'list_aut\\'><a href=\\'http://www.textologia.ru/slovari/lingvisticheskie-terminy/volyapyuk/?q=486&n=434\\'>Воляпюк</a></div>\\r\\n\\t<div class=\\'list_aut\\'><a href=\\'http://www.textologia.ru/slovari/lingvisticheskie-terminy/vopros/?q=486&n=435\\'>Вопрос</a></div>\\r\\n\\t<div class=\\'list_aut\\'><a href=\\'http://www.textologia.ru/slovari/lingvisticheskie-terminy/voprositelnoe-predlozhenie/?q=486&n=436\\'>Вопросительное предложение</a></div>\\r\\n\\t<div class=\\'list_aut\\'><a href=\\'http://www.textologia.ru/slovari/lingvisticheskie-terminy/voprositelniy-znak/?q=486&n=437\\'>Вопросительный знак</a></div>\\r\\n\\t<div class=\\'list_aut\\'><a href=\\'http://www.textologia.ru/slovari/lingvisticheskie-terminy/vosklicanie/?q=486&n=438\\'>Восклицание</a></div>\\r\\n\\t<div class=\\'list_aut\\'><a href=\\'http://www.textologia.ru/slovari/lingvisticheskie-terminy/vosklicatelnoe-predlozhenie/?q=486&n=439\\'>Восклицательное предложение</a></div>\\r\\n\\t<div class=\\'list_aut\\'><a href=\\'http://www.textologia.ru/slovari/lingvisticheskie-terminy/vosklicatelniy-znak/?q=486&n=440\\'>Восклицательный знак</a></div>\\r\\n\\t<div class=\\'list_aut\\'><a href=\\'http://www.textologia.ru/slovari/lingvisticheskie-terminy/vostochnoslavyanskaya-leksika/?q=486&n=441\\'>Восточнославянская лексика</a></div>\\r\\n\\t<div class=\\'list_aut\\'><a href=\\'http://www.textologia.ru/slovari/lingvisticheskie-terminy/vostochnoslavyanskie-yaziki/?q=486&n=2154\\'>Восточнославянские языки</a></div>\\r\\n\\t<div class=\\'list_aut\\'><a href=\\'http://www.textologia.ru/slovari/lingvisticheskie-terminy/vremennoy/?q=486&n=442\\'>Временной</a></div>\\r\\n\\t<div class=\\'list_aut\\'><a href=\\'http://www.textologia.ru/slovari/lingvisticheskie-terminy/vremya-glagola/?q=486&n=443\\'>Время глагола</a></div>\\r\\n\\t<div class=\\'list_aut\\'><a href=\\'http://www.textologia.ru/slovari/lingvisticheskie-terminy/vsesoyuzniy-komitet-novogo-alfavita/?q=486&n=2274\\'>Всесоюзный комитет нового алфавита</a></div>\\r\\n\\t<div class=\\'list_aut\\'><a href=\\'http://www.textologia.ru/slovari/lingvisticheskie-terminy/vspomogatelniy-glagol/?q=486&n=444\\'>Вспомогательный глагол</a></div>\\r\\n\\t<div class=\\'list_aut\\'><a href=\\'http://www.textologia.ru/slovari/lingvisticheskie-terminy/vstavka-zvukov/?q=486&n=445\\'>Вставка звуков</a></div>\\r\\n\\t<div class=\\'list_aut\\'><a href=\\'http://www.textologia.ru/slovari/lingvisticheskie-terminy/vstavnie-konstrukcii/?q=486&n=446\\'>Вставные конструкции</a></div>\\r\\n\\t<div class=\\'list_aut\\'><a href=\\'http://www.textologia.ru/slovari/lingvisticheskie-terminy/vtoraya-signalnaya-sistema/?q=486&n=447\\'>Вторая сигнальная система</a></div>\\r\\n\\t<div class=\\'list_aut\\'><a href=\\'http://www.textologia.ru/slovari/lingvisticheskie-terminy/vtoroe-polnoglasie/?q=486&n=448\\'>Второе полногласие</a></div>\\r\\n\\t<div class=\\'list_aut\\'><a href=\\'http://www.textologia.ru/slovari/lingvisticheskie-terminy/vtoroy-imenitelniy/?q=486&n=449\\'>Второй именительный</a></div>\\r\\n\\t<div class=\\'list_aut\\'><a href=\\'http://www.textologia.ru/slovari/lingvisticheskie-terminy/vtorostepennoe-skazuemoe/?q=486&n=450\\'>Второстепенное сказуемое</a></div>\\r\\n\\t<div class=\\'list_aut\\'><a href=\\'http://www.textologia.ru/slovari/lingvisticheskie-terminy/vtorostepennoe-udarenie/?q=486&n=451\\'>Второстепенное ударение</a></div>\\r\\n\\t<div class=\\'list_aut\\'><a href=\\'http://www.textologia.ru/slovari/lingvisticheskie-terminy/vtorostepennie-chleni-predlozheniya/?q=486&n=452\\'>Второстепенные члены предложения</a></div>\\r\\n\\t<div class=\\'list_aut\\'><a href=\\'http://www.textologia.ru/slovari/lingvisticheskie-terminy/viderzhka/?q=486&n=453\\'>Выдержка</a></div>\\r\\n\\t<div class=\\'list_aut\\'><a href=\\'http://www.textologia.ru/slovari/lingvisticheskie-terminy/vidihatelnaya-gruppa/?q=486&n=454\\'>Выдыхательная группа</a></div>\\r\\n\\t<div class=\\'list_aut\\'><a href=\\'http://www.textologia.ru/slovari/lingvisticheskie-terminy/vidihatelnoe-udarenie/?q=486&n=455\\'>Выдыхательное ударение</a></div>\\r\\n\\t<div class=\\'list_aut\\'><a href=\\'http://www.textologia.ru/slovari/lingvisticheskie-terminy/vipadenie-zvukov/?q=486&n=456\\'>Выпадение звуков</a></div>\\r\\n\\t<div class=\\'list_aut\\'><a href=\\'http://www.textologia.ru/slovari/lingvisticheskie-terminy/virazitelniy/?q=486&n=457\\'>Выразительный</a></div>\\r\\n\\t<div class=\\'list_aut\\'><a href=\\'http://www.textologia.ru/slovari/lingvisticheskie-terminy/viskazivanie/?q=486&n=458\\'>Высказывание</a></div>\\r\\n\\t<div class=\\'list_aut\\'><a href=\\'http://www.textologia.ru/slovari/lingvisticheskie-terminy/visota-tona/?q=486&n=459\\'>Высота тона</a></div>\\r\\n\\t<div class=\\'list_aut\\'><a href=\\'http://www.textologia.ru/slovari/lingvisticheskie-terminy/vetmiongskie-yaziki/?q=486&n=2273\\'>Вьетмыонгские языки</a></div>\\r\\n\\t<div style=\"margin: 7px 0 5px 0;\"><b>Г</b></div><div class=\\'list_aut\\'><a href=\\'http://www.textologia.ru/slovari/lingvisticheskie-terminy/gallicizm/?q=486&n=460\\'>Галлицизм</a></div>\\r\\n\\t<div class=\\'list_aut\\'><a href=\\'http://www.textologia.ru/slovari/lingvisticheskie-terminy/gapaks/?q=486&n=2285\\'>Гапакс</a></div>\\r\\n\\t<div class=\\'list_aut\\'><a href=\\'http://www.textologia.ru/slovari/lingvisticheskie-terminy/gaplologiya/?q=486&n=461\\'>Гаплология</a></div>\\r\\n\\t<div class=\\'list_aut\\'><a href=\\'http://www.textologia.ru/slovari/lingvisticheskie-terminy/genealogicheskaya-klassifikaciya-yazikov/?q=486&n=462\\'>Генеалогическая классификация языков</a></div>\\r\\n\\t<div class=\\'list_aut\\'><a href=\\'http://www.textologia.ru/slovari/lingvisticheskie-terminy/generativnaya-lingvistika/?q=486&n=2323\\'>Генеративная лингвистика</a></div>\\r\\n\\t<div class=\\'list_aut\\'><a href=\\'http://www.textologia.ru/slovari/lingvisticheskie-terminy/genitivnoe-predlozhenie/?q=486&n=463\\'>Генитивное предложение</a></div>\\r\\n\\t<div class=\\'list_aut\\'><a href=\\'http://www.textologia.ru/slovari/lingvisticheskie-terminy/germanizm/?q=486&n=464\\'>Германизм</a></div>\\r\\n\\t<div class=\\'list_aut\\'><a href=\\'http://www.textologia.ru/slovari/lingvisticheskie-terminy/germanskie-yaziki/?q=486&n=465\\'>Германские языки</a></div>\\r\\n\\t<div class=\\'list_aut\\'><a href=\\'http://www.textologia.ru/slovari/lingvisticheskie-terminy/gidronim/?q=486&n=466\\'>Гидроним</a></div>\\r\\n\\t<div class=\\'list_aut\\'><a href=\\'http://www.textologia.ru/slovari/lingvisticheskie-terminy/giperkorrekciya/?q=486&n=2151\\'>Гиперкоррекция</a></div>\\r\\n\\t<div class=\\'list_aut\\'><a href=\\'http://www.textologia.ru/slovari/lingvisticheskie-terminy/glavnoe-predlozhenie/?q=486&n=467\\'>Главное предложение</a></div>\\r\\n\\t<div class=\\'list_aut\\'><a href=\\'http://www.textologia.ru/slovari/lingvisticheskie-terminy/glavnoe-slovo-slovosochetaniya/?q=486&n=468\\'>Главное слово словосочетания</a></div>\\r\\n\\t<div class=\\'list_aut\\'><a href=\\'http://www.textologia.ru/slovari/lingvisticheskie-terminy/glavnoe-udarenie/?q=486&n=469\\'>Главное ударение</a></div>\\r\\n\\t<div class=\\'list_aut\\'><a href=\\'http://www.textologia.ru/slovari/lingvisticheskie-terminy/glavnie-chleni-predlozheniya/?q=486&n=470\\'>Главные члены предложения</a></div>\\r\\n\\t<div class=\\'list_aut\\'><a href=\\'http://www.textologia.ru/slovari/lingvisticheskie-terminy/glavniy-chlen-odnosostavnogo-predlozheniya/?q=486&n=471\\'>Главный член односоставного предложения</a></div>\\r\\n\\t<div class=\\'list_aut\\'><a href=\\'http://www.textologia.ru/slovari/lingvisticheskie-terminy/glagol/?q=486&n=472\\'>Глагол</a></div>\\r\\n\\t<div class=\\'list_aut\\'><a href=\\'http://www.textologia.ru/slovari/lingvisticheskie-terminy/glagolica/?q=486&n=473\\'>Глаголица</a></div>\\r\\n\\t<div class=\\'list_aut\\'><a href=\\'http://www.textologia.ru/slovari/lingvisticheskie-terminy/glagoli-dvizheniya/?q=486&n=474\\'>Глаголы движения</a></div>\\r\\n\\t<div class=\\'list_aut\\'><a href=\\'http://www.textologia.ru/slovari/lingvisticheskie-terminy/glagolnoe-mezhdometie/?q=486&n=475\\'>Глагольное междометие</a></div>\\r\\n\\t<div class=\\'list_aut\\'><a href=\\'http://www.textologia.ru/slovari/lingvisticheskie-terminy/glagolnoe-skazuemoe/?q=486&n=476\\'>Глагольное сказуемое</a></div>\\r\\n\\t<div class=\\'list_aut\\'><a href=\\'http://www.textologia.ru/slovari/lingvisticheskie-terminy/glagolnost/?q=486&n=477\\'>Глагольность</a></div>\\r\\n\\t<div class=\\'list_aut\\'><a href=\\'http://www.textologia.ru/slovari/lingvisticheskie-terminy/glasnie-zvuki/?q=486&n=478\\'>Гласные звуки</a></div>\\r\\n\\t<div class=\\'list_aut\\'><a href=\\'http://www.textologia.ru/slovari/lingvisticheskie-terminy/glossa/?q=486&n=479\\'>Глосса</a></div>\\r\\n\\t<div class=\\'list_aut\\'><a href=\\'http://www.textologia.ru/slovari/lingvisticheskie-terminy/glossematika/?q=486&n=480\\'>Глоссематика</a></div>\\r\\n\\t<div class=\\'list_aut\\'><a href=\\'http://www.textologia.ru/slovari/lingvisticheskie-terminy/glottogonicheskiy-process/?q=486&n=481\\'>Глоттогонический процесс</a></div>\\r\\n\\t<div class=\\'list_aut\\'><a href=\\'http://www.textologia.ru/slovari/lingvisticheskie-terminy/glottogoniya/?q=486&n=482\\'>Глоттогония</a></div>\\r\\n\\t<div class=\\'list_aut\\'><a href=\\'http://www.textologia.ru/slovari/lingvisticheskie-terminy/gluhie-soglasnie/?q=486&n=483\\'>Глухие согласные</a></div>\\r\\n\\t<div class=\\'list_aut\\'><a href=\\'http://www.textologia.ru/slovari/lingvisticheskie-terminy/gluhoy-glasniy/?q=486&n=484\\'>Глухой гласный</a></div>\\r\\n\\t<div class=\\'list_aut\\'><a href=\\'http://www.textologia.ru/slovari/lingvisticheskie-terminy/gnezdo-slov/?q=486&n=485\\'>Гнездо слов</a></div>\\r\\n\\t<div class=\\'list_aut\\'><a href=\\'http://www.textologia.ru/slovari/lingvisticheskie-terminy/govor/?q=486&n=486\\'>Говор</a></div>\\r\\n\\t<div class=\\'list_aut\\'><a href=\\'http://www.textologia.ru/slovari/lingvisticheskie-terminy/golos/?q=486&n=487\\'>Голос</a></div>\\r\\n\\t<div class=\\'list_aut\\'><a href=\\'http://www.textologia.ru/slovari/lingvisticheskie-terminy/golosovie-svyazki/?q=486&n=488\\'>Голосовые связки</a></div>\\r\\n\\t<div class=\\'list_aut\\'><a href=\\'http://www.textologia.ru/slovari/lingvisticheskie-terminy/gondi/?q=486&n=2313\\'>Гонди</a></div>\\r\\n\\t<div class=\\'list_aut\\'><a href=\\'http://www.textologia.ru/slovari/lingvisticheskie-terminy/gortannie-soglasnie/?q=486&n=489\\'>Гортанные согласные</a></div>\\r\\n\\t<div class=\\'list_aut\\'><a href=\\'http://www.textologia.ru/slovari/lingvisticheskie-terminy/gortan/?q=486&n=490\\'>Гортань</a></div>\\r\\n\\t<div class=\\'list_aut\\'><a href=\\'http://www.textologia.ru/slovari/lingvisticheskie-terminy/gotskoe-pismo/?q=486&n=2316\\'>Готское письмо </a></div>\\r\\n\\t<div class=\\'list_aut\\'><a href=\\'http://www.textologia.ru/slovari/lingvisticheskie-terminy/gradacionnie-soyuzi/?q=486&n=491\\'>Градационные союзы</a></div>\\r\\n\\t<div class=\\'list_aut\\'><a href=\\'http://www.textologia.ru/slovari/lingvisticheskie-terminy/gradaciya/?q=486&n=492\\'>Градация</a></div>\\r\\n\\t<div class=\\'list_aut\\'><a href=\\'http://www.textologia.ru/slovari/lingvisticheskie-terminy/grammatika/?q=486&n=493\\'>Грамматика</a></div>\\r\\n\\t<div class=\\'list_aut\\'><a href=\\'http://www.textologia.ru/slovari/lingvisticheskie-terminy/grammatikalizaciya/?q=486&n=494\\'>Грамматикализация</a></div>\\r\\n\\t<div class=\\'list_aut\\'><a href=\\'http://www.textologia.ru/slovari/lingvisticheskie-terminy/grammaticheskaya-kategoriya/?q=486&n=495\\'>Грамматическая категория</a></div>\\r\\n\\t<div class=\\'list_aut\\'><a href=\\'http://www.textologia.ru/slovari/lingvisticheskie-terminy/grammaticheskaya-svyaz/?q=486&n=496\\'>Грамматическая связь</a></div>\\r\\n\\t<div class=\\'list_aut\\'><a href=\\'http://www.textologia.ru/slovari/lingvisticheskie-terminy/grammaticheskaya-stilistika/?q=486&n=497\\'>Грамматическая стилистика</a></div>\\r\\n\\t<div class=\\'list_aut\\'><a href=\\'http://www.textologia.ru/slovari/lingvisticheskie-terminy/grammaticheskaya-forma/?q=486&n=498\\'>Грамматическая форма</a></div>\\r\\n\\t<div class=\\'list_aut\\'><a href=\\'http://www.textologia.ru/slovari/lingvisticheskie-terminy/grammaticheskie-sinonimi/?q=486&n=499\\'>Грамматические синонимы</a></div>\\r\\n\\t<div class=\\'list_aut\\'><a href=\\'http://www.textologia.ru/slovari/lingvisticheskie-terminy/grammaticheskie-cheredovaniya/?q=486&n=500\\'>Грамматические чередования</a></div>\\r\\n\\t<div class=\\'list_aut\\'><a href=\\'http://www.textologia.ru/slovari/lingvisticheskie-terminy/grammaticheskiy-stroy/?q=486&n=501\\'>Грамматический строй</a></div>\\r\\n\\t<div class=\\'list_aut\\'><a href=\\'http://www.textologia.ru/slovari/lingvisticheskie-terminy/grammaticheskoe-znachenie/?q=486&n=502\\'>Грамматическое значение</a></div>\\r\\n\\t<div class=\\'list_aut\\'><a href=\\'http://www.textologia.ru/slovari/lingvisticheskie-terminy/grammaticheskoe-podlezhaschee/?q=486&n=503\\'>Грамматическое подлежащее</a></div>\\r\\n\\t<div class=\\'list_aut\\'><a href=\\'http://www.textologia.ru/slovari/lingvisticheskie-terminy/grammaticheskoe-skazuemoe/?q=486&n=504\\'>Грамматическое сказуемое</a></div>\\r\\n\\t<div class=\\'list_aut\\'><a href=\\'http://www.textologia.ru/slovari/lingvisticheskie-terminy/grammaticheskoe-soglasovanie/?q=486&n=505\\'>Грамматическое согласование</a></div>\\r\\n\\t<div class=\\'list_aut\\'><a href=\\'http://www.textologia.ru/slovari/lingvisticheskie-terminy/grammema/?q=486&n=2319\\'>Граммема</a></div>\\r\\n\\t<div class=\\'list_aut\\'><a href=\\'http://www.textologia.ru/slovari/lingvisticheskie-terminy/gramota/?q=486&n=2346\\'>Грамота</a></div>\\r\\n\\t<div class=\\'list_aut\\'><a href=\\'http://www.textologia.ru/slovari/lingvisticheskie-terminy/grafema/?q=486&n=506\\'>Графема</a></div>\\r\\n\\t<div class=\\'list_aut\\'><a href=\\'http://www.textologia.ru/slovari/lingvisticheskie-terminy/grafika/?q=486&n=507\\'>Графика</a></div>\\r\\n\\t<div class=\\'list_aut\\'><a href=\\'http://www.textologia.ru/slovari/lingvisticheskie-terminy/grecizm/?q=486&n=508\\'>Грецизм</a></div>\\r\\n\\t<div class=\\'list_aut\\'><a href=\\'http://www.textologia.ru/slovari/lingvisticheskie-terminy/gubno-gubnie-soglasnie/?q=486&n=509\\'>Губно-губные согласные</a></div>\\r\\n\\t<div class=\\'list_aut\\'><a href=\\'http://www.textologia.ru/slovari/lingvisticheskie-terminy/gubno-zubnie-soglasnie/?q=486&n=510\\'>Губно-зубные согласные</a></div>\\r\\n\\t<div class=\\'list_aut\\'><a href=\\'http://www.textologia.ru/slovari/lingvisticheskie-terminy/gubnie-glasnie/?q=486&n=511\\'>Губные гласные</a></div>\\r\\n\\t<div class=\\'list_aut\\'><a href=\\'http://www.textologia.ru/slovari/lingvisticheskie-terminy/gubnie-soglasnie/?q=486&n=512\\'>Губные согласные</a></div>\\r\\n\\t<div style=\"margin: 7px 0 5px 0;\"><b>Д</b></div><div class=\\'list_aut\\'><a href=\\'http://www.textologia.ru/slovari/lingvisticheskie-terminy/davnoproshedshee-vremya/?q=486&n=513\\'>Давнопрошедшее время</a></div>\\r\\n\\t<div class=\\'list_aut\\'><a href=\\'http://www.textologia.ru/slovari/lingvisticheskie-terminy/dalmatinskiy-yazik/?q=486&n=2203\\'>Далматинский язык</a></div>\\r\\n\\t<div class=\\'list_aut\\'><a href=\\'http://www.textologia.ru/slovari/lingvisticheskie-terminy/dardskie-yaziki/?q=486&n=2202\\'>Дардские языки</a></div>\\r\\n\\t<div class=\\'list_aut\\'><a href=\\'http://www.textologia.ru/slovari/lingvisticheskie-terminy/datelniy-adresata/?q=486&n=514\\'>Дательный адресата</a></div>\\r\\n\\t<div class=\\'list_aut\\'><a href=\\'http://www.textologia.ru/slovari/lingvisticheskie-terminy/datelniy-padezh/?q=486&n=515\\'>Дательный падеж</a></div>\\r\\n\\t<div class=\\'list_aut\\'><a href=\\'http://www.textologia.ru/slovari/lingvisticheskie-terminy/datskiy-yazik/?q=486&n=2201\\'>Датский язык</a></div>\\r\\n\\t<div class=\\'list_aut\\'><a href=\\'http://www.textologia.ru/slovari/lingvisticheskie-terminy/dvoetochie/?q=486&n=516\\'>Двоеточие</a></div>\\r\\n\\t<div class=\\'list_aut\\'><a href=\\'http://www.textologia.ru/slovari/lingvisticheskie-terminy/dvoynoe-otricanie/?q=486&n=517\\'>Двойное отрицание</a></div>\\r\\n\\t<div class=\\'list_aut\\'><a href=\\'http://www.textologia.ru/slovari/lingvisticheskie-terminy/dvoynoe-upravlenie/?q=486&n=518\\'>Двойное управление</a></div>\\r\\n\\t<div class=\\'list_aut\\'><a href=\\'http://www.textologia.ru/slovari/lingvisticheskie-terminy/dvoynoy-vinitelniy/?q=486&n=519\\'>Двойной винительный</a></div>\\r\\n\\t<div class=\\'list_aut\\'><a href=\\'http://www.textologia.ru/slovari/lingvisticheskie-terminy/dvoynoy-soglasniy/?q=486&n=520\\'>Двойной согласный</a></div>\\r\\n\\t<div class=\\'list_aut\\'><a href=\\'http://www.textologia.ru/slovari/lingvisticheskie-terminy/dvoystvennoe-chislo/?q=486&n=521\\'>Двойственное число</a></div>\\r\\n\\t<div class=\\'list_aut\\'><a href=\\'http://www.textologia.ru/slovari/lingvisticheskie-terminy/dvuvidovie-glagoli/?q=486&n=522\\'>Двувидовые глаголы</a></div>\\r\\n\\t<div class=\\'list_aut\\'><a href=\\'http://www.textologia.ru/slovari/lingvisticheskie-terminy/dvuskazuemoe-predlozhenie/?q=486&n=523\\'>Двусказуемое предложение</a></div>\\r\\n\\t<div class=\\'list_aut\\'><a href=\\'http://www.textologia.ru/slovari/lingvisticheskie-terminy/dvusostavnoe-predlozhenie/?q=486&n=524\\'>Двусоставное предложение</a></div>\\r\\n\\t<div class=\\'list_aut\\'><a href=\\'http://www.textologia.ru/slovari/lingvisticheskie-terminy/dvuyazichie/?q=486&n=525\\'>Двуязычие</a></div>\\r\\n\\t<div class=\\'list_aut\\'><a href=\\'http://www.textologia.ru/slovari/lingvisticheskie-terminy/deeprichastie/?q=486&n=526\\'>Деепричастие</a></div>\\r\\n\\t<div class=\\'list_aut\\'><a href=\\'http://www.textologia.ru/slovari/lingvisticheskie-terminy/deeprichastniy-oborot/?q=486&n=527\\'>Деепричастный оборот</a></div>\\r\\n\\t<div class=\\'list_aut\\'><a href=\\'http://www.textologia.ru/slovari/lingvisticheskie-terminy/dezaffiksaciya/?q=486&n=528\\'>Дезаффиксация</a></div>\\r\\n\\t<div class=\\'list_aut\\'><a href=\\'http://www.textologia.ru/slovari/lingvisticheskie-terminy/deyksis-v-lingvistike/?q=486&n=2200\\'>Дейксис в лингвистике</a></div>\\r\\n\\t<div class=\\'list_aut\\'><a href=\\'http://www.textologia.ru/slovari/lingvisticheskie-terminy/deystvitelnaya-konstrukciya/?q=486&n=529\\'>Действительная конструкция</a></div>\\r\\n\\t<div class=\\'list_aut\\'><a href=\\'http://www.textologia.ru/slovari/lingvisticheskie-terminy/deystvitelnoe-prichastie/?q=486&n=530\\'>Действительное причастие</a></div>\\r\\n\\t<div class=\\'list_aut\\'><a href=\\'http://www.textologia.ru/slovari/lingvisticheskie-terminy/deystvitelniy-aktivniy-oborot/?q=486&n=531\\'>Действительный (активный) оборот</a></div>\\r\\n\\t<div class=\\'list_aut\\'><a href=\\'http://www.textologia.ru/slovari/lingvisticheskie-terminy/deystvitelnyy-zalog/?q=486&n=1666\\'>Действительный залог</a></div>\\r\\n\\t<div class=\\'list_aut\\'><a href=\\'http://www.textologia.ru/slovari/lingvisticheskie-terminy/dekorrelyaciya/?q=486&n=532\\'>Декорреляция</a></div>\\r\\n\\t<div class=\\'list_aut\\'><a href=\\'http://www.textologia.ru/slovari/lingvisticheskie-terminy/delovaya-leksika/?q=486&n=533\\'>Деловая лексика</a></div>\\r\\n\\t<div class=\\'list_aut\\'><a href=\\'http://www.textologia.ru/slovari/lingvisticheskie-terminy/deminutiv/?q=486&n=534\\'>Деминутив</a></div>\\r\\n\\t<div class=\\'list_aut\\'><a href=\\'http://www.textologia.ru/slovari/lingvisticheskie-terminy/denotat/?q=486&n=535\\'>Денотат</a></div>\\r\\n\\t<div class=\\'list_aut\\'><a href=\\'http://www.textologia.ru/slovari/lingvisticheskie-terminy/derivat/?q=486&n=536\\'>Дериват</a></div>\\r\\n\\t<div class=\\'list_aut\\'><a href=\\'http://www.textologia.ru/slovari/lingvisticheskie-terminy/derivacionnoe-znachenie/?q=486&n=537\\'>Деривационное значение</a></div>\\r\\n\\t<div class=\\'list_aut\\'><a href=\\'http://www.textologia.ru/slovari/lingvisticheskie-terminy/derivaciya/?q=486&n=538\\'>Деривация</a></div>\\r\\n\\t<div class=\\'list_aut\\'><a href=\\'http://www.textologia.ru/slovari/lingvisticheskie-terminy/desemantizaciya/?q=486&n=539\\'>Десемантизация</a></div>\\r\\n\\t<div class=\\'list_aut\\'><a href=\\'http://www.textologia.ru/slovari/lingvisticheskie-terminy/deskriptivnaya--lingvistika/?q=486&n=540\\'>Дескриптивная  лингвистика</a></div>\\r\\n\\t<div class=\\'list_aut\\'><a href=\\'http://www.textologia.ru/slovari/lingvisticheskie-terminy/determinant/?q=486&n=541\\'>Детерминант</a></div>\\r\\n\\t<div class=\\'list_aut\\'><a href=\\'http://www.textologia.ru/slovari/lingvisticheskie-terminy/determinativ/?q=486&n=2199\\'>Детерминатив</a></div>\\r\\n\\t<div class=\\'list_aut\\'><a href=\\'http://www.textologia.ru/slovari/lingvisticheskie-terminy/defis/?q=486&n=542\\'>Дефис</a></div>\\r\\n\\t<div class=\\'list_aut\\'><a href=\\'http://www.textologia.ru/slovari/lingvisticheskie-terminy/deshifrovka/?q=486&n=2190\\'>Дешифровка</a></div>\\r\\n\\t<div class=\\'list_aut\\'><a href=\\'http://www.textologia.ru/slovari/lingvisticheskie-terminy/deetimologizaciya/?q=486&n=543\\'>Деэтимологизация</a></div>\\r\\n\\t<div class=\\'list_aut\\'><a href=\\'http://www.textologia.ru/slovari/lingvisticheskie-terminy/dzekane/?q=486&n=544\\'>Дзеканье</a></div>\\r\\n\\t<div class=\\'list_aut\\'><a href=\\'http://www.textologia.ru/slovari/lingvisticheskie-terminy/diakriticheskiy--znak/?q=486&n=545\\'>Диакритический  знак</a></div>\\r\\n\\t<div class=\\'list_aut\\'><a href=\\'http://www.textologia.ru/slovari/lingvisticheskie-terminy/dialekt/?q=486&n=546\\'>Диалект</a></div>\\r\\n\\t<div class=\\'list_aut\\'><a href=\\'http://www.textologia.ru/slovari/lingvisticheskie-terminy/dialect-professionalnyj/?q=486&n=2220\\'>Диалект профессиональный</a></div>\\r\\n\\t<div class=\\'list_aut\\'><a href=\\'http://www.textologia.ru/slovari/lingvisticheskie-terminy/dialektizmi-kak-lingvisticheskiy-termin/?q=486&n=547\\'>Диалектизмы (как лингвистический термин)</a></div>\\r\\n\\t<div class=\\'list_aut\\'><a href=\\'http://www.textologia.ru/slovari/lingvisticheskie-terminy/dialektniy-oblastnoy-slovar/?q=486&n=1677\\'>Диалектный (областной) словарь</a></div>\\r\\n\\t<div class=\\'list_aut\\'><a href=\\'http://www.textologia.ru/slovari/lingvisticheskie-terminy/dialektniy-oblastnoy-frazeologicheskiy-slovar/?q=486&n=1678\\'>Диалектный (областной) фразеологический словарь</a></div>\\r\\n\\t<div class=\\'list_aut\\'><a href=\\'http://www.textologia.ru/slovari/lingvisticheskie-terminy/dialektologicheskiy-atlas-russkogo-yazika/?q=486&n=2152\\'>Диалектологический атлас русского языка</a></div>\\r\\n\\t<div class=\\'list_aut\\'><a href=\\'http://www.textologia.ru/slovari/lingvisticheskie-terminy/dialektologiya/?q=486&n=548\\'>Диалектология</a></div>\\r\\n\\t<div class=\\'list_aut\\'><a href=\\'http://www.textologia.ru/slovari/lingvisticheskie-terminy/dialog-kak-lingvisticheskiy-termin/?q=486&n=549\\'>Диалог (как лингвистический термин)</a></div>\\r\\n\\t<div class=\\'list_aut\\'><a href=\\'http://www.textologia.ru/slovari/lingvisticheskie-terminy/dialogicheskaya-rech/?q=486&n=2189\\'>Диалогическая речь</a></div>\\r\\n\\t<div class=\\'list_aut\\'><a href=\\'http://www.textologia.ru/slovari/lingvisticheskie-terminy/diahroniya/?q=486&n=550\\'>Диахрония</a></div>\\r\\n\\t<div class=\\'list_aut\\'><a href=\\'http://www.textologia.ru/slovari/lingvisticheskie-terminy/diereza/?q=486&n=551\\'>Диереза</a></div>\\r\\n\\t<div class=\\'list_aut\\'><a href=\\'http://www.textologia.ru/slovari/lingvisticheskie-terminy/dinamicheskoe-udarenie/?q=486&n=552\\'>Динамическое ударение</a></div>\\r\\n\\t<div class=\\'list_aut\\'><a href=\\'http://www.textologia.ru/slovari/lingvisticheskie-terminy/diskurs/?q=486&n=2188\\'>Дискурс</a></div>\\r\\n\\t<div class=\\'list_aut\\'><a href=\\'http://www.textologia.ru/slovari/lingvisticheskie-terminy/dissimilyaciya/?q=486&n=553\\'>Диссимиляция</a></div>\\r\\n\\t<div class=\\'list_aut\\'><a href=\\'http://www.textologia.ru/slovari/lingvisticheskie-terminy/distantnoe--polozhenie/?q=486&n=554\\'>Дистантное  положение</a></div>\\r\\n\\t<div class=\\'list_aut\\'><a href=\\'http://www.textologia.ru/slovari/lingvisticheskie-terminy/distributivnoe--znachenie/?q=486&n=555\\'>Дистрибутивное  значение</a></div>\\r\\n\\t<div class=\\'list_aut\\'><a href=\\'http://www.textologia.ru/slovari/lingvisticheskie-terminy/distributivniy-metod/?q=486&n=556\\'>Дистрибутивный метод</a></div>\\r\\n\\t<div class=\\'list_aut\\'><a href=\\'http://www.textologia.ru/slovari/lingvisticheskie-terminy/diftong/?q=486&n=557\\'>Дифтонг</a></div>\\r\\n\\t<div class=\\'list_aut\\'><a href=\\'http://www.textologia.ru/slovari/lingvisticheskie-terminy/differencialnie--priznaki-fonem/?q=486&n=558\\'>Дифференциальные  признаки фонем</a></div>\\r\\n\\t<div class=\\'list_aut\\'><a href=\\'http://www.textologia.ru/slovari/lingvisticheskie-terminy/differenciruyuschie-napisaniya/?q=486&n=559\\'>Дифференцирующие написания</a></div>\\r\\n\\t<div class=\\'list_aut\\'><a href=\\'http://www.textologia.ru/slovari/lingvisticheskie-terminy/dlitelnost-zvuka/?q=486&n=560\\'>Длительность звука</a></div>\\r\\n\\t<div class=\\'list_aut\\'><a href=\\'http://www.textologia.ru/slovari/lingvisticheskie-terminy/dlitelnie-soglasnie/?q=486&n=561\\'>Длительные согласные</a></div>\\r\\n\\t<div class=\\'list_aut\\'><a href=\\'http://www.textologia.ru/slovari/lingvisticheskie-terminy/dogon-yazik-dogonov/?q=486&n=2187\\'>Догон (язык догонов)</a></div>\\r\\n\\t<div class=\\'list_aut\\'><a href=\\'http://www.textologia.ru/slovari/lingvisticheskie-terminy/dolgiy-soglasniy/?q=486&n=562\\'>Долгий согласный</a></div>\\r\\n\\t<div class=\\'list_aut\\'><a href=\\'http://www.textologia.ru/slovari/lingvisticheskie-terminy/dolgota-zvuka/?q=486&n=563\\'>Долгота звука</a></div>\\r\\n\\t<div class=\\'list_aut\\'><a href=\\'http://www.textologia.ru/slovari/lingvisticheskie-terminy/dolgotnoe-udarenie/?q=486&n=564\\'>Долготное ударение</a></div>\\r\\n\\t<div class=\\'list_aut\\'><a href=\\'http://www.textologia.ru/slovari/lingvisticheskie-terminy/dominanta/?q=486&n=565\\'>Доминанта</a></div>\\r\\n\\t<div class=\\'list_aut\\'><a href=\\'http://www.textologia.ru/slovari/lingvisticheskie-terminy/dopolnenie/?q=486&n=566\\'>Дополнение</a></div>\\r\\n\\t<div class=\\'list_aut\\'><a href=\\'http://www.textologia.ru/slovari/lingvisticheskie-terminy/dorsalnie-soglasnie/?q=486&n=567\\'>Дорсальные согласные</a></div>\\r\\n\\t<div class=\\'list_aut\\'><a href=\\'http://www.textologia.ru/slovari/lingvisticheskie-terminy/dostigatelnoe-naklonenie/?q=486&n=568\\'>Достигательное наклонение</a></div>\\r\\n\\t<div class=\\'list_aut\\'><a href=\\'http://www.textologia.ru/slovari/lingvisticheskie-terminy/dravidskie-yaziki/?q=486&n=569\\'>Дравидские языки</a></div>\\r\\n\\t<div class=\\'list_aut\\'><a href=\\'http://www.textologia.ru/slovari/lingvisticheskie-terminy/drevneegipetskiy-yazik/?q=486&n=2186\\'>Древнеегипетский язык</a></div>\\r\\n\\t<div class=\\'list_aut\\'><a href=\\'http://www.textologia.ru/slovari/lingvisticheskie-terminy/drevnepersidskiy-yazik/?q=486&n=2185\\'>Древнеперсидский язык</a></div>\\r\\n\\t<div class=\\'list_aut\\'><a href=\\'http://www.textologia.ru/slovari/lingvisticheskie-terminy/drevnerusskiy-yazik/?q=486&n=2153\\'>Древнерусский язык</a></div>\\r\\n\\t<div class=\\'list_aut\\'><a href=\\'http://www.textologia.ru/slovari/lingvisticheskie-terminy/drevnetyurkskie-yaziki/?q=486&n=2184\\'>Древнетюркские языки</a></div>\\r\\n\\t<div class=\\'list_aut\\'><a href=\\'http://www.textologia.ru/slovari/lingvisticheskie-terminy/drozhaschie-soglasnie-vibranti/?q=486&n=570\\'>Дрожащие согласные (вибранты)</a></div>\\r\\n\\t<div class=\\'list_aut\\'><a href=\\'http://www.textologia.ru/slovari/lingvisticheskie-terminy/dubleti/?q=486&n=571\\'>Дублеты</a></div>\\r\\n\\t<div class=\\'list_aut\\'><a href=\\'http://www.textologia.ru/slovari/lingvisticheskie-terminy/dunganskiy-yazik/?q=486&n=2306\\'>Дунганский язык</a></div>\\r\\n\\t<div class=\\'list_aut\\'><a href=\\'http://www.textologia.ru/slovari/lingvisticheskie-terminy/dihatelnaya-gruppa/?q=486&n=572\\'>Дыхательная группа</a></div>\\r\\n\\t<div style=\"margin: 7px 0 5px 0;\"><b>Е</b></div><div class=\\'list_aut\\'><a href=\\'http://www.textologia.ru/slovari/lingvisticheskie-terminy/edinica-yazika-yazikovaya-edinica/?q=486&n=573\\'>Единица языка, языковая единица</a></div>\\r\\n\\t<div class=\\'list_aut\\'><a href=\\'http://www.textologia.ru/slovari/lingvisticheskie-terminy/edinstvennoe-chislo/?q=486&n=574\\'>Единственное число</a></div>\\r\\n\\t<div class=\\'list_aut\\'><a href=\\'http://www.textologia.ru/slovari/lingvisticheskie-terminy/ekane/?q=486&n=575\\'>Еканье</a></div>\\r\\n\\t<div class=\\'list_aut\\'><a href=\\'http://www.textologia.ru/slovari/lingvisticheskie-terminy/ekane/?q=486&n=576\\'>Еканье (Ёканье)</a></div>\\r\\n\\t<div class=\\'list_aut\\'><a href=\\'http://www.textologia.ru/slovari/lingvisticheskie-terminy/er/?q=486&n=577\\'>Ер</a></div>\\r\\n\\t<div class=\\'list_aut\\'><a href=\\'http://www.textologia.ru/slovari/lingvisticheskie-terminy/eri/?q=486&n=578\\'>Еры</a></div>\\r\\n\\t<div class=\\'list_aut\\'><a href=\\'http://www.textologia.ru/slovari/lingvisticheskie-terminy/er/?q=486&n=579\\'>Ерь</a></div>\\r\\n\\t<div class=\\'list_aut\\'><a href=\\'http://www.textologia.ru/slovari/lingvisticheskie-terminy/estestvenniy-yazik/?q=486&n=580\\'>Естественный язык</a></div>\\r\\n\\t<div style=\"margin: 7px 0 5px 0;\"><b>Ж</b></div><div class=\\'list_aut\\'><a href=\\'http://www.textologia.ru/slovari/lingvisticheskie-terminy/zhargon/?q=486&n=581\\'>Жаргон</a></div>\\r\\n\\t<div class=\\'list_aut\\'><a href=\\'http://www.textologia.ru/slovari/lingvisticheskie-terminy/zhe-yaziki/?q=486&n=2307\\'>Же языки</a></div>\\r\\n\\t<div class=\\'list_aut\\'><a href=\\'http://www.textologia.ru/slovari/lingvisticheskie-terminy/zhelatelnoe-naklonenie/?q=486&n=582\\'>Желательное наклонение</a></div>\\r\\n\\t<div class=\\'list_aut\\'><a href=\\'http://www.textologia.ru/slovari/lingvisticheskie-terminy/zhenskiy-rod/?q=486&n=583\\'>Женский род</a></div>\\r\\n\\t<div style=\"margin: 7px 0 5px 0;\"><b>З</b></div><div class=\\'list_aut\\'><a href=\\'http://www.textologia.ru/slovari/lingvisticheskie-terminy/zavisimiy-sostav/?q=486&n=584\\'>Зависимый состав</a></div>\\r\\n\\t<div class=\\'list_aut\\'><a href=\\'http://www.textologia.ru/slovari/lingvisticheskie-terminy/zadnenebnie-soglasnie/?q=486&n=585\\'>Задненёбные согласные</a></div>\\r\\n\\t<div class=\\'list_aut\\'><a href=\\'http://www.textologia.ru/slovari/lingvisticheskie-terminy/zakon-otkritih-slogov/?q=486&n=586\\'>Закон открытых слогов</a></div>\\r\\n\\t<div class=\\'list_aut\\'><a href=\\'http://www.textologia.ru/slovari/lingvisticheskie-terminy/zakritie-strukturi/?q=486&n=587\\'>Закрытые структуры</a></div>\\r\\n\\t<div class=\\'list_aut\\'><a href=\\'http://www.textologia.ru/slovari/lingvisticheskie-terminy/zakritiy-glasniy/?q=486&n=588\\'>Закрытый гласный</a></div>\\r\\n\\t<div class=\\'list_aut\\'><a href=\\'http://www.textologia.ru/slovari/lingvisticheskie-terminy/zakritiy-slovesniy-ryad/?q=486&n=589\\'>Закрытый словесный ряд</a></div>\\r\\n\\t<div class=\\'list_aut\\'><a href=\\'http://www.textologia.ru/slovari/lingvisticheskie-terminy/zakritiy-slog/?q=486&n=590\\'>Закрытый слог</a></div>\\r\\n\\t<div class=\\'list_aut\\'><a href=\\'http://www.textologia.ru/slovari/lingvisticheskie-terminy/zalog-glagola/?q=486&n=591\\'>Залог глагола</a></div>\\r\\n\\t<div class=\\'list_aut\\'><a href=\\'http://www.textologia.ru/slovari/lingvisticheskie-terminy/zapadnoslavyanskie-yaziki/?q=486&n=2158\\'>Западнославянские языки</a></div>\\r\\n\\t<div class=\\'list_aut\\'><a href=\\'http://www.textologia.ru/slovari/lingvisticheskie-terminy/zapyataya/?q=486&n=592\\'>Запятая</a></div>\\r\\n\\t<div class=\\'list_aut\\'><a href=\\'http://www.textologia.ru/slovari/lingvisticheskie-terminy/zatvor/?q=486&n=593\\'>Затвор</a></div>\\r\\n\\t<div class=\\'list_aut\\'><a href=\\'http://www.textologia.ru/slovari/lingvisticheskie-terminy/zatvornie-soglasnie/?q=486&n=594\\'>Затворные согласные</a></div>\\r\\n\\t<div class=\\'list_aut\\'><a href=\\'http://www.textologia.ru/slovari/lingvisticheskie-terminy/zaudarniy/?q=486&n=595\\'>Заударный</a></div>\\r\\n\\t<div class=\\'list_aut\\'><a href=\\'http://www.textologia.ru/slovari/lingvisticheskie-terminy/zvonkie-soglasnie/?q=486&n=596\\'>Звонкие согласные</a></div>\\r\\n\\t<div class=\\'list_aut\\'><a href=\\'http://www.textologia.ru/slovari/lingvisticheskie-terminy/zvuk-rechi/?q=486&n=597\\'>Звук речи</a></div>\\r\\n\\t<div class=\\'list_aut\\'><a href=\\'http://www.textologia.ru/slovari/lingvisticheskie-terminy/zvukovaya-abbreviatura/?q=486&n=598\\'>Звуковая аббревиатура</a></div>\\r\\n\\t<div class=\\'list_aut\\'><a href=\\'http://www.textologia.ru/slovari/lingvisticheskie-terminy/zvukovoe-pismo/?q=486&n=599\\'>Звуковое письмо</a></div>\\r\\n\\t<div class=\\'list_aut\\'><a href=\\'http://www.textologia.ru/slovari/lingvisticheskie-terminy/zvukopis/?q=486&n=600\\'>Звукопись</a></div>\\r\\n\\t<div class=\\'list_aut\\'><a href=\\'http://www.textologia.ru/slovari/lingvisticheskie-terminy/zvukopodrazhatelnie-slova/?q=486&n=601\\'>Звукоподражательные слова</a></div>\\r\\n\\t<div class=\\'list_aut\\'><a href=\\'http://www.textologia.ru/slovari/lingvisticheskie-terminy/zenetskie-yaziki/?q=486&n=2315\\'>Зенетские языки</a></div>\\r\\n\\t<div class=\\'list_aut\\'><a href=\\'http://www.textologia.ru/slovari/lingvisticheskie-terminy/ziyanie/?q=486&n=602\\'>Зияние</a></div>\\r\\n\\t<div class=\\'list_aut\\'><a href=\\'http://www.textologia.ru/slovari/lingvisticheskie-terminy/znak-perenosa/?q=486&n=603\\'>Знак переноса</a></div>\\r\\n\\t<div class=\\'list_aut\\'><a href=\\'http://www.textologia.ru/slovari/lingvisticheskie-terminy/znaki-prepinaniya/?q=486&n=604\\'>Знаки препинания</a></div>\\r\\n\\t<div class=\\'list_aut\\'><a href=\\'http://www.textologia.ru/slovari/lingvisticheskie-terminy/znakovaya-teoriya-yazika/?q=486&n=605\\'>Знаковая теория языка</a></div>\\r\\n\\t<div class=\\'list_aut\\'><a href=\\'http://www.textologia.ru/slovari/lingvisticheskie-terminy/znamenatelnaya-svyazka/?q=486&n=606\\'>Знаменательная связка</a></div>\\r\\n\\t<div class=\\'list_aut\\'><a href=\\'http://www.textologia.ru/slovari/lingvisticheskie-terminy/znamenatelnie-polnoznachnie-samostoyatelnie-slova/?q=486&n=607\\'>Знаменательные (полнозначные, самостоятельные) слова</a></div>\\r\\n\\t<div class=\\'list_aut\\'><a href=\\'http://www.textologia.ru/slovari/lingvisticheskie-terminy/znamenatelnie-chasti-rechi/?q=486&n=608\\'>Знаменательные части речи</a></div>\\r\\n\\t<div class=\\'list_aut\\'><a href=\\'http://www.textologia.ru/slovari/lingvisticheskie-terminy/znachenie-slova/?q=486&n=609\\'>Значение слова</a></div>\\r\\n\\t<div class=\\'list_aut\\'><a href=\\'http://www.textologia.ru/slovari/lingvisticheskie-terminy/znacheniya-glagolov/?q=486&n=610\\'>Значения глаголов</a></div>\\r\\n\\t<div class=\\'list_aut\\'><a href=\\'http://www.textologia.ru/slovari/lingvisticheskie-terminy/zubnie-soglasnie/?q=486&n=611\\'>Зубные согласные</a></div>\\r\\n\\t<div style=\"margin: 7px 0 5px 0;\"><b>И</b></div><div class=\\'list_aut\\'><a href=\\'http://www.textologia.ru/slovari/lingvisticheskie-terminy/i-neslogovoe/?q=486&n=612\\'>И неслоговое</a></div>\\r\\n\\t<div class=\\'list_aut\\'><a href=\\'http://www.textologia.ru/slovari/lingvisticheskie-terminy/iberiysko-kavkazskie-yaziki/?q=486&n=613\\'>Иберийско-кавказские языки</a></div>\\r\\n\\t<div class=\\'list_aut\\'><a href=\\'http://www.textologia.ru/slovari/lingvisticheskie-terminy/ideogramma/?q=486&n=614\\'>Идеограмма</a></div>\\r\\n\\t<div class=\\'list_aut\\'><a href=\\'http://www.textologia.ru/slovari/lingvisticheskie-terminy/ideograficheskie-sinonimi/?q=486&n=615\\'>Идеографические синонимы</a></div>\\r\\n\\t<div class=\\'list_aut\\'><a href=\\'http://www.textologia.ru/slovari/lingvisticheskie-terminy/ideograficheskoe-pismo/?q=486&n=616\\'>Идеографическое письмо</a></div>\\r\\n\\t<div class=\\'list_aut\\'><a href=\\'http://www.textologia.ru/slovari/lingvisticheskie-terminy/idioma/?q=486&n=617\\'>Идиома</a></div>\\r\\n\\t<div class=\\'list_aut\\'><a href=\\'http://www.textologia.ru/slovari/lingvisticheskie-terminy/idiomatika/?q=486&n=618\\'>Идиоматика</a></div>\\r\\n\\t<div class=\\'list_aut\\'><a href=\\'http://www.textologia.ru/slovari/lingvisticheskie-terminy/idiomatkcheskoe-virazhenie/?q=486&n=619\\'>Идиоматкческое выражение</a></div>\\r\\n\\t<div class=\\'list_aut\\'><a href=\\'http://www.textologia.ru/slovari/lingvisticheskie-terminy/ido/?q=486&n=620\\'>Идо</a></div>\\r\\n\\t<div class=\\'list_aut\\'><a href=\\'http://www.textologia.ru/slovari/lingvisticheskie-terminy/ieroglificheskoe-pismo/?q=486&n=621\\'>Иероглифическое письмо</a></div>\\r\\n\\t<div class=\\'list_aut\\'><a href=\\'http://www.textologia.ru/slovari/lingvisticheskie-terminy/ieroglifi/?q=486&n=622\\'>Иероглифы</a></div>\\r\\n\\t<div class=\\'list_aut\\'><a href=\\'http://www.textologia.ru/slovari/lingvisticheskie-terminy/izmenyaemie-chasti-rechi/?q=486&n=623\\'>Изменяемые части речи</a></div>\\r\\n\\t<div class=\\'list_aut\\'><a href=\\'http://www.textologia.ru/slovari/lingvisticheskie-terminy/izobiluyuschie-glagoli/?q=486&n=624\\'>Изобилующие глаголы</a></div>\\r\\n\\t<div class=\\'list_aut\\'><a href=\\'http://www.textologia.ru/slovari/lingvisticheskie-terminy/izoglossa/?q=486&n=625\\'>Изоглосса</a></div>\\r\\n\\t<div class=\\'list_aut\\'><a href=\\'http://www.textologia.ru/slovari/lingvisticheskie-terminy/izoliruyuschie-yaziki/?q=486&n=626\\'>Изолирующие языки</a></div>\\r\\n\\t<div class=\\'list_aut\\'><a href=\\'http://www.textologia.ru/slovari/lingvisticheskie-terminy/izyavitelnoe-naklonenie/?q=486&n=627\\'>Изъявительное наклонение</a></div>\\r\\n\\t<div class=\\'list_aut\\'><a href=\\'http://www.textologia.ru/slovari/lingvisticheskie-terminy/izyasnitelnie-soyuzi/?q=486&n=628\\'>Изъяснительные союзы</a></div>\\r\\n\\t<div class=\\'list_aut\\'><a href=\\'http://www.textologia.ru/slovari/lingvisticheskie-terminy/ikane/?q=486&n=629\\'>Иканье</a></div>\\r\\n\\t<div class=\\'list_aut\\'><a href=\\'http://www.textologia.ru/slovari/lingvisticheskie-terminy/imenitelniy-padezh/?q=486&n=630\\'>Именительный падеж</a></div>\\r\\n\\t<div class=\\'list_aut\\'><a href=\\'http://www.textologia.ru/slovari/lingvisticheskie-terminy/imennaya-nelichnaya-forma-glagola/?q=486&n=631\\'>Именная (неличная) форма глагола</a></div>\\r\\n\\t<div class=\\'list_aut\\'><a href=\\'http://www.textologia.ru/slovari/lingvisticheskie-terminy/imennaya-forma-prilagatelnih/?q=486&n=632\\'>Именная форма прилагательных</a></div>\\r\\n\\t<div class=\\'list_aut\\'><a href=\\'http://www.textologia.ru/slovari/lingvisticheskie-terminy/imennaya-chast-sostavnogo-skazuemogo/?q=486&n=633\\'>Именная часть составного сказуемого</a></div>\\r\\n\\t<div class=\\'list_aut\\'><a href=\\'http://www.textologia.ru/slovari/lingvisticheskie-terminy/imennoe-skazuemoe/?q=486&n=634\\'>Именное сказуемое</a></div>\\r\\n\\t<div class=\\'list_aut\\'><a href=\\'http://www.textologia.ru/slovari/lingvisticheskie-terminy/imennoe-sklonenie/?q=486&n=635\\'>Именное склонение</a></div>\\r\\n\\t<div class=\\'list_aut\\'><a href=\\'http://www.textologia.ru/slovari/lingvisticheskie-terminy/imperativ/?q=486&n=636\\'>Императив</a></div>\\r\\n\\t<div class=\\'list_aut\\'><a href=\\'http://www.textologia.ru/slovari/lingvisticheskie-terminy/imperativnoe-predlozhenie/?q=486&n=637\\'>Императивное предложение</a></div>\\r\\n\\t<div class=\\'list_aut\\'><a href=\\'http://www.textologia.ru/slovari/lingvisticheskie-terminy/imperativnie-mezhdometiya/?q=486&n=638\\'>Императивные междометия</a></div>\\r\\n\\t<div class=\\'list_aut\\'><a href=\\'http://www.textologia.ru/slovari/lingvisticheskie-terminy/imperfekt/?q=486&n=639\\'>Имперфект</a></div>\\r\\n\\t<div class=\\'list_aut\\'><a href=\\'http://www.textologia.ru/slovari/lingvisticheskie-terminy/imperfektivaciya/?q=486&n=640\\'>Имперфективация</a></div>\\r\\n\\t<div class=\\'list_aut\\'><a href=\\'http://www.textologia.ru/slovari/lingvisticheskie-terminy/implicitniy/?q=486&n=641\\'>Имплицитный</a></div>\\r\\n\\t<div class=\\'list_aut\\'><a href=\\'http://www.textologia.ru/slovari/lingvisticheskie-terminy/imya/?q=486&n=642\\'>Имя</a></div>\\r\\n\\t<div class=\\'list_aut\\'><a href=\\'http://www.textologia.ru/slovari/lingvisticheskie-terminy/imya-prilagatelnoe/?q=486&n=643\\'>Имя прилагательное</a></div>\\r\\n\\t<div class=\\'list_aut\\'><a href=\\'http://www.textologia.ru/slovari/lingvisticheskie-terminy/imya-suschestvitelnoe/?q=486&n=644\\'>Имя существительное</a></div>\\r\\n\\t<div class=\\'list_aut\\'><a href=\\'http://www.textologia.ru/slovari/lingvisticheskie-terminy/imya-chislitelnoe/?q=486&n=645\\'>Имя числительное</a></div>\\r\\n\\t<div class=\\'list_aut\\'><a href=\\'http://www.textologia.ru/slovari/lingvisticheskie-terminy/invariant/?q=486&n=646\\'>Инвариант</a></div>\\r\\n\\t<div class=\\'list_aut\\'><a href=\\'http://www.textologia.ru/slovari/lingvisticheskie-terminy/inversiya/?q=486&n=647\\'>Инверсия</a></div>\\r\\n\\t<div class=\\'list_aut\\'><a href=\\'http://www.textologia.ru/slovari/lingvisticheskie-terminy/ingressivnie-glagoli/?q=486&n=648\\'>Ингрессивные глаголы</a></div>\\r\\n\\t<div class=\\'list_aut\\'><a href=\\'http://www.textologia.ru/slovari/lingvisticheskie-terminy/indikativ/?q=486&n=649\\'>Индикатив</a></div>\\r\\n\\t<div class=\\'list_aut\\'><a href=\\'http://www.textologia.ru/slovari/lingvisticheskie-terminy/indoevropeyskie-yaziki/?q=486&n=650\\'>Индоевропейские языки</a></div>\\r\\n\\t<div class=\\'list_aut\\'><a href=\\'http://www.textologia.ru/slovari/lingvisticheskie-terminy/inkorporaciya/?q=486&n=651\\'>Инкорпорация</a></div>\\r\\n\\t<div class=\\'list_aut\\'><a href=\\'http://www.textologia.ru/slovari/lingvisticheskie-terminy/inkorporiruyuschie-polisinteticheskie-yaziki/?q=486&n=652\\'>Инкорпорирующие языки (полисинтетические)</a></div>\\r\\n\\t<div class=\\'list_aut\\'><a href=\\'http://www.textologia.ru/slovari/lingvisticheskie-terminy/inostrannie-slova/?q=486&n=653\\'>Иностранные слова</a></div>\\r\\n\\t<div class=\\'list_aut\\'><a href=\\'http://www.textologia.ru/slovari/lingvisticheskie-terminy/inoyazichnie-slova/?q=486&n=654\\'>Иноязычные слова</a></div>\\r\\n\\t<div class=\\'list_aut\\'><a href=\\'http://www.textologia.ru/slovari/lingvisticheskie-terminy/intensivnost-rechi/?q=486&n=655\\'>Интенсивность речи</a></div>\\r\\n\\t<div class=\\'list_aut\\'><a href=\\'http://www.textologia.ru/slovari/lingvisticheskie-terminy/intervokalniy-soglasniy/?q=486&n=656\\'>Интервокальный согласный</a></div>\\r\\n\\t<div class=\\'list_aut\\'><a href=\\'http://www.textologia.ru/slovari/lingvisticheskie-terminy/interdentalnie-soglasnie/?q=486&n=657\\'>Интердентальные согласные</a></div>\\r\\n\\t<div class=\\'list_aut\\'><a href=\\'http://www.textologia.ru/slovari/lingvisticheskie-terminy/interlingva/?q=486&n=658\\'>Интерлингва</a></div>\\r\\n\\t<div class=\\'list_aut\\'><a href=\\'http://www.textologia.ru/slovari/lingvisticheskie-terminy/internacionalnaya-leksika/?q=486&n=659\\'>Интернациональная лексика</a></div>\\r\\n\\t<div class=\\'list_aut\\'><a href=\\'http://www.textologia.ru/slovari/lingvisticheskie-terminy/interpoziciya/?q=486&n=660\\'>Интерпозиция</a></div>\\r\\n\\t<div class=\\'list_aut\\'><a href=\\'http://www.textologia.ru/slovari/lingvisticheskie-terminy/interferenciya/?q=486&n=661\\'>Интерференция</a></div>\\r\\n\\t<div class=\\'list_aut\\'><a href=\\'http://www.textologia.ru/slovari/lingvisticheskie-terminy/interfiks/?q=486&n=662\\'>Интерфикс</a></div>\\r\\n\\t<div class=\\'list_aut\\'><a href=\\'http://www.textologia.ru/slovari/lingvisticheskie-terminy/interfiksaciya/?q=486&n=663\\'>Интерфиксация</a></div>\\r\\n\\t<div class=\\'list_aut\\'><a href=\\'http://www.textologia.ru/slovari/lingvisticheskie-terminy/interektivaciya/?q=486&n=664\\'>Интеръективация</a></div>\\r\\n\\t<div class=\\'list_aut\\'><a href=\\'http://www.textologia.ru/slovari/lingvisticheskie-terminy/intonatsionnoe-tire/?q=486&n=2138\\'>Интонационное тире</a></div>\\r\\n\\t<div class=\\'list_aut\\'><a href=\\'http://www.textologia.ru/slovari/lingvisticheskie-terminy/intonaciya/?q=486&n=665\\'>Интонация</a></div>\\r\\n\\t<div class=\\'list_aut\\'><a href=\\'http://www.textologia.ru/slovari/lingvisticheskie-terminy/intonirovanie/?q=486&n=666\\'>Интонирование</a></div>\\r\\n\\t<div class=\\'list_aut\\'><a href=\\'http://www.textologia.ru/slovari/lingvisticheskie-terminy/intranzitivniy-glagol/?q=486&n=667\\'>Интранзитивный глагол</a></div>\\r\\n\\t<div class=\\'list_aut\\'><a href=\\'http://www.textologia.ru/slovari/lingvisticheskie-terminy/infiks/?q=486&n=668\\'>Инфикс</a></div>\\r\\n\\t<div class=\\'list_aut\\'><a href=\\'http://www.textologia.ru/slovari/lingvisticheskie-terminy/infinitiv/?q=486&n=669\\'>Инфинитив</a></div>\\r\\n\\t<div class=\\'list_aut\\'><a href=\\'http://www.textologia.ru/slovari/lingvisticheskie-terminy/infinitivnoe-predlozhenie/?q=486&n=670\\'>Инфинитивное предложение</a></div>\\r\\n\\t<div class=\\'list_aut\\'><a href=\\'http://www.textologia.ru/slovari/lingvisticheskie-terminy/infinitivniy-oborot/?q=486&n=671\\'>Инфинитивный оборот</a></div>\\r\\n\\t<div class=\\'list_aut\\'><a href=\\'http://www.textologia.ru/slovari/lingvisticheskie-terminy/informaciya/?q=486&n=672\\'>Информация</a></div>\\r\\n\\t<div class=\\'list_aut\\'><a href=\\'http://www.textologia.ru/slovari/lingvisticheskie-terminy/inhoativnie-ingressivnie-glagoli/?q=486&n=673\\'>Инхоативные (ингрессивные) глаголы</a></div>\\r\\n\\t<div class=\\'list_aut\\'><a href=\\'http://www.textologia.ru/slovari/lingvisticheskie-terminy/isklyuchenie/?q=486&n=674\\'>Исключение</a></div>\\r\\n\\t<div class=\\'list_aut\\'><a href=\\'http://www.textologia.ru/slovari/lingvisticheskie-terminy/iskonnoe-slovo/?q=486&n=675\\'>Исконное слово</a></div>\\r\\n\\t<div class=\\'list_aut\\'><a href=\\'http://www.textologia.ru/slovari/lingvisticheskie-terminy/iskusstvennie-yaziki/?q=486&n=676\\'>Искусственные языки</a></div>\\r\\n\\t<div class=\\'list_aut\\'><a href=\\'http://www.textologia.ru/slovari/lingvisticheskie-terminy/istorizmi/?q=486&n=677\\'>Историзмы</a></div>\\r\\n\\t<div class=\\'list_aut\\'><a href=\\'http://www.textologia.ru/slovari/lingvisticheskie-terminy/istoricheskie-cheredovaniya-zvukov/?q=486&n=678\\'>Исторические чередования звуков</a></div>\\r\\n\\t<div class=\\'list_aut\\'><a href=\\'http://www.textologia.ru/slovari/lingvisticheskie-terminy/istoricheskiy-slovar/?q=486&n=1679\\'>Исторический словарь</a></div>\\r\\n\\t<div class=\\'list_aut\\'><a href=\\'http://www.textologia.ru/slovari/lingvisticheskie-terminy/itelmenskiy-yazik/?q=486&n=2308\\'>Ительменский язык</a></div>\\r\\n\\t<div class=\\'list_aut\\'><a href=\\'http://www.textologia.ru/slovari/lingvisticheskie-terminy/iterativnie--glagoli-iterativi/?q=486&n=679\\'>Итеративные  глаголы (итеративы)</a></div>\\r\\n\\t<div style=\"margin: 7px 0 5px 0;\"><b>Й</b></div><div class=\\'list_aut\\'><a href=\\'http://www.textologia.ru/slovari/lingvisticheskie-terminy/yot/?q=486&n=680\\'>Йот</a></div>\\r\\n\\t<div class=\\'list_aut\\'><a href=\\'http://www.textologia.ru/slovari/lingvisticheskie-terminy/yota/?q=486&n=681\\'>Йота</a></div>\\r\\n\\t<div class=\\'list_aut\\'><a href=\\'http://www.textologia.ru/slovari/lingvisticheskie-terminy/yotaciya/?q=486&n=682\\'>Йотация</a></div>\\r\\n\\t<div class=\\'list_aut\\'><a href=\\'http://www.textologia.ru/slovari/lingvisticheskie-terminy/yotirovannie-yotovannie-glasnie/?q=486&n=683\\'>Йотированные (йотованные) гласные</a></div>\\r\\n\\t<div style=\"margin: 7px 0 5px 0;\"><b>К</b></div><div class=\\'list_aut\\'><a href=\\'http://www.textologia.ru/slovari/lingvisticheskie-terminy/kavkazovedenie/?q=486&n=2270\\'>Кавказоведение</a></div>\\r\\n\\t<div class=\\'list_aut\\'><a href=\\'http://www.textologia.ru/slovari/lingvisticheskie-terminy/kavichki/?q=486&n=684\\'>Кавычки</a></div>\\r\\n\\t<div class=\\'list_aut\\'><a href=\\'http://www.textologia.ru/slovari/lingvisticheskie-terminy/kadayskie-yaziki/?q=486&n=2269\\'>Кадайские языки</a></div>\\r\\n\\t<div class=\\'list_aut\\'><a href=\\'http://www.textologia.ru/slovari/lingvisticheskie-terminy/kayli-pamona-yaziki/?q=486&n=2268\\'>Кайли-памона языки</a></div>\\r\\n\\t<div class=\\'list_aut\\'><a href=\\'http://www.textologia.ru/slovari/lingvisticheskie-terminy/kakografiya/?q=486&n=685\\'>Какография</a></div>\\r\\n\\t<div class=\\'list_aut\\'><a href=\\'http://www.textologia.ru/slovari/lingvisticheskie-terminy/kakofoniya/?q=486&n=686\\'>Какофония</a></div>\\r\\n\\t<div class=\\'list_aut\\'><a href=\\'http://www.textologia.ru/slovari/lingvisticheskie-terminy/kalligrafiya/?q=486&n=687\\'>Каллиграфия</a></div>\\r\\n\\t<div class=\\'list_aut\\'><a href=\\'http://www.textologia.ru/slovari/lingvisticheskie-terminy/kalka/?q=486&n=688\\'>Калька</a></div>\\r\\n\\t<div class=\\'list_aut\\'><a href=\\'http://www.textologia.ru/slovari/lingvisticheskie-terminy/kalkirovanie/?q=486&n=689\\'>Калькирование</a></div>\\r\\n\\t<div class=\\'list_aut\\'><a href=\\'http://www.textologia.ru/slovari/lingvisticheskie-terminy/karaimskiy-yazik/?q=486&n=2267\\'>Караимский язык</a></div>\\r\\n\\t<div class=\\'list_aut\\'><a href=\\'http://www.textologia.ru/slovari/lingvisticheskie-terminy/karelskiy-yazik/?q=486&n=2266\\'>Карельский язык</a></div>\\r\\n\\t<div class=\\'list_aut\\'><a href=\\'http://www.textologia.ru/slovari/lingvisticheskie-terminy/karibskie-yaziki/?q=486&n=2265\\'>Карибские языки</a></div>\\r\\n\\t<div class=\\'list_aut\\'><a href=\\'http://www.textologia.ru/slovari/lingvisticheskie-terminy/katahreza/?q=486&n=690\\'>Катахреза</a></div>\\r\\n\\t<div class=\\'list_aut\\'><a href=\\'http://www.textologia.ru/slovari/lingvisticheskie-terminy/kategorialnoe-znachenie/?q=486&n=691\\'>Категориальное значение</a></div>\\r\\n\\t<div class=\\'list_aut\\'><a href=\\'http://www.textologia.ru/slovari/lingvisticheskie-terminy/kategoriya-sostoyaniya/?q=486&n=692\\'>Категория состояния</a></div>\\r\\n\\t<div class=\\'list_aut\\'><a href=\\'http://www.textologia.ru/slovari/lingvisticheskie-terminy/kategoriya-subektivnoy-ocenki/?q=486&n=693\\'>Категория субъективной оценки</a></div>\\r\\n\\t<div class=\\'list_aut\\'><a href=\\'http://www.textologia.ru/slovari/lingvisticheskie-terminy/kategoriya-chisla/?q=486&n=694\\'>Категория числа</a></div>\\r\\n\\t<div class=\\'list_aut\\'><a href=\\'http://www.textologia.ru/slovari/lingvisticheskie-terminy/kategoriya-yazikovaya/?q=486&n=2195\\'>Категория языковая</a></div>\\r\\n\\t<div class=\\'list_aut\\'><a href=\\'http://www.textologia.ru/slovari/lingvisticheskie-terminy/kauzativnie-glagoli-kauzativi/?q=486&n=695\\'>Каузативные глаголы (каузативы)</a></div>\\r\\n\\t<div class=\\'list_aut\\'><a href=\\'http://www.textologia.ru/slovari/lingvisticheskie-terminy/kachestvennie-prilagatelnie/?q=486&n=696\\'>Качественные прилагательные</a></div>\\r\\n\\t<div class=\\'list_aut\\'><a href=\\'http://www.textologia.ru/slovari/lingvisticheskie-terminy/kva-yaziki/?q=486&n=2264\\'>Ква языки</a></div>\\r\\n\\t<div class=\\'list_aut\\'><a href=\\'http://www.textologia.ru/slovari/lingvisticheskie-terminy/kvazialfavitnoe-pismo/?q=486&n=2263\\'>Квазиалфавитное письмо</a></div>\\r\\n\\t<div class=\\'list_aut\\'><a href=\\'http://www.textologia.ru/slovari/lingvisticheskie-terminy/kvantitativnoe-udarenie/?q=486&n=697\\'>Квантитативное ударение</a></div>\\r\\n\\t<div class=\\'list_aut\\'><a href=\\'http://www.textologia.ru/slovari/lingvisticheskie-terminy/keltologiya/?q=486&n=2262\\'>Кельтология</a></div>\\r\\n\\t<div class=\\'list_aut\\'><a href=\\'http://www.textologia.ru/slovari/lingvisticheskie-terminy/keltskie-yaziki/?q=486&n=698\\'>Кельтские языки</a></div>\\r\\n\\t<div class=\\'list_aut\\'><a href=\\'http://www.textologia.ru/slovari/lingvisticheskie-terminy/kechua/?q=486&n=2261\\'>Кечуа</a></div>\\r\\n\\t<div class=\\'list_aut\\'><a href=\\'http://www.textologia.ru/slovari/lingvisticheskie-terminy/kidanskiy-yazik/?q=486&n=2260\\'>Киданьский язык</a></div>\\r\\n\\t<div class=\\'list_aut\\'><a href=\\'http://www.textologia.ru/slovari/lingvisticheskie-terminy/kinema/?q=486&n=699\\'>Кинема</a></div>\\r\\n\\t<div class=\\'list_aut\\'><a href=\\'http://www.textologia.ru/slovari/lingvisticheskie-terminy/kinestezii--rechevie/?q=486&n=700\\'>Кинестезии  речевые</a></div>\\r\\n\\t<div class=\\'list_aut\\'><a href=\\'http://www.textologia.ru/slovari/lingvisticheskie-terminy/kineticheskaya-rech/?q=486&n=701\\'>Кинетическая речь</a></div>\\r\\n\\t<div class=\\'list_aut\\'><a href=\\'http://www.textologia.ru/slovari/lingvisticheskie-terminy/kipu/?q=486&n=2302\\'>Кипу</a></div>\\r\\n\\t<div class=\\'list_aut\\'><a href=\\'http://www.textologia.ru/slovari/lingvisticheskie-terminy/kirillica/?q=486&n=702\\'>Кириллица</a></div>\\r\\n\\t<div class=\\'list_aut\\'><a href=\\'http://www.textologia.ru/slovari/lingvisticheskie-terminy/kitayskaya-yazikovedcheskaya-tradiciya/?q=486&n=2259\\'>Китайская языковедческая традиция</a></div>\\r\\n\\t<div class=\\'list_aut\\'><a href=\\'http://www.textologia.ru/slovari/lingvisticheskie-terminy/kitaysko-tibetekie-yaziki/?q=486&n=703\\'>Китайско-тибетекие языки</a></div>\\r\\n\\t<div class=\\'list_aut\\'><a href=\\'http://www.textologia.ru/slovari/lingvisticheskie-terminy/klassifikaciya-predlozheniy/?q=486&n=704\\'>Классификация предложений</a></div>\\r\\n\\t<div class=\\'list_aut\\'><a href=\\'http://www.textologia.ru/slovari/lingvisticheskie-terminy/klassifikaciya-yazikov/?q=486&n=705\\'>Классификация языков</a></div>\\r\\n\\t<div class=\\'list_aut\\'><a href=\\'http://www.textologia.ru/slovari/lingvisticheskie-terminy/klassi-glagolov/?q=486&n=706\\'>Классы глаголов</a></div>\\r\\n\\t<div class=\\'list_aut\\'><a href=\\'http://www.textologia.ru/slovari/lingvisticheskie-terminy/klinopis/?q=486&n=707\\'>Клинопись</a></div>\\r\\n\\t<div class=\\'list_aut\\'><a href=\\'http://www.textologia.ru/slovari/lingvisticheskie-terminy/klishe/?q=486&n=708\\'>Клише</a></div>\\r\\n\\t<div class=\\'list_aut\\'><a href=\\'http://www.textologia.ru/slovari/lingvisticheskie-terminy/knigopechatanie/?q=486&n=2257\\'>Книгопечатание</a></div>\\r\\n\\t<div class=\\'list_aut\\'><a href=\\'http://www.textologia.ru/slovari/lingvisticheskie-terminy/knizhnaya-leksika/?q=486&n=709\\'>Книжная лексика</a></div>\\r\\n\\t<div class=\\'list_aut\\'><a href=\\'http://www.textologia.ru/slovari/lingvisticheskie-terminy/kognitivnaya-lingvistika/?q=486&n=2324\\'>Когнитивная лингвистика</a></div>\\r\\n\\t<div class=\\'list_aut\\'><a href=\\'http://www.textologia.ru/slovari/lingvisticheskie-terminy/koyne/?q=486&n=710\\'>Койне</a></div>\\r\\n\\t<div class=\\'list_aut\\'><a href=\\'http://www.textologia.ru/slovari/lingvisticheskie-terminy/koysanskie-yaziki/?q=486&n=2256\\'>Койсанские языки</a></div>\\r\\n\\t<div class=\\'list_aut\\'><a href=\\'http://www.textologia.ru/slovari/lingvisticheskie-terminy/kolichestvenno-imennoe-sochetanie-schetniy-oborot/?q=486&n=711\\'>Количественно-именное сочетание (счётный оборот)</a></div>\\r\\n\\t<div class=\\'list_aut\\'><a href=\\'http://www.textologia.ru/slovari/lingvisticheskie-terminy/kombinatornie-izmeneniya-zvukov/?q=486&n=712\\'>Комбинаторные изменения звуков</a></div>\\r\\n\\t<div class=\\'list_aut\\'><a href=\\'http://www.textologia.ru/slovari/lingvisticheskie-terminy/kommunikaciya/?q=486&n=713\\'>Коммуникация</a></div>\\r\\n\\t<div class=\\'list_aut\\'><a href=\\'http://www.textologia.ru/slovari/lingvisticheskie-terminy/komparativ/?q=486&n=714\\'>Компаратив</a></div>\\r\\n\\t<div class=\\'list_aut\\'><a href=\\'http://www.textologia.ru/slovari/lingvisticheskie-terminy/komparativistika/?q=486&n=715\\'>Компаративистика</a></div>\\r\\n\\t<div class=\\'list_aut\\'><a href=\\'http://www.textologia.ru/slovari/lingvisticheskie-terminy/kompletivnie-otnosheniya/?q=486&n=716\\'>Комплетивные отношения</a></div>\\r\\n\\t<div class=\\'list_aut\\'><a href=\\'http://www.textologia.ru/slovari/lingvisticheskie-terminy/kompozita/?q=486&n=717\\'>Композита</a></div>\\r\\n\\t<div class=\\'list_aut\\'><a href=\\'http://www.textologia.ru/slovari/lingvisticheskie-terminy/komponentnogo-analiza-metod/?q=486&n=2255\\'>Компонентного анализа метод</a></div>\\r\\n\\t<div class=\\'list_aut\\'><a href=\\'http://www.textologia.ru/slovari/lingvisticheskie-terminy/konversiya/?q=486&n=2254\\'>Конверсия</a></div>\\r\\n\\t<div class=\\'list_aut\\'><a href=\\'http://www.textologia.ru/slovari/lingvisticheskie-terminy/kongo-kordofanskie-yaziki/?q=486&n=2253\\'>Конго-кордофанские языки</a></div>\\r\\n\\t<div class=\\'list_aut\\'><a href=\\'http://www.textologia.ru/slovari/lingvisticheskie-terminy/konkretnaya-svyazka/?q=486&n=718\\'>Конкретная связка</a></div>\\r\\n\\t<div class=\\'list_aut\\'><a href=\\'http://www.textologia.ru/slovari/lingvisticheskie-terminy/konnotaciya/?q=486&n=719\\'>Коннотация</a></div>\\r\\n\\t<div class=\\'list_aut\\'><a href=\\'http://www.textologia.ru/slovari/lingvisticheskie-terminy/konsonantizm/?q=486&n=720\\'>Консонантизм</a></div>\\r\\n\\t<div class=\\'list_aut\\'><a href=\\'http://www.textologia.ru/slovari/lingvisticheskie-terminy/konsonatizm/?q=486&n=2252\\'>Консонатизм</a></div>\\r\\n\\t<div class=\\'list_aut\\'><a href=\\'http://www.textologia.ru/slovari/lingvisticheskie-terminy/konstitutivnie-priznaki-fonemi/?q=486&n=721\\'>Конститутивные признаки фонемы</a></div>\\r\\n\\t<div class=\\'list_aut\\'><a href=\\'http://www.textologia.ru/slovari/lingvisticheskie-terminy/konstrukciya/?q=486&n=722\\'>Конструкция</a></div>\\r\\n\\t<div class=\\'list_aut\\'><a href=\\'http://www.textologia.ru/slovari/lingvisticheskie-terminy/kontaktnoe-polozhenie/?q=486&n=723\\'>Контактное положение</a></div>\\r\\n\\t<div class=\\'list_aut\\'><a href=\\'http://www.textologia.ru/slovari/lingvisticheskie-terminy/kontaminaciya/?q=486&n=724\\'>Контаминация</a></div>\\r\\n\\t<div class=\\'list_aut\\'><a href=\\'http://www.textologia.ru/slovari/lingvisticheskie-terminy/kontekst/?q=486&n=725\\'>Контекст</a></div>\\r\\n\\t<div class=\\'list_aut\\'><a href=\\'http://www.textologia.ru/slovari/lingvisticheskie-terminy/kontekstualniy/?q=486&n=726\\'>Контекстуальный</a></div>\\r\\n\\t<div class=\\'list_aut\\'><a href=\\'http://www.textologia.ru/slovari/lingvisticheskie-terminy/kontrastivnaya-lingvistika/?q=486&n=2251\\'>Контрастивная лингвистика</a></div>\\r\\n\\t<div class=\\'list_aut\\'><a href=\\'http://www.textologia.ru/slovari/lingvisticheskie-terminy/konfiks/?q=486&n=727\\'>Конфикс</a></div>\\r\\n\\t<div class=\\'list_aut\\'><a href=\\'http://www.textologia.ru/slovari/lingvisticheskie-terminy/konfiksaciya/?q=486&n=728\\'>Конфиксация</a></div>\\r\\n\\t<div class=\\'list_aut\\'><a href=\\'http://www.textologia.ru/slovari/lingvisticheskie-terminy/konyunktiv/?q=486&n=729\\'>Конъюнктив</a></div>\\r\\n\\t<div class=\\'list_aut\\'><a href=\\'http://www.textologia.ru/slovari/lingvisticheskie-terminy/koordinaciya/?q=486&n=730\\'>Координация</a></div>\\r\\n\\t<div class=\\'list_aut\\'><a href=\\'http://www.textologia.ru/slovari/lingvisticheskie-terminy/kopengagenskaya-shkola/?q=486&n=731\\'>Копенгагенская школа</a></div>\\r\\n\\t<div class=\\'list_aut\\'><a href=\\'http://www.textologia.ru/slovari/lingvisticheskie-terminy/koptskiy-yazik/?q=486&n=2249\\'>Коптский язык</a></div>\\r\\n\\t<div class=\\'list_aut\\'><a href=\\'http://www.textologia.ru/slovari/lingvisticheskie-terminy/koptskoe-pismo/?q=486&n=2250\\'>Коптское письмо</a></div>\\r\\n\\t<div class=\\'list_aut\\'><a href=\\'http://www.textologia.ru/slovari/lingvisticheskie-terminy/koreyskiy-yazik/?q=486&n=2248\\'>Корейский язык</a></div>\\r\\n\\t<div class=\\'list_aut\\'><a href=\\'http://www.textologia.ru/slovari/lingvisticheskie-terminy/koren-morfologicheskiy/?q=486&n=2197\\'>Корень морфологический</a></div>\\r\\n\\t<div class=\\'list_aut\\'><a href=\\'http://www.textologia.ru/slovari/lingvisticheskie-terminy/koren-slova/?q=486&n=732\\'>Корень слова</a></div>\\r\\n\\t<div class=\\'list_aut\\'><a href=\\'http://www.textologia.ru/slovari/lingvisticheskie-terminy/koren-etimologicheskiy/?q=486&n=2198\\'>Корень этимологический</a></div>\\r\\n\\t<div class=\\'list_aut\\'><a href=\\'http://www.textologia.ru/slovari/lingvisticheskie-terminy/kornevie-yaziki/?q=486&n=733\\'>Корневые языки</a></div>\\r\\n\\t<div class=\\'list_aut\\'><a href=\\'http://www.textologia.ru/slovari/lingvisticheskie-terminy/korneizoliruyuschie-yaziki/?q=486&n=2196\\'>Корнеизолирующие языки</a></div>\\r\\n\\t<div class=\\'list_aut\\'><a href=\\'http://www.textologia.ru/slovari/lingvisticheskie-terminy/korrelyat/?q=486&n=734\\'>Коррелят</a></div>\\r\\n\\t<div class=\\'list_aut\\'><a href=\\'http://www.textologia.ru/slovari/lingvisticheskie-terminy/korrelyaciya/?q=486&n=735\\'>Корреляция</a></div>\\r\\n\\t<div class=\\'list_aut\\'><a href=\\'http://www.textologia.ru/slovari/lingvisticheskie-terminy/kosa/?q=486&n=2247\\'>Коса</a></div>\\r\\n\\t<div class=\\'list_aut\\'><a href=\\'http://www.textologia.ru/slovari/lingvisticheskie-terminy/kosvennaya-rech/?q=486&n=736\\'>Косвенная речь</a></div>\\r\\n\\t<div class=\\'list_aut\\'><a href=\\'http://www.textologia.ru/slovari/lingvisticheskie-terminy/kosvenno-perehodnie-glagoli/?q=486&n=737\\'>Косвенно-переходные глаголы</a></div>\\r\\n\\t<div class=\\'list_aut\\'><a href=\\'http://www.textologia.ru/slovari/lingvisticheskie-terminy/kosvenniy-vopros/?q=486&n=738\\'>Косвенный вопрос</a></div>\\r\\n\\t<div class=\\'list_aut\\'><a href=\\'http://www.textologia.ru/slovari/lingvisticheskie-terminy/kosvenniy-obekt/?q=486&n=739\\'>Косвенный объект</a></div>\\r\\n\\t<div class=\\'list_aut\\'><a href=\\'http://www.textologia.ru/slovari/lingvisticheskie-terminy/kosvenniy-padezh/?q=486&n=740\\'>Косвенный падеж</a></div>\\r\\n\\t<div class=\\'list_aut\\'><a href=\\'http://www.textologia.ru/slovari/lingvisticheskie-terminy/krasnaya-stroka/?q=486&n=741\\'>Красная строка</a></div>\\r\\n\\t<div class=\\'list_aut\\'><a href=\\'http://www.textologia.ru/slovari/lingvisticheskie-terminy/kratkaya-forma-prilagatelnogo/?q=486&n=742\\'>Краткая форма прилагательного</a></div>\\r\\n\\t<div class=\\'list_aut\\'><a href=\\'http://www.textologia.ru/slovari/lingvisticheskie-terminy/kratkoe-prilagatelnoe/?q=486&n=743\\'>Краткое прилагательное</a></div>\\r\\n\\t<div class=\\'list_aut\\'><a href=\\'http://www.textologia.ru/slovari/lingvisticheskie-terminy/kru-yaziki/?q=486&n=2246\\'>Кру языки</a></div>\\r\\n\\t<div class=\\'list_aut\\'><a href=\\'http://www.textologia.ru/slovari/lingvisticheskie-terminy/krilatie-slova/?q=486&n=744\\'>Крылатые слова</a></div>\\r\\n\\t<div class=\\'list_aut\\'><a href=\\'http://www.textologia.ru/slovari/lingvisticheskie-terminy/krimskotatarskiy-yazik/?q=486&n=2245\\'>Крымскотатарский язык</a></div>\\r\\n\\t<div class=\\'list_aut\\'><a href=\\'http://www.textologia.ru/slovari/lingvisticheskie-terminy/kultura-rechi/?q=486&n=745\\'>Культура речи</a></div>\\r\\n\\t<div class=\\'list_aut\\'><a href=\\'http://www.textologia.ru/slovari/lingvisticheskie-terminy/kurdskiy-yazik/?q=486&n=2244\\'>Курдский язык</a></div>\\r\\n\\t<div class=\\'list_aut\\'><a href=\\'http://www.textologia.ru/slovari/lingvisticheskie-terminy/kursiv/?q=486&n=746\\'>Курсив</a></div>\\r\\n\\t<div style=\"margin: 7px 0 5px 0;\"><b>Л</b></div><div class=\\'list_aut\\'><a href=\\'http://www.textologia.ru/slovari/lingvisticheskie-terminy/labializaciya/?q=486&n=747\\'>Лабиализация</a></div>\\r\\n\\t<div class=\\'list_aut\\'><a href=\\'http://www.textologia.ru/slovari/lingvisticheskie-terminy/labializovannie-zvuki/?q=486&n=748\\'>Лабиализованные звуки</a></div>\\r\\n\\t<div class=\\'list_aut\\'><a href=\\'http://www.textologia.ru/slovari/lingvisticheskie-terminy/labialnie-soglasnie/?q=486&n=749\\'>Лабиальные согласные</a></div>\\r\\n\\t<div class=\\'list_aut\\'><a href=\\'http://www.textologia.ru/slovari/lingvisticheskie-terminy/labio-dentalnie-soglasnie/?q=486&n=750\\'>Лабио-дентальные согласные</a></div>\\r\\n\\t<div class=\\'list_aut\\'><a href=\\'http://www.textologia.ru/slovari/lingvisticheskie-terminy/laskatelnie-imena/?q=486&n=751\\'>Ласкательные имена</a></div>\\r\\n\\t<div class=\\'list_aut\\'><a href=\\'http://www.textologia.ru/slovari/lingvisticheskie-terminy/lateralniy-soglasniy/?q=486&n=752\\'>Латеральный согласный</a></div>\\r\\n\\t<div class=\\'list_aut\\'><a href=\\'http://www.textologia.ru/slovari/lingvisticheskie-terminy/latinizm/?q=486&n=753\\'>Латинизм</a></div>\\r\\n\\t<div class=\\'list_aut\\'><a href=\\'http://www.textologia.ru/slovari/lingvisticheskie-terminy/latinica/?q=486&n=754\\'>Латиница</a></div>\\r\\n\\t<div class=\\'list_aut\\'><a href=\\'http://www.textologia.ru/slovari/lingvisticheskie-terminy/latinskiy-yazik/?q=486&n=2350\\'>Латинский язык</a></div>\\r\\n\\t<div class=\\'list_aut\\'><a href=\\'http://www.textologia.ru/slovari/lingvisticheskie-terminy/leksema/?q=486&n=755\\'>Лексема</a></div>\\r\\n\\t<div class=\\'list_aut\\'><a href=\\'http://www.textologia.ru/slovari/lingvisticheskie-terminy/leksika/?q=486&n=756\\'>Лексика</a></div>\\r\\n\\t<div class=\\'list_aut\\'><a href=\\'http://www.textologia.ru/slovari/lingvisticheskie-terminy/leksika-internacionalnaya/?q=486&n=757\\'>Лексика интернациональная</a></div>\\r\\n\\t<div class=\\'list_aut\\'><a href=\\'http://www.textologia.ru/slovari/lingvisticheskie-terminy/leksika-obscheupotrebitelnaya/?q=486&n=758\\'>Лексика общеупотребительная</a></div>\\r\\n\\t<div class=\\'list_aut\\'><a href=\\'http://www.textologia.ru/slovari/lingvisticheskie-terminy/leksika-professionalnaya/?q=486&n=759\\'>Лексика профессиональная</a></div>\\r\\n\\t<div class=\\'list_aut\\'><a href=\\'http://www.textologia.ru/slovari/lingvisticheskie-terminy/leksika-razgovornaya/?q=486&n=760\\'>Лексика разговорная</a></div>\\r\\n\\t<div class=\\'list_aut\\'><a href=\\'http://www.textologia.ru/slovari/lingvisticheskie-terminy/leksika-specialnaya/?q=486&n=761\\'>Лексика специальная</a></div>\\r\\n\\t<div class=\\'list_aut\\'><a href=\\'http://www.textologia.ru/slovari/lingvisticheskie-terminy/leksika-terminologicheskaya/?q=486&n=762\\'>Лексика терминологическая</a></div>\\r\\n\\t<div class=\\'list_aut\\'><a href=\\'http://www.textologia.ru/slovari/lingvisticheskie-terminy/leksika-familyarnaya/?q=486&n=763\\'>Лексика фамильярная</a></div>\\r\\n\\t<div class=\\'list_aut\\'><a href=\\'http://www.textologia.ru/slovari/lingvisticheskie-terminy/leksika-emocionalnaya/?q=486&n=764\\'>Лексика эмоциональная</a></div>\\r\\n\\t<div class=\\'list_aut\\'><a href=\\'http://www.textologia.ru/slovari/lingvisticheskie-terminy/leksikalizaciya/?q=486&n=765\\'>Лексикализация</a></div>\\r\\n\\t<div class=\\'list_aut\\'><a href=\\'http://www.textologia.ru/slovari/lingvisticheskie-terminy/leksikalizovannoe-sochetanie/?q=486&n=766\\'>Лексикализованное сочетание</a></div>\\r\\n\\t<div class=\\'list_aut\\'><a href=\\'http://www.textologia.ru/slovari/lingvisticheskie-terminy/leksiko-semanticheskiy-sposob-slovoobrazovaniya/?q=486&n=1704\\'>Лексико-семантический способ словообразования</a></div>\\r\\n\\t<div class=\\'list_aut\\'><a href=\\'http://www.textologia.ru/slovari/lingvisticheskie-terminy/leksikografiya/?q=486&n=767\\'>Лексикография</a></div>\\r\\n\\t<div class=\\'list_aut\\'><a href=\\'http://www.textologia.ru/slovari/lingvisticheskie-terminy/leksikologiya/?q=486&n=768\\'>Лексикология</a></div>\\r\\n\\t<div class=\\'list_aut\\'><a href=\\'http://www.textologia.ru/slovari/lingvisticheskie-terminy/leksikon/?q=486&n=769\\'>Лексикон</a></div>\\r\\n\\t<div class=\\'list_aut\\'><a href=\\'http://www.textologia.ru/slovari/lingvisticheskie-terminy/leksicheskaya-stilistika/?q=486&n=770\\'>Лексическая стилистика</a></div>\\r\\n\\t<div class=\\'list_aut\\'><a href=\\'http://www.textologia.ru/slovari/lingvisticheskie-terminy/leksicheskie-sinonimi/?q=486&n=771\\'>Лексические синонимы</a></div>\\r\\n\\t<div class=\\'list_aut\\'><a href=\\'http://www.textologia.ru/slovari/lingvisticheskie-terminy/leksicheskoe-znachenie-slova/?q=486&n=772\\'>Лексическое значение слова</a></div>\\r\\n\\t<div class=\\'list_aut\\'><a href=\\'http://www.textologia.ru/slovari/lingvisticheskie-terminy/leningradskaya-fonologicheskaya-shkola/?q=486&n=2332\\'>Ленинградская фонологическая школа</a></div>\\r\\n\\t<div class=\\'list_aut\\'><a href=\\'http://www.textologia.ru/slovari/lingvisticheskie-terminy/ligatura/?q=486&n=773\\'>Лигатура</a></div>\\r\\n\\t<div class=\\'list_aut\\'><a href=\\'http://www.textologia.ru/slovari/lingvisticheskie-terminy/lingvistika/?q=486&n=774\\'>Лингвистика</a></div>\\r\\n\\t<div class=\\'list_aut\\'><a href=\\'http://www.textologia.ru/slovari/lingvisticheskie-terminy/lingvisticheskaya-geografiya/?q=486&n=775\\'>Лингвистическая география</a></div>\\r\\n\\t<div class=\\'list_aut\\'><a href=\\'http://www.textologia.ru/slovari/lingvisticheskie-terminy/lingvisticheskaya-statistika/?q=486&n=776\\'>Лингвистическая статистика</a></div>\\r\\n\\t<div class=\\'list_aut\\'><a href=\\'http://www.textologia.ru/slovari/lingvisticheskie-terminy/lingvisticheskaya-stilistika/?q=486&n=777\\'>Лингвистическая стилистика</a></div>\\r\\n\\t<div class=\\'list_aut\\'><a href=\\'http://www.textologia.ru/slovari/lingvisticheskie-terminy/lingvisticheskiy-kommentariy/?q=486&n=2338\\'>Лингвистический комментарий</a></div>\\r\\n\\t<div class=\\'list_aut\\'><a href=\\'http://www.textologia.ru/slovari/lingvisticheskie-terminy/lingvisticheskiy-slovar/?q=486&n=778\\'>Лингвистический словарь</a></div>\\r\\n\\t<div class=\\'list_aut\\'><a href=\\'http://www.textologia.ru/slovari/lingvisticheskie-terminy/lingvisticheskiy-eksperiment/?q=486&n=779\\'>Лингвистический эксперимент</a></div>\\r\\n\\t<div class=\\'list_aut\\'><a href=\\'http://www.textologia.ru/slovari/lingvisticheskie-terminy/lingvokulturologiya/?q=486&n=2156\\'>Лингвокультурология</a></div>\\r\\n\\t<div class=\\'list_aut\\'><a href=\\'http://www.textologia.ru/slovari/lingvisticheskie-terminy/lingvostilistika/?q=486&n=780\\'>Лингвостилистика</a></div>\\r\\n\\t<div class=\\'list_aut\\'><a href=\\'http://www.textologia.ru/slovari/lingvisticheskie-terminy/literaturniy-yazik/?q=486&n=781\\'>Литературный язык</a></div>\\r\\n\\t<div class=\\'list_aut\\'><a href=\\'http://www.textologia.ru/slovari/lingvisticheskie-terminy/litota/?q=486&n=782\\'>Литота</a></div>\\r\\n\\t<div class=\\'list_aut\\'><a href=\\'http://www.textologia.ru/slovari/lingvisticheskie-terminy/lico-glagola/?q=486&n=783\\'>Лицо глагола</a></div>\\r\\n\\t<div class=\\'list_aut\\'><a href=\\'http://www.textologia.ru/slovari/lingvisticheskie-terminy/lichnaya-forma-glagola/?q=486&n=784\\'>Личная форма глагола</a></div>\\r\\n\\t<div class=\\'list_aut\\'><a href=\\'http://www.textologia.ru/slovari/lingvisticheskie-terminy/lichnoe-predlozhenie/?q=486&n=785\\'>Личное предложение</a></div>\\r\\n\\t<div class=\\'list_aut\\'><a href=\\'http://www.textologia.ru/slovari/lingvisticheskie-terminy/lichnie-mestoimeniya/?q=486&n=786\\'>Личные местоимения</a></div>\\r\\n\\t<div class=\\'list_aut\\'><a href=\\'http://www.textologia.ru/slovari/lingvisticheskie-terminy/lichnie-okonchaniya/?q=486&n=787\\'>Личные окончания</a></div>\\r\\n\\t<div class=\\'list_aut\\'><a href=\\'http://www.textologia.ru/slovari/lingvisticheskie-terminy/logicheskoe-podlezhaschee/?q=486&n=788\\'>Логическое подлежащее</a></div>\\r\\n\\t<div class=\\'list_aut\\'><a href=\\'http://www.textologia.ru/slovari/lingvisticheskie-terminy/logicheskoe-skazuemoe/?q=486&n=789\\'>Логическое сказуемое</a></div>\\r\\n\\t<div class=\\'list_aut\\'><a href=\\'http://www.textologia.ru/slovari/lingvisticheskie-terminy/logicheskoe-udarenie/?q=486&n=790\\'>Логическое ударение</a></div>\\r\\n\\t<div class=\\'list_aut\\'><a href=\\'http://www.textologia.ru/slovari/lingvisticheskie-terminy/lokalnie-otnosheniya/?q=486&n=791\\'>Локальные отношения</a></div>\\r\\n\\t<div class=\\'list_aut\\'><a href=\\'http://www.textologia.ru/slovari/lingvisticheskie-terminy/londonskaya-lingvisticheskaya-shkola/?q=486&n=792\\'>Лондонская лингвистическая школа</a></div>\\r\\n\\t<div style=\"margin: 7px 0 5px 0;\"><b>М</b></div><div class=\\'list_aut\\'><a href=\\'http://www.textologia.ru/slovari/lingvisticheskie-terminy/malaysko-polineziyskie-yaziki-malaysko-polineziyskaya-semya-yazikov/?q=486&n=793\\'>Малайско-полинезийские языки (малайско-полинезийская семья языков)</a></div>\\r\\n\\t<div class=\\'list_aut\\'><a href=\\'http://www.textologia.ru/slovari/lingvisticheskie-terminy/markirovanniy/?q=486&n=794\\'>Маркированный</a></div>\\r\\n\\t<div class=\\'list_aut\\'><a href=\\'http://www.textologia.ru/slovari/lingvisticheskie-terminy/massovaya-kommunikaciya/?q=486&n=795\\'>Массовая коммуникация</a></div>\\r\\n\\t<div class=\\'list_aut\\'><a href=\\'http://www.textologia.ru/slovari/lingvisticheskie-terminy/mat/?q=486&n=2348\\'>Мат</a></div>\\r\\n\\t<div class=\\'list_aut\\'><a href=\\'http://www.textologia.ru/slovari/lingvisticheskie-terminy/matematicheskaya-lingvistika/?q=486&n=796\\'>Математическая лингвистика</a></div>\\r\\n\\t<div class=\\'list_aut\\'><a href=\\'http://www.textologia.ru/slovari/lingvisticheskie-terminy/mashinniy-perevod/?q=486&n=797\\'>Машинный перевод</a></div>\\r\\n\\t<div class=\\'list_aut\\'><a href=\\'http://www.textologia.ru/slovari/lingvisticheskie-terminy/mgnovennie-soglasnie/?q=486&n=798\\'>Мгновенные согласные</a></div>\\r\\n\\t<div class=\\'list_aut\\'><a href=\\'http://www.textologia.ru/slovari/lingvisticheskie-terminy/mgnovenniy-vid/?q=486&n=799\\'>Мгновенный вид</a></div>\\r\\n\\t<div class=\\'list_aut\\'><a href=\\'http://www.textologia.ru/slovari/lingvisticheskie-terminy/meetoimenno-sootnositelnoe-slozhnopodchinennoe-predlozhenie/?q=486&n=813\\'>Меетоименно-соотносительное сложноподчиненное предложение</a></div>\\r\\n\\t<div class=\\'list_aut\\'><a href=\\'http://www.textologia.ru/slovari/lingvisticheskie-terminy/mezhdometie/?q=486&n=800\\'>Междометие</a></div>\\r\\n\\t<div class=\\'list_aut\\'><a href=\\'http://www.textologia.ru/slovari/lingvisticheskie-terminy/mezhdometnoe-predlozhenie/?q=486&n=801\\'>Междометное предложение</a></div>\\r\\n\\t<div class=\\'list_aut\\'><a href=\\'http://www.textologia.ru/slovari/lingvisticheskie-terminy/mezhdometniy-glagol/?q=486&n=802\\'>Междометный глагол</a></div>\\r\\n\\t<div class=\\'list_aut\\'><a href=\\'http://www.textologia.ru/slovari/lingvisticheskie-terminy/mezhzubnie-soglasnie/?q=486&n=803\\'>Межзубные согласные</a></div>\\r\\n\\t<div class=\\'list_aut\\'><a href=\\'http://www.textologia.ru/slovari/lingvisticheskie-terminy/mezhstilevaya-leksika/?q=486&n=804\\'>Межстилевая лексика</a></div>\\r\\n\\t<div class=\\'list_aut\\'><a href=\\'http://www.textologia.ru/slovari/lingvisticheskie-terminy/melodika-rechi/?q=486&n=805\\'>Мелодика речи</a></div>\\r\\n\\t<div class=\\'list_aut\\'><a href=\\'http://www.textologia.ru/slovari/lingvisticheskie-terminy/melodicheskoe-udarenie/?q=486&n=806\\'>Мелодическое ударение</a></div>\\r\\n\\t<div class=\\'list_aut\\'><a href=\\'http://www.textologia.ru/slovari/lingvisticheskie-terminy/mestniy-dialekt/?q=486&n=808\\'>Местный диалект</a></div>\\r\\n\\t<div class=\\'list_aut\\'><a href=\\'http://www.textologia.ru/slovari/lingvisticheskie-terminy/mestniy-padezh/?q=486&n=809\\'>Местный падеж</a></div>\\r\\n\\t<div class=\\'list_aut\\'><a href=\\'http://www.textologia.ru/slovari/lingvisticheskie-terminy/mestoimenie/?q=486&n=810\\'>Местоимение</a></div>\\r\\n\\t<div class=\\'list_aut\\'><a href=\\'http://www.textologia.ru/slovari/lingvisticheskie-terminy/mestoimennaya-forma-prilagatelnogo/?q=486&n=811\\'>Местоименная форма прилагательного</a></div>\\r\\n\\t<div class=\\'list_aut\\'><a href=\\'http://www.textologia.ru/slovari/lingvisticheskie-terminy/mestoimenno-soyuznoe-sootnositelnoe-slozhnopodchinennoe-predlozhenie/?q=486&n=814\\'>Местоименно-союзное соотносительное сложноподчиненное предложение</a></div>\\r\\n\\t<div class=\\'list_aut\\'><a href=\\'http://www.textologia.ru/slovari/lingvisticheskie-terminy/mestoimennoe-sklonenie/?q=486&n=812\\'>Местоименное склонение</a></div>\\r\\n\\t<div class=\\'list_aut\\'><a href=\\'http://www.textologia.ru/slovari/lingvisticheskie-terminy/mestoimennie-narechiya/?q=486&n=815\\'>Местоименные наречия</a></div>\\r\\n\\t<div class=\\'list_aut\\'><a href=\\'http://www.textologia.ru/slovari/lingvisticheskie-terminy/mestoimennie-prilagatelnie/?q=486&n=816\\'>Местоименные прилагательные</a></div>\\r\\n\\t<div class=\\'list_aut\\'><a href=\\'http://www.textologia.ru/slovari/lingvisticheskie-terminy/mestoimennie-suschestvitelnie/?q=486&n=817\\'>Местоименные существительные</a></div>\\r\\n\\t<div class=\\'list_aut\\'><a href=\\'http://www.textologia.ru/slovari/lingvisticheskie-terminy/mestoimennie-chislitelnie/?q=486&n=818\\'>Местоименные числительные</a></div>\\r\\n\\t<div class=\\'list_aut\\'><a href=\\'http://www.textologia.ru/slovari/lingvisticheskie-terminy/metamodel/?q=486&n=2147\\'>Метамодель</a></div>\\r\\n\\t<div class=\\'list_aut\\'><a href=\\'http://www.textologia.ru/slovari/lingvisticheskie-terminy/metateza/?q=486&n=819\\'>Метатеза</a></div>\\r\\n\\t<div class=\\'list_aut\\'><a href=\\'http://www.textologia.ru/slovari/lingvisticheskie-terminy/metafora/?q=486&n=820\\'>Метафора</a></div>\\r\\n\\t<div class=\\'list_aut\\'><a href=\\'http://www.textologia.ru/slovari/lingvisticheskie-terminy/metayazik/?q=486&n=2213\\'>Метаязык</a></div>\\r\\n\\t<div class=\\'list_aut\\'><a href=\\'http://www.textologia.ru/slovari/lingvisticheskie-terminy/metayazik-kak-metod-analiza-teksta/?q=486&n=2214\\'>Метаязык как метод анализа текста</a></div>\\r\\n\\t<div class=\\'list_aut\\'><a href=\\'http://www.textologia.ru/slovari/lingvisticheskie-terminy/metonimiya/?q=486&n=821\\'>Метонимия</a></div>\\r\\n\\t<div class=\\'list_aut\\'><a href=\\'http://www.textologia.ru/slovari/lingvisticheskie-terminy/mertviy-yazik/?q=486&n=807\\'>Мёртвый язык</a></div>\\r\\n\\t<div class=\\'list_aut\\'><a href=\\'http://www.textologia.ru/slovari/lingvisticheskie-terminy/mladogrammatiki-mladogrammaticheskaya-shkola/?q=486&n=822\\'>Младограмматики (младограмматическая школа)</a></div>\\r\\n\\t<div class=\\'list_aut\\'><a href=\\'http://www.textologia.ru/slovari/lingvisticheskie-terminy/mladopismennie-yaziki/?q=486&n=823\\'>Младописьменные языки</a></div>\\r\\n\\t<div class=\\'list_aut\\'><a href=\\'http://www.textologia.ru/slovari/lingvisticheskie-terminy/mnogoznachnost-polisemiya/?q=486&n=824\\'>Многозначность (полисемия)</a></div>\\r\\n\\t<div class=\\'list_aut\\'><a href=\\'http://www.textologia.ru/slovari/lingvisticheskie-terminy/mnogokratniy-podvid/?q=486&n=825\\'>Многократный подвид</a></div>\\r\\n\\t<div class=\\'list_aut\\'><a href=\\'http://www.textologia.ru/slovari/lingvisticheskie-terminy/mnogosoyuzie-polisindeton/?q=486&n=826\\'>Многосоюзие (полисиндетон)</a></div>\\r\\n\\t<div class=\\'list_aut\\'><a href=\\'http://www.textologia.ru/slovari/lingvisticheskie-terminy/mnogotochie/?q=486&n=827\\'>Многоточие</a></div>\\r\\n\\t<div class=\\'list_aut\\'><a href=\\'http://www.textologia.ru/slovari/lingvisticheskie-terminy/mnogochlennoe-skazuemoe/?q=486&n=828\\'>Многочленное сказуемое</a></div>\\r\\n\\t<div class=\\'list_aut\\'><a href=\\'http://www.textologia.ru/slovari/lingvisticheskie-terminy/mnogochlennoe-slozhnoe-predlozhenie/?q=486&n=829\\'>Многочленное сложное предложение</a></div>\\r\\n\\t<div class=\\'list_aut\\'><a href=\\'http://www.textologia.ru/slovari/lingvisticheskie-terminy/mnogochlennoe-slozhnopodchinennoe-predlozhenie/?q=486&n=830\\'>Многочленное сложноподчиненное предложение</a></div>\\r\\n\\t<div class=\\'list_aut\\'><a href=\\'http://www.textologia.ru/slovari/lingvisticheskie-terminy/mnozhestvennoe-chislo/?q=486&n=831\\'>Множественное число</a></div>\\r\\n\\t<div class=\\'list_aut\\'><a href=\\'http://www.textologia.ru/slovari/lingvisticheskie-terminy/modalno-volevie-chastici/?q=486&n=832\\'>Модально-волевые частицы</a></div>\\r\\n\\t<div class=\\'list_aut\\'><a href=\\'http://www.textologia.ru/slovari/lingvisticheskie-terminy/modalnost/?q=486&n=833\\'>Модальность</a></div>\\r\\n\\t<div class=\\'list_aut\\'><a href=\\'http://www.textologia.ru/slovari/lingvisticheskie-terminy/modalnie-glagoli/?q=486&n=834\\'>Модальные глаголы</a></div>\\r\\n\\t<div class=\\'list_aut\\'><a href=\\'http://www.textologia.ru/slovari/lingvisticheskie-terminy/modalnie-slova/?q=486&n=835\\'>Модальные слова</a></div>\\r\\n\\t<div class=\\'list_aut\\'><a href=\\'http://www.textologia.ru/slovari/lingvisticheskie-terminy/modalnie-chastici/?q=486&n=836\\'>Модальные частицы</a></div>\\r\\n\\t<div class=\\'list_aut\\'><a href=\\'http://www.textologia.ru/slovari/lingvisticheskie-terminy/modelirovanie/?q=486&n=837\\'>Моделирование</a></div>\\r\\n\\t<div class=\\'list_aut\\'><a href=\\'http://www.textologia.ru/slovari/lingvisticheskie-terminy/model/?q=486&n=838\\'>Модель</a></div>\\r\\n\\t<div class=\\'list_aut\\'><a href=\\'http://www.textologia.ru/slovari/lingvisticheskie-terminy/mongolskie-yaziki-mongolskaya-semya-yazikov/?q=486&n=839\\'>Монгольские языки (монгольская семья языков)</a></div>\\r\\n\\t<div class=\\'list_aut\\'><a href=\\'http://www.textologia.ru/slovari/lingvisticheskie-terminy/monolog/?q=486&n=840\\'>Монолог</a></div>\\r\\n\\t<div class=\\'list_aut\\'><a href=\\'http://www.textologia.ru/slovari/lingvisticheskie-terminy/monosemiya/?q=486&n=841\\'>Моносемия</a></div>\\r\\n\\t<div class=\\'list_aut\\'><a href=\\'http://www.textologia.ru/slovari/lingvisticheskie-terminy/monoftong/?q=486&n=842\\'>Монофтонг</a></div>\\r\\n\\t<div class=\\'list_aut\\'><a href=\\'http://www.textologia.ru/slovari/lingvisticheskie-terminy/morf/?q=486&n=843\\'>Морф</a></div>\\r\\n\\t<div class=\\'list_aut\\'><a href=\\'http://www.textologia.ru/slovari/lingvisticheskie-terminy/morfema/?q=486&n=844\\'>Морфема</a></div>\\r\\n\\t<div class=\\'list_aut\\'><a href=\\'http://www.textologia.ru/slovari/lingvisticheskie-terminy/morfema-sintaksicheskaya/?q=486&n=845\\'>Морфема синтаксическая</a></div>\\r\\n\\t<div class=\\'list_aut\\'><a href=\\'http://www.textologia.ru/slovari/lingvisticheskie-terminy/morfemika/?q=486&n=846\\'>Морфемика</a></div>\\r\\n\\t<div class=\\'list_aut\\'><a href=\\'http://www.textologia.ru/slovari/lingvisticheskie-terminy/morfemniy-analiz/?q=486&n=847\\'>Морфемный анализ</a></div>\\r\\n\\t<div class=\\'list_aut\\'><a href=\\'http://www.textologia.ru/slovari/lingvisticheskie-terminy/morfologizovanniy-chlen-predlozheniya/?q=486&n=848\\'>Морфологизованный член предложения</a></div>\\r\\n\\t<div class=\\'list_aut\\'><a href=\\'http://www.textologia.ru/slovari/lingvisticheskie-terminy/morfologicheskaya-tipologicheskaya-klassifikaciya-yazikov/?q=486&n=849\\'>Морфологическая (типологическая) классификация языков</a></div>\\r\\n\\t<div class=\\'list_aut\\'><a href=\\'http://www.textologia.ru/slovari/lingvisticheskie-terminy/morfologicheskaya-norma/?q=486&n=2141\\'>Морфологическая норма</a></div>\\r\\n\\t<div class=\\'list_aut\\'><a href=\\'http://www.textologia.ru/slovari/lingvisticheskie-terminy/morfologicheskie-kategorii/?q=486&n=850\\'>Морфологические категории</a></div>\\r\\n\\t<div class=\\'list_aut\\'><a href=\\'http://www.textologia.ru/slovari/lingvisticheskie-terminy/morfologicheskie-cheredovaniya-zvukov/?q=486&n=851\\'>Морфологические чередования звуков</a></div>\\r\\n\\t<div class=\\'list_aut\\'><a href=\\'http://www.textologia.ru/slovari/lingvisticheskie-terminy/morfologicheskiy-koren/?q=486&n=852\\'>Морфологический корень</a></div>\\r\\n\\t<div class=\\'list_aut\\'><a href=\\'http://www.textologia.ru/slovari/lingvisticheskie-terminy/morfologicheskiy-princip-pravopisaniya/?q=486&n=853\\'>Морфологический принцип правописания</a></div>\\r\\n\\t<div class=\\'list_aut\\'><a href=\\'http://www.textologia.ru/slovari/lingvisticheskie-terminy/morfologicheskiy-razbor/?q=486&n=854\\'>Морфологический разбор</a></div>\\r\\n\\t<div class=\\'list_aut\\'><a href=\\'http://www.textologia.ru/slovari/lingvisticheskie-terminy/morfologicheskiy-shov/?q=486&n=855\\'>Морфологический шов</a></div>\\r\\n\\t<div class=\\'list_aut\\'><a href=\\'http://www.textologia.ru/slovari/lingvisticheskie-terminy/morfologicheskoe-chlenenie-slova/?q=486&n=856\\'>Морфологическое членение слова</a></div>\\r\\n\\t<div class=\\'list_aut\\'><a href=\\'http://www.textologia.ru/slovari/lingvisticheskie-terminy/morfologiya/?q=486&n=857\\'>Морфология</a></div>\\r\\n\\t<div class=\\'list_aut\\'><a href=\\'http://www.textologia.ru/slovari/lingvisticheskie-terminy/morfologo-sintaksicheskiy-sposob-slovoobrazovaniya/?q=486&n=1707\\'>Морфолого-синтаксический способ словообразования</a></div>\\r\\n\\t<div class=\\'list_aut\\'><a href=\\'http://www.textologia.ru/slovari/lingvisticheskie-terminy/morfonologiya/?q=486&n=858\\'>Морфонология</a></div>\\r\\n\\t<div class=\\'list_aut\\'><a href=\\'http://www.textologia.ru/slovari/lingvisticheskie-terminy/moskovskaya-fonologicheskaya-shkola/?q=486&n=2333\\'>Московская фонологическая школа</a></div>\\r\\n\\t<div class=\\'list_aut\\'><a href=\\'http://www.textologia.ru/slovari/lingvisticheskie-terminy/motivirovannoe-slovo/?q=486&n=859\\'>Мотивированное слово</a></div>\\r\\n\\t<div class=\\'list_aut\\'><a href=\\'http://www.textologia.ru/slovari/lingvisticheskie-terminy/motiviruyuschee-slovo/?q=486&n=860\\'>Мотивирующее слово</a></div>\\r\\n\\t<div class=\\'list_aut\\'><a href=\\'http://www.textologia.ru/slovari/lingvisticheskie-terminy/motorno-nekratnie-glagoli/?q=486&n=861\\'>Моторно-некратные глаголы</a></div>\\r\\n\\t<div class=\\'list_aut\\'><a href=\\'http://www.textologia.ru/slovari/lingvisticheskie-terminy/mubi/?q=486&n=2320\\'>Муби</a></div>\\r\\n\\t<div class=\\'list_aut\\'><a href=\\'http://www.textologia.ru/slovari/lingvisticheskie-terminy/myagkaya-osnova/?q=486&n=862\\'>Мягкая основа</a></div>\\r\\n\\t<div class=\\'list_aut\\'><a href=\\'http://www.textologia.ru/slovari/lingvisticheskie-terminy/myagkost-soglasnih/?q=486&n=863\\'>Мягкость согласных</a></div>\\r\\n\\t<div style=\"margin: 7px 0 5px 0;\"><b>Н</b></div><div class=\\'list_aut\\'><a href=\\'http://www.textologia.ru/slovari/lingvisticheskie-terminy/nadstrochniy-znak/?q=486&n=1023\\'>Надстрочный знак</a></div>\\r\\n\\t<div class=\\'list_aut\\'><a href=\\'http://www.textologia.ru/slovari/lingvisticheskie-terminy/nazalizaciya/?q=486&n=1024\\'>Назализация</a></div>\\r\\n\\t<div class=\\'list_aut\\'><a href=\\'http://www.textologia.ru/slovari/lingvisticheskie-terminy/nazivnoe-predlozhenie/?q=486&n=1025\\'>Назывное предложение</a></div>\\r\\n\\t<div class=\\'list_aut\\'><a href=\\'http://www.textologia.ru/slovari/lingvisticheskie-terminy/naklonenie-glagola/?q=486&n=1026\\'>Наклонение глагола</a></div>\\r\\n\\t<div class=\\'list_aut\\'><a href=\\'http://www.textologia.ru/slovari/lingvisticheskie-terminy/naklonenie-zhelatelnoe/?q=486&n=1030\\'>Наклонение желательное</a></div>\\r\\n\\t<div class=\\'list_aut\\'><a href=\\'http://www.textologia.ru/slovari/lingvisticheskie-terminy/naklonenie-izyavitelnoe/?q=486&n=1027\\'>Наклонение изъявительное</a></div>\\r\\n\\t<div class=\\'list_aut\\'><a href=\\'http://www.textologia.ru/slovari/lingvisticheskie-terminy/naklonenie-povelitelnoe/?q=486&n=1028\\'>Наклонение повелительное</a></div>\\r\\n\\t<div class=\\'list_aut\\'><a href=\\'http://www.textologia.ru/slovari/lingvisticheskie-terminy/naklonenie-soslagatelnoe-uslovno-zhelatelnoe/?q=486&n=1029\\'>Наклонение сослагательное (условно-желательное)</a></div>\\r\\n\\t<div class=\\'list_aut\\'><a href=\\'http://www.textologia.ru/slovari/lingvisticheskie-terminy/naklonenie-uslovnoe/?q=486&n=1031\\'>Наклонение условное</a></div>\\r\\n\\t<div class=\\'list_aut\\'><a href=\\'http://www.textologia.ru/slovari/lingvisticheskie-terminy/nalozhenie/?q=486&n=1032\\'>Наложение</a></div>\\r\\n\\t<div class=\\'list_aut\\'><a href=\\'http://www.textologia.ru/slovari/lingvisticheskie-terminy/nanayskiy-yazik/?q=486&n=2243\\'>Нанайский язык</a></div>\\r\\n\\t<div class=\\'list_aut\\'><a href=\\'http://www.textologia.ru/slovari/lingvisticheskie-terminy/nanizivanie-padezhey/?q=486&n=1033\\'>Нанизывание падежей</a></div>\\r\\n\\t<div class=\\'list_aut\\'><a href=\\'http://www.textologia.ru/slovari/lingvisticheskie-terminy/napisanie/?q=486&n=1034\\'>Написание</a></div>\\r\\n\\t<div class=\\'list_aut\\'><a href=\\'http://www.textologia.ru/slovari/lingvisticheskie-terminy/narechie1/?q=486&n=1035\\'>Наречие 1</a></div>\\r\\n\\t<div class=\\'list_aut\\'><a href=\\'http://www.textologia.ru/slovari/lingvisticheskie-terminy/narechie2/?q=486&n=1037\\'>Наречие 2</a></div>\\r\\n\\t<div class=\\'list_aut\\'><a href=\\'http://www.textologia.ru/slovari/lingvisticheskie-terminy/narechiya-obstoyatelstvennie/?q=486&n=1036\\'>Наречия обстоятельственные</a></div>\\r\\n\\t<div class=\\'list_aut\\'><a href=\\'http://www.textologia.ru/slovari/lingvisticheskie-terminy/narechnoe-virazhenie/?q=486&n=1038\\'>Наречное выражение</a></div>\\r\\n\\t<div class=\\'list_aut\\'><a href=\\'http://www.textologia.ru/slovari/lingvisticheskie-terminy/naricatelnie-suschestvitelnie/?q=486&n=1039\\'>Нарицательные существительные</a></div>\\r\\n\\t<div class=\\'list_aut\\'><a href=\\'http://www.textologia.ru/slovari/lingvisticheskie-terminy/narodnaya-etimologiya/?q=486&n=1040\\'>Народная этимология</a></div>\\r\\n\\t<div class=\\'list_aut\\'><a href=\\'http://www.textologia.ru/slovari/lingvisticheskie-terminy/nastoyaschee-vremya/?q=486&n=1041\\'>Настоящее время</a></div>\\r\\n\\t<div class=\\'list_aut\\'><a href=\\'http://www.textologia.ru/slovari/lingvisticheskie-terminy/nahskie-yaziki/?q=486&n=2242\\'>Нахские языки</a></div>\\r\\n\\t<div class=\\'list_aut\\'><a href=\\'http://www.textologia.ru/slovari/lingvisticheskie-terminy/nacionalniy-yazik/?q=486&n=1042\\'>Национальный язык</a></div>\\r\\n\\t<div class=\\'list_aut\\'><a href=\\'http://www.textologia.ru/slovari/lingvisticheskie-terminy/nevarskiy-yazik/?q=486&n=2241\\'>Неварский язык</a></div>\\r\\n\\t<div class=\\'list_aut\\'><a href=\\'http://www.textologia.ru/slovari/lingvisticheskie-terminy/nedostatochnie-defektivnie-glagoli/?q=486&n=1044\\'>Недостаточные (дефективные) глаголы</a></div>\\r\\n\\t<div class=\\'list_aut\\'><a href=\\'http://www.textologia.ru/slovari/lingvisticheskie-terminy/neznamenatelnie-chasti-rechi/?q=486&n=1045\\'>Незнаменательные части речи</a></div>\\r\\n\\t<div class=\\'list_aut\\'><a href=\\'http://www.textologia.ru/slovari/lingvisticheskie-terminy/neizmenyaemie-chasti-rechi/?q=486&n=1046\\'>Неизменяемые части речи</a></div>\\r\\n\\t<div class=\\'list_aut\\'><a href=\\'http://www.textologia.ru/slovari/lingvisticheskie-terminy/neyrolingvistika/?q=486&n=2343\\'>Нейролингвистика</a></div>\\r\\n\\t<div class=\\'list_aut\\'><a href=\\'http://www.textologia.ru/slovari/lingvisticheskie-terminy/neytralizaciya/?q=486&n=2239\\'>Нейтрализация</a></div>\\r\\n\\t<div class=\\'list_aut\\'><a href=\\'http://www.textologia.ru/slovari/lingvisticheskie-terminy/neytralnaya-leksika/?q=486&n=1047\\'>Нейтральная лексика</a></div>\\r\\n\\t<div class=\\'list_aut\\'><a href=\\'http://www.textologia.ru/slovari/lingvisticheskie-terminy/nelichnaya-forma-glagola/?q=486&n=1048\\'>Неличная форма глагола</a></div>\\r\\n\\t<div class=\\'list_aut\\'><a href=\\'http://www.textologia.ru/slovari/lingvisticheskie-terminy/nemorfologizovanniy-chlen-predlozheniya/?q=486&n=1049\\'>Неморфологизованный член предложения</a></div>\\r\\n\\t<div class=\\'list_aut\\'><a href=\\'http://www.textologia.ru/slovari/lingvisticheskie-terminy/neobratimost-neobratimie-otnosheniya/?q=486&n=1050\\'>Необратимость (необратимые отношения)</a></div>\\r\\n\\t<div class=\\'list_aut\\'><a href=\\'http://www.textologia.ru/slovari/lingvisticheskie-terminy/neogumboldtianstvo/?q=486&n=2238\\'>Неогумбольдтианство</a></div>\\r\\n\\t<div class=\\'list_aut\\'><a href=\\'http://www.textologia.ru/slovari/lingvisticheskie-terminy/neodnorodnie-chleni-predlozheniya/?q=486&n=1051\\'>Неоднородные члены предложения</a></div>\\r\\n\\t<div class=\\'list_aut\\'><a href=\\'http://www.textologia.ru/slovari/lingvisticheskie-terminy/neologizm/?q=486&n=1052\\'>Неологизм</a></div>\\r\\n\\t<div class=\\'list_aut\\'><a href=\\'http://www.textologia.ru/slovari/lingvisticheskie-terminy/neopredelennaya-forma-glagola/?q=486&n=1053\\'>Неопределенная форма глагола</a></div>\\r\\n\\t<div class=\\'list_aut\\'><a href=\\'http://www.textologia.ru/slovari/lingvisticheskie-terminy/neopredelenno-lichnoe-predlozhenie/?q=486&n=1054\\'>Неопределенно-личное предложение</a></div>\\r\\n\\t<div class=\\'list_aut\\'><a href=\\'http://www.textologia.ru/slovari/lingvisticheskie-terminy/neparallelnoe-cheredovanie-glasnih/?q=486&n=1056\\'>Непараллельное чередование гласных</a></div>\\r\\n\\t<div class=\\'list_aut\\'><a href=\\'http://www.textologia.ru/slovari/lingvisticheskie-terminy/neparallelnoe-cheredovanie-zvukov/?q=486&n=1055\\'>Непараллельное чередование звуков</a></div>\\r\\n\\t<div class=\\'list_aut\\'><a href=\\'http://www.textologia.ru/slovari/lingvisticheskie-terminy/neparallelnoe-cheredovanie-soglasnih/?q=486&n=1057\\'>Непараллельное чередование согласных</a></div>\\r\\n\\t<div class=\\'list_aut\\'><a href=\\'http://www.textologia.ru/slovari/lingvisticheskie-terminy/neparnie-glagoli/?q=486&n=1058\\'>Непарные глаголы</a></div>\\r\\n\\t<div class=\\'list_aut\\'><a href=\\'http://www.textologia.ru/slovari/lingvisticheskie-terminy/neparnie-soglasnie/?q=486&n=1059\\'>Непарные согласные</a></div>\\r\\n\\t<div class=\\'list_aut\\'><a href=\\'http://www.textologia.ru/slovari/lingvisticheskie-terminy/neperehodnie-intranzitivnie-glagoli/?q=486&n=1060\\'>Непереходные (интранзитивные) глаголы</a></div>\\r\\n\\t<div class=\\'list_aut\\'><a href=\\'http://www.textologia.ru/slovari/lingvisticheskie-terminy/nepolnoglasie/?q=486&n=1061\\'>Неполногласие</a></div>\\r\\n\\t<div class=\\'list_aut\\'><a href=\\'http://www.textologia.ru/slovari/lingvisticheskie-terminy/nepolnoglasnie-sochetaniya/?q=486&n=2237\\'>Неполногласные сочетания</a></div>\\r\\n\\t<div class=\\'list_aut\\'><a href=\\'http://www.textologia.ru/slovari/lingvisticheskie-terminy/nepolnoe-predlozhenie/?q=486&n=1062\\'>Неполное предложение</a></div>\\r\\n\\t<div class=\\'list_aut\\'><a href=\\'http://www.textologia.ru/slovari/lingvisticheskie-terminy/nepolnoe-smyagchenie/?q=486&n=1758\\'>Неполное смягчение</a></div>\\r\\n\\t<div class=\\'list_aut\\'><a href=\\'http://www.textologia.ru/slovari/lingvisticheskie-terminy/neposredstvenno-sostavlyayuschie/?q=486&n=1063\\'>Непосредственно составляющие</a></div>\\r\\n\\t<div class=\\'list_aut\\'><a href=\\'http://www.textologia.ru/slovari/lingvisticheskie-terminy/nepredikativnie-kategorii-glagola/?q=486&n=1064\\'>Непредикативные категории глагола</a></div>\\r\\n\\t<div class=\\'list_aut\\'><a href=\\'http://www.textologia.ru/slovari/lingvisticheskie-terminy/nepredikativnie-formi-glagola/?q=486&n=1065\\'>Непредикативные формы глагола</a></div>\\r\\n\\t<div class=\\'list_aut\\'><a href=\\'http://www.textologia.ru/slovari/lingvisticheskie-terminy/neprikritiy-slog/?q=486&n=1066\\'>Неприкрытый слог</a></div>\\r\\n\\t<div class=\\'list_aut\\'><a href=\\'http://www.textologia.ru/slovari/lingvisticheskie-terminy/neproiznosimie-soglasnie/?q=486&n=1067\\'>Непроизносимые согласные</a></div>\\r\\n\\t<div class=\\'list_aut\\'><a href=\\'http://www.textologia.ru/slovari/lingvisticheskie-terminy/nerasprostranennoe-predlozhenie/?q=486&n=1068\\'>Нераспространенное предложение</a></div>\\r\\n\\t<div class=\\'list_aut\\'><a href=\\'http://www.textologia.ru/slovari/lingvisticheskie-terminy/nerasprostranenniy-chlen-predlozheniya/?q=486&n=1069\\'>Нераспространенный член предложения</a></div>\\r\\n\\t<div class=\\'list_aut\\'><a href=\\'http://www.textologia.ru/slovari/lingvisticheskie-terminy/neraschlenennoe-slozhnopodchinennoe-predlozhenie/?q=486&n=1070\\'>Нерасчлененное сложноподчиненное предложение</a></div>\\r\\n\\t<div class=\\'list_aut\\'><a href=\\'http://www.textologia.ru/slovari/lingvisticheskie-terminy/neraschlenyaemoe-predlozhenie/?q=486&n=1071\\'>Нерасчленяемое предложение</a></div>\\r\\n\\t<div class=\\'list_aut\\'><a href=\\'http://www.textologia.ru/slovari/lingvisticheskie-terminy/nesintaksicheskie-kategorii/?q=486&n=1072\\'>Несинтаксические категории</a></div>\\r\\n\\t<div class=\\'list_aut\\'><a href=\\'http://www.textologia.ru/slovari/lingvisticheskie-terminy/nesklonyaemie-suschestvitelnie/?q=486&n=1073\\'>Несклоняемые существительные</a></div>\\r\\n\\t<div class=\\'list_aut\\'><a href=\\'http://www.textologia.ru/slovari/lingvisticheskie-terminy/neslogovoy-glasniy/?q=486&n=1074\\'>Неслоговой гласный</a></div>\\r\\n\\t<div class=\\'list_aut\\'><a href=\\'http://www.textologia.ru/slovari/lingvisticheskie-terminy/nesobstvenno-pryamaya-rech/?q=486&n=1075\\'>Несобственно-прямая речь</a></div>\\r\\n\\t<div class=\\'list_aut\\'><a href=\\'http://www.textologia.ru/slovari/lingvisticheskie-terminy/nesoglasovannoe-glagolnoe-skazuemoe/?q=486&n=1076\\'>Несогласованное глагольное сказуемое</a></div>\\r\\n\\t<div class=\\'list_aut\\'><a href=\\'http://www.textologia.ru/slovari/lingvisticheskie-terminy/nesochetaemost/?q=486&n=1077\\'>Несочетаемость</a></div>\\r\\n\\t<div class=\\'list_aut\\'><a href=\\'http://www.textologia.ru/slovari/lingvisticheskie-terminy/nesochetaemost-grammaticheskaya/?q=486&n=1078\\'>Несочетаемость грамматическая</a></div>\\r\\n\\t<div class=\\'list_aut\\'><a href=\\'http://www.textologia.ru/slovari/lingvisticheskie-terminy/nesochetaemost-leksikosintaksicheskaya/?q=486&n=1079\\'>Несочетаемость лексико-синтаксическая</a></div>\\r\\n\\t<div class=\\'list_aut\\'><a href=\\'http://www.textologia.ru/slovari/lingvisticheskie-terminy/nespryagaemie-imennie-nepredikativnie-formi-glagola/?q=486&n=1080\\'>Неспрягаемые (именные, непредикативные) формы глагола</a></div>\\r\\n\\t<div class=\\'list_aut\\'><a href=\\'http://www.textologia.ru/slovari/lingvisticheskie-terminy/neudarenniy-neudaryaemiy-glasniy/?q=486&n=1081\\'>Неударенный (неударяемый) гласный</a></div>\\r\\n\\t<div class=\\'list_aut\\'><a href=\\'http://www.textologia.ru/slovari/lingvisticheskie-terminy/nechlenimie-predlozheniya/?q=486&n=1082\\'>Нечленимые предложения</a></div>\\r\\n\\t<div class=\\'list_aut\\'><a href=\\'http://www.textologia.ru/slovari/lingvisticheskie-terminy/nechlennoe-prilagatelnoe/?q=486&n=1083\\'>Нечленное прилагательное</a></div>\\r\\n\\t<div class=\\'list_aut\\'><a href=\\'http://www.textologia.ru/slovari/lingvisticheskie-terminy/nebno-zubnie-soglasnie/?q=486&n=1043\\'>Нёбно-зубные согласные</a></div>\\r\\n\\t<div class=\\'list_aut\\'><a href=\\'http://www.textologia.ru/slovari/lingvisticheskie-terminy/nigero-kongolezskie-yaziki/?q=486&n=2236\\'>Нигеро-конголезские языки</a></div>\\r\\n\\t<div class=\\'list_aut\\'><a href=\\'http://www.textologia.ru/slovari/lingvisticheskie-terminy/nikobarskiy-yazik/?q=486&n=2235\\'>Никобарский язык</a></div>\\r\\n\\t<div class=\\'list_aut\\'><a href=\\'http://www.textologia.ru/slovari/lingvisticheskie-terminy/nilotskie-yaziki/?q=486&n=2234\\'>Нилотские языки</a></div>\\r\\n\\t<div class=\\'list_aut\\'><a href=\\'http://www.textologia.ru/slovari/lingvisticheskie-terminy/nomenklatura/?q=486&n=1084\\'>Номенклатура</a></div>\\r\\n\\t<div class=\\'list_aut\\'><a href=\\'http://www.textologia.ru/slovari/lingvisticheskie-terminy/nominativ/?q=486&n=1085\\'>Номинатив</a></div>\\r\\n\\t<div class=\\'list_aut\\'><a href=\\'http://www.textologia.ru/slovari/lingvisticheskie-terminy/nominativnoe-predlozhenie/?q=486&n=1086\\'>Номинативное предложение</a></div>\\r\\n\\t<div class=\\'list_aut\\'><a href=\\'http://www.textologia.ru/slovari/lingvisticheskie-terminy/nominativnoe-predlozhenie-bytiynoe/?q=486&n=2132\\'>Номинативное предложение бытийное (экзистенциальное)</a></div>\\r\\n\\t<div class=\\'list_aut\\'><a href=\\'http://www.textologia.ru/slovari/lingvisticheskie-terminy/nominativnoe-predlozhenie-nazivnoe/?q=486&n=1088\\'>Номинативное предложение назывное</a></div>\\r\\n\\t<div class=\\'list_aut\\'><a href=\\'http://www.textologia.ru/slovari/lingvisticheskie-terminy/nominativnoe-predlozhenie-ukazatelnoe/?q=486&n=1087\\'>Номинативное предложение указательное</a></div>\\r\\n\\t<div class=\\'list_aut\\'><a href=\\'http://www.textologia.ru/slovari/lingvisticheskie-terminy/nominaciya/?q=486&n=2233\\'>Номинация</a></div>\\r\\n\\t<div class=\\'list_aut\\'><a href=\\'http://www.textologia.ru/slovari/lingvisticheskie-terminy/norma/?q=486&n=1089\\'>Норма</a></div>\\r\\n\\t<div class=\\'list_aut\\'><a href=\\'http://www.textologia.ru/slovari/lingvisticheskie-terminy/normativnie-fleksii/?q=486&n=1090\\'>Нормативные флексии</a></div>\\r\\n\\t<div class=\\'list_aut\\'><a href=\\'http://www.textologia.ru/slovari/lingvisticheskie-terminy/nosovie-glasnie/?q=486&n=1091\\'>Носовые гласные</a></div>\\r\\n\\t<div class=\\'list_aut\\'><a href=\\'http://www.textologia.ru/slovari/lingvisticheskie-terminy/nosovie-soglasnie/?q=486&n=1092\\'>Носовые согласные</a></div>\\r\\n\\t<div class=\\'list_aut\\'><a href=\\'http://www.textologia.ru/slovari/lingvisticheskie-terminy/nulevaya-morfema/?q=486&n=1093\\'>Нулевая морфема</a></div>\\r\\n\\t<div class=\\'list_aut\\'><a href=\\'http://www.textologia.ru/slovari/lingvisticheskie-terminy/nulevaya-svyazka/?q=486&n=1094\\'>Нулевая связка</a></div>\\r\\n\\t<div class=\\'list_aut\\'><a href=\\'http://www.textologia.ru/slovari/lingvisticheskie-terminy/nulevaya-fleksiya/?q=486&n=1095\\'>Нулевая флексия</a></div>\\r\\n\\t<div class=\\'list_aut\\'><a href=\\'http://www.textologia.ru/slovari/lingvisticheskie-terminy/nulevaya-forma/?q=486&n=1096\\'>Нулевая форма</a></div>\\r\\n\\t<div class=\\'list_aut\\'><a href=\\'http://www.textologia.ru/slovari/lingvisticheskie-terminy/nulevoe-skazuemoe/?q=486&n=1097\\'>Нулевое сказуемое</a></div>\\r\\n\\t<div class=\\'list_aut\\'><a href=\\'http://www.textologia.ru/slovari/lingvisticheskie-terminy/nulevoy-affiks/?q=486&n=1098\\'>Нулевой аффикс</a></div>\\r\\n\\t<div class=\\'list_aut\\'><a href=\\'http://www.textologia.ru/slovari/lingvisticheskie-terminy/nul-zvuka/?q=486&n=1099\\'>Нуль звука</a></div>\\r\\n\\t<div class=\\'list_aut\\'><a href=\\'http://www.textologia.ru/slovari/lingvisticheskie-terminy/numeralizaciya/?q=486&n=1100\\'>Нумерализация</a></div>\\r\\n\\t<div class=\\'list_aut\\'><a href=\\'http://www.textologia.ru/slovari/lingvisticheskie-terminy/nuristanskiie-yaziki/?q=486&n=2232\\'>Нуристанскиие языки</a></div>\\r\\n\\t<div style=\"margin: 7px 0 5px 0;\"><b>О</b></div><div class=\\'list_aut\\'><a href=\\'http://www.textologia.ru/slovari/lingvisticheskie-terminy/obihodniy-obihodno-bitovoy/?q=486&n=1101\\'>Обиходный (обиходно-бытовой)</a></div>\\r\\n\\t<div class=\\'list_aut\\'><a href=\\'http://www.textologia.ru/slovari/lingvisticheskie-terminy/ooblastnoy-dialekt/?q=486&n=1102\\'>Областной диалект</a></div>\\r\\n\\t<div class=\\'list_aut\\'><a href=\\'http://www.textologia.ru/slovari/lingvisticheskie-terminy/oblastnoy-slovar/?q=486&n=1103\\'>Областной словарь</a></div>\\r\\n\\t<div class=\\'list_aut\\'><a href=\\'http://www.textologia.ru/slovari/lingvisticheskie-terminy/obobschayuschie-slova/?q=486&n=1104\\'>Обобщающие слова</a></div>\\r\\n\\t<div class=\\'list_aut\\'><a href=\\'http://www.textologia.ru/slovari/lingvisticheskie-terminy/obobschenno-lichnoe-predlozhenie/?q=486&n=1105\\'>Обобщенно-личное предложение</a></div>\\r\\n\\t<div class=\\'list_aut\\'><a href=\\'http://www.textologia.ru/slovari/lingvisticheskie-terminy/oboznachaemoe/?q=486&n=1106\\'>Обозначаемое</a></div>\\r\\n\\t<div class=\\'list_aut\\'><a href=\\'http://www.textologia.ru/slovari/lingvisticheskie-terminy/oboznachayuschee/?q=486&n=1107\\'>Обозначающее</a></div>\\r\\n\\t<div class=\\'list_aut\\'><a href=\\'http://www.textologia.ru/slovari/lingvisticheskie-terminy/oborot/?q=486&n=1108\\'>Оборот</a></div>\\r\\n\\t<div class=\\'list_aut\\'><a href=\\'http://www.textologia.ru/slovari/lingvisticheskie-terminy/obosoblenie/?q=486&n=1109\\'>Обособление</a></div>\\r\\n\\t<div class=\\'list_aut\\'><a href=\\'http://www.textologia.ru/slovari/lingvisticheskie-terminy/obosoblennie-dopolneniya/?q=486&n=1110\\'>Обособленные дополнения</a></div>\\r\\n\\t<div class=\\'list_aut\\'><a href=\\'http://www.textologia.ru/slovari/lingvisticheskie-terminy/obosoblennie-obstoyatelstva/?q=486&n=1111\\'>Обособленные обстоятельства</a></div>\\r\\n\\t<div class=\\'list_aut\\'><a href=\\'http://www.textologia.ru/slovari/lingvisticheskie-terminy/obosoblennie-opredeleniya/?q=486&n=1112\\'>Обособленные определения</a></div>\\r\\n\\t<div class=\\'list_aut\\'><a href=\\'http://www.textologia.ru/slovari/lingvisticheskie-terminy/obosoblennie-prilozheniya/?q=486&n=1113\\'>Обособленные приложения</a></div>\\r\\n\\t<div class=\\'list_aut\\'><a href=\\'http://www.textologia.ru/slovari/lingvisticheskie-terminy/obratimost-obratimie-otnosheniya/?q=486&n=1114\\'>Обратимость (обратимые отношения)</a></div>\\r\\n\\t<div class=\\'list_aut\\'><a href=\\'http://www.textologia.ru/slovari/lingvisticheskie-terminy/obratnoe-slovoobrazovanie/?q=486&n=1115\\'>Обратное словообразование</a></div>\\r\\n\\t<div class=\\'list_aut\\'><a href=\\'http://www.textologia.ru/slovari/lingvisticheskie-terminy/obratnoe-soglasovanie/?q=486&n=1116\\'>Обратное согласование</a></div>\\r\\n\\t<div class=\\'list_aut\\'><a href=\\'http://www.textologia.ru/slovari/lingvisticheskie-terminy/obratniy-slovar/?q=486&n=1117\\'>Обратный словарь</a></div>\\r\\n\\t<div class=\\'list_aut\\'><a href=\\'http://www.textologia.ru/slovari/lingvisticheskie-terminy/obraschenie/?q=486&n=1118\\'>Обращение</a></div>\\r\\n\\t<div class=\\'list_aut\\'><a href=\\'http://www.textologia.ru/slovari/lingvisticheskie-terminy/obstoyatelstvennoe-dopolnenie/?q=486&n=1119\\'>Обстоятельственное дополнение</a></div>\\r\\n\\t<div class=\\'list_aut\\'><a href=\\'http://www.textologia.ru/slovari/lingvisticheskie-terminy/obstoyatelstvennoe-opredelenie/?q=486&n=1120\\'>Обстоятельственное определение</a></div>\\r\\n\\t<div class=\\'list_aut\\'><a href=\\'http://www.textologia.ru/slovari/lingvisticheskie-terminy/obstoyatelstvennie-narechiya/?q=486&n=1121\\'>Обстоятельственные наречия</a></div>\\r\\n\\t<div class=\\'list_aut\\'><a href=\\'http://www.textologia.ru/slovari/lingvisticheskie-terminy/obstoyatelstvennie-otnosheniya/?q=486&n=1122\\'>Обстоятельственные отношения</a></div>\\r\\n\\t<div class=\\'list_aut\\'><a href=\\'http://www.textologia.ru/slovari/lingvisticheskie-terminy/obstoyatelstvo/?q=486&n=1123\\'>Обстоятельство</a></div>\\r\\n\\t<div class=\\'list_aut\\'><a href=\\'http://www.textologia.ru/slovari/lingvisticheskie-terminy/obscheotricatelnoe-predlozhenie/?q=486&n=1125\\'>Общеотрицательное предложение</a></div>\\r\\n\\t<div class=\\'list_aut\\'><a href=\\'http://www.textologia.ru/slovari/lingvisticheskie-terminy/obscheslavyanskaya-leksika/?q=486&n=1126\\'>Общеславянская лексика</a></div>\\r\\n\\t<div class=\\'list_aut\\'><a href=\\'http://www.textologia.ru/slovari/lingvisticheskie-terminy/obscheupotrebitelnaya-mezhstilevaya-leksika/?q=486&n=1127\\'>Общеупотребительная межстилевая лексика</a></div>\\r\\n\\t<div class=\\'list_aut\\'><a href=\\'http://www.textologia.ru/slovari/lingvisticheskie-terminy/obschiy-rod/?q=486&n=1128\\'>Общий род</a></div>\\r\\n\\t<div class=\\'list_aut\\'><a href=\\'http://www.textologia.ru/slovari/lingvisticheskie-terminy/obekt/?q=486&n=1129\\'>Объект</a></div>\\r\\n\\t<div class=\\'list_aut\\'><a href=\\'http://www.textologia.ru/slovari/lingvisticheskie-terminy/obektivnaya-modalnost/?q=486&n=1130\\'>Объективная модальность</a></div>\\r\\n\\t<div class=\\'list_aut\\'><a href=\\'http://www.textologia.ru/slovari/lingvisticheskie-terminy/obektnie-otnosheniya/?q=486&n=1131\\'>Объектные отношения</a></div>\\r\\n\\t<div class=\\'list_aut\\'><a href=\\'http://www.textologia.ru/slovari/lingvisticheskie-terminy/obektniy-infinitiv/?q=486&n=1132\\'>Объектный инфинитив</a></div>\\r\\n\\t<div class=\\'list_aut\\'><a href=\\'http://www.textologia.ru/slovari/lingvisticheskie-terminy/ogamicheskoe-pismo/?q=486&n=2272\\'>Огамическое письмо</a></div>\\r\\n\\t<div class=\\'list_aut\\'><a href=\\'http://www.textologia.ru/slovari/lingvisticheskie-terminy/oglushenie-soglasnih/?q=486&n=1133\\'>Оглушение согласных</a></div>\\r\\n\\t<div class=\\'list_aut\\'><a href=\\'http://www.textologia.ru/slovari/lingvisticheskie-terminy/ogranichitelnie-videlitelno-ogranichitelnie-chastici/?q=486&n=1134\\'>Ограничительные (выделительно-ограничительные) частицы</a></div>\\r\\n\\t<div class=\\'list_aut\\'><a href=\\'http://www.textologia.ru/slovari/lingvisticheskie-terminy/ogublenie/?q=486&n=1135\\'>Огубление</a></div>\\r\\n\\t<div class=\\'list_aut\\'><a href=\\'http://www.textologia.ru/slovari/lingvisticheskie-terminy/odnovidovie-glagoli/?q=486&n=1136\\'>Одновидовые глаголы</a></div>\\r\\n\\t<div class=\\'list_aut\\'><a href=\\'http://www.textologia.ru/slovari/lingvisticheskie-terminy/odnoznachnost-monosemiya/?q=486&n=1137\\'>Однозначность (моносемия)</a></div>\\r\\n\\t<div class=\\'list_aut\\'><a href=\\'http://www.textologia.ru/slovari/lingvisticheskie-terminy/odnokorennie-sinonimi/?q=486&n=1138\\'>Однокоренные синонимы</a></div>\\r\\n\\t<div class=\\'list_aut\\'><a href=\\'http://www.textologia.ru/slovari/lingvisticheskie-terminy/odnokorennie-slova/?q=486&n=1139\\'>Однокоренные слова</a></div>\\r\\n\\t<div class=\\'list_aut\\'><a href=\\'http://www.textologia.ru/slovari/lingvisticheskie-terminy/odnokornevie-slova/?q=486&n=1140\\'>Однокорневые слова</a></div>\\r\\n\\t<div class=\\'list_aut\\'><a href=\\'http://www.textologia.ru/slovari/lingvisticheskie-terminy/odnokratniy-podvid/?q=486&n=1141\\'>Однократный подвид</a></div>\\r\\n\\t<div class=\\'list_aut\\'><a href=\\'http://www.textologia.ru/slovari/lingvisticheskie-terminy/odnorodnoe-sopodchinenie/?q=486&n=1142\\'>Однородное соподчинение</a></div>\\r\\n\\t<div class=\\'list_aut\\'><a href=\\'http://www.textologia.ru/slovari/lingvisticheskie-terminy/odnorodnie-opredeleniya/?q=486&n=1143\\'>Однородные определения</a></div>\\r\\n\\t<div class=\\'list_aut\\'><a href=\\'http://www.textologia.ru/slovari/lingvisticheskie-terminy/odnorodnie-chleni-predlozheniya/?q=486&n=1144\\'>Однородные члены предложения</a></div>\\r\\n\\t<div class=\\'list_aut\\'><a href=\\'http://www.textologia.ru/slovari/lingvisticheskie-terminy/odnosostavnie-predlozheniya/?q=486&n=1145\\'>Односоставные предложения</a></div>\\r\\n\\t<div class=\\'list_aut\\'><a href=\\'http://www.textologia.ru/slovari/lingvisticheskie-terminy/odnochlennoe-neraschlenennoe-slozhnopodchinennoe-predlozhenie/?q=486&n=1146\\'>Одночленное (нерасчлененное) сложноподчиненное предложение</a></div>\\r\\n\\t<div class=\\'list_aut\\'><a href=\\'http://www.textologia.ru/slovari/lingvisticheskie-terminy/odnochlennoe-sopodchinenie/?q=486&n=1147\\'>Одночленное соподчинение</a></div>\\r\\n\\t<div class=\\'list_aut\\'><a href=\\'http://www.textologia.ru/slovari/lingvisticheskie-terminy/odushevlennost/?q=486&n=1148\\'>Одушевленность</a></div>\\r\\n\\t<div class=\\'list_aut\\'><a href=\\'http://www.textologia.ru/slovari/lingvisticheskie-terminy/odushevlennie-suschestvitelnie/?q=486&n=1149\\'>Одушевленные существительные</a></div>\\r\\n\\t<div class=\\'list_aut\\'><a href=\\'http://www.textologia.ru/slovari/lingvisticheskie-terminy/ozvonchenie-soglasnih/?q=486&n=1150\\'>Озвончение согласных</a></div>\\r\\n\\t<div class=\\'list_aut\\'><a href=\\'http://www.textologia.ru/slovari/lingvisticheskie-terminy/oznachayuschee/?q=486&n=2271\\'>Означающее</a></div>\\r\\n\\t<div class=\\'list_aut\\'><a href=\\'http://www.textologia.ru/slovari/lingvisticheskie-terminy/oykonim/?q=486&n=2340\\'>Ойконим</a></div>\\r\\n\\t<div class=\\'list_aut\\'><a href=\\'http://www.textologia.ru/slovari/lingvisticheskie-terminy/okane/?q=486&n=1151\\'>Оканье</a></div>\\r\\n\\t<div class=\\'list_aut\\'><a href=\\'http://www.textologia.ru/slovari/lingvisticheskie-terminy/okkazionalizm/?q=486&n=1152\\'>Окказионализм</a></div>\\r\\n\\t<div class=\\'list_aut\\'><a href=\\'http://www.textologia.ru/slovari/lingvisticheskie-terminy/okkazionalniy/?q=486&n=1153\\'>Окказиональный</a></div>\\r\\n\\t<div class=\\'list_aut\\'><a href=\\'http://www.textologia.ru/slovari/lingvisticheskie-terminy/okonchanie-fleksiya/?q=486&n=1154\\'>Окончание (флексия)</a></div>\\r\\n\\t<div class=\\'list_aut\\'><a href=\\'http://www.textologia.ru/slovari/lingvisticheskie-terminy/okraska/?q=486&n=1155\\'>Окраска</a></div>\\r\\n\\t<div class=\\'list_aut\\'><a href=\\'http://www.textologia.ru/slovari/lingvisticheskie-terminy/oksidental/?q=486&n=1156\\'>Оксиденталь</a></div>\\r\\n\\t<div class=\\'list_aut\\'><a href=\\'http://www.textologia.ru/slovari/lingvisticheskie-terminy/oksyumoron/?q=486&n=1157\\'>Оксюморон</a></div>\\r\\n\\t<div class=\\'list_aut\\'><a href=\\'http://www.textologia.ru/slovari/lingvisticheskie-terminy/olicetvorenie/?q=486&n=1158\\'>Олицетворение</a></div>\\r\\n\\t<div class=\\'list_aut\\'><a href=\\'http://www.textologia.ru/slovari/lingvisticheskie-terminy/omografi/?q=486&n=1159\\'>Омографы</a></div>\\r\\n\\t<div class=\\'list_aut\\'><a href=\\'http://www.textologia.ru/slovari/lingvisticheskie-terminy/omomorfemi/?q=486&n=1160\\'>Омоморфемы</a></div>\\r\\n\\t<div class=\\'list_aut\\'><a href=\\'http://www.textologia.ru/slovari/lingvisticheskie-terminy/omonimika/?q=486&n=1161\\'>Омонимика</a></div>\\r\\n\\t<div class=\\'list_aut\\'><a href=\\'http://www.textologia.ru/slovari/lingvisticheskie-terminy/omonimiya/?q=486&n=1162\\'>Омонимия</a></div>\\r\\n\\t<div class=\\'list_aut\\'><a href=\\'http://www.textologia.ru/slovari/lingvisticheskie-terminy/omonimiya-grammaticheskaya/?q=486&n=1163\\'>Омонимия грамматическая</a></div>\\r\\n\\t<div class=\\'list_aut\\'><a href=\\'http://www.textologia.ru/slovari/lingvisticheskie-terminy/omonimiya-graficheskaya/?q=486&n=1164\\'>Омонимия графическая</a></div>\\r\\n\\t<div class=\\'list_aut\\'><a href=\\'http://www.textologia.ru/slovari/lingvisticheskie-terminy/omonimiya-leksicheskaya/?q=486&n=1165\\'>Омонимия лексическая</a></div>\\r\\n\\t<div class=\\'list_aut\\'><a href=\\'http://www.textologia.ru/slovari/lingvisticheskie-terminy/omonimiya-sintaksicheskaya/?q=486&n=1166\\'>Омонимия синтаксическая</a></div>\\r\\n\\t<div class=\\'list_aut\\'><a href=\\'http://www.textologia.ru/slovari/lingvisticheskie-terminy/omonimiya-slovoobrazovatelnaya/?q=486&n=1167\\'>Омонимия словообразовательная</a></div>\\r\\n\\t<div class=\\'list_aut\\'><a href=\\'http://www.textologia.ru/slovari/lingvisticheskie-terminy/omonimiya-foneticheskaya/?q=486&n=1168\\'>Омонимия фонетическая</a></div>\\r\\n\\t<div class=\\'list_aut\\'><a href=\\'http://www.textologia.ru/slovari/lingvisticheskie-terminy/omonimi/?q=486&n=1169\\'>Омонимы</a></div>\\r\\n\\t<div class=\\'list_aut\\'><a href=\\'http://www.textologia.ru/slovari/lingvisticheskie-terminy/omonimi-polnie-absolyutnie/?q=486&n=1170\\'>Омонимы полные (абсолютные)</a></div>\\r\\n\\t<div class=\\'list_aut\\'><a href=\\'http://www.textologia.ru/slovari/lingvisticheskie-terminy/omonimi-chastichnie/?q=486&n=1171\\'>Омонимы частичные</a></div>\\r\\n\\t<div class=\\'list_aut\\'><a href=\\'http://www.textologia.ru/slovari/lingvisticheskie-terminy/omofoni/?q=486&n=1172\\'>Омофоны</a></div>\\r\\n\\t<div class=\\'list_aut\\'><a href=\\'http://www.textologia.ru/slovari/lingvisticheskie-terminy/omoformi/?q=486&n=1173\\'>Омоформы</a></div>\\r\\n\\t<div class=\\'list_aut\\'><a href=\\'http://www.textologia.ru/slovari/lingvisticheskie-terminy/onomastika/?q=486&n=1174\\'>Ономастика</a></div>\\r\\n\\t<div class=\\'list_aut\\'><a href=\\'http://www.textologia.ru/slovari/lingvisticheskie-terminy/onomatopeya/?q=486&n=1175\\'>Ономатопея</a></div>\\r\\n\\t<div class=\\'list_aut\\'><a href=\\'http://www.textologia.ru/slovari/lingvisticheskie-terminy/opisatelnaya-lingvistika/?q=486&n=1176\\'>Описательная лингвистика</a></div>\\r\\n\\t<div class=\\'list_aut\\'><a href=\\'http://www.textologia.ru/slovari/lingvisticheskie-terminy/opornoe-slovo-slovosochetaniya/?q=486&n=1177\\'>Опорное слово словосочетания</a></div>\\r\\n\\t<div class=\\'list_aut\\'><a href=\\'http://www.textologia.ru/slovari/lingvisticheskie-terminy/oppoziciya/?q=486&n=1178\\'>Оппозиция</a></div>\\r\\n\\t<div class=\\'list_aut\\'><a href=\\'http://www.textologia.ru/slovari/lingvisticheskie-terminy/opredelenie/?q=486&n=1179\\'>Определение</a></div>\\r\\n\\t<div class=\\'list_aut\\'><a href=\\'http://www.textologia.ru/slovari/lingvisticheskie-terminy/opredelenie-soglasovannoe/?q=486&n=1180\\'>Определение согласованное</a></div>\\r\\n\\t<div class=\\'list_aut\\'><a href=\\'http://www.textologia.ru/slovari/lingvisticheskie-terminy/opredeleniya-ne-odnorodnie/?q=486&n=1182\\'>Определения не однородные</a></div>\\r\\n\\t<div class=\\'list_aut\\'><a href=\\'http://www.textologia.ru/slovari/lingvisticheskie-terminy/opredeleniya-odnorodnie/?q=486&n=1181\\'>Определения однородные</a></div>\\r\\n\\t<div class=\\'list_aut\\'><a href=\\'http://www.textologia.ru/slovari/lingvisticheskie-terminy/opredelenno-kolichestvennie-chislitelnie/?q=486&n=1183\\'>Определенно-количественные числительные</a></div>\\r\\n\\t<div class=\\'list_aut\\'><a href=\\'http://www.textologia.ru/slovari/lingvisticheskie-terminy/opredelenno-lichnoe-predlozhenie/?q=486&n=1184\\'>Определенно-личное предложение</a></div>\\r\\n\\t<div class=\\'list_aut\\'><a href=\\'http://www.textologia.ru/slovari/lingvisticheskie-terminy/opredelenniy-artikl/?q=486&n=1185\\'>Определенный артикль</a></div>\\r\\n\\t<div class=\\'list_aut\\'><a href=\\'http://www.textologia.ru/slovari/lingvisticheskie-terminy/opredelitelno-utochnitelnie-chastici/?q=486&n=1187\\'>Определительно-уточнительные частицы</a></div>\\r\\n\\t<div class=\\'list_aut\\'><a href=\\'http://www.textologia.ru/slovari/lingvisticheskie-terminy/opredelitelnoe-dopolnenie/?q=486&n=1186\\'>Определительное дополнение</a></div>\\r\\n\\t<div class=\\'list_aut\\'><a href=\\'http://www.textologia.ru/slovari/lingvisticheskie-terminy/opredelitelnie-mestoimeniya/?q=486&n=1188\\'>Определительные местоимения</a></div>\\r\\n\\t<div class=\\'list_aut\\'><a href=\\'http://www.textologia.ru/slovari/lingvisticheskie-terminy/opredelitelnie-narechiya/?q=486&n=1189\\'>Определительные наречия</a></div>\\r\\n\\t<div class=\\'list_aut\\'><a href=\\'http://www.textologia.ru/slovari/lingvisticheskie-terminy/opredelitelnie-otnosheniya/?q=486&n=1190\\'>Определительные отношения</a></div>\\r\\n\\t<div class=\\'list_aut\\'><a href=\\'http://www.textologia.ru/slovari/lingvisticheskie-terminy/oproschenie/?q=486&n=1191\\'>Опрощение</a></div>\\r\\n\\t<div class=\\'list_aut\\'><a href=\\'http://www.textologia.ru/slovari/lingvisticheskie-terminy/organi-rechi/?q=486&n=1192\\'>Органы речи</a></div>\\r\\n\\t<div class=\\'list_aut\\'><a href=\\'http://www.textologia.ru/slovari/lingvisticheskie-terminy/organi-rechi-aktivnie/?q=486&n=1193\\'>Органы речи активные</a></div>\\r\\n\\t<div class=\\'list_aut\\'><a href=\\'http://www.textologia.ru/slovari/lingvisticheskie-terminy/orfogramma/?q=486&n=1194\\'>Орфограмма</a></div>\\r\\n\\t<div class=\\'list_aut\\'><a href=\\'http://www.textologia.ru/slovari/lingvisticheskie-terminy/orfograficheskiy-razbor/?q=486&n=1195\\'>Орфографический разбор</a></div>\\r\\n\\t<div class=\\'list_aut\\'><a href=\\'http://www.textologia.ru/slovari/lingvisticheskie-terminy/orfograficheskiy-slovar/?q=486&n=1680\\'>Орфографический словарь</a></div>\\r\\n\\t<div class=\\'list_aut\\'><a href=\\'http://www.textologia.ru/slovari/lingvisticheskie-terminy/orfografiya/?q=486&n=1197\\'>Орфография</a></div>\\r\\n\\t<div class=\\'list_aut\\'><a href=\\'http://www.textologia.ru/slovari/lingvisticheskie-terminy/orfoepicheskiy-slovar/?q=486&n=1681\\'>Орфоэпический словарь</a></div>\\r\\n\\t<div class=\\'list_aut\\'><a href=\\'http://www.textologia.ru/slovari/lingvisticheskie-terminy/orfoepiya/?q=486&n=1199\\'>Орфоэпия</a></div>\\r\\n\\t<div class=\\'list_aut\\'><a href=\\'http://www.textologia.ru/slovari/lingvisticheskie-terminy/oslozhnennoe-glagolnoe-skazuemoe/?q=486&n=1200\\'>Осложненное глагольное сказуемое</a></div>\\r\\n\\t<div class=\\'list_aut\\'><a href=\\'http://www.textologia.ru/slovari/lingvisticheskie-terminy/oslozhnennoe-prostoe-predlozhenie/?q=486&n=1201\\'>Осложненное простое предложение</a></div>\\r\\n\\t<div class=\\'list_aut\\'><a href=\\'http://www.textologia.ru/slovari/lingvisticheskie-terminy/osnova-viskazivaniya/?q=486&n=1202\\'>Основа высказывания</a></div>\\r\\n\\t<div class=\\'list_aut\\'><a href=\\'http://www.textologia.ru/slovari/lingvisticheskie-terminy/osnova-neproizvodnaya/?q=486&n=1204\\'>Основа непроизводная</a></div>\\r\\n\\t<div class=\\'list_aut\\'><a href=\\'http://www.textologia.ru/slovari/lingvisticheskie-terminy/osnova-proizvodnaya/?q=486&n=1205\\'>Основа производная</a></div>\\r\\n\\t<div class=\\'list_aut\\'><a href=\\'http://www.textologia.ru/slovari/lingvisticheskie-terminy/osnova-proizvodyaschaya-obrazuyuschaya/?q=486&n=1206\\'>Основа производящая (образующая)</a></div>\\r\\n\\t<div class=\\'list_aut\\'><a href=\\'http://www.textologia.ru/slovari/lingvisticheskie-terminy/osnova-svobodnaya/?q=486&n=1207\\'>Основа свободная</a></div>\\r\\n\\t<div class=\\'list_aut\\'><a href=\\'http://www.textologia.ru/slovari/lingvisticheskie-terminy/osnova-svyazannaya/?q=486&n=1208\\'>Основа связанная</a></div>\\r\\n\\t<div class=\\'list_aut\\'><a href=\\'http://www.textologia.ru/slovari/lingvisticheskie-terminy/osnova-slova/?q=486&n=1203\\'>Основа слова</a></div>\\r\\n\\t<div class=\\'list_aut\\'><a href=\\'http://www.textologia.ru/slovari/lingvisticheskie-terminy/osnovnaya-chast-predlozheniya/?q=486&n=1209\\'>Основная часть предложения</a></div>\\r\\n\\t<div class=\\'list_aut\\'><a href=\\'http://www.textologia.ru/slovari/lingvisticheskie-terminy/osnovnoe-udarenie/?q=486&n=1210\\'>Основное ударение</a></div>\\r\\n\\t<div class=\\'list_aut\\'><a href=\\'http://www.textologia.ru/slovari/lingvisticheskie-terminy/osnovnoy-vid-fonemi/?q=486&n=1211\\'>Основной вид фонемы</a></div>\\r\\n\\t<div class=\\'list_aut\\'><a href=\\'http://www.textologia.ru/slovari/lingvisticheskie-terminy/osnovnoy-slovarniy-fond/?q=486&n=1212\\'>Основной словарный фонд</a></div>\\r\\n\\t<div class=\\'list_aut\\'><a href=\\'http://www.textologia.ru/slovari/lingvisticheskie-terminy/osnovoslozhenie/?q=486&n=1213\\'>Основосложение</a></div>\\r\\n\\t<div class=\\'list_aut\\'><a href=\\'http://www.textologia.ru/slovari/lingvisticheskie-terminy/osnovi-glagola/?q=486&n=1214\\'>Основы глагола</a></div>\\r\\n\\t<div class=\\'list_aut\\'><a href=\\'http://www.textologia.ru/slovari/lingvisticheskie-terminy/otvlechennaya-svyazka/?q=486&n=1215\\'>Отвлеченная связка</a></div>\\r\\n\\t<div class=\\'list_aut\\'><a href=\\'http://www.textologia.ru/slovari/lingvisticheskie-terminy/otvlechennie-suschestvitelnie/?q=486&n=1216\\'>Отвлеченные существительные</a></div>\\r\\n\\t<div class=\\'list_aut\\'><a href=\\'http://www.textologia.ru/slovari/lingvisticheskie-terminy/otglagolnie-obrazovaniya/?q=486&n=1217\\'>Отглагольные образования</a></div>\\r\\n\\t<div class=\\'list_aut\\'><a href=\\'http://www.textologia.ru/slovari/lingvisticheskie-terminy/otglagolnie-predlogi/?q=486&n=1218\\'>Отглагольные предлоги</a></div>\\r\\n\\t<div class=\\'list_aut\\'><a href=\\'http://www.textologia.ru/slovari/lingvisticheskie-terminy/otglagolnie-prilagatelnie/?q=486&n=1219\\'>Отглагольные прилагательные</a></div>\\r\\n\\t<div class=\\'list_aut\\'><a href=\\'http://www.textologia.ru/slovari/lingvisticheskie-terminy/otglagolnie-suschestvitelnie/?q=486&n=1220\\'>Отглагольные существительные</a></div>\\r\\n\\t<div class=\\'list_aut\\'><a href=\\'http://www.textologia.ru/slovari/lingvisticheskie-terminy/otkritie-strukturi/?q=486&n=1221\\'>Открытые структуры</a></div>\\r\\n\\t<div class=\\'list_aut\\'><a href=\\'http://www.textologia.ru/slovari/lingvisticheskie-terminy/otkritiy-glasniy/?q=486&n=1222\\'>Открытый гласный</a></div>\\r\\n\\t<div class=\\'list_aut\\'><a href=\\'http://www.textologia.ru/slovari/lingvisticheskie-terminy/otkritiy-slovesniy-ryad/?q=486&n=1223\\'>Открытый словесный ряд</a></div>\\r\\n\\t<div class=\\'list_aut\\'><a href=\\'http://www.textologia.ru/slovari/lingvisticheskie-terminy/otkritiy-slog/?q=486&n=1224\\'>Открытый слог</a></div>\\r\\n\\t<div class=\\'list_aut\\'><a href=\\'http://www.textologia.ru/slovari/lingvisticheskie-terminy/otnositelno-voprositelnoe-podchinenie/?q=486&n=1225\\'>Относительно-вопросительное подчинение</a></div>\\r\\n\\t<div class=\\'list_aut\\'><a href=\\'http://www.textologia.ru/slovari/lingvisticheskie-terminy/otnositelnoe-vremya/?q=486&n=1226\\'>Относительное время</a></div>\\r\\n\\t<div class=\\'list_aut\\'><a href=\\'http://www.textologia.ru/slovari/lingvisticheskie-terminy/otnositelnoe-podchinenie/?q=486&n=1227\\'>Относительное подчинение</a></div>\\r\\n\\t<div class=\\'list_aut\\'><a href=\\'http://www.textologia.ru/slovari/lingvisticheskie-terminy/otnositelnoe-slovo/?q=486&n=1228\\'>Относительное слово</a></div>\\r\\n\\t<div class=\\'list_aut\\'><a href=\\'http://www.textologia.ru/slovari/lingvisticheskie-terminy/otricanie/?q=486&n=1229\\'>Отрицание</a></div>\\r\\n\\t<div class=\\'list_aut\\'><a href=\\'http://www.textologia.ru/slovari/lingvisticheskie-terminy/otricatelnoe-predlozhenie/?q=486&n=1230\\'>Отрицательное предложение</a></div>\\r\\n\\t<div class=\\'list_aut\\'><a href=\\'http://www.textologia.ru/slovari/lingvisticheskie-terminy/otstup-rekursiya/?q=486&n=1231\\'>Отступ (рекурсия)</a></div>\\r\\n\\t<div class=\\'list_aut\\'><a href=\\'http://www.textologia.ru/slovari/lingvisticheskie-terminy/ottochie/?q=486&n=1232\\'>Отточие</a></div>\\r\\n\\t<div class=\\'list_aut\\'><a href=\\'http://www.textologia.ru/slovari/lingvisticheskie-terminy/otimennie-obrazovaniya/?q=486&n=1233\\'>Отыменные образования</a></div>\\r\\n\\t<div class=\\'list_aut\\'><a href=\\'http://www.textologia.ru/slovari/lingvisticheskie-terminy/otimennie-predlogi/?q=486&n=1235\\'>Отыменные предлоги</a></div>\\r\\n\\t<div class=\\'list_aut\\'><a href=\\'http://www.textologia.ru/slovari/lingvisticheskie-terminy/otimennie-prilagatelnie/?q=486&n=1234\\'>Отыменные прилагательные</a></div>\\r\\n\\t<div style=\"margin: 7px 0 5px 0;\"><b>П</b></div><div class=\\'list_aut\\'><a href=\\'http://www.textologia.ru/slovari/lingvisticheskie-terminy/padezh/?q=486&n=1236\\'>Падеж</a></div>\\r\\n\\t<div class=\\'list_aut\\'><a href=\\'http://www.textologia.ru/slovari/lingvisticheskie-terminy/padenie-reducirovannih/?q=486&n=1237\\'>Падение редуцированных</a></div>\\r\\n\\t<div class=\\'list_aut\\'><a href=\\'http://www.textologia.ru/slovari/lingvisticheskie-terminy/palayskiy-yazik/?q=486&n=2231\\'>Палайский язык</a></div>\\r\\n\\t<div class=\\'list_aut\\'><a href=\\'http://www.textologia.ru/slovari/lingvisticheskie-terminy/palatalizaciya/?q=486&n=1238\\'>Палатализация</a></div>\\r\\n\\t<div class=\\'list_aut\\'><a href=\\'http://www.textologia.ru/slovari/lingvisticheskie-terminy/palatalizovannie-zvuki/?q=486&n=1239\\'>Палатализованные звуки</a></div>\\r\\n\\t<div class=\\'list_aut\\'><a href=\\'http://www.textologia.ru/slovari/lingvisticheskie-terminy/palatalniy-zvuk/?q=486&n=1240\\'>Палатальный звук</a></div>\\r\\n\\t<div class=\\'list_aut\\'><a href=\\'http://www.textologia.ru/slovari/lingvisticheskie-terminy/paleoaziatskie-yaziki/?q=486&n=1241\\'>Палеоазиатские языки</a></div>\\r\\n\\t<div class=\\'list_aut\\'><a href=\\'http://www.textologia.ru/slovari/lingvisticheskie-terminy/paleografiya/?q=486&n=1242\\'>Палеография</a></div>\\r\\n\\t<div class=\\'list_aut\\'><a href=\\'http://www.textologia.ru/slovari/lingvisticheskie-terminy/pali-yazik/?q=486&n=2230\\'>Пали язык</a></div>\\r\\n\\t\\r\\n  </td>\\r\\n  <td  align=\"left\" valign=\"top\" style=\"padding:0 0 0 20px;\">\\r\\n  <div style=\"margin: 7px 0 5px 0;\"><b>П (продолжение)</b></div><div class=\\'list_aut\\'><a href=\\'http://www.textologia.ru/slovari/lingvisticheskie-terminy/palindrom/?q=486&n=1243\\'>Палиндром</a></div>\\r\\n\\t<div class=\\'list_aut\\'><a href=\\'http://www.textologia.ru/slovari/lingvisticheskie-terminy/pano-takana-yaziki-takapano/?q=486&n=2229\\'>Пано-такана языки (такапано)</a></div>\\r\\n\\t<div class=\\'list_aut\\'><a href=\\'http://www.textologia.ru/slovari/lingvisticheskie-terminy/paradigma/?q=486&n=1244\\'>Парадигма</a></div>\\r\\n\\t<div class=\\'list_aut\\'><a href=\\'http://www.textologia.ru/slovari/lingvisticheskie-terminy/paradigma-predlozheniya/?q=486&n=1245\\'>Парадигма предложения</a></div>\\r\\n\\t<div class=\\'list_aut\\'><a href=\\'http://www.textologia.ru/slovari/lingvisticheskie-terminy/paradigmatika/?q=486&n=1246\\'>Парадигматика</a></div>\\r\\n\\t<div class=\\'list_aut\\'><a href=\\'http://www.textologia.ru/slovari/lingvisticheskie-terminy/paralingvistika/?q=486&n=1247\\'>Паралингвистика</a></div>\\r\\n\\t<div class=\\'list_aut\\'><a href=\\'http://www.textologia.ru/slovari/lingvisticheskie-terminy/parallelizm/?q=486&n=1248\\'>Параллелизм</a></div>\\r\\n\\t<div class=\\'list_aut\\'><a href=\\'http://www.textologia.ru/slovari/lingvisticheskie-terminy/parallelizm-otricatelniy/?q=486&n=1249\\'>Параллелизм отрицательный</a></div>\\r\\n\\t<div class=\\'list_aut\\'><a href=\\'http://www.textologia.ru/slovari/lingvisticheskie-terminy/parallelnoe-podchinenie/?q=486&n=1250\\'>Параллельное подчинение</a></div>\\r\\n\\t<div class=\\'list_aut\\'><a href=\\'http://www.textologia.ru/slovari/lingvisticheskie-terminy/parallelnoe-sopodchinenie/?q=486&n=1251\\'>Параллельное соподчинение</a></div>\\r\\n\\t<div class=\\'list_aut\\'><a href=\\'http://www.textologia.ru/slovari/lingvisticheskie-terminy/parallelnoe-cheredovanie-zvukov/?q=486&n=1252\\'>Параллельное чередование звуков</a></div>\\r\\n\\t<div class=\\'list_aut\\'><a href=\\'http://www.textologia.ru/slovari/lingvisticheskie-terminy/parallelnie-sintaksicheskie-konstrukcii/?q=486&n=1253\\'>Параллельные синтаксические конструкции</a></div>\\r\\n\\t<div class=\\'list_aut\\'><a href=\\'http://www.textologia.ru/slovari/lingvisticheskie-terminy/parallelniy-tip-pozicionnoy-meni-zvukov/?q=486&n=1254\\'>Параллельный тип позиционной мены звуков</a></div>\\r\\n\\t<div class=\\'list_aut\\'><a href=\\'http://www.textologia.ru/slovari/lingvisticheskie-terminy/parataksis/?q=486&n=1255\\'>Паратаксис</a></div>\\r\\n\\t<div class=\\'list_aut\\'><a href=\\'http://www.textologia.ru/slovari/lingvisticheskie-terminy/parafraz-i-parafraza/?q=486&n=1256\\'>Парафраз и парафраза</a></div>\\r\\n\\t<div class=\\'list_aut\\'><a href=\\'http://www.textologia.ru/slovari/lingvisticheskie-terminy/parnie-glagoli/?q=486&n=1257\\'>Парные глаголы</a></div>\\r\\n\\t<div class=\\'list_aut\\'><a href=\\'http://www.textologia.ru/slovari/lingvisticheskie-terminy/parnie-znaki-prepinania/?q=486&n=2130\\'>Парные знаки препинания</a></div>\\r\\n\\t<div class=\\'list_aut\\'><a href=\\'http://www.textologia.ru/slovari/lingvisticheskie-terminy/parnie-soglasnie/?q=486&n=1258\\'>Парные согласные</a></div>\\r\\n\\t<div class=\\'list_aut\\'><a href=\\'http://www.textologia.ru/slovari/lingvisticheskie-terminy/parnie-soyuzi/?q=486&n=1259\\'>Парные союзы</a></div>\\r\\n\\t<div class=\\'list_aut\\'><a href=\\'http://www.textologia.ru/slovari/lingvisticheskie-terminy/paronimyaya/?q=486&n=1260\\'>Паронимия</a></div>\\r\\n\\t<div class=\\'list_aut\\'><a href=\\'http://www.textologia.ru/slovari/lingvisticheskie-terminy/paronimi/?q=486&n=1261\\'>Паронимы</a></div>\\r\\n\\t<div class=\\'list_aut\\'><a href=\\'http://www.textologia.ru/slovari/lingvisticheskie-terminy/paronomaziya/?q=486&n=1262\\'>Парономазия</a></div>\\r\\n\\t<div class=\\'list_aut\\'><a href=\\'http://www.textologia.ru/slovari/lingvisticheskie-terminy/partitivniy/?q=486&n=1263\\'>Партитивный</a></div>\\r\\n\\t<div class=\\'list_aut\\'><a href=\\'http://www.textologia.ru/slovari/lingvisticheskie-terminy/parcellyat/?q=486&n=1264\\'>Парцеллят</a></div>\\r\\n\\t<div class=\\'list_aut\\'><a href=\\'http://www.textologia.ru/slovari/lingvisticheskie-terminy/parcellyaciya/?q=486&n=1265\\'>Парцелляция</a></div>\\r\\n\\t<div class=\\'list_aut\\'><a href=\\'http://www.textologia.ru/slovari/lingvisticheskie-terminy/passivnie-brgani-rechi/?q=486&n=1266\\'>Пассивные брганы речи</a></div>\\r\\n\\t<div class=\\'list_aut\\'><a href=\\'http://www.textologia.ru/slovari/lingvisticheskie-terminy/passivniy-slovar-passivniy-slovarniy-zapas/?q=486&n=1267\\'>Пассивный словарь (пассивный словарный запас)</a></div>\\r\\n\\t<div class=\\'list_aut\\'><a href=\\'http://www.textologia.ru/slovari/lingvisticheskie-terminy/patronimiya/?q=486&n=1268\\'>Патронимия</a></div>\\r\\n\\t<div class=\\'list_aut\\'><a href=\\'http://www.textologia.ru/slovari/lingvisticheskie-terminy/pauza/?q=486&n=1269\\'>Пауза</a></div>\\r\\n\\t<div class=\\'list_aut\\'><a href=\\'http://www.textologia.ru/slovari/lingvisticheskie-terminy/pauza-sintaksicheskaya/?q=486&n=1270\\'>Пауза синтаксическая</a></div>\\r\\n\\t<div class=\\'list_aut\\'><a href=\\'http://www.textologia.ru/slovari/lingvisticheskie-terminy/pauza-skazuemogo/?q=486&n=1271\\'>Пауза сказуемого</a></div>\\r\\n\\t<div class=\\'list_aut\\'><a href=\\'http://www.textologia.ru/slovari/lingvisticheskie-terminy/pauza-soedinitelnaya/?q=486&n=1272\\'>Пауза соединительная</a></div>\\r\\n\\t<div class=\\'list_aut\\'><a href=\\'http://www.textologia.ru/slovari/lingvisticheskie-terminy/peyorativniy/?q=486&n=1273\\'>Пейоративный</a></div>\\r\\n\\t<div class=\\'list_aut\\'><a href=\\'http://www.textologia.ru/slovari/lingvisticheskie-terminy/pervoobraznie-mezhdometiya/?q=486&n=1274\\'>Первообразные междометия</a></div>\\r\\n\\t<div class=\\'list_aut\\'><a href=\\'http://www.textologia.ru/slovari/lingvisticheskie-terminy/pervoobraznie-predlogi/?q=486&n=1275\\'>Первообразные предлоги</a></div>\\r\\n\\t<div class=\\'list_aut\\'><a href=\\'http://www.textologia.ru/slovari/lingvisticheskie-terminy/pervoobraznie-soyuzi/?q=486&n=1276\\'>Первообразные союзы</a></div>\\r\\n\\t<div class=\\'list_aut\\'><a href=\\'http://www.textologia.ru/slovari/lingvisticheskie-terminy/perevod/?q=486&n=1277\\'>Перевод</a></div>\\r\\n\\t<div class=\\'list_aut\\'><a href=\\'http://www.textologia.ru/slovari/lingvisticheskie-terminy/perevod-svobodniy/?q=486&n=1278\\'>Перевод свободный</a></div>\\r\\n\\t<div class=\\'list_aut\\'><a href=\\'http://www.textologia.ru/slovari/lingvisticheskie-terminy/perevod-hudozhestvenniy/?q=486&n=1279\\'>Перевод художественный</a></div>\\r\\n\\t<div class=\\'list_aut\\'><a href=\\'http://www.textologia.ru/slovari/lingvisticheskie-terminy/perevodovedenie/?q=486&n=2345\\'>Переводоведение</a></div>\\r\\n\\t<div class=\\'list_aut\\'><a href=\\'http://www.textologia.ru/slovari/lingvisticheskie-terminy/pereglasovka/?q=486&n=1280\\'>Перегласовка</a></div>\\r\\n\\t<div class=\\'list_aut\\'><a href=\\'http://www.textologia.ru/slovari/lingvisticheskie-terminy/perednenebnie-soglasnie/?q=486&n=1281\\'>Передненёбные согласные</a></div>\\r\\n\\t<div class=\\'list_aut\\'><a href=\\'http://www.textologia.ru/slovari/lingvisticheskie-terminy/peredneyazichnie-soglasnie/?q=486&n=1282\\'>Переднеязычные согласные</a></div>\\r\\n\\t<div class=\\'list_aut\\'><a href=\\'http://www.textologia.ru/slovari/lingvisticheskie-terminy/perekreschivayuschiysya-tip-pozicionnoy-meni-zvukov/?q=486&n=1283\\'>Перекрещивающийся тип позиционной мены звуков</a></div>\\r\\n\\t<div class=\\'list_aut\\'><a href=\\'http://www.textologia.ru/slovari/lingvisticheskie-terminy/perenosnoe-znachenie/?q=486&n=1284\\'>Переносное значение</a></div>\\r\\n\\t<div class=\\'list_aut\\'><a href=\\'http://www.textologia.ru/slovari/lingvisticheskie-terminy/pererazlozhenie/?q=486&n=1285\\'>Переразложение</a></div>\\r\\n\\t<div class=\\'list_aut\\'><a href=\\'http://www.textologia.ru/slovari/lingvisticheskie-terminy/perestanovka/?q=486&n=1286\\'>Перестановка</a></div>\\r\\n\\t<div class=\\'list_aut\\'><a href=\\'http://www.textologia.ru/slovari/lingvisticheskie-terminy/perehodnosti-neperehodnosti-kategoriya/?q=486&n=2228\\'>Переходности / непереходности категория</a></div>\\r\\n\\t<div class=\\'list_aut\\'><a href=\\'http://www.textologia.ru/slovari/lingvisticheskie-terminy/perehodnie-tranzitivnie-glagoli/?q=486&n=1287\\'>Переходные (транзитивные) глаголы</a></div>\\r\\n\\t<div class=\\'list_aut\\'><a href=\\'http://www.textologia.ru/slovari/lingvisticheskie-terminy/period/?q=486&n=1288\\'>Период</a></div>\\r\\n\\t<div class=\\'list_aut\\'><a href=\\'http://www.textologia.ru/slovari/lingvisticheskie-terminy/period-vremenioy/?q=486&n=1290\\'>Период времениой</a></div>\\r\\n\\t<div class=\\'list_aut\\'><a href=\\'http://www.textologia.ru/slovari/lingvisticheskie-terminy/period-zaklyuchitelniy/?q=486&n=1291\\'>Период заключительный</a></div>\\r\\n\\t<div class=\\'list_aut\\'><a href=\\'http://www.textologia.ru/slovari/lingvisticheskie-terminy/period-opredelitelniy/?q=486&n=1292\\'>Период определительный</a></div>\\r\\n\\t<div class=\\'list_aut\\'><a href=\\'http://www.textologia.ru/slovari/lingvisticheskie-terminy/period-protivitelniy/?q=486&n=1293\\'>Период противительный</a></div>\\r\\n\\t<div class=\\'list_aut\\'><a href=\\'http://www.textologia.ru/slovari/lingvisticheskie-terminy/period-soedinitelniy/?q=486&n=1294\\'>Период соединительный</a></div>\\r\\n\\t<div class=\\'list_aut\\'><a href=\\'http://www.textologia.ru/slovari/lingvisticheskie-terminy/period-sravnitelniy/?q=486&n=1295\\'>Период сравнительный</a></div>\\r\\n\\t<div class=\\'list_aut\\'><a href=\\'http://www.textologia.ru/slovari/lingvisticheskie-terminy/period-uslovniy/?q=486&n=1296\\'>Период условный</a></div>\\r\\n\\t<div class=\\'list_aut\\'><a href=\\'http://www.textologia.ru/slovari/lingvisticheskie-terminy/period-ustupitelniy/?q=486&n=1297\\'>Период уступительный</a></div>\\r\\n\\t<div class=\\'list_aut\\'><a href=\\'http://www.textologia.ru/slovari/lingvisticheskie-terminy/periodicheskaya-rech/?q=486&n=1298\\'>Периодическая речь</a></div>\\r\\n\\t<div class=\\'list_aut\\'><a href=\\'http://www.textologia.ru/slovari/lingvisticheskie-terminy/periferijnaya-morfema/?q=486&n=2144\\'>Периферийная морфема</a></div>\\r\\n\\t<div class=\\'list_aut\\'><a href=\\'http://www.textologia.ru/slovari/lingvisticheskie-terminy/perifraz-i-perifraza/?q=486&n=1299\\'>Перифраз и перифраза</a></div>\\r\\n\\t<div class=\\'list_aut\\'><a href=\\'http://www.textologia.ru/slovari/lingvisticheskie-terminy/personifikaciya/?q=486&n=1300\\'>Персонификация</a></div>\\r\\n\\t<div class=\\'list_aut\\'><a href=\\'http://www.textologia.ru/slovari/lingvisticheskie-terminy/perfekt/?q=486&n=1301\\'>Перфект</a></div>\\r\\n\\t<div class=\\'list_aut\\'><a href=\\'http://www.textologia.ru/slovari/lingvisticheskie-terminy/perfektivaciya/?q=486&n=1302\\'>Перфективация</a></div>\\r\\n\\t<div class=\\'list_aut\\'><a href=\\'http://www.textologia.ru/slovari/lingvisticheskie-terminy/perfomativ/?q=486&n=2227\\'>Перфоматив</a></div>\\r\\n\\t<div class=\\'list_aut\\'><a href=\\'http://www.textologia.ru/slovari/lingvisticheskie-terminy/perceptivnaya-fonetika/?q=486&n=2328\\'>Перцептивная фонетика</a></div>\\r\\n\\t<div class=\\'list_aut\\'><a href=\\'http://www.textologia.ru/slovari/lingvisticheskie-terminy/pidzhini/?q=486&n=2226\\'>Пиджины</a></div>\\r\\n\\t<div class=\\'list_aut\\'><a href=\\'http://www.textologia.ru/slovari/lingvisticheskie-terminy/piktograficheskoe-risunochnoe-pismo/?q=486&n=1303\\'>Пиктографическое (рисуночное) письмо</a></div>\\r\\n\\t<div class=\\'list_aut\\'><a href=\\'http://www.textologia.ru/slovari/lingvisticheskie-terminy/piktografiya/?q=486&n=1304\\'>Пиктография</a></div>\\r\\n\\t<div class=\\'list_aut\\'><a href=\\'http://www.textologia.ru/slovari/lingvisticheskie-terminy/pismennaya-rech/?q=486&n=2129\\'>Письменная речь</a></div>\\r\\n\\t<div class=\\'list_aut\\'><a href=\\'http://www.textologia.ru/slovari/lingvisticheskie-terminy/pismennost/?q=486&n=1305\\'>Письменность</a></div>\\r\\n\\t<div class=\\'list_aut\\'><a href=\\'http://www.textologia.ru/slovari/lingvisticheskie-terminy/pismo/?q=486&n=1306\\'>Письмо</a></div>\\r\\n\\t<div class=\\'list_aut\\'><a href=\\'http://www.textologia.ru/slovari/lingvisticheskie-terminy/pismo-zvukovoe/?q=486&n=1307\\'>Письмо звуковое</a></div>\\r\\n\\t<div class=\\'list_aut\\'><a href=\\'http://www.textologia.ru/slovari/lingvisticheskie-terminy/pismo-ideograficheskoe/?q=486&n=1308\\'>Письмо идеографическое</a></div>\\r\\n\\t<div class=\\'list_aut\\'><a href=\\'http://www.textologia.ru/slovari/lingvisticheskie-terminy/pismo-piktograficheskoe/?q=486&n=1309\\'>Письмо пиктографическое</a></div>\\r\\n\\t<div class=\\'list_aut\\'><a href=\\'http://www.textologia.ru/slovari/lingvisticheskie-terminy/plavnie-soglasnie/?q=486&n=1310\\'>Плавные согласные</a></div>\\r\\n\\t<div class=\\'list_aut\\'><a href=\\'http://www.textologia.ru/slovari/lingvisticheskie-terminy/plan-virazheniya/?q=486&n=1311\\'>План выражения</a></div>\\r\\n\\t<div class=\\'list_aut\\'><a href=\\'http://www.textologia.ru/slovari/lingvisticheskie-terminy/plan-soderzhaniya/?q=486&n=1312\\'>План содержания</a></div>\\r\\n\\t<div class=\\'list_aut\\'><a href=\\'http://www.textologia.ru/slovari/lingvisticheskie-terminy/pleonazm/?q=486&n=1313\\'>Плеоназм</a></div>\\r\\n\\t<div class=\\'list_aut\\'><a href=\\'http://www.textologia.ru/slovari/lingvisticheskie-terminy/pluralia-tantium-pluraliya-tantum/?q=486&n=1314\\'>Плуралия Тантум (Pluralia tantium)</a></div>\\r\\n\\t<div class=\\'list_aut\\'><a href=\\'http://www.textologia.ru/slovari/lingvisticheskie-terminy/plyuskvamperfekt/?q=486&n=1315\\'>Плюсквамперфект</a></div>\\r\\n\\t<div class=\\'list_aut\\'><a href=\\'http://www.textologia.ru/slovari/lingvisticheskie-terminy/pobochnoe-udarenie/?q=486&n=1316\\'>Побочное ударение</a></div>\\r\\n\\t<div class=\\'list_aut\\'><a href=\\'http://www.textologia.ru/slovari/lingvisticheskie-terminy/pobuditelnoe-predlozhenie/?q=486&n=1317\\'>Побудительное предложение</a></div>\\r\\n\\t<div class=\\'list_aut\\'><a href=\\'http://www.textologia.ru/slovari/lingvisticheskie-terminy/pobuditelnie-chastici/?q=486&n=1318\\'>Побудительные частицы</a></div>\\r\\n\\t<div class=\\'list_aut\\'><a href=\\'http://www.textologia.ru/slovari/lingvisticheskie-terminy/povelitelnoe-naklonenie/?q=486&n=1319\\'>Повелительное наклонение</a></div>\\r\\n\\t<div class=\\'list_aut\\'><a href=\\'http://www.textologia.ru/slovari/lingvisticheskie-terminy/povelitelnoe-predlozhenie/?q=486&n=1320\\'>Повелительное предложение</a></div>\\r\\n\\t<div class=\\'list_aut\\'><a href=\\'http://www.textologia.ru/slovari/lingvisticheskie-terminy/povestvovatelnoe-predlozhenie/?q=486&n=1321\\'>Повествовательное предложение</a></div>\\r\\n\\t<div class=\\'list_aut\\'><a href=\\'http://www.textologia.ru/slovari/lingvisticheskie-terminy/povtor-povtorenie-udvoenie/?q=486&n=1322\\'>Повтор (повторение, удвоение)</a></div>\\r\\n\\t<div class=\\'list_aut\\'><a href=\\'http://www.textologia.ru/slovari/lingvisticheskie-terminy/povtoryayuschiesya-soyuzi/?q=486&n=1323\\'>Повторяющиеся союзы</a></div>\\r\\n\\t<div class=\\'list_aut\\'><a href=\\'http://www.textologia.ru/slovari/lingvisticheskie-terminy/povishenie/?q=486&n=1289\\'>Повышение</a></div>\\r\\n\\t<div class=\\'list_aut\\'><a href=\\'http://www.textologia.ru/slovari/lingvisticheskie-terminy/pogovorka/?q=486&n=1324\\'>Поговорка</a></div>\\r\\n\\t<div class=\\'list_aut\\'><a href=\\'http://www.textologia.ru/slovari/lingvisticheskie-terminy/podvid/?q=486&n=1325\\'>Подвид</a></div>\\r\\n\\t<div class=\\'list_aut\\'><a href=\\'http://www.textologia.ru/slovari/lingvisticheskie-terminy/podlezhaschee/?q=486&n=1326\\'>Подлежащее</a></div>\\r\\n\\t<div class=\\'list_aut\\'><a href=\\'http://www.textologia.ru/slovari/lingvisticheskie-terminy/podlezhaschee-grammaticheskoe/?q=486&n=1327\\'>Подлежащее грамматическое</a></div>\\r\\n\\t<div class=\\'list_aut\\'><a href=\\'http://www.textologia.ru/slovari/lingvisticheskie-terminy/podtekst/?q=486&n=1328\\'>Подтекст</a></div>\\r\\n\\t<div class=\\'list_aut\\'><a href=\\'http://www.textologia.ru/slovari/lingvisticheskie-terminy/podchinenie/?q=486&n=1329\\'>Подчинение</a></div>\\r\\n\\t<div class=\\'list_aut\\'><a href=\\'http://www.textologia.ru/slovari/lingvisticheskie-terminy/podchinenie-kosvenno-voprositelnoe/?q=486&n=1331\\'>Подчинение косвенно-вопросительное</a></div>\\r\\n\\t<div class=\\'list_aut\\'><a href=\\'http://www.textologia.ru/slovari/lingvisticheskie-terminy/podchinenie-otnositelnoe/?q=486&n=1333\\'>Подчинение относительное</a></div>\\r\\n\\t<div class=\\'list_aut\\'><a href=\\'http://www.textologia.ru/slovari/lingvisticheskie-terminy/podchinenie-posledovatelnoe-vklyuchenie/?q=486&n=1332\\'>Подчинение последовательное (включение)</a></div>\\r\\n\\t<div class=\\'list_aut\\'><a href=\\'http://www.textologia.ru/slovari/lingvisticheskie-terminy/podchinenie-predlozheniy/?q=486&n=1330\\'>Подчинение предложений</a></div>\\r\\n\\t<div class=\\'list_aut\\'><a href=\\'http://www.textologia.ru/slovari/lingvisticheskie-terminy/podchinenie-soyuznoe/?q=486&n=1334\\'>Подчинение союзное</a></div>\\r\\n\\t<div class=\\'list_aut\\'><a href=\\'http://www.textologia.ru/slovari/lingvisticheskie-terminy/podchinitelnaya-svyaz/?q=486&n=1335\\'>Подчинительная связь</a></div>\\r\\n\\t<div class=\\'list_aut\\'><a href=\\'http://www.textologia.ru/slovari/lingvisticheskie-terminy/podchinitelnie-soyuzi/?q=486&n=1336\\'>Подчинительные союзы</a></div>\\r\\n\\t<div class=\\'list_aut\\'><a href=\\'http://www.textologia.ru/slovari/lingvisticheskie-terminy/podem/?q=486&n=1337\\'>Подъём</a></div>\\r\\n\\t<div class=\\'list_aut\\'><a href=\\'http://www.textologia.ru/slovari/lingvisticheskie-terminy/pozicionnoe-cheredovanie/?q=486&n=1338\\'>Позиционное чередование</a></div>\\r\\n\\t<div class=\\'list_aut\\'><a href=\\'http://www.textologia.ru/slovari/lingvisticheskie-terminy/poziciya/?q=486&n=1339\\'>Позиция</a></div>\\r\\n\\t<div class=\\'list_aut\\'><a href=\\'http://www.textologia.ru/slovari/lingvisticheskie-terminy/polabskiy-yazik/?q=486&n=2225\\'>Полабский язык</a></div>\\r\\n\\t<div class=\\'list_aut\\'><a href=\\'http://www.textologia.ru/slovari/lingvisticheskie-terminy/poliglot/?q=486&n=1340\\'>Полиглот</a></div>\\r\\n\\t<div class=\\'list_aut\\'><a href=\\'http://www.textologia.ru/slovari/lingvisticheskie-terminy/polipredikativnost/?q=486&n=1341\\'>Полипредикативность</a></div>\\r\\n\\t<div class=\\'list_aut\\'><a href=\\'http://www.textologia.ru/slovari/lingvisticheskie-terminy/polisemiya/?q=486&n=1342\\'>Полисемия</a></div>\\r\\n\\t<div class=\\'list_aut\\'><a href=\\'http://www.textologia.ru/slovari/lingvisticheskie-terminy/polisindeton/?q=486&n=1343\\'>Полисиндетон</a></div>\\r\\n\\t<div class=\\'list_aut\\'><a href=\\'http://www.textologia.ru/slovari/lingvisticheskie-terminy/polisinteticheskie-yaziki/?q=486&n=1344\\'>Полисинтетические языки</a></div>\\r\\n\\t<div class=\\'list_aut\\'><a href=\\'http://www.textologia.ru/slovari/lingvisticheskie-terminy/polnaya-assimilyaciya/?q=486&n=1345\\'>Полная ассимиляция</a></div>\\r\\n\\t<div class=\\'list_aut\\'><a href=\\'http://www.textologia.ru/slovari/lingvisticheskie-terminy/polnaya-forma-prilagatelnogo/?q=486&n=1346\\'>Полная форма прилагательного</a></div>\\r\\n\\t<div class=\\'list_aut\\'><a href=\\'http://www.textologia.ru/slovari/lingvisticheskie-terminy/polnoglasie/?q=486&n=1347\\'>Полногласие</a></div>\\r\\n\\t<div class=\\'list_aut\\'><a href=\\'http://www.textologia.ru/slovari/lingvisticheskie-terminy/polnoe-predlozhenie/?q=486&n=1348\\'>Полное предложение</a></div>\\r\\n\\t<div class=\\'list_aut\\'><a href=\\'http://www.textologia.ru/slovari/lingvisticheskie-terminy/polnoe-prilagatelnoe/?q=486&n=1349\\'>Полное прилагательное</a></div>\\r\\n\\t<div class=\\'list_aut\\'><a href=\\'http://www.textologia.ru/slovari/lingvisticheskie-terminy/polnoe-soglasovanie/?q=486&n=1350\\'>Полное согласование</a></div>\\r\\n\\t<div class=\\'list_aut\\'><a href=\\'http://www.textologia.ru/slovari/lingvisticheskie-terminy/polnoznachnie-slova/?q=486&n=1352\\'>Полнозначные слова</a></div>\\r\\n\\t<div class=\\'list_aut\\'><a href=\\'http://www.textologia.ru/slovari/lingvisticheskie-terminy/polozhitelnaya-stepen/?q=486&n=1351\\'>Положительная степень</a></div>\\r\\n\\t<div class=\\'list_aut\\'><a href=\\'http://www.textologia.ru/slovari/lingvisticheskie-terminy/poluvspomogatelniy-poluznamenatelniy-glagol/?q=486&n=1353\\'>Полувспомогательный (полузнаменательный) глагол</a></div>\\r\\n\\t<div class=\\'list_aut\\'><a href=\\'http://www.textologia.ru/slovari/lingvisticheskie-terminy/poluglasniy-zvuk/?q=486&n=1354\\'>Полугласный звук</a></div>\\r\\n\\t<div class=\\'list_aut\\'><a href=\\'http://www.textologia.ru/slovari/lingvisticheskie-terminy/poluznamenatelniy-glagol/?q=486&n=1355\\'>Полузнаменательный глагол</a></div>\\r\\n\\t<div class=\\'list_aut\\'><a href=\\'http://www.textologia.ru/slovari/lingvisticheskie-terminy/polumyagkiy-zvuk/?q=486&n=1356\\'>Полумягкий звук</a></div>\\r\\n\\t<div class=\\'list_aut\\'><a href=\\'http://www.textologia.ru/slovari/lingvisticheskie-terminy/poluotvlechennaya-svyazka/?q=486&n=1357\\'>Полуотвлеченная связка</a></div>\\r\\n\\t<div class=\\'list_aut\\'><a href=\\'http://www.textologia.ru/slovari/lingvisticheskie-terminy/polupredikativnie-otnosheniya/?q=486&n=1358\\'>Полупредикативные отношения</a></div>\\r\\n\\t<div class=\\'list_aut\\'><a href=\\'http://www.textologia.ru/slovari/lingvisticheskie-terminy/polupryamaya-rech/?q=486&n=1359\\'>Полупрямая речь</a></div>\\r\\n\\t<div class=\\'list_aut\\'><a href=\\'http://www.textologia.ru/slovari/lingvisticheskie-terminy/polusvyazochnie-glagoli/?q=486&n=1360\\'>Полусвязочные глаголы</a></div>\\r\\n\\t<div class=\\'list_aut\\'><a href=\\'http://www.textologia.ru/slovari/lingvisticheskie-terminy/poluustav/?q=486&n=1361\\'>Полуустав</a></div>\\r\\n\\t<div class=\\'list_aut\\'><a href=\\'http://www.textologia.ru/slovari/lingvisticheskie-terminy/polskiy-yazik/?q=486&n=2224\\'>Польский язык</a></div>\\r\\n\\t<div class=\\'list_aut\\'><a href=\\'http://www.textologia.ru/slovari/lingvisticheskie-terminy/pometa/?q=486&n=1362\\'>Помета</a></div>\\r\\n\\t<div class=\\'list_aut\\'><a href=\\'http://www.textologia.ru/slovari/lingvisticheskie-terminy/ponyatiynaya-kategoriya/?q=486&n=1363\\'>Понятийная категория</a></div>\\r\\n\\t<div class=\\'list_aut\\'><a href=\\'http://www.textologia.ru/slovari/lingvisticheskie-terminy/ponyatiynie-kategorii-v-yazikoznanii/?q=486&n=2223\\'>Понятийные категории (в языкознании)</a></div>\\r\\n\\t<div class=\\'list_aut\\'><a href=\\'http://www.textologia.ru/slovari/lingvisticheskie-terminy/porozhdayuschaya-grammatika/?q=486&n=1364\\'>Порождающая грамматика</a></div>\\r\\n\\t<div class=\\'list_aut\\'><a href=\\'http://www.textologia.ru/slovari/lingvisticheskie-terminy/porozhdayuschaya-semantika-generativnaya-semantika/?q=486&n=2222\\'>Порождающая семантика (генеративная семантика)</a></div>\\r\\n\\t<div class=\\'list_aut\\'><a href=\\'http://www.textologia.ru/slovari/lingvisticheskie-terminy/porozhdayuschaya-fonologiya/?q=486&n=2329\\'>Порождающая фонология</a></div>\\r\\n\\t<div class=\\'list_aut\\'><a href=\\'http://www.textologia.ru/slovari/lingvisticheskie-terminy/portugalskiy-yazik/?q=486&n=2219\\'>Португальский язык</a></div>\\r\\n\\t<div class=\\'list_aut\\'><a href=\\'http://www.textologia.ru/slovari/lingvisticheskie-terminy/poryadkovoe-prilagatelnoe/?q=486&n=1365\\'>Порядковое прилагательное</a></div>\\r\\n\\t<div class=\\'list_aut\\'><a href=\\'http://www.textologia.ru/slovari/lingvisticheskie-terminy/poryadkovie-chislitelnie/?q=486&n=1366\\'>Порядковые числительные</a></div>\\r\\n\\t<div class=\\'list_aut\\'><a href=\\'http://www.textologia.ru/slovari/lingvisticheskie-terminy/poryadok-slov-v-predlozhenii/?q=486&n=1367\\'>Порядок слов в предложении</a></div>\\r\\n\\t<div class=\\'list_aut\\'><a href=\\'http://www.textologia.ru/slovari/lingvisticheskie-terminy/poryadok-slov-obratniy/?q=486&n=1368\\'>Порядок слов обратный</a></div>\\r\\n\\t<div class=\\'list_aut\\'><a href=\\'http://www.textologia.ru/slovari/lingvisticheskie-terminy/posessivnost/?q=486&n=2218\\'>Посессивность</a></div>\\r\\n\\t<div class=\\'list_aut\\'><a href=\\'http://www.textologia.ru/slovari/lingvisticheskie-terminy/posledovatelnoe-podchinenie/?q=486&n=1369\\'>Последовательное подчинение</a></div>\\r\\n\\t<div class=\\'list_aut\\'><a href=\\'http://www.textologia.ru/slovari/lingvisticheskie-terminy/poslelog/?q=486&n=1370\\'>Послелог</a></div>\\r\\n\\t<div class=\\'list_aut\\'><a href=\\'http://www.textologia.ru/slovari/lingvisticheskie-terminy/poslovica/?q=486&n=1371\\'>Пословица</a></div>\\r\\n\\t<div class=\\'list_aut\\'><a href=\\'http://www.textologia.ru/slovari/lingvisticheskie-terminy/posredstvennoe-upravlenie/?q=486&n=1372\\'>Посредственное управление</a></div>\\r\\n\\t<div class=\\'list_aut\\'><a href=\\'http://www.textologia.ru/slovari/lingvisticheskie-terminy/postoyannoe-udarenie/?q=486&n=1373\\'>Постоянное ударение</a></div>\\r\\n\\t<div class=\\'list_aut\\'><a href=\\'http://www.textologia.ru/slovari/lingvisticheskie-terminy/postoyanniy-epitet/?q=486&n=2093\\'>Постоянный эпитет</a></div>\\r\\n\\t<div class=\\'list_aut\\'><a href=\\'http://www.textologia.ru/slovari/lingvisticheskie-terminy/postpozitivniy/?q=486&n=1374\\'>Постпозитивный</a></div>\\r\\n\\t<div class=\\'list_aut\\'><a href=\\'http://www.textologia.ru/slovari/lingvisticheskie-terminy/postpoziciya/?q=486&n=1375\\'>Постпозиция</a></div>\\r\\n\\t<div class=\\'list_aut\\'><a href=\\'http://www.textologia.ru/slovari/lingvisticheskie-terminy/postfiks/?q=486&n=1376\\'>Постфикс</a></div>\\r\\n\\t<div class=\\'list_aut\\'><a href=\\'http://www.textologia.ru/slovari/lingvisticheskie-terminy/potencialnie-slova/?q=486&n=1377\\'>Потенциальные слова</a></div>\\r\\n\\t<div class=\\'list_aut\\'><a href=\\'http://www.textologia.ru/slovari/lingvisticheskie-terminy/poyasnitelnoe-predlozhenie/?q=486&n=1378\\'>Пояснительное предложение</a></div>\\r\\n\\t<div class=\\'list_aut\\'><a href=\\'http://www.textologia.ru/slovari/lingvisticheskie-terminy/poyasnitelnie-soyuzi/?q=486&n=1379\\'>Пояснительные союзы</a></div>\\r\\n\\t<div class=\\'list_aut\\'><a href=\\'http://www.textologia.ru/slovari/lingvisticheskie-terminy/poyasnitelnie-chleni-predlozheniya/?q=486&n=1380\\'>Пояснительные члены предложения</a></div>\\r\\n\\t<div class=\\'list_aut\\'><a href=\\'http://www.textologia.ru/slovari/lingvisticheskie-terminy/pravilo/?q=486&n=1381\\'>Правило</a></div>\\r\\n\\t<div class=\\'list_aut\\'><a href=\\'http://www.textologia.ru/slovari/lingvisticheskie-terminy/pravopisanie/?q=486&n=1382\\'>Правописание</a></div>\\r\\n\\t<div class=\\'list_aut\\'><a href=\\'http://www.textologia.ru/slovari/lingvisticheskie-terminy/pragmatika-v-lingvistike/?q=486&n=2325\\'>Прагматика в лингвистике</a></div>\\r\\n\\t<div class=\\'list_aut\\'><a href=\\'http://www.textologia.ru/slovari/lingvisticheskie-terminy/prazhskaya-lingvisticheskaya-shkola/?q=486&n=2217\\'>Пражская лингвистическая школа</a></div>\\r\\n\\t<div class=\\'list_aut\\'><a href=\\'http://www.textologia.ru/slovari/lingvisticheskie-terminy/prakticheskaya-stilistika/?q=486&n=1383\\'>Практическая стилистика</a></div>\\r\\n\\t<div class=\\'list_aut\\'><a href=\\'http://www.textologia.ru/slovari/lingvisticheskie-terminy/prayazik-yazik-osnova/?q=486&n=1384\\'>Праязык (язык-основа)</a></div>\\r\\n\\t<div class=\\'list_aut\\'><a href=\\'http://www.textologia.ru/slovari/lingvisticheskie-terminy/prevoshodnaya-stepen/?q=486&n=1385\\'>Превосходная степень</a></div>\\r\\n\\t<div class=\\'list_aut\\'><a href=\\'http://www.textologia.ru/slovari/lingvisticheskie-terminy/predikat/?q=486&n=1386\\'>Предикат</a></div>\\r\\n\\t<div class=\\'list_aut\\'><a href=\\'http://www.textologia.ru/slovari/lingvisticheskie-terminy/predikativnaya-edinica/?q=486&n=1387\\'>Предикативная единица</a></div>\\r\\n\\t<div class=\\'list_aut\\'><a href=\\'http://www.textologia.ru/slovari/lingvisticheskie-terminy/predikativnaya-osnova-predikativnoe-yadro-predlozheniya/?q=486&n=1388\\'>Предикативная основа (предикативное ядро) предложения</a></div>\\r\\n\\t<div class=\\'list_aut\\'><a href=\\'http://www.textologia.ru/slovari/lingvisticheskie-terminy/predikativnaya-svyaz/?q=486&n=1389\\'>Предикативная связь</a></div>\\r\\n\\t<div class=\\'list_aut\\'><a href=\\'http://www.textologia.ru/slovari/lingvisticheskie-terminy/predikativnaya-chast-slozhnogo-predlozheniya/?q=486&n=1390\\'>Предикативная часть сложного предложения</a></div>\\r\\n\\t<div class=\\'list_aut\\'><a href=\\'http://www.textologia.ru/slovari/lingvisticheskie-terminy/predikativno-atributivniy/?q=486&n=1391\\'>Предикативно-атрибутивный</a></div>\\r\\n\\t<div class=\\'list_aut\\'><a href=\\'http://www.textologia.ru/slovari/lingvisticheskie-terminy/predikativnoe-opredelenie/?q=486&n=1392\\'>Предикативное определение</a></div>\\r\\n\\t<div class=\\'list_aut\\'><a href=\\'http://www.textologia.ru/slovari/lingvisticheskie-terminy/predikativnoe-sochetanie/?q=486&n=1393\\'>Предикативное сочетание</a></div>\\r\\n\\t<div class=\\'list_aut\\'><a href=\\'http://www.textologia.ru/slovari/lingvisticheskie-terminy/predikativnoe-yadro-predlozheniya/?q=486&n=1394\\'>Предикативное ядро предложения</a></div>\\r\\n\\t<div class=\\'list_aut\\'><a href=\\'http://www.textologia.ru/slovari/lingvisticheskie-terminy/predikativnost/?q=486&n=1395\\'>Предикативность</a></div>\\r\\n\\t<div class=\\'list_aut\\'><a href=\\'http://www.textologia.ru/slovari/lingvisticheskie-terminy/predikativnie-kategorii-glagola/?q=486&n=1396\\'>Предикативные категории глагола</a></div>\\r\\n\\t<div class=\\'list_aut\\'><a href=\\'http://www.textologia.ru/slovari/lingvisticheskie-terminy/predikativnie-narechiya/?q=486&n=1397\\'>Предикативные наречия</a></div>\\r\\n\\t<div class=\\'list_aut\\'><a href=\\'http://www.textologia.ru/slovari/lingvisticheskie-terminy/predikativnie-otnosheniya/?q=486&n=1398\\'>Предикативные отношения</a></div>\\r\\n\\t<div class=\\'list_aut\\'><a href=\\'http://www.textologia.ru/slovari/lingvisticheskie-terminy/predikativnie-prilagatelnie/?q=486&n=1399\\'>Предикативные прилагательные</a></div>\\r\\n\\t<div class=\\'list_aut\\'><a href=\\'http://www.textologia.ru/slovari/lingvisticheskie-terminy/predikativnie-formi-glagola/?q=486&n=1400\\'>Предикативные формы глагола</a></div>\\r\\n\\t<div class=\\'list_aut\\'><a href=\\'http://www.textologia.ru/slovari/lingvisticheskie-terminy/predikativniy-chlen/?q=486&n=1401\\'>Предикативный член</a></div>\\r\\n\\t<div class=\\'list_aut\\'><a href=\\'http://www.textologia.ru/slovari/lingvisticheskie-terminy/predikativi/?q=486&n=1402\\'>Предикативы</a></div>\\r\\n\\t<div class=\\'list_aut\\'><a href=\\'http://www.textologia.ru/slovari/lingvisticheskie-terminy/predikaciya/?q=486&n=1403\\'>Предикация</a></div>\\r\\n\\t<div class=\\'list_aut\\'><a href=\\'http://www.textologia.ru/slovari/lingvisticheskie-terminy/predicirovanie/?q=486&n=1404\\'>Предицирование</a></div>\\r\\n\\t<div class=\\'list_aut\\'><a href=\\'http://www.textologia.ru/slovari/lingvisticheskie-terminy/predlog/?q=486&n=1405\\'>Предлог</a></div>\\r\\n\\t<div class=\\'list_aut\\'><a href=\\'http://www.textologia.ru/slovari/lingvisticheskie-terminy/predlbgi-proizvodnie/?q=486&n=1406\\'>Предлоги производные</a></div>\\r\\n\\t<div class=\\'list_aut\\'><a href=\\'http://www.textologia.ru/slovari/lingvisticheskie-terminy/predlozhenie/?q=486&n=1407\\'>Предложение</a></div>\\r\\n\\t<div class=\\'list_aut\\'><a href=\\'http://www.textologia.ru/slovari/lingvisticheskie-terminy/predlozhenie-tozhdestva/?q=486&n=1408\\'>Предложение тождества</a></div>\\r\\n\\t<div class=\\'list_aut\\'><a href=\\'http://www.textologia.ru/slovari/lingvisticheskie-terminy/predlozhnaya-svyaz/?q=486&n=1409\\'>Предложная связь</a></div>\\r\\n\\t<div class=\\'list_aut\\'><a href=\\'http://www.textologia.ru/slovari/lingvisticheskie-terminy/predlozhno-imennaya-konstrukciya/?q=486&n=1411\\'>Предложно-именная конструкция</a></div>\\r\\n\\t<div class=\\'list_aut\\'><a href=\\'http://www.textologia.ru/slovari/lingvisticheskie-terminy/predlozhnoe-slovosochetanie/?q=486&n=1410\\'>Предложное словосочетание</a></div>\\r\\n\\t<div class=\\'list_aut\\'><a href=\\'http://www.textologia.ru/slovari/lingvisticheskie-terminy/predlozhnoe-upravlenie/?q=486&n=1412\\'>Предложное управление</a></div>\\r\\n\\t<div class=\\'list_aut\\'><a href=\\'http://www.textologia.ru/slovari/lingvisticheskie-terminy/predlozhniy-padezh/?q=486&n=1413\\'>Предложный падеж</a></div>\\r\\n\\t<div class=\\'list_aut\\'><a href=\\'http://www.textologia.ru/slovari/lingvisticheskie-terminy/predudarniy/?q=486&n=1414\\'>Предударный</a></div>\\r\\n\\t<div class=\\'list_aut\\'><a href=\\'http://www.textologia.ru/slovari/lingvisticheskie-terminy/predupreditelnaya-pauza/?q=486&n=1415\\'>Предупредительная пауза</a></div>\\r\\n\\t<div class=\\'list_aut\\'><a href=\\'http://www.textologia.ru/slovari/lingvisticheskie-terminy/prenebrezhitelnie-imena/?q=486&n=1416\\'>Пренебрежительные имена</a></div>\\r\\n\\t<div class=\\'list_aut\\'><a href=\\'http://www.textologia.ru/slovari/lingvisticheskie-terminy/prepozitivniy/?q=486&n=1417\\'>Препозитивный</a></div>\\r\\n\\t<div class=\\'list_aut\\'><a href=\\'http://www.textologia.ru/slovari/lingvisticheskie-terminy/prepoziciya/?q=486&n=1418\\'>Препозиция</a></div>\\r\\n\\t<div class=\\'list_aut\\'><a href=\\'http://www.textologia.ru/slovari/lingvisticheskie-terminy/preskriptivizm-v-lingvistike/?q=486&n=2337\\'>Прескриптивизм в лингвистике</a></div>\\r\\n\\t<div class=\\'list_aut\\'><a href=\\'http://www.textologia.ru/slovari/lingvisticheskie-terminy/prefiks/?q=486&n=1419\\'>Префикс</a></div>\\r\\n\\t<div class=\\'list_aut\\'><a href=\\'http://www.textologia.ru/slovari/lingvisticheskie-terminy/prefiksalno-suffiksalniy-sposob-slovoobrazovaniya/?q=486&n=1420\\'>Префиксально-суффиксальный способ словообразования</a></div>\\r\\n\\t<div class=\\'list_aut\\'><a href=\\'http://www.textologia.ru/slovari/lingvisticheskie-terminy/prefiksalniy-sposob-slovoobrazovaniya/?q=486&n=1421\\'>Префиксальный способ словообразования</a></div>\\r\\n\\t<div class=\\'list_aut\\'><a href=\\'http://www.textologia.ru/slovari/lingvisticheskie-terminy/prefiksaciya/?q=486&n=1422\\'>Префиксация</a></div>\\r\\n\\t<div class=\\'list_aut\\'><a href=\\'http://www.textologia.ru/slovari/lingvisticheskie-terminy/prefiksoid/?q=486&n=1423\\'>Префиксоид</a></div>\\r\\n\\t<div class=\\'list_aut\\'><a href=\\'http://www.textologia.ru/slovari/lingvisticheskie-terminy/priadektivnoe-upravlenie/?q=486&n=1424\\'>Приадъективное управление</a></div>\\r\\n\\t<div class=\\'list_aut\\'><a href=\\'http://www.textologia.ru/slovari/lingvisticheskie-terminy/pribaltiysko-finskie-yaziki/?q=486&n=2216\\'>Прибалтийско-финские языки</a></div>\\r\\n\\t<div class=\\'list_aut\\'><a href=\\'http://www.textologia.ru/slovari/lingvisticheskie-terminy/pridatochnaya-chast/?q=486&n=1425\\'>Придаточная часть</a></div>\\r\\n\\t<div class=\\'list_aut\\'><a href=\\'http://www.textologia.ru/slovari/lingvisticheskie-terminy/pridatochnoe-predlozhenie/?q=486&n=1426\\'>Придаточное предложение</a></div>\\r\\n\\t<div class=\\'list_aut\\'><a href=\\'http://www.textologia.ru/slovari/lingvisticheskie-terminy/pridatochnoe-predlozhenie-vremeni/?q=486&n=1427\\'>Придаточное предложение времени</a></div>\\r\\n\\t<div class=\\'list_aut\\'><a href=\\'http://www.textologia.ru/slovari/lingvisticheskie-terminy/pridatochnoe-predlozhenie-dopolnitelnoe/?q=486&n=1428\\'>Придаточное предложение дополнительное</a></div>\\r\\n\\t<div class=\\'list_aut\\'><a href=\\'http://www.textologia.ru/slovari/lingvisticheskie-terminy/pridatochnoe-predlozhenie-izyasnitelnoe/?q=486&n=1429\\'>Придаточное предложение изъяснительное</a></div>\\r\\n\\t<div class=\\'list_aut\\'><a href=\\'http://www.textologia.ru/slovari/lingvisticheskie-terminy/pridatochnoe-predlozhenie-meri-i-stepeni/?q=486&n=1430\\'>Придаточное предложение меры и степени</a></div>\\r\\n\\t<div class=\\'list_aut\\'><a href=\\'http://www.textologia.ru/slovari/lingvisticheskie-terminy/pridatochnoe-predlozhenie-mesta/?q=486&n=1431\\'>Придаточное предложение места</a></div>\\r\\n\\t<div class=\\'list_aut\\'><a href=\\'http://www.textologia.ru/slovari/lingvisticheskie-terminy/pridatochnoe-predlozhenie-obraza-deystviya/?q=486&n=1432\\'>Придаточное предложение образа действия</a></div>\\r\\n\\t<div class=\\'list_aut\\'><a href=\\'http://www.textologia.ru/slovari/lingvisticheskie-terminy/pridatochnoe-predlozhenie-opredelitelnoe/?q=486&n=1433\\'>Придаточное предложение определительное</a></div>\\r\\n\\t<div class=\\'list_aut\\'><a href=\\'http://www.textologia.ru/slovari/lingvisticheskie-terminy/pridatochnoe-predlozhenie-podlezhaschnoe-pridatochnoe-podlezhaschee/?q=486&n=1435\\'>Придаточное предложение подлежащное (придаточное подлежащее)</a></div>\\r\\n\\t<div class=\\'list_aut\\'><a href=\\'http://www.textologia.ru/slovari/lingvisticheskie-terminy/pridatochnoe-predlozhenie-poyasnitelnoe/?q=486&n=1436\\'>Придаточное предложение пояснительное</a></div>\\r\\n\\t<div class=\\'list_aut\\'><a href=\\'http://www.textologia.ru/slovari/lingvisticheskie-terminy/pridatochnoe-predlozhenie-prisoedinitelnoe/?q=486&n=1437\\'>Придаточное предложение присоединительное</a></div>\\r\\n\\t<div class=\\'list_aut\\'><a href=\\'http://www.textologia.ru/slovari/lingvisticheskie-terminy/pridatochnoe-predlozhenie-prisubstantivno-atributivnoe/?q=486&n=1438\\'>Придаточное предложение присубстантивно - атрибутивное</a></div>\\r\\n\\t<div class=\\'list_aut\\'><a href=\\'http://www.textologia.ru/slovari/lingvisticheskie-terminy/pridatochnoe-predlozhenie-prichini/?q=486&n=1439\\'>Придаточное предложение причины</a></div>\\r\\n\\t<div class=\\'list_aut\\'><a href=\\'http://www.textologia.ru/slovari/lingvisticheskie-terminy/pridatochnoe-predlozhenie-skazuemnoe-pridatochnoe-skazuemoe/?q=486&n=1440\\'>Придаточное предложение сказуемное (придаточное сказуемое)</a></div>\\r\\n\\t<div class=\\'list_aut\\'><a href=\\'http://www.textologia.ru/slovari/lingvisticheskie-terminy/pridatochnoe-predlozhenie-sledstviya/?q=486&n=1441\\'>Придаточное предложение следствия</a></div>\\r\\n\\t<div class=\\'list_aut\\'><a href=\\'http://www.textologia.ru/slovari/lingvisticheskie-terminy/pridatochnoe-predlozhenie-sopostavitelnoe/?q=486&n=1442\\'>Придаточное предложение сопоставительное</a></div>\\r\\n\\t<div class=\\'list_aut\\'><a href=\\'http://www.textologia.ru/slovari/lingvisticheskie-terminy/pridatochnoe-predlozhenie-sravnitelnoe/?q=486&n=1443\\'>Придаточное предложение сравнительное</a></div>\\r\\n\\t<div class=\\'list_aut\\'><a href=\\'http://www.textologia.ru/slovari/lingvisticheskie-terminy/pridatochnoe-predlozhenie-uslovnoe/?q=486&n=1444\\'>Придаточное предложение условное</a></div>\\r\\n\\t<div class=\\'list_aut\\'><a href=\\'http://www.textologia.ru/slovari/lingvisticheskie-terminy/pridatochnoe-predlozhenie-ustupitelnoe/?q=486&n=1445\\'>Придаточное предложение уступительное</a></div>\\r\\n\\t<div class=\\'list_aut\\'><a href=\\'http://www.textologia.ru/slovari/lingvisticheskie-terminy/pridatochnoe-predlozhenie-celi/?q=486&n=1446\\'>Придаточное предложение цели</a></div>\\r\\n\\t<div class=\\'list_aut\\'><a href=\\'http://www.textologia.ru/slovari/lingvisticheskie-terminy/pridihatelnie-soglasnie/?q=486&n=1447\\'>Придыхательные согласные</a></div>\\r\\n\\t<div class=\\'list_aut\\'><a href=\\'http://www.textologia.ru/slovari/lingvisticheskie-terminy/prikladnaya-lingvistika/?q=486&n=1448\\'>Прикладная лингвистика</a></div>\\r\\n\\t<div class=\\'list_aut\\'><a href=\\'http://www.textologia.ru/slovari/lingvisticheskie-terminy/prikritiy-slog/?q=486&n=1449\\'>Прикрытый слог</a></div>\\r\\n\\t<div class=\\'list_aut\\'><a href=\\'http://www.textologia.ru/slovari/lingvisticheskie-terminy/prilozhenie/?q=486&n=1450\\'>Приложение</a></div>\\r\\n\\t<div class=\\'list_aut\\'><a href=\\'http://www.textologia.ru/slovari/lingvisticheskie-terminy/prilozhenie-nesoglasbvannoe/?q=486&n=1451\\'>Приложение несогласбванное</a></div>\\r\\n\\t<div class=\\'list_aut\\'><a href=\\'http://www.textologia.ru/slovari/lingvisticheskie-terminy/prilozhenie-soglasovannoe/?q=486&n=1452\\'>Приложение согласованное</a></div>\\r\\n\\t<div class=\\'list_aut\\'><a href=\\'http://www.textologia.ru/slovari/lingvisticheskie-terminy/primikanie/?q=486&n=1453\\'>Примыкание</a></div>\\r\\n\\t<div class=\\'list_aut\\'><a href=\\'http://www.textologia.ru/slovari/lingvisticheskie-terminy/prisvyazochniy-chlen/?q=486&n=1454\\'>Присвязочный член</a></div>\\r\\n\\t<div class=\\'list_aut\\'><a href=\\'http://www.textologia.ru/slovari/lingvisticheskie-terminy/prisoedinenie/?q=486&n=1455\\'>Присоединение</a></div>\\r\\n\\t<div class=\\'list_aut\\'><a href=\\'http://www.textologia.ru/slovari/lingvisticheskie-terminy/prisoedinitelnaya-svyaz/?q=486&n=1456\\'>Присоединительная связь</a></div>\\r\\n\\t<div class=\\'list_aut\\'><a href=\\'http://www.textologia.ru/slovari/lingvisticheskie-terminy/prisoedinitelnie-konstrukcii/?q=486&n=1457\\'>Присоединительные конструкции</a></div>\\r\\n\\t<div class=\\'list_aut\\'><a href=\\'http://www.textologia.ru/slovari/lingvisticheskie-terminy/prisoedinitelnie-konstrukcii-bessoyuznie/?q=486&n=1459\\'>Присоединительные конструкции бессоюзные</a></div>\\r\\n\\t<div class=\\'list_aut\\'><a href=\\'http://www.textologia.ru/slovari/lingvisticheskie-terminy/prisoedinitelnie-konstrukcii-soyuznie/?q=486&n=1458\\'>Присоединительные конструкции союзные</a></div>\\r\\n\\t<div class=\\'list_aut\\'><a href=\\'http://www.textologia.ru/slovari/lingvisticheskie-terminy/prisoedinitelnie-soyuzi/?q=486&n=1460\\'>Присоединительные союзы</a></div>\\r\\n\\t<div class=\\'list_aut\\'><a href=\\'http://www.textologia.ru/slovari/lingvisticheskie-terminy/pristavka-prefiks/?q=486&n=1461\\'>Приставка (префикс)</a></div>\\r\\n\\t<div class=\\'list_aut\\'><a href=\\'http://www.textologia.ru/slovari/lingvisticheskie-terminy/pristavka-slovoobrazovatelnaya/?q=486&n=1462\\'>Приставка словообразовательная</a></div>\\r\\n\\t<div class=\\'list_aut\\'><a href=\\'http://www.textologia.ru/slovari/lingvisticheskie-terminy/pristavka-slovoformoobrazuyuschaya/?q=486&n=1464\\'>Приставка словоформообразующая</a></div>\\r\\n\\t<div class=\\'list_aut\\'><a href=\\'http://www.textologia.ru/slovari/lingvisticheskie-terminy/pristavka-formoobrazuyuschaya/?q=486&n=1463\\'>Приставка формообразующая</a></div>\\r\\n\\t<div class=\\'list_aut\\'><a href=\\'http://www.textologia.ru/slovari/lingvisticheskie-terminy/pristup-ekskursiya/?q=486&n=1465\\'>Приступ (экскурсия)</a></div>\\r\\n\\t<div class=\\'list_aut\\'><a href=\\'http://www.textologia.ru/slovari/lingvisticheskie-terminy/prisubstantivno-opredelytelnoe-predlozhenie/?q=486&n=1434\\'>Присубстантивно-определйтельное предложение</a></div>\\r\\n\\t<div class=\\'list_aut\\'><a href=\\'http://www.textologia.ru/slovari/lingvisticheskie-terminy/prichastie/?q=486&n=1466\\'>Причастие</a></div>\\r\\n\\t<div class=\\'list_aut\\'><a href=\\'http://www.textologia.ru/slovari/lingvisticheskie-terminy/prichastiya-deystvitelnie/?q=486&n=1467\\'>Причастия действительные</a></div>\\r\\n\\t<div class=\\'list_aut\\'><a href=\\'http://www.textologia.ru/slovari/lingvisticheskie-terminy/prichastiya-stradatelnie/?q=486&n=1468\\'>Причастия страдательные</a></div>\\r\\n\\t<div class=\\'list_aut\\'><a href=\\'http://www.textologia.ru/slovari/lingvisticheskie-terminy/prichastniy-oborot/?q=486&n=1469\\'>Причастный оборот</a></div>\\r\\n\\t<div class=\\'list_aut\\'><a href=\\'http://www.textologia.ru/slovari/lingvisticheskie-terminy/prichastniy-oborot-neobosoblenniy/?q=486&n=1470\\'>Причастный оборот необособленный</a></div>\\r\\n\\t<div class=\\'list_aut\\'><a href=\\'http://www.textologia.ru/slovari/lingvisticheskie-terminy/prichastniy-oborot-obosoblenniy/?q=486&n=1471\\'>Причастный оборот обособленный</a></div>\\r\\n\\t<div class=\\'list_aut\\'><a href=\\'http://www.textologia.ru/slovari/lingvisticheskie-terminy/produktivnie-affiksi/?q=486&n=1472\\'>Продуктивные аффиксы</a></div>\\r\\n\\t<div class=\\'list_aut\\'><a href=\\'http://www.textologia.ru/slovari/lingvisticheskie-terminy/produktivniy-slovarniy-zapas/?q=486&n=1473\\'>Продуктивный словарный запас</a></div>\\r\\n\\t<div class=\\'list_aut\\'><a href=\\'http://www.textologia.ru/slovari/lingvisticheskie-terminy/produktivniy-suffiks/?q=486&n=2155\\'>Продуктивный суффикс</a></div>\\r\\n\\t<div class=\\'list_aut\\'><a href=\\'http://www.textologia.ru/slovari/lingvisticheskie-terminy/prozopopeya/?q=486&n=1474\\'>Прозопопея</a></div>\\r\\n\\t<div class=\\'list_aut\\'><a href=\\'http://www.textologia.ru/slovari/lingvisticheskie-terminy/proiznoshenie/?q=486&n=1475\\'>Произношение</a></div>\\r\\n\\t<div class=\\'list_aut\\'><a href=\\'http://www.textologia.ru/slovari/lingvisticheskie-terminy/proishozhdenie-yazika/?q=486&n=1476\\'>Происхождение языка</a></div>\\r\\n\\t<div class=\\'list_aut\\'><a href=\\'http://www.textologia.ru/slovari/lingvisticheskie-terminy/proklitika/?q=486&n=1477\\'>Проклитика</a></div>\\r\\n\\t<div class=\\'list_aut\\'><a href=\\'http://www.textologia.ru/slovari/lingvisticheskie-terminy/pronominalizaciya/?q=486&n=1478\\'>Прономинализация</a></div>\\r\\n\\t<div class=\\'list_aut\\'><a href=\\'http://www.textologia.ru/slovari/lingvisticheskie-terminy/propisnaya-bolshaya-zaglavnaya-bukva/?q=486&n=1479\\'>Прописная (большая, заглавная) буква</a></div>\\r\\n\\t<div class=\\'list_aut\\'><a href=\\'http://www.textologia.ru/slovari/lingvisticheskie-terminy/prosodicheskiy/?q=486&n=1480\\'>Просодический</a></div>\\r\\n\\t<div class=\\'list_aut\\'><a href=\\'http://www.textologia.ru/slovari/lingvisticheskie-terminy/prosodiya/?q=486&n=1481\\'>Просодия</a></div>\\r\\n\\t<div class=\\'list_aut\\'><a href=\\'http://www.textologia.ru/slovari/lingvisticheskie-terminy/prostoe-predlozhenie/?q=486&n=1482\\'>Простое предложение</a></div>\\r\\n\\t<div class=\\'list_aut\\'><a href=\\'http://www.textologia.ru/slovari/lingvisticheskie-terminy/prostorechie/?q=486&n=1483\\'>Просторечие</a></div>\\r\\n\\t<div class=\\'list_aut\\'><a href=\\'http://www.textologia.ru/slovari/lingvisticheskie-terminy/protazis/?q=486&n=1484\\'>Протазис</a></div>\\r\\n\\t<div class=\\'list_aut\\'><a href=\\'http://www.textologia.ru/slovari/lingvisticheskie-terminy/proteza/?q=486&n=1485\\'>Протеза</a></div>\\r\\n\\t<div class=\\'list_aut\\'><a href=\\'http://www.textologia.ru/slovari/lingvisticheskie-terminy/proteticheskiy-zvuk/?q=486&n=1486\\'>Протетический звук</a></div>\\r\\n\\t<div class=\\'list_aut\\'><a href=\\'http://www.textologia.ru/slovari/lingvisticheskie-terminy/protopismennost/?q=486&n=2215\\'>Протописьменность</a></div>\\r\\n\\t<div class=\\'list_aut\\'><a href=\\'http://www.textologia.ru/slovari/lingvisticheskie-terminy/protochnie-soglasnie/?q=486&n=1487\\'>Проточные согласные</a></div>\\r\\n\\t<div class=\\'list_aut\\'><a href=\\'http://www.textologia.ru/slovari/lingvisticheskie-terminy/professionalizm/?q=486&n=1488\\'>Профессионализм</a></div>\\r\\n\\t<div class=\\'list_aut\\'><a href=\\'http://www.textologia.ru/slovari/lingvisticheskie-terminy/professionalnaya-leksika/?q=486&n=1489\\'>Профессиональная лексика</a></div>\\r\\n\\t<div class=\\'list_aut\\'><a href=\\'http://www.textologia.ru/slovari/lingvisticheskie-terminy/proshedshee-vremya/?q=486&n=1490\\'>Прошедшее время</a></div>\\r\\n\\t<div class=\\'list_aut\\'><a href=\\'http://www.textologia.ru/slovari/lingvisticheskie-terminy/proshedshee-istoricheskoe/?q=486&n=1491\\'>Прошедшее историческое</a></div>\\r\\n\\t<div class=\\'list_aut\\'><a href=\\'http://www.textologia.ru/slovari/lingvisticheskie-terminy/proshedshee-nesovershennoe/?q=486&n=1492\\'>Прошедшее несовершенное</a></div>\\r\\n\\t<div class=\\'list_aut\\'><a href=\\'http://www.textologia.ru/slovari/lingvisticheskie-terminy/proshedshee-opisatelnoe/?q=486&n=1493\\'>Прошедшее описательное</a></div>\\r\\n\\t<div class=\\'list_aut\\'><a href=\\'http://www.textologia.ru/slovari/lingvisticheskie-terminy/proshedshee-povestvovatelnoe/?q=486&n=1494\\'>Прошедшее повествовательное</a></div>\\r\\n\\t<div class=\\'list_aut\\'><a href=\\'http://www.textologia.ru/slovari/lingvisticheskie-terminy/proshedshee-rezultativnoe/?q=486&n=1495\\'>Прошедшее результативное</a></div>\\r\\n\\t<div class=\\'list_aut\\'><a href=\\'http://www.textologia.ru/slovari/lingvisticheskie-terminy/prusskiy-yazik/?q=486&n=2212\\'>Прусский язык</a></div>\\r\\n\\t<div class=\\'list_aut\\'><a href=\\'http://www.textologia.ru/slovari/lingvisticheskie-terminy/pryamaya-rech/?q=486&n=1496\\'>Прямая речь</a></div>\\r\\n\\t<div class=\\'list_aut\\'><a href=\\'http://www.textologia.ru/slovari/lingvisticheskie-terminy/pryamoe-znachenie/?q=486&n=1497\\'>Прямое значение</a></div>\\r\\n\\t<div class=\\'list_aut\\'><a href=\\'http://www.textologia.ru/slovari/lingvisticheskie-terminy/pryamoe-soglasovanie/?q=486&n=1498\\'>Прямое согласование</a></div>\\r\\n\\t<div class=\\'list_aut\\'><a href=\\'http://www.textologia.ru/slovari/lingvisticheskie-terminy/pryamoy-vopros/?q=486&n=1499\\'>Прямой вопрос</a></div>\\r\\n\\t<div class=\\'list_aut\\'><a href=\\'http://www.textologia.ru/slovari/lingvisticheskie-terminy/pryamoy-padezh/?q=486&n=1500\\'>Прямой падеж</a></div>\\r\\n\\t<div class=\\'list_aut\\'><a href=\\'http://www.textologia.ru/slovari/lingvisticheskie-terminy/pryamoy-poryadok-slov/?q=486&n=1501\\'>Прямой порядок слов</a></div>\\r\\n\\t<div class=\\'list_aut\\'><a href=\\'http://www.textologia.ru/slovari/lingvisticheskie-terminy/psiholingvistika/?q=486&n=1502\\'>Психолингвистика</a></div>\\r\\n\\t<div class=\\'list_aut\\'><a href=\\'http://www.textologia.ru/slovari/lingvisticheskie-terminy/psihologicheskoe-napravlenie-v-yazikoznanii/?q=486&n=2211\\'>Психологическое направление в языкознании</a></div>\\r\\n\\t<div class=\\'list_aut\\'><a href=\\'http://www.textologia.ru/slovari/lingvisticheskie-terminy/psihologicheskoe-podlezhaschee/?q=486&n=1503\\'>Психологическое подлежащее</a></div>\\r\\n\\t<div class=\\'list_aut\\'><a href=\\'http://www.textologia.ru/slovari/lingvisticheskie-terminy/psihologicheskoe-skazuemoe/?q=486&n=1504\\'>Психологическое сказуемое</a></div>\\r\\n\\t<div class=\\'list_aut\\'><a href=\\'http://www.textologia.ru/slovari/lingvisticheskie-terminy/punktuaciya/?q=486&n=1505\\'>Пунктуация</a></div>\\r\\n\\t<div class=\\'list_aut\\'><a href=\\'http://www.textologia.ru/slovari/lingvisticheskie-terminy/purizm/?q=486&n=1506\\'>Пуризм</a></div>\\r\\n\\t<div class=\\'list_aut\\'><a href=\\'http://www.textologia.ru/slovari/lingvisticheskie-terminy/pustaya-pristavka/?q=486&n=1507\\'>Пустая приставка</a></div>\\r\\n\\t<div class=\\'list_aut\\'><a href=\\'http://www.textologia.ru/slovari/lingvisticheskie-terminy/pushtu/?q=486&n=2210\\'>Пушту</a></div>\\r\\n\\t<div style=\"margin: 7px 0 5px 0;\"><b>Р</b></div><div class=\\'list_aut\\'><a href=\\'http://www.textologia.ru/slovari/lingvisticheskie-terminy/radiksoidi/?q=486&n=1508\\'>Радиксоиды</a></div>\\r\\n\\t<div class=\\'list_aut\\'><a href=\\'http://www.textologia.ru/slovari/lingvisticheskie-terminy/razbor-analiz/?q=486&n=1509\\'>Разбор (анализ)</a></div>\\r\\n\\t<div class=\\'list_aut\\'><a href=\\'http://www.textologia.ru/slovari/lingvisticheskie-terminy/razbor-morfologicheskiy/?q=486&n=1510\\'>Разбор морфологический</a></div>\\r\\n\\t<div class=\\'list_aut\\'><a href=\\'http://www.textologia.ru/slovari/lingvisticheskie-terminy/razbor-orfograficheskiy/?q=486&n=1511\\'>Разбор орфографический</a></div>\\r\\n\\t<div class=\\'list_aut\\'><a href=\\'http://www.textologia.ru/slovari/lingvisticheskie-terminy/razbor-punktuacionniy/?q=486&n=1512\\'>Разбор пунктуационный</a></div>\\r\\n\\t<div class=\\'list_aut\\'><a href=\\'http://www.textologia.ru/slovari/lingvisticheskie-terminy/razbor-sintaksicheskiy/?q=486&n=1513\\'>Разбор синтаксический</a></div>\\r\\n\\t<div class=\\'list_aut\\'><a href=\\'http://www.textologia.ru/slovari/lingvisticheskie-terminy/razbor-slovoobrazovatelniy-po-sostavu-slova/?q=486&n=1514\\'>Разбор словообразовательный (по составу слова)</a></div>\\r\\n\\t<div class=\\'list_aut\\'><a href=\\'http://www.textologia.ru/slovari/lingvisticheskie-terminy/razbor-foneticheskiy/?q=486&n=1515\\'>Разбор фонетический</a></div>\\r\\n\\t<div class=\\'list_aut\\'><a href=\\'http://www.textologia.ru/slovari/lingvisticheskie-terminy/razgovornaya-leksika/?q=486&n=1516\\'>Разговорная лексика</a></div>\\r\\n\\t<div class=\\'list_aut\\'><a href=\\'http://www.textologia.ru/slovari/lingvisticheskie-terminy/razgovornaya-rech/?q=486&n=1517\\'>Разговорная речь</a></div>\\r\\n\\t<div class=\\'list_aut\\'><a href=\\'http://www.textologia.ru/slovari/lingvisticheskie-terminy/razgovorniy/?q=486&n=1518\\'>Разговорный</a></div>\\r\\n\\t<div class=\\'list_aut\\'><a href=\\'http://www.textologia.ru/slovari/lingvisticheskie-terminy/razgovorniy-stil/?q=486&n=1519\\'>Разговорный стиль</a></div>\\r\\n\\t<div class=\\'list_aut\\'><a href=\\'http://www.textologia.ru/slovari/lingvisticheskie-terminy/razdelitelnaya-pauza/?q=486&n=1520\\'>Разделительная пауза</a></div>\\r\\n\\t<div class=\\'list_aut\\'><a href=\\'http://www.textologia.ru/slovari/lingvisticheskie-terminy/razdelitelnie-soyuzi/?q=486&n=1521\\'>Разделительные союзы</a></div>\\r\\n\\t<div class=\\'list_aut\\'><a href=\\'http://www.textologia.ru/slovari/lingvisticheskie-terminy/raznomestnoe-udarenie/?q=486&n=1522\\'>Разноместное ударение</a></div>\\r\\n\\t<div class=\\'list_aut\\'><a href=\\'http://www.textologia.ru/slovari/lingvisticheskie-terminy/raznosklonyaemie-suschestvitelnie/?q=486&n=1523\\'>Разносклоняемые существительные</a></div>\\r\\n\\t<div class=\\'list_aut\\'><a href=\\'http://www.textologia.ru/slovari/lingvisticheskie-terminy/raznospryagaemie-glagoli/?q=486&n=1524\\'>Разноспрягаемые глаголы</a></div>\\r\\n\\t<div class=\\'list_aut\\'><a href=\\'http://www.textologia.ru/slovari/lingvisticheskie-terminy/raspodoblenie/?q=486&n=1525\\'>Расподобление</a></div>\\r\\n\\t<div class=\\'list_aut\\'><a href=\\'http://www.textologia.ru/slovari/lingvisticheskie-terminy/raspredelitelnoe-znachenie/?q=486&n=1526\\'>Распределительное значение</a></div>\\r\\n\\t<div class=\\'list_aut\\'><a href=\\'http://www.textologia.ru/slovari/lingvisticheskie-terminy/rasprostranennoe-predlozhenie/?q=486&n=1527\\'>Распространенное предложение</a></div>\\r\\n\\t<div class=\\'list_aut\\'><a href=\\'http://www.textologia.ru/slovari/lingvisticheskie-terminy/rasprostranenniy-chlen-predlozheniya/?q=486&n=1528\\'>Распространенный член предложения</a></div>\\r\\n\\t<div class=\\'list_aut\\'><a href=\\'http://www.textologia.ru/slovari/lingvisticheskie-terminy/rasprostraniteli-predlozheniya/?q=486&n=1529\\'>Распространители предложения</a></div>\\r\\n\\t<div class=\\'list_aut\\'><a href=\\'http://www.textologia.ru/slovari/lingvisticheskie-terminy/raschlenennoe-slozhnopodchinennoe-predlozhenie/?q=486&n=1530\\'>Расчлененное сложноподчиненное предложение</a></div>\\r\\n\\t<div class=\\'list_aut\\'><a href=\\'http://www.textologia.ru/slovari/lingvisticheskie-terminy/rasshirenie-znacheniya/?q=486&n=1531\\'>Расширение значения</a></div>\\r\\n\\t<div class=\\'list_aut\\'><a href=\\'http://www.textologia.ru/slovari/lingvisticheskie-terminy/rasscheplenie-skazuemogo/?q=486&n=1532\\'>Расщепление сказуемого</a></div>\\r\\n\\t<div class=\\'list_aut\\'><a href=\\'http://www.textologia.ru/slovari/lingvisticheskie-terminy/realii/?q=486&n=1533\\'>Реалии</a></div>\\r\\n\\t<div class=\\'list_aut\\'><a href=\\'http://www.textologia.ru/slovari/lingvisticheskie-terminy/regressivnaya-derivaciya/?q=486&n=1534\\'>Регрессивная деривация</a></div>\\r\\n\\t<div class=\\'list_aut\\'><a href=\\'http://www.textologia.ru/slovari/lingvisticheskie-terminy/rederivaciya/?q=486&n=1535\\'>Редеривация</a></div>\\r\\n\\t<div class=\\'list_aut\\'><a href=\\'http://www.textologia.ru/slovari/lingvisticheskie-terminy/redukciya/?q=486&n=1536\\'>Редукция</a></div>\\r\\n\\t<div class=\\'list_aut\\'><a href=\\'http://www.textologia.ru/slovari/lingvisticheskie-terminy/redukciya-kachestvennaya/?q=486&n=1537\\'>Редукция качественная</a></div>\\r\\n\\t<div class=\\'list_aut\\'><a href=\\'http://www.textologia.ru/slovari/lingvisticheskie-terminy/redukciya-kolichestvennaya/?q=486&n=1538\\'>Редукция количественная</a></div>\\r\\n\\t<div class=\\'list_aut\\'><a href=\\'http://www.textologia.ru/slovari/lingvisticheskie-terminy/reduplikaciya/?q=486&n=2330\\'>Редупликация</a></div>\\r\\n\\t<div class=\\'list_aut\\'><a href=\\'http://www.textologia.ru/slovari/lingvisticheskie-terminy/reducirovannie-glasnie/?q=486&n=1540\\'>Редуцированные гласные</a></div>\\r\\n\\t<div class=\\'list_aut\\'><a href=\\'http://www.textologia.ru/slovari/lingvisticheskie-terminy/rekursiya/?q=486&n=1541\\'>Рекурсия</a></div>\\r\\n\\t<div class=\\'list_aut\\'><a href=\\'http://www.textologia.ru/slovari/lingvisticheskie-terminy/relevantniy/?q=486&n=1542\\'>Релевантный</a></div>\\r\\n\\t<div class=\\'list_aut\\'><a href=\\'http://www.textologia.ru/slovari/lingvisticheskie-terminy/rema/?q=486&n=1543\\'>Рема</a></div>\\r\\n\\t<div class=\\'list_aut\\'><a href=\\'http://www.textologia.ru/slovari/lingvisticheskie-terminy/replika/?q=486&n=1544\\'>Реплика</a></div>\\r\\n\\t<div class=\\'list_aut\\'><a href=\\'http://www.textologia.ru/slovari/lingvisticheskie-terminy/reprezentaciya/?q=486&n=1545\\'>Репрезентация</a></div>\\r\\n\\t<div class=\\'list_aut\\'><a href=\\'http://www.textologia.ru/slovari/lingvisticheskie-terminy/retroromanskie-yaziki/?q=486&n=2209\\'>Ретророманские языки</a></div>\\r\\n\\t<div class=\\'list_aut\\'><a href=\\'http://www.textologia.ru/slovari/lingvisticheskie-terminy/referent/?q=486&n=1546\\'>Референт</a></div>\\r\\n\\t<div class=\\'list_aut\\'><a href=\\'http://www.textologia.ru/slovari/lingvisticheskie-terminy/referenciya/?q=486&n=2207\\'>Референция</a></div>\\r\\n\\t<div class=\\'list_aut\\'><a href=\\'http://www.textologia.ru/slovari/lingvisticheskie-terminy/receptivniy-slovarniy-zapas/?q=486&n=1547\\'>Рецептивный словарный запас</a></div>\\r\\n\\t<div class=\\'list_aut\\'><a href=\\'http://www.textologia.ru/slovari/lingvisticheskie-terminy/rechevaya-oshibka/?q=486&n=2131\\'>Речевая ошибка</a></div>\\r\\n\\t<div class=\\'list_aut\\'><a href=\\'http://www.textologia.ru/slovari/lingvisticheskie-terminy/rechevaya-harakteristika-rechevoy-portret/?q=486&n=1548\\'>Речевая характеристика (речевой портрет)</a></div>\\r\\n\\t<div class=\\'list_aut\\'><a href=\\'http://www.textologia.ru/slovari/lingvisticheskie-terminy/rechevoe-zveno/?q=486&n=1549\\'>Речевое звено</a></div>\\r\\n\\t<div class=\\'list_aut\\'><a href=\\'http://www.textologia.ru/slovari/lingvisticheskie-terminy/rechevoy-akt/?q=486&n=2206\\'>Речевой акт</a></div>\\r\\n\\t<div class=\\'list_aut\\'><a href=\\'http://www.textologia.ru/slovari/lingvisticheskie-terminy/rechevoy-apparat/?q=486&n=1550\\'>Речевой аппарат</a></div>\\r\\n\\t<div class=\\'list_aut\\'><a href=\\'http://www.textologia.ru/slovari/lingvisticheskie-terminy/rechevoy-portret/?q=486&n=1551\\'>Речевой портрет</a></div>\\r\\n\\t<div class=\\'list_aut\\'><a href=\\'http://www.textologia.ru/slovari/lingvisticheskie-terminy/rechevoy-potok/?q=486&n=1552\\'>Речевой поток</a></div>\\r\\n\\t<div class=\\'list_aut\\'><a href=\\'http://www.textologia.ru/slovari/lingvisticheskie-terminy/rechevoy-takt-rechevoe-zveno/?q=486&n=1553\\'>Речевой такт (речевое звено)</a></div>\\r\\n\\t<div class=\\'list_aut\\'><a href=\\'http://www.textologia.ru/slovari/lingvisticheskie-terminy/rechenie/?q=486&n=1554\\'>Речение</a></div>\\r\\n\\t<div class=\\'list_aut\\'><a href=\\'http://www.textologia.ru/slovari/lingvisticheskie-terminy/rech/?q=486&n=1555\\'>Речь</a></div>\\r\\n\\t<div class=\\'list_aut\\'><a href=\\'http://www.textologia.ru/slovari/lingvisticheskie-terminy/risunochnoe-pismo/?q=486&n=1556\\'>Рисуночное письмо</a></div>\\r\\n\\t<div class=\\'list_aut\\'><a href=\\'http://www.textologia.ru/slovari/lingvisticheskie-terminy/ritm-rechi/?q=486&n=1557\\'>Ритм речи</a></div>\\r\\n\\t<div class=\\'list_aut\\'><a href=\\'http://www.textologia.ru/slovari/lingvisticheskie-terminy/ritmomelodika/?q=486&n=1558\\'>Ритмомелодика</a></div>\\r\\n\\t<div class=\\'list_aut\\'><a href=\\'http://www.textologia.ru/slovari/lingvisticheskie-terminy/ritmomelodika-periodicheskoy-rechi/?q=486&n=1559\\'>Ритмомелодика периодической речи</a></div>\\r\\n\\t<div class=\\'list_aut\\'><a href=\\'http://www.textologia.ru/slovari/lingvisticheskie-terminy/ritorika/?q=486&n=1560\\'>Риторика</a></div>\\r\\n\\t<div class=\\'list_aut\\'><a href=\\'http://www.textologia.ru/slovari/lingvisticheskie-terminy/ritoricheskaya-figura/?q=486&n=1561\\'>Риторическая фигура</a></div>\\r\\n\\t<div class=\\'list_aut\\'><a href=\\'http://www.textologia.ru/slovari/lingvisticheskie-terminy/ritoricheskiy-vopros/?q=486&n=1562\\'>Риторический вопрос</a></div>\\r\\n\\t<div class=\\'list_aut\\'><a href=\\'http://www.textologia.ru/slovari/lingvisticheskie-terminy/ritoricheskoe-obraschenie/?q=486&n=1563\\'>Риторическое обращение</a></div>\\r\\n\\t<div class=\\'list_aut\\'><a href=\\'http://www.textologia.ru/slovari/lingvisticheskie-terminy/rod/?q=486&n=1564\\'>Род</a></div>\\r\\n\\t<div class=\\'list_aut\\'><a href=\\'http://www.textologia.ru/slovari/lingvisticheskie-terminy/rod-zhenskiy/?q=486&n=1565\\'>Род женский</a></div>\\r\\n\\t<div class=\\'list_aut\\'><a href=\\'http://www.textologia.ru/slovari/lingvisticheskie-terminy/rod-muzhskoy/?q=486&n=1566\\'>Род мужской</a></div>\\r\\n\\t<div class=\\'list_aut\\'><a href=\\'http://www.textologia.ru/slovari/lingvisticheskie-terminy/rod-obschiy/?q=486&n=1567\\'>Род общий</a></div>\\r\\n\\t<div class=\\'list_aut\\'><a href=\\'http://www.textologia.ru/slovari/lingvisticheskie-terminy/rod-sredniy/?q=486&n=1568\\'>Род средний</a></div>\\r\\n\\t<div class=\\'list_aut\\'><a href=\\'http://www.textologia.ru/slovari/lingvisticheskie-terminy/roditelniy-kolichestvenniy/?q=486&n=1569\\'>Родительный количественный</a></div>\\r\\n\\t<div class=\\'list_aut\\'><a href=\\'http://www.textologia.ru/slovari/lingvisticheskie-terminy/roditelniy-padezh/?q=486&n=1570\\'>Родительный падеж</a></div>\\r\\n\\t<div class=\\'list_aut\\'><a href=\\'http://www.textologia.ru/slovari/lingvisticheskie-terminy/roditelniy-razdelitelniy/?q=486&n=1571\\'>Родительный разделительный</a></div>\\r\\n\\t<div class=\\'list_aut\\'><a href=\\'http://www.textologia.ru/slovari/lingvisticheskie-terminy/rodnoy-yazik/?q=486&n=1572\\'>Родной язык</a></div>\\r\\n\\t<div class=\\'list_aut\\'><a href=\\'http://www.textologia.ru/slovari/lingvisticheskie-terminy/rodstvennie-yaziki/?q=486&n=1573\\'>Родственные языки</a></div>\\r\\n\\t<div class=\\'list_aut\\'><a href=\\'http://www.textologia.ru/slovari/lingvisticheskie-terminy/rodstvo-yazikov/?q=486&n=1574\\'>Родство языков</a></div>\\r\\n\\t<div class=\\'list_aut\\'><a href=\\'http://www.textologia.ru/slovari/lingvisticheskie-terminy/rodstvo-yazikovoe/?q=486&n=2205\\'>Родство языковое</a></div>\\r\\n\\t<div class=\\'list_aut\\'><a href=\\'http://www.textologia.ru/slovari/lingvisticheskie-terminy/romanskie-yaziki/?q=486&n=1575\\'>Романские языки</a></div>\\r\\n\\t<div class=\\'list_aut\\'><a href=\\'http://www.textologia.ru/slovari/lingvisticheskie-terminy/rotovie-rtovie-zvuki/?q=486&n=1576\\'>Ротовые (ртовые) звуки</a></div>\\r\\n\\t<div class=\\'list_aut\\'><a href=\\'http://www.textologia.ru/slovari/lingvisticheskie-terminy/rusistika/?q=486&n=2204\\'>Русистика</a></div>\\r\\n\\t<div class=\\'list_aut\\'><a href=\\'http://www.textologia.ru/slovari/lingvisticheskie-terminy/ruchnaya-rech/?q=486&n=1577\\'>Ручная речь</a></div>\\r\\n\\t<div class=\\'list_aut\\'><a href=\\'http://www.textologia.ru/slovari/lingvisticheskie-terminy/ryad/?q=486&n=1578\\'>Ряд</a></div>\\r\\n\\t<div style=\"margin: 7px 0 5px 0;\"><b>С</b></div><div class=\\'list_aut\\'><a href=\\'http://www.textologia.ru/slovari/lingvisticheskie-terminy/samodiyskie-yaziki/?q=486&n=1579\\'>Самодийские языки</a></div>\\r\\n\\t<div class=\\'list_aut\\'><a href=\\'http://www.textologia.ru/slovari/lingvisticheskie-terminy/samostoyatelnie-slova/?q=486&n=1580\\'>Самостоятельные слова</a></div>\\r\\n\\t<div class=\\'list_aut\\'><a href=\\'http://www.textologia.ru/slovari/lingvisticheskie-terminy/samostoyatelnie-chasti-rechi/?q=486&n=1581\\'>Самостоятельные части речи</a></div>\\r\\n\\t<div class=\\'list_aut\\'><a href=\\'http://www.textologia.ru/slovari/lingvisticheskie-terminy/sverhsegmentniy/?q=486&n=1582\\'>Сверхсегментный</a></div>\\r\\n\\t<div class=\\'list_aut\\'><a href=\\'http://www.textologia.ru/slovari/lingvisticheskie-terminy/sverhfrazovoe-sverhfraznoe-edinstvo/?q=486&n=1583\\'>Сверхфразовое (сверхфразное) единство</a></div>\\r\\n\\t<div class=\\'list_aut\\'><a href=\\'http://www.textologia.ru/slovari/lingvisticheskie-terminy/svistyaschie-zvuki-sibilyanti/?q=486&n=1584\\'>Свистящие звуки (сибилянты)</a></div>\\r\\n\\t<div class=\\'list_aut\\'><a href=\\'http://www.textologia.ru/slovari/lingvisticheskie-terminy/svobodnaya-osnova/?q=486&n=1585\\'>Свободная основа</a></div>\\r\\n\\t<div class=\\'list_aut\\'><a href=\\'http://www.textologia.ru/slovari/lingvisticheskie-terminy/svobodnoe-slovosochetanie/?q=486&n=1586\\'>Свободное словосочетание</a></div>\\r\\n\\t<div class=\\'list_aut\\'><a href=\\'http://www.textologia.ru/slovari/lingvisticheskie-terminy/svobodnoe-udarenie/?q=486&n=1587\\'>Свободное ударение</a></div>\\r\\n\\t<div class=\\'list_aut\\'><a href=\\'http://www.textologia.ru/slovari/lingvisticheskie-terminy/svyazannaya-osnova/?q=486&n=1588\\'>Связанная основа</a></div>\\r\\n\\t<div class=\\'list_aut\\'><a href=\\'http://www.textologia.ru/slovari/lingvisticheskie-terminy/svyazannoe-sochetanie/?q=486&n=1589\\'>Связанное сочетание</a></div>\\r\\n\\t<div class=\\'list_aut\\'><a href=\\'http://www.textologia.ru/slovari/lingvisticheskie-terminy/svyazanniy-koren/?q=486&n=1590\\'>Связанный корень</a></div>\\r\\n\\t<div class=\\'list_aut\\'><a href=\\'http://www.textologia.ru/slovari/lingvisticheskie-terminy/svyazka/?q=486&n=1591\\'>Связка</a></div>\\r\\n\\t<div class=\\'list_aut\\'><a href=\\'http://www.textologia.ru/slovari/lingvisticheskie-terminy/svyazka-znamenatelnaya/?q=486&n=1592\\'>Связка знаменательная</a></div>\\r\\n\\t<div class=\\'list_aut\\'><a href=\\'http://www.textologia.ru/slovari/lingvisticheskie-terminy/svyaz-sintaksicheskaya/?q=486&n=1593\\'>Связь синтаксическая</a></div>\\r\\n\\t<div class=\\'list_aut\\'><a href=\\'http://www.textologia.ru/slovari/lingvisticheskie-terminy/segment/?q=486&n=1594\\'>Сегмент</a></div>\\r\\n\\t<div class=\\'list_aut\\'><a href=\\'http://www.textologia.ru/slovari/lingvisticheskie-terminy/segmentaciya/?q=486&n=1595\\'>Сегментация</a></div>\\r\\n\\t<div class=\\'list_aut\\'><a href=\\'http://www.textologia.ru/slovari/lingvisticheskie-terminy/sema/?q=486&n=2326\\'>Сема</a></div>\\r\\n\\t<div class=\\'list_aut\\'><a href=\\'http://www.textologia.ru/slovari/lingvisticheskie-terminy/semantizaciya/?q=486&n=1596\\'>Семантизация</a></div>\\r\\n\\t<div class=\\'list_aut\\'><a href=\\'http://www.textologia.ru/slovari/lingvisticheskie-terminy/semantika/?q=486&n=1597\\'>Семантика</a></div>\\r\\n\\t<div class=\\'list_aut\\'><a href=\\'http://www.textologia.ru/slovari/lingvisticheskie-terminy/semanticheskie-soyuzi/?q=486&n=1598\\'>Семантические союзы</a></div>\\r\\n\\t<div class=\\'list_aut\\'><a href=\\'http://www.textologia.ru/slovari/lingvisticheskie-terminy/semanticheskoe-pole/?q=486&n=1599\\'>Семантическое поле</a></div>\\r\\n\\t<div class=\\'list_aut\\'><a href=\\'http://www.textologia.ru/slovari/lingvisticheskie-terminy/semasiologiya/?q=486&n=1600\\'>Семасиология</a></div>\\r\\n\\t<div class=\\'list_aut\\'><a href=\\'http://www.textologia.ru/slovari/lingvisticheskie-terminy/semema/?q=486&n=2327\\'>Семема</a></div>\\r\\n\\t<div class=\\'list_aut\\'><a href=\\'http://www.textologia.ru/slovari/lingvisticheskie-terminy/semiologiya/?q=486&n=1601\\'>Семиология</a></div>\\r\\n\\t<div class=\\'list_aut\\'><a href=\\'http://www.textologia.ru/slovari/lingvisticheskie-terminy/semiotika/?q=486&n=1602\\'>Семиотика</a></div>\\r\\n\\t<div class=\\'list_aut\\'><a href=\\'http://www.textologia.ru/slovari/lingvisticheskie-terminy/semitskie-semiticheskie-yaziki/?q=486&n=1603\\'>Семитские (семитические) языки</a></div>\\r\\n\\t<div class=\\'list_aut\\'><a href=\\'http://www.textologia.ru/slovari/lingvisticheskie-terminy/semya-yazikov/?q=486&n=1604\\'>Семья языков</a></div>\\r\\n\\t<div class=\\'list_aut\\'><a href=\\'http://www.textologia.ru/slovari/lingvisticheskie-terminy/sibilyanti/?q=486&n=1605\\'>Сибилянты</a></div>\\r\\n\\t<div class=\\'list_aut\\'><a href=\\'http://www.textologia.ru/slovari/lingvisticheskie-terminy/signifikativnaya-funkciya-zvukov/?q=486&n=1607\\'>Сигнификативная функция звуков</a></div>\\r\\n\\t<div class=\\'list_aut\\'><a href=\\'http://www.textologia.ru/slovari/lingvisticheskie-terminy/signifikativniy/?q=486&n=1606\\'>Сигнификативный</a></div>\\r\\n\\t<div class=\\'list_aut\\'><a href=\\'http://www.textologia.ru/slovari/lingvisticheskie-terminy/sila-intensivnost-zvuka/?q=486&n=1608\\'>Сила (интенсивность) звука</a></div>\\r\\n\\t<div class=\\'list_aut\\'><a href=\\'http://www.textologia.ru/slovari/lingvisticheskie-terminy/sillabicheskoe-pismo/?q=486&n=1609\\'>Силлабическое письмо</a></div>\\r\\n\\t<div class=\\'list_aut\\'><a href=\\'http://www.textologia.ru/slovari/lingvisticheskie-terminy/silovoe-dinamicheskoe-udarenie/?q=486&n=1610\\'>Силовое (динамическое) ударение</a></div>\\r\\n\\t<div class=\\'list_aut\\'><a href=\\'http://www.textologia.ru/slovari/lingvisticheskie-terminy/singarmonizm/?q=486&n=1611\\'>Сингармонизм</a></div>\\r\\n\\t<div class=\\'list_aut\\'><a href=\\'http://www.textologia.ru/slovari/lingvisticheskie-terminy/singulyariya-tantum-singularia-tantum/?q=486&n=1612\\'>Сингулярия тантум (Singularia tantum)</a></div>\\r\\n\\t<div class=\\'list_aut\\'><a href=\\'http://www.textologia.ru/slovari/lingvisticheskie-terminy/singulyativi/?q=486&n=1613\\'>Сингулятивы</a></div>\\r\\n\\t<div class=\\'list_aut\\'><a href=\\'http://www.textologia.ru/slovari/lingvisticheskie-terminy/sindhi/?q=486&n=2304\\'>Синдхи</a></div>\\r\\n\\t<div class=\\'list_aut\\'><a href=\\'http://www.textologia.ru/slovari/lingvisticheskie-terminy/sinekdoha/?q=486&n=1614\\'>Синекдоха</a></div>\\r\\n\\t<div class=\\'list_aut\\'><a href=\\'http://www.textologia.ru/slovari/lingvisticheskie-terminy/sinkopa/?q=486&n=1615\\'>Синкопа</a></div>\\r\\n\\t<div class=\\'list_aut\\'><a href=\\'http://www.textologia.ru/slovari/lingvisticheskie-terminy/sinonimika/?q=486&n=1616\\'>Синонимика</a></div>\\r\\n\\t<div class=\\'list_aut\\'><a href=\\'http://www.textologia.ru/slovari/lingvisticheskie-terminy/sinonimicheskie-konstrukcii/?q=486&n=1617\\'>Синонимические конструкции</a></div>\\r\\n\\t<div class=\\'list_aut\\'><a href=\\'http://www.textologia.ru/slovari/lingvisticheskie-terminy/sinonimicheskiy-ryad/?q=486&n=1618\\'>Синонимический ряд</a></div>\\r\\n\\t<div class=\\'list_aut\\'><a href=\\'http://www.textologia.ru/slovari/lingvisticheskie-terminy/sinonimiya/?q=486&n=1619\\'>Синонимия</a></div>\\r\\n\\t<div class=\\'list_aut\\'><a href=\\'http://www.textologia.ru/slovari/lingvisticheskie-terminy/sinonimiya-grammaticheskaya/?q=486&n=1624\\'>Синонимия грамматическая</a></div>\\r\\n\\t<div class=\\'list_aut\\'><a href=\\'http://www.textologia.ru/slovari/lingvisticheskie-terminy/sinonimiya-leksicheskaya/?q=486&n=1623\\'>Синонимия лексическая</a></div>\\r\\n\\t<div class=\\'list_aut\\'><a href=\\'http://www.textologia.ru/slovari/lingvisticheskie-terminy/sinonimiya-okonchaniy/?q=486&n=1622\\'>Синонимия окончаний</a></div>\\r\\n\\t<div class=\\'list_aut\\'><a href=\\'http://www.textologia.ru/slovari/lingvisticheskie-terminy/sinonimiya-pristavok/?q=486&n=1620\\'>Синонимия приставок</a></div>\\r\\n\\t<div class=\\'list_aut\\'><a href=\\'http://www.textologia.ru/slovari/lingvisticheskie-terminy/sinonimiya-slovoobrazovatelnaya/?q=486&n=1625\\'>Синонимия словообразовательная</a></div>\\r\\n\\t<div class=\\'list_aut\\'><a href=\\'http://www.textologia.ru/slovari/lingvisticheskie-terminy/sinonimiya-suffiksov/?q=486&n=1621\\'>Синонимия суффиксов</a></div>\\r\\n\\t<div class=\\'list_aut\\'><a href=\\'http://www.textologia.ru/slovari/lingvisticheskie-terminy/sinonimiya-frazeologicheskaya/?q=486&n=1626\\'>Синонимия фразеологическая</a></div>\\r\\n\\t<div class=\\'list_aut\\'><a href=\\'http://www.textologia.ru/slovari/lingvisticheskie-terminy/sinonimi/?q=486&n=1627\\'>Синонимы</a></div>\\r\\n\\t<div class=\\'list_aut\\'><a href=\\'http://www.textologia.ru/slovari/lingvisticheskie-terminy/sinonimi-absolyutnie/?q=486&n=1628\\'>Синонимы абсолютные</a></div>\\r\\n\\t<div class=\\'list_aut\\'><a href=\\'http://www.textologia.ru/slovari/lingvisticheskie-terminy/sinonimi-kontekstualnie/?q=486&n=1629\\'>Синонимы контекстуальные</a></div>\\r\\n\\t<div class=\\'list_aut\\'><a href=\\'http://www.textologia.ru/slovari/lingvisticheskie-terminy/sinonimi-odnokorennie/?q=486&n=1630\\'>Синонимы однокоренные</a></div>\\r\\n\\t<div class=\\'list_aut\\'><a href=\\'http://www.textologia.ru/slovari/lingvisticheskie-terminy/sinonimi-stilisticheskie/?q=486&n=1631\\'>Синонимы стилистические</a></div>\\r\\n\\t<div class=\\'list_aut\\'><a href=\\'http://www.textologia.ru/slovari/lingvisticheskie-terminy/sinonimy-chastichnie/?q=486&n=2140\\'>Синонимы частичные (относительные)</a></div>\\r\\n\\t<div class=\\'list_aut\\'><a href=\\'http://www.textologia.ru/slovari/lingvisticheskie-terminy/sinsemanticheskiy/?q=486&n=1632\\'>Синсемантический</a></div>\\r\\n\\t<div class=\\'list_aut\\'><a href=\\'http://www.textologia.ru/slovari/lingvisticheskie-terminy/sintagma/?q=486&n=1633\\'>Синтагма</a></div>\\r\\n\\t<div class=\\'list_aut\\'><a href=\\'http://www.textologia.ru/slovari/lingvisticheskie-terminy/sintagmatika/?q=486&n=1634\\'>Синтагматика</a></div>\\r\\n\\t<div class=\\'list_aut\\'><a href=\\'http://www.textologia.ru/slovari/lingvisticheskie-terminy/sintaksis/?q=486&n=1635\\'>Синтаксис</a></div>\\r\\n\\t<div class=\\'list_aut\\'><a href=\\'http://www.textologia.ru/slovari/lingvisticheskie-terminy/sintaksis-dinamicheskiy/?q=486&n=1636\\'>Синтаксис динамический</a></div>\\r\\n\\t<div class=\\'list_aut\\'><a href=\\'http://www.textologia.ru/slovari/lingvisticheskie-terminy/sintaksis-kommunikativniy/?q=486&n=1637\\'>Синтаксис коммуникативный</a></div>\\r\\n\\t<div class=\\'list_aut\\'><a href=\\'http://www.textologia.ru/slovari/lingvisticheskie-terminy/sintaksis-staticheskiy/?q=486&n=1638\\'>Синтаксис статический</a></div>\\r\\n\\t<div class=\\'list_aut\\'><a href=\\'http://www.textologia.ru/slovari/lingvisticheskie-terminy/sintaksis-teksta/?q=486&n=1639\\'>Синтаксис текста</a></div>\\r\\n\\t<div class=\\'list_aut\\'><a href=\\'http://www.textologia.ru/slovari/lingvisticheskie-terminy/sintaksis-funkcionalniy/?q=486&n=1640\\'>Синтаксис функциональный</a></div>\\r\\n\\t<div class=\\'list_aut\\'><a href=\\'http://www.textologia.ru/slovari/lingvisticheskie-terminy/sintaksicheskaya-konstrukciya/?q=486&n=1641\\'>Синтаксическая конструкция</a></div>\\r\\n\\t<div class=\\'list_aut\\'><a href=\\'http://www.textologia.ru/slovari/lingvisticheskie-terminy/sintaksicheskaya-svyaz/?q=486&n=1642\\'>Синтаксическая связь</a></div>\\r\\n\\t<div class=\\'list_aut\\'><a href=\\'http://www.textologia.ru/slovari/lingvisticheskie-terminy/sintaksicheskie-kategorii/?q=486&n=1643\\'>Синтаксические категории</a></div>\\r\\n\\t<div class=\\'list_aut\\'><a href=\\'http://www.textologia.ru/slovari/lingvisticheskie-terminy/sintaksicheskie-otnosheniya/?q=486&n=1644\\'>Синтаксические отношения</a></div>\\r\\n\\t<div class=\\'list_aut\\'><a href=\\'http://www.textologia.ru/slovari/lingvisticheskie-terminy/sintaksicheskiy-razbor/?q=486&n=1645\\'>Синтаксический разбор</a></div>\\r\\n\\t<div class=\\'list_aut\\'><a href=\\'http://www.textologia.ru/slovari/lingvisticheskie-terminy/sinteticheskaya-forma/?q=486&n=1646\\'>Синтетическая форма</a></div>\\r\\n\\t<div class=\\'list_aut\\'><a href=\\'http://www.textologia.ru/slovari/lingvisticheskie-terminy/sinteticheskie-yaziki/?q=486&n=1647\\'>Синтетические языки</a></div>\\r\\n\\t<div class=\\'list_aut\\'><a href=\\'http://www.textologia.ru/slovari/lingvisticheskie-terminy/sinhroniya/?q=486&n=1648\\'>Синхрония</a></div>\\r\\n\\t<div class=\\'list_aut\\'><a href=\\'http://www.textologia.ru/slovari/lingvisticheskie-terminy/sistema/?q=486&n=1649\\'>Система</a></div>\\r\\n\\t<div class=\\'list_aut\\'><a href=\\'http://www.textologia.ru/slovari/lingvisticheskie-terminy/situaciya/?q=486&n=1650\\'>Ситуация</a></div>\\r\\n\\t<div class=\\'list_aut\\'><a href=\\'http://www.textologia.ru/slovari/lingvisticheskie-terminy/skazuemo-bespodlezhaschnoe-predlozhenie/?q=486&n=1651\\'>Сказуемо-бесподлежащное предложение</a></div>\\r\\n\\t<div class=\\'list_aut\\'><a href=\\'http://www.textologia.ru/slovari/lingvisticheskie-terminy/skazuemoe/?q=486&n=1652\\'>Сказуемое</a></div>\\r\\n\\t<div class=\\'list_aut\\'><a href=\\'http://www.textologia.ru/slovari/lingvisticheskie-terminy/skazuemoe-grammaticheskoe/?q=486&n=1653\\'>Сказуемое грамматическое</a></div>\\r\\n\\t<div class=\\'list_aut\\'><a href=\\'http://www.textologia.ru/slovari/lingvisticheskie-terminy/skazuemost/?q=486&n=1654\\'>Сказуемость</a></div>\\r\\n\\t<div class=\\'list_aut\\'><a href=\\'http://www.textologia.ru/slovari/lingvisticheskie-terminy/sklonenie/?q=486&n=1655\\'>Склонение</a></div>\\r\\n\\t<div class=\\'list_aut\\'><a href=\\'http://www.textologia.ru/slovari/lingvisticheskie-terminy/skobki/?q=486&n=1656\\'>Скобки</a></div>\\r\\n\\t<div class=\\'list_aut\\'><a href=\\'http://www.textologia.ru/slovari/lingvisticheskie-terminy/skoropis/?q=486&n=1657\\'>Скоропись</a></div>\\r\\n\\t<div class=\\'list_aut\\'><a href=\\'http://www.textologia.ru/slovari/lingvisticheskie-terminy/skreschenie-yazikov/?q=486&n=1658\\'>Скрещение языков</a></div>\\r\\n\\t<div class=\\'list_aut\\'><a href=\\'http://www.textologia.ru/slovari/lingvisticheskie-terminy/slabaya-poziciya/?q=486&n=1659\\'>Слабая позиция</a></div>\\r\\n\\t<div class=\\'list_aut\\'><a href=\\'http://www.textologia.ru/slovari/lingvisticheskie-terminy/slaboupravlyaemie-chleni-predlozheniya/?q=486&n=1660\\'>Слабоуправляемые члены предложения</a></div>\\r\\n\\t<div class=\\'list_aut\\'><a href=\\'http://www.textologia.ru/slovari/lingvisticheskie-terminy/slavyanizm/?q=486&n=1661\\'>Славянизм</a></div>\\r\\n\\t<div class=\\'list_aut\\'><a href=\\'http://www.textologia.ru/slovari/lingvisticheskie-terminy/slavyanskie-yaziki/?q=486&n=1662\\'>Славянские языки</a></div>\\r\\n\\t<div class=\\'list_aut\\'><a href=\\'http://www.textologia.ru/slovari/lingvisticheskie-terminy/sleng/?q=486&n=1663\\'>Сленг</a></div>\\r\\n\\t<div class=\\'list_aut\\'><a href=\\'http://www.textologia.ru/slovari/lingvisticheskie-terminy/slitnoe-predlozhenie/?q=486&n=1667\\'>Слитное предложение</a></div>\\r\\n\\t<div class=\\'list_aut\\'><a href=\\'http://www.textologia.ru/slovari/lingvisticheskie-terminy/slitnoe-slozhnoe-slovo/?q=486&n=1668\\'>Слитное сложное слово</a></div>\\r\\n\\t<div class=\\'list_aut\\'><a href=\\'http://www.textologia.ru/slovari/lingvisticheskie-terminy/slitnie-soglasnie/?q=486&n=1669\\'>Слитные согласные</a></div>\\r\\n\\t<div class=\\'list_aut\\'><a href=\\'http://www.textologia.ru/slovari/lingvisticheskie-terminy/slova-paraziti/?q=486&n=1670\\'>Слова-паразиты</a></div>\\r\\n\\t<div class=\\'list_aut\\'><a href=\\'http://www.textologia.ru/slovari/lingvisticheskie-terminy/slova-predlozheniya-nechlenimie-predlozheniya/?q=486&n=1671\\'>Слова-предложения (нечленимые предложения)</a></div>\\r\\n\\t<div class=\\'list_aut\\'><a href=\\'http://www.textologia.ru/slovari/lingvisticheskie-terminy/slovarnaya-statya/?q=486&n=1672\\'>Словарная статья</a></div>\\r\\n\\t<div class=\\'list_aut\\'><a href=\\'http://www.textologia.ru/slovari/lingvisticheskie-terminy/slovarnaya-statya/?q=486&n=2161\\'>Словарная статья</a></div>\\r\\n\\t<div class=\\'list_aut\\'><a href=\\'http://www.textologia.ru/slovari/lingvisticheskie-terminy/slovarniy-zapas/?q=486&n=2162\\'>Словарный запас</a></div>\\r\\n\\t<div class=\\'list_aut\\'><a href=\\'http://www.textologia.ru/slovari/lingvisticheskie-terminy/slovarniy-sostav-yazika/?q=486&n=1673\\'>Словарный состав языка</a></div>\\r\\n\\t<div class=\\'list_aut\\'><a href=\\'http://www.textologia.ru/slovari/lingvisticheskie-terminy/slovar/?q=486&n=1674\\'>Словарь</a></div>\\r\\n\\t<div class=\\'list_aut\\'><a href=\\'http://www.textologia.ru/slovari/lingvisticheskie-terminy/slovar-antonimov/?q=486&n=1682\\'>Словарь антонимов</a></div>\\r\\n\\t<div class=\\'list_aut\\'><a href=\\'http://www.textologia.ru/slovari/lingvisticheskie-terminy/slovar-inostrannih-slov/?q=486&n=1683\\'>Словарь иностранных слов</a></div>\\r\\n\\t<div class=\\'list_aut\\'><a href=\\'http://www.textologia.ru/slovari/lingvisticheskie-terminy/slovar-lingvisticheskiy/?q=486&n=1676\\'>Словарь лингвистический</a></div>\\r\\n\\t<div class=\\'list_aut\\'><a href=\\'http://www.textologia.ru/slovari/lingvisticheskie-terminy/slovar-lingvisticheskih-terminov/?q=486&n=1684\\'>Словарь лингвистических терминов</a></div>\\r\\n\\t<div class=\\'list_aut\\'><a href=\\'http://www.textologia.ru/slovari/lingvisticheskie-terminy/slovar-omonimov/?q=486&n=1685\\'>Словарь омонимов</a></div>\\r\\n\\t<div class=\\'list_aut\\'><a href=\\'http://www.textologia.ru/slovari/lingvisticheskie-terminy/slovar-paronimov/?q=486&n=1686\\'>Словарь паронимов</a></div>\\r\\n\\t<div class=\\'list_aut\\'><a href=\\'http://www.textologia.ru/slovari/lingvisticheskie-terminy/slovar-pravilnostey/?q=486&n=1687\\'>Словарь правильностей</a></div>\\r\\n\\t<div class=\\'list_aut\\'><a href=\\'http://www.textologia.ru/slovari/lingvisticheskie-terminy/slovar-sokrascheniy/?q=486&n=1688\\'>Словарь сокращений</a></div>\\r\\n\\t<div class=\\'list_aut\\'><a href=\\'http://www.textologia.ru/slovari/lingvisticheskie-terminy/slovar-yazika-pisateley/?q=486&n=1689\\'>Словарь языка писателей</a></div>\\r\\n\\t<div class=\\'list_aut\\'><a href=\\'http://www.textologia.ru/slovari/lingvisticheskie-terminy/slovesnoe-udarenie/?q=486&n=1696\\'>Словесное ударение</a></div>\\r\\n\\t<div class=\\'list_aut\\'><a href=\\'http://www.textologia.ru/slovari/lingvisticheskie-terminy/slovesniy-ryad-sochinitelnoe-sochetanie/?q=486&n=1697\\'>Словесный ряд (сочинительное сочетание)</a></div>\\r\\n\\t<div class=\\'list_aut\\'><a href=\\'http://www.textologia.ru/slovari/lingvisticheskie-terminy/slovesniy-ryad-zamknutiy-zakritiy/?q=486&n=1698\\'>Словесный ряд замкнутый (закрытый)</a></div>\\r\\n\\t<div class=\\'list_aut\\'><a href=\\'http://www.textologia.ru/slovari/lingvisticheskie-terminy/slovesniy-ryad-nezamknutiy-otkritiy/?q=486&n=1699\\'>Словесный ряд незамкнутый (открытый)</a></div>\\r\\n\\t<div class=\\'list_aut\\'><a href=\\'http://www.textologia.ru/slovari/lingvisticheskie-terminy/slovnik/?q=486&n=1700\\'>Словник</a></div>\\r\\n\\t<div class=\\'list_aut\\'><a href=\\'http://www.textologia.ru/slovari/lingvisticheskie-terminy/slovo/?q=486&n=1701\\'>Слово</a></div>\\r\\n\\t<div class=\\'list_aut\\'><a href=\\'http://www.textologia.ru/slovari/lingvisticheskie-terminy/slovo-tip/?q=486&n=1716\\'>Слово-тип</a></div>\\r\\n\\t<div class=\\'list_aut\\'><a href=\\'http://www.textologia.ru/slovari/lingvisticheskie-terminy/slovo-chlen/?q=486&n=1720\\'>Слово-член</a></div>\\r\\n\\t<div class=\\'list_aut\\'><a href=\\'http://www.textologia.ru/slovari/lingvisticheskie-terminy/slovoers/?q=486&n=2280\\'>Словоерс</a></div>\\r\\n\\t<div class=\\'list_aut\\'><a href=\\'http://www.textologia.ru/slovari/lingvisticheskie-terminy/slovoizmenenie/?q=486&n=1702\\'>Словоизменение</a></div>\\r\\n\\t<div class=\\'list_aut\\'><a href=\\'http://www.textologia.ru/slovari/lingvisticheskie-terminy/slovoobrazovanie/?q=486&n=1703\\'>Словообразование</a></div>\\r\\n\\t<div class=\\'list_aut\\'><a href=\\'http://www.textologia.ru/slovari/lingvisticheskie-terminy/slovoobrazovatelnaya-pristavka/?q=486&n=1708\\'>Словообразовательная приставка</a></div>\\r\\n\\t<div class=\\'list_aut\\'><a href=\\'http://www.textologia.ru/slovari/lingvisticheskie-terminy/slovoobrazovatelnayz-tsepochka/?q=486&n=2133\\'>Словообразовательная цепочка</a></div>\\r\\n\\t<div class=\\'list_aut\\'><a href=\\'http://www.textologia.ru/slovari/lingvisticheskie-terminy/slovoobrazovatelnie-affiksi/?q=486&n=1709\\'>Словообразовательные аффиксы</a></div>\\r\\n\\t<div class=\\'list_aut\\'><a href=\\'http://www.textologia.ru/slovari/lingvisticheskie-terminy/slovoobrazovatelniy-analiz/?q=486&n=1710\\'>Словообразовательный анализ</a></div>\\r\\n\\t<div class=\\'list_aut\\'><a href=\\'http://www.textologia.ru/slovari/lingvisticheskie-terminy/slovoobrazovatelniy-slovar/?q=486&n=1690\\'>Словообразовательный словарь</a></div>\\r\\n\\t<div class=\\'list_aut\\'><a href=\\'http://www.textologia.ru/slovari/lingvisticheskie-terminy/slovoobrazovatelniy-suffiks/?q=486&n=1711\\'>Словообразовательный суффикс</a></div>\\r\\n\\t<div class=\\'list_aut\\'><a href=\\'http://www.textologia.ru/slovari/lingvisticheskie-terminy/slovoobrazuyuschie-chastici/?q=486&n=1712\\'>Словообразующие частицы</a></div>\\r\\n\\t<div class=\\'list_aut\\'><a href=\\'http://www.textologia.ru/slovari/lingvisticheskie-terminy/slovoporyadok/?q=486&n=1713\\'>Словопорядок</a></div>\\r\\n\\t<div class=\\'list_aut\\'><a href=\\'http://www.textologia.ru/slovari/lingvisticheskie-terminy/slovoproizvodstvo/?q=486&n=1714\\'>Словопроизводство</a></div>\\r\\n\\t<div class=\\'list_aut\\'><a href=\\'http://www.textologia.ru/slovari/lingvisticheskie-terminy/slovoslozhenie/?q=486&n=1706\\'>Словосложение</a></div>\\r\\n\\t<div class=\\'list_aut\\'><a href=\\'http://www.textologia.ru/slovari/lingvisticheskie-terminy/slovosochetanie/?q=486&n=1715\\'>Словосочетание</a></div>\\r\\n\\t<div class=\\'list_aut\\'><a href=\\'http://www.textologia.ru/slovari/lingvisticheskie-terminy/slovoupotreblenie/?q=486&n=1717\\'>Словоупотребление</a></div>\\r\\n\\t<div class=\\'list_aut\\'><a href=\\'http://www.textologia.ru/slovari/lingvisticheskie-terminy/slovoforma/?q=486&n=1718\\'>Словоформа</a></div>\\r\\n\\t<div class=\\'list_aut\\'><a href=\\'http://www.textologia.ru/slovari/lingvisticheskie-terminy/slovoformoobrazuyuschie-affiksi/?q=486&n=1719\\'>Словоформообразующие аффиксы</a></div>\\r\\n\\t<div class=\\'list_aut\\'><a href=\\'http://www.textologia.ru/slovari/lingvisticheskie-terminy/slog/?q=486&n=1721\\'>Слог</a></div>\\r\\n\\t<div class=\\'list_aut\\'><a href=\\'http://www.textologia.ru/slovari/lingvisticheskie-terminy/slogorazdel/?q=486&n=1722\\'>Слогораздел</a></div>\\r\\n\\t<div class=\\'list_aut\\'><a href=\\'http://www.textologia.ru/slovari/lingvisticheskie-terminy/slozhnoaffiksalniy-sposob-slovoobrazovaniya/?q=486&n=1723\\'>Сложноаффиксальный способ словообразования</a></div>\\r\\n\\t<div class=\\'list_aut\\'><a href=\\'http://www.textologia.ru/slovari/lingvisticheskie-terminy/slozhnoe-imennoe-skazuemoe/?q=486&n=1724\\'>Сложное именное сказуемое</a></div>\\r\\n\\t<div class=\\'list_aut\\'><a href=\\'http://www.textologia.ru/slovari/lingvisticheskie-terminy/slozhnoe-predlozhenie/?q=486&n=1725\\'>Сложное предложение</a></div>\\r\\n\\t<div class=\\'list_aut\\'><a href=\\'http://www.textologia.ru/slovari/lingvisticheskie-terminy/slozhnoe-predlozhenie-smeshannogo-sostava/?q=486&n=1726\\'>Сложное предложение смешанного состава</a></div>\\r\\n\\t<div class=\\'list_aut\\'><a href=\\'http://www.textologia.ru/slovari/lingvisticheskie-terminy/slozhnoe-sintaksicheskoe-celoe-sverhfrazovoe-edinstvo/?q=486&n=1727\\'>Сложное синтаксическое целое (сверхфразовое единство)</a></div>\\r\\n\\t<div class=\\'list_aut\\'><a href=\\'http://www.textologia.ru/slovari/lingvisticheskie-terminy/slozhnoe-skazuemoe/?q=486&n=1728\\'>Сложное сказуемое</a></div>\\r\\n\\t<div class=\\'list_aut\\'><a href=\\'http://www.textologia.ru/slovari/lingvisticheskie-terminy/slozhnoe-slovo-kompozita/?q=486&n=1729\\'>Сложное слово (композита)</a></div>\\r\\n\\t<div class=\\'list_aut\\'><a href=\\'http://www.textologia.ru/slovari/lingvisticheskie-terminy/slozhnoe-slovosochetanie/?q=486&n=1730\\'>Сложное словосочетание</a></div>\\r\\n\\t<div class=\\'list_aut\\'><a href=\\'http://www.textologia.ru/slovari/lingvisticheskie-terminy/slozhnoe-sostavnbe-skazuemoe-smeshannogo-tipa/?q=486&n=1734\\'>Сложное составнбе сказуемое смешанного типа</a></div>\\r\\n\\t<div class=\\'list_aut\\'><a href=\\'http://www.textologia.ru/slovari/lingvisticheskie-terminy/slozhnoe-sostavnoe-skazuemoe/?q=486&n=1731\\'>Сложное составное сказуемое</a></div>\\r\\n\\t<div class=\\'list_aut\\'><a href=\\'http://www.textologia.ru/slovari/lingvisticheskie-terminy/slozhnoe-sostavnoe-skazuemoe-glagolnogo-tipa/?q=486&n=1732\\'>Сложное составное сказуемое глагольного типа</a></div>\\r\\n\\t<div class=\\'list_aut\\'><a href=\\'http://www.textologia.ru/slovari/lingvisticheskie-terminy/slozhnoe-sostavnoe-skazuemoe-imennogo-tipa/?q=486&n=1733\\'>Сложное составное сказуемое именного типа</a></div>\\r\\n\\t<div class=\\'list_aut\\'><a href=\\'http://www.textologia.ru/slovari/lingvisticheskie-terminy/slozhnoe-chislitelnoe/?q=486&n=1735\\'>Сложное числительное</a></div>\\r\\n\\t<div class=\\'list_aut\\'><a href=\\'http://www.textologia.ru/slovari/lingvisticheskie-terminy/slozhnopodchinennoe-predlozhenie/?q=486&n=1736\\'>Сложноподчиненное предложение</a></div>\\r\\n\\t<div class=\\'list_aut\\'><a href=\\'http://www.textologia.ru/slovari/lingvisticheskie-terminy/slozhnopodchinennoe-predlozhenie-dvuchlennoe/?q=486&n=1737\\'>Сложноподчиненное предложение двучленное</a></div>\\r\\n\\t<div class=\\'list_aut\\'><a href=\\'http://www.textologia.ru/slovari/lingvisticheskie-terminy/slozhnopodchinennoe-predlozhenie-odnochlennoe/?q=486&n=1738\\'>Сложноподчиненное предложение одночленное</a></div>\\r\\n\\t<div class=\\'list_aut\\'><a href=\\'http://www.textologia.ru/slovari/lingvisticheskie-terminy/slozhnosokraschennoe-slovo/?q=486&n=1739\\'>Сложносокращенное слово</a></div>\\r\\n\\t<div class=\\'list_aut\\'><a href=\\'http://www.textologia.ru/slovari/lingvisticheskie-terminy/slozhnosostavnee-slovo/?q=486&n=1740\\'>Сложносоставнее слово</a></div>\\r\\n\\t<div class=\\'list_aut\\'><a href=\\'http://www.textologia.ru/slovari/lingvisticheskie-terminy/slozhnosochinennoe-predlozhenie/?q=486&n=1741\\'>Сложносочиненное предложение</a></div>\\r\\n\\t<div class=\\'list_aut\\'><a href=\\'http://www.textologia.ru/slovari/lingvisticheskie-terminy/slozhnosuffiksalniy-sposob-slovoobrazovaniya/?q=486&n=1742\\'>Сложносуффиксальный способ словообразования</a></div>\\r\\n\\t<div class=\\'list_aut\\'><a href=\\'http://www.textologia.ru/slovari/lingvisticheskie-terminy/slozhnie-predlogi/?q=486&n=1743\\'>Сложные предлоги</a></div>\\r\\n\\t<div class=\\'list_aut\\'><a href=\\'http://www.textologia.ru/slovari/lingvisticheskie-terminy/slozhnie-sintaksicheskie-konstrukcii/?q=486&n=1744\\'>Сложные синтаксические конструкции</a></div>\\r\\n\\t<div class=\\'list_aut\\'><a href=\\'http://www.textologia.ru/slovari/lingvisticheskie-terminy/slozhniy-chlen-predlozheniya/?q=486&n=1745\\'>Сложный член предложения</a></div>\\r\\n\\t<div class=\\'list_aut\\'><a href=\\'http://www.textologia.ru/slovari/lingvisticheskie-terminy/sluzhebnie-slova/?q=486&n=1746\\'>Служебные слова</a></div>\\r\\n\\t<div class=\\'list_aut\\'><a href=\\'http://www.textologia.ru/slovari/lingvisticheskie-terminy/smayl-s-tochki-zreniya-lingvistiki/?q=486&n=2208\\'>Смайл с точки зрения лингвистики</a></div>\\r\\n\\t<div class=\\'list_aut\\'><a href=\\'http://www.textologia.ru/slovari/lingvisticheskie-terminy/smeshannoe-udarenie/?q=486&n=1747\\'>Смешанное ударение</a></div>\\r\\n\\t<div class=\\'list_aut\\'><a href=\\'http://www.textologia.ru/slovari/lingvisticheskie-terminy/smeshchenie-konstruktsii/?q=486&n=2134\\'>Смещение конструкции</a></div>\\r\\n\\t<div class=\\'list_aut\\'><a href=\\'http://www.textologia.ru/slovari/lingvisticheskie-terminy/smisl/?q=486&n=1748\\'>Смысл</a></div>\\r\\n\\t<div class=\\'list_aut\\'><a href=\\'http://www.textologia.ru/slovari/lingvisticheskie-terminy/smisl-pryamoy/?q=486&n=1749\\'>Смысл прямой</a></div>\\r\\n\\t<div class=\\'list_aut\\'><a href=\\'http://www.textologia.ru/slovari/lingvisticheskie-terminy/smislovaya-gruppa/?q=486&n=1750\\'>Смысловая группа</a></div>\\r\\n\\t<div class=\\'list_aut\\'><a href=\\'http://www.textologia.ru/slovari/lingvisticheskie-terminy/smislovoe-soglasovanie/?q=486&n=1751\\'>Смысловое согласование</a></div>\\r\\n\\t<div class=\\'list_aut\\'><a href=\\'http://www.textologia.ru/slovari/lingvisticheskie-terminy/smichka-zatvor/?q=486&n=1752\\'>Смычка (затвор)</a></div>\\r\\n\\t<div class=\\'list_aut\\'><a href=\\'http://www.textologia.ru/slovari/lingvisticheskie-terminy/smichno-vzrivnie-soglasnie/?q=486&n=1753\\'>Смычно-взрывные согласные</a></div>\\r\\n\\t<div class=\\'list_aut\\'><a href=\\'http://www.textologia.ru/slovari/lingvisticheskie-terminy/smichno-prohodnie-soglasnie/?q=486&n=1754\\'>Смычно-проходные согласные</a></div>\\r\\n\\t<div class=\\'list_aut\\'><a href=\\'http://www.textologia.ru/slovari/lingvisticheskie-terminy/smichno-schelevie-soglasnie/?q=486&n=1755\\'>Смычно-щелевые согласные</a></div>\\r\\n\\t<div class=\\'list_aut\\'><a href=\\'http://www.textologia.ru/slovari/lingvisticheskie-terminy/smichnie-zatvornie-soglasnie/?q=486&n=1756\\'>Смычные (затворные) согласные</a></div>\\r\\n\\t<div class=\\'list_aut\\'><a href=\\'http://www.textologia.ru/slovari/lingvisticheskie-terminy/smyagchenie/?q=486&n=1757\\'>Смягчение</a></div>\\r\\n\\t<div class=\\'list_aut\\'><a href=\\'http://www.textologia.ru/slovari/lingvisticheskie-terminy/sovershenniy-vid/?q=486&n=1759\\'>Совершенный вид</a></div>\\r\\n\\t<div class=\\'list_aut\\'><a href=\\'http://www.textologia.ru/slovari/lingvisticheskie-terminy/soglasnie-zvuki/?q=486&n=1760\\'>Согласные звуки</a></div>\\r\\n\\t<div class=\\'list_aut\\'><a href=\\'http://www.textologia.ru/slovari/lingvisticheskie-terminy/soglasovanie/?q=486&n=1761\\'>Согласование</a></div>\\r\\n\\t<div class=\\'list_aut\\'><a href=\\'http://www.textologia.ru/slovari/lingvisticheskie-terminy/soglasovanie-vremen/?q=486&n=1764\\'>Согласование времен</a></div>\\r\\n\\t<div class=\\'list_aut\\'><a href=\\'http://www.textologia.ru/slovari/lingvisticheskie-terminy/soglasovanie-opredeleniy/?q=486&n=1765\\'>Согласование определений</a></div>\\r\\n\\t<div class=\\'list_aut\\'><a href=\\'http://www.textologia.ru/slovari/lingvisticheskie-terminy/soglasovanie-po-smislu/?q=486&n=1766\\'>Согласование по смыслу</a></div>\\r\\n\\t<div class=\\'list_aut\\'><a href=\\'http://www.textologia.ru/slovari/lingvisticheskie-terminy/soglasovanie-polnoe/?q=486&n=1762\\'>Согласование полное</a></div>\\r\\n\\t<div class=\\'list_aut\\'><a href=\\'http://www.textologia.ru/slovari/lingvisticheskie-terminy/soglasovanie-pryamoe/?q=486&n=1763\\'>Согласование прямое</a></div>\\r\\n\\t<div class=\\'list_aut\\'><a href=\\'http://www.textologia.ru/slovari/lingvisticheskie-terminy/soglasovannoe-opredelenie/?q=486&n=1767\\'>Согласованное определение</a></div>\\r\\n\\t<div class=\\'list_aut\\'><a href=\\'http://www.textologia.ru/slovari/lingvisticheskie-terminy/soglasovannoe-prilozhenie/?q=486&n=1768\\'>Согласованное приложение</a></div>\\r\\n\\t<div class=\\'list_aut\\'><a href=\\'http://www.textologia.ru/slovari/lingvisticheskie-terminy/soglasovannoe-skazuemoe/?q=486&n=1769\\'>Согласованное сказуемое</a></div>\\r\\n\\t<div class=\\'list_aut\\'><a href=\\'http://www.textologia.ru/slovari/lingvisticheskie-terminy/soedinitelnaya-pauza/?q=486&n=1770\\'>Соединительная пауза</a></div>\\r\\n\\t<div class=\\'list_aut\\'><a href=\\'http://www.textologia.ru/slovari/lingvisticheskie-terminy/soedinitelnie-glasnie/?q=486&n=1771\\'>Соединительные гласные</a></div>\\r\\n\\t<div class=\\'list_aut\\'><a href=\\'http://www.textologia.ru/slovari/lingvisticheskie-terminy/soedinitelnie-soyuzi/?q=486&n=1772\\'>Соединительные союзы</a></div>\\r\\n\\t<div class=\\'list_aut\\'><a href=\\'http://www.textologia.ru/slovari/lingvisticheskie-terminy/solecizm/?q=486&n=1773\\'>Солецизм</a></div>\\r\\n\\t<div class=\\'list_aut\\'><a href=\\'http://www.textologia.ru/slovari/lingvisticheskie-terminy/somnitelnie-soglasnie/?q=486&n=1774\\'>Сомнительные согласные</a></div>\\r\\n\\t<div class=\\'list_aut\\'><a href=\\'http://www.textologia.ru/slovari/lingvisticheskie-terminy/sonant/?q=486&n=1775\\'>Сонант</a></div>\\r\\n\\t<div class=\\'list_aut\\'><a href=\\'http://www.textologia.ru/slovari/lingvisticheskie-terminy/sonornie-soglasnie/?q=486&n=1776\\'>Сонорные согласные</a></div>\\r\\n\\t<div class=\\'list_aut\\'><a href=\\'http://www.textologia.ru/slovari/lingvisticheskie-terminy/sootnositelnie-ukazatelnie-slova/?q=486&n=1778\\'>Соотносительные (указательные) слова</a></div>\\r\\n\\t<div class=\\'list_aut\\'><a href=\\'http://www.textologia.ru/slovari/lingvisticheskie-terminy/sootnositelnie-mestoimennie-slova/?q=486&n=1777\\'>Соотносительные местоименные слова</a></div>\\r\\n\\t<div class=\\'list_aut\\'><a href=\\'http://www.textologia.ru/slovari/lingvisticheskie-terminy/sopodchinenie/?q=486&n=1779\\'>Соподчинение</a></div>\\r\\n\\t<div class=\\'list_aut\\'><a href=\\'http://www.textologia.ru/slovari/lingvisticheskie-terminy/sopodchinenie-neodnorodnoe/?q=486&n=1780\\'>Соподчинение неоднородное</a></div>\\r\\n\\t<div class=\\'list_aut\\'><a href=\\'http://www.textologia.ru/slovari/lingvisticheskie-terminy/sopodchinenie-parallelnoe/?q=486&n=1781\\'>Соподчинение параллельное</a></div>\\r\\n\\t<div class=\\'list_aut\\'><a href=\\'http://www.textologia.ru/slovari/lingvisticheskie-terminy/sopodchinenie-raznochlennoe/?q=486&n=1782\\'>Соподчинение разночленное</a></div>\\r\\n\\t<div class=\\'list_aut\\'><a href=\\'http://www.textologia.ru/slovari/lingvisticheskie-terminy/sopostavitelnie-soyuzi/?q=486&n=1783\\'>Сопоставительные союзы</a></div>\\r\\n\\t<div class=\\'list_aut\\'><a href=\\'http://www.textologia.ru/slovari/lingvisticheskie-terminy/soslagatelnoe-naklonenie/?q=486&n=1784\\'>Сослагательное наклонение</a></div>\\r\\n\\t<div class=\\'list_aut\\'><a href=\\'http://www.textologia.ru/slovari/lingvisticheskie-terminy/sostav-podlezhaschego-gospodstvuyuschiy-sostav/?q=486&n=1785\\'>Состав подлежащего (господствующий состав)</a></div>\\r\\n\\t<div class=\\'list_aut\\'><a href=\\'http://www.textologia.ru/slovari/lingvisticheskie-terminy/sostav-skazuemogo-zavisimiy-sostav/?q=486&n=1786\\'>Состав сказуемого (зависимый состав)</a></div>\\r\\n\\t<div class=\\'list_aut\\'><a href=\\'http://www.textologia.ru/slovari/lingvisticheskie-terminy/sostav-slova/?q=486&n=1787\\'>Состав слова</a></div>\\r\\n\\t<div class=\\'list_aut\\'><a href=\\'http://www.textologia.ru/slovari/lingvisticheskie-terminy/sostavnoe-glagolnoe-skazuemoe/?q=486&n=1788\\'>Составное глагольное сказуемое</a></div>\\r\\n\\t<div class=\\'list_aut\\'><a href=\\'http://www.textologia.ru/slovari/lingvisticheskie-terminy/sostavnoe-imennoe-skazuemoe/?q=486&n=1789\\'>Составное именное сказуемое</a></div>\\r\\n\\t<div class=\\'list_aut\\'><a href=\\'http://www.textologia.ru/slovari/lingvisticheskie-terminy/sostavnoe-slozhnoe-slovo/?q=486&n=1790\\'>Составное сложное слово</a></div>\\r\\n\\t<div class=\\'list_aut\\'><a href=\\'http://www.textologia.ru/slovari/lingvisticheskie-terminy/sostavnoe-chislitelnoe/?q=486&n=1791\\'>Составное числительное</a></div>\\r\\n\\t<div class=\\'list_aut\\'><a href=\\'http://www.textologia.ru/slovari/lingvisticheskie-terminy/sostavnoy-suffiks/?q=486&n=1792\\'>Составной суффикс</a></div>\\r\\n\\t<div class=\\'list_aut\\'><a href=\\'http://www.textologia.ru/slovari/lingvisticheskie-terminy/sostavnoy-chlen-predlozheniya/?q=486&n=1793\\'>Составной член предложения</a></div>\\r\\n\\t<div class=\\'list_aut\\'><a href=\\'http://www.textologia.ru/slovari/lingvisticheskie-terminy/sociolingvistika/?q=486&n=1794\\'>Социолингвистика</a></div>\\r\\n\\t<div class=\\'list_aut\\'><a href=\\'http://www.textologia.ru/slovari/lingvisticheskie-terminy/sochetaemost/?q=486&n=1795\\'>Сочетаемость</a></div>\\r\\n\\t<div class=\\'list_aut\\'><a href=\\'http://www.textologia.ru/slovari/lingvisticheskie-terminy/sochetanie-znakov-prepinaniya/?q=486&n=1796\\'>Сочетание знаков препинания</a></div>\\r\\n\\t<div class=\\'list_aut\\'><a href=\\'http://www.textologia.ru/slovari/lingvisticheskie-terminy/sochinenie/?q=486&n=1797\\'>Сочинение</a></div>\\r\\n\\t<div class=\\'list_aut\\'><a href=\\'http://www.textologia.ru/slovari/lingvisticheskie-terminy/sochinenie-predlozheniy/?q=486&n=1798\\'>Сочинение предложений</a></div>\\r\\n\\t<div class=\\'list_aut\\'><a href=\\'http://www.textologia.ru/slovari/lingvisticheskie-terminy/sochinitelnaya-svyaz/?q=486&n=1799\\'>Сочинительная связь</a></div>\\r\\n\\t<div class=\\'list_aut\\'><a href=\\'http://www.textologia.ru/slovari/lingvisticheskie-terminy/sochinitelnoe-sochetanie/?q=486&n=1800\\'>Сочинительное сочетание</a></div>\\r\\n\\t<div class=\\'list_aut\\'><a href=\\'http://www.textologia.ru/slovari/lingvisticheskie-terminy/soyuz/?q=486&n=1801\\'>Союз</a></div>\\r\\n\\t<div class=\\'list_aut\\'><a href=\\'http://www.textologia.ru/slovari/lingvisticheskie-terminy/soyuz-sledstviya/?q=486&n=1802\\'>Союз следствия</a></div>\\r\\n\\t<div class=\\'list_aut\\'><a href=\\'http://www.textologia.ru/slovari/lingvisticheskie-terminy/soyuznaya-svyaz/?q=486&n=1803\\'>Союзная связь</a></div>\\r\\n\\t<div class=\\'list_aut\\'><a href=\\'http://www.textologia.ru/slovari/lingvisticheskie-terminy/soyuznoe-podchinenie/?q=486&n=1804\\'>Союзное подчинение</a></div>\\r\\n\\t<div class=\\'list_aut\\'><a href=\\'http://www.textologia.ru/slovari/lingvisticheskie-terminy/soyuznoe-slovo/?q=486&n=1805\\'>Союзное слово</a></div>\\r\\n\\t<div class=\\'list_aut\\'><a href=\\'http://www.textologia.ru/slovari/lingvisticheskie-terminy/specialnaya-leksika/?q=486&n=1806\\'>Специальная лексика</a></div>\\r\\n\\t<div class=\\'list_aut\\'><a href=\\'http://www.textologia.ru/slovari/lingvisticheskie-terminy/spiranti/?q=486&n=1807\\'>Спиранты</a></div>\\r\\n\\t<div class=\\'list_aut\\'><a href=\\'http://www.textologia.ru/slovari/lingvisticheskie-terminy/spontanniy/?q=486&n=1808\\'>Спонтанный</a></div>\\r\\n\\t<div class=\\'list_aut\\'><a href=\\'http://www.textologia.ru/slovari/lingvisticheskie-terminy/sposob-glagolnogo-deystviya/?q=486&n=1809\\'>Способ глагольного действия</a></div>\\r\\n\\t<div class=\\'list_aut\\'><a href=\\'http://www.textologia.ru/slovari/lingvisticheskie-terminy/sposobi-virazheniya-grammaticheskih-znacheniy/?q=486&n=1810\\'>Способы выражения грамматических, значений</a></div>\\r\\n\\t<div class=\\'list_aut\\'><a href=\\'http://www.textologia.ru/slovari/lingvisticheskie-terminy/sposobi-virazheniya-sintaksicheskih-otnosheniy/?q=486&n=1811\\'>Способы выражения синтаксических отношений</a></div>\\r\\n\\t<div class=\\'list_aut\\'><a href=\\'http://www.textologia.ru/slovari/lingvisticheskie-terminy/sposobi-slovoobrazovaniya/?q=486&n=1812\\'>Способы словообразования</a></div>\\r\\n\\t<div class=\\'list_aut\\'><a href=\\'http://www.textologia.ru/slovari/lingvisticheskie-terminy/spryagaemie-formi-glagola/?q=486&n=1813\\'>Спрягаемые формы глагола</a></div>\\r\\n\\t<div class=\\'list_aut\\'><a href=\\'http://www.textologia.ru/slovari/lingvisticheskie-terminy/spryazhenie/?q=486&n=1814\\'>Спряжение</a></div>\\r\\n\\t<div class=\\'list_aut\\'><a href=\\'http://www.textologia.ru/slovari/lingvisticheskie-terminy/sravnenie/?q=486&n=1815\\'>Сравнение</a></div>\\r\\n\\t<div class=\\'list_aut\\'><a href=\\'http://www.textologia.ru/slovari/lingvisticheskie-terminy/sravnenie-otricatelnoe/?q=486&n=1816\\'>Сравнение отрицательное</a></div>\\r\\n\\t<div class=\\'list_aut\\'><a href=\\'http://www.textologia.ru/slovari/lingvisticheskie-terminy/sravnenie-prostoe/?q=486&n=1817\\'>Сравнение простое</a></div>\\r\\n\\t<div class=\\'list_aut\\'><a href=\\'http://www.textologia.ru/slovari/lingvisticheskie-terminy/sravnitelnaya-grammatika/?q=486&n=1818\\'>Сравнительная грамматика</a></div>\\r\\n\\t<div class=\\'list_aut\\'><a href=\\'http://www.textologia.ru/slovari/lingvisticheskie-terminy/sravnitelnaya-stepen/?q=486&n=1819\\'>Сравнительная степень</a></div>\\r\\n\\t<div class=\\'list_aut\\'><a href=\\'http://www.textologia.ru/slovari/lingvisticheskie-terminy/sravnitelno-istoricheskiy-metod/?q=486&n=1820\\'>Сравнительно-исторический метод</a></div>\\r\\n\\t<div class=\\'list_aut\\'><a href=\\'http://www.textologia.ru/slovari/lingvisticheskie-terminy/sravnitelno-istoricheskoe-yazikoznanie/?q=486&n=2336\\'>Сравнительно-историческое языкознание</a></div>\\r\\n\\t<div class=\\'list_aut\\'><a href=\\'http://www.textologia.ru/slovari/lingvisticheskie-terminy/sravnitelniy-oborot/?q=486&n=1821\\'>Сравнительный оборот</a></div>\\r\\n\\t<div class=\\'list_aut\\'><a href=\\'http://www.textologia.ru/slovari/lingvisticheskie-terminy/sraschenie-slovoobrazovatelnoe/?q=486&n=1822\\'>Сращение словообразовательное</a></div>\\r\\n\\t<div class=\\'list_aut\\'><a href=\\'http://www.textologia.ru/slovari/lingvisticheskie-terminy/sraschenie-frazeologicheskoe/?q=486&n=1823\\'>Сращение фразеологическое</a></div>\\r\\n\\t<div class=\\'list_aut\\'><a href=\\'http://www.textologia.ru/slovari/lingvisticheskie-terminy/srednenebniy-soglasniy/?q=486&n=1824\\'>Средненебный согласный</a></div>\\r\\n\\t<div class=\\'list_aut\\'><a href=\\'http://www.textologia.ru/slovari/lingvisticheskie-terminy/sredneyazichniy-soglasniy/?q=486&n=1825\\'>Среднеязычный согласный</a></div>\\r\\n\\t<div class=\\'list_aut\\'><a href=\\'http://www.textologia.ru/slovari/lingvisticheskie-terminy/staroslavyanizm/?q=486&n=1826\\'>Старославянизм</a></div>\\r\\n\\t<div class=\\'list_aut\\'><a href=\\'http://www.textologia.ru/slovari/lingvisticheskie-terminy/staroslavyanskiy-yazik/?q=486&n=1827\\'>Старославянский язык</a></div>\\r\\n\\t<div class=\\'list_aut\\'><a href=\\'http://www.textologia.ru/slovari/lingvisticheskie-terminy/stepeni-sravneniya/?q=486&n=1664\\'>Степени сравнения</a></div>\\r\\n\\t<div class=\\'list_aut\\'><a href=\\'http://www.textologia.ru/slovari/lingvisticheskie-terminy/stepen-ocenki/?q=486&n=1828\\'>Степень оценки</a></div>\\r\\n\\t<div class=\\'list_aut\\'><a href=\\'http://www.textologia.ru/slovari/lingvisticheskie-terminy/sterzhnevoe-slovo-slovosochetaniya/?q=486&n=1829\\'>Стержневое слово словосочетания</a></div>\\r\\n\\t<div class=\\'list_aut\\'><a href=\\'http://www.textologia.ru/slovari/lingvisticheskie-terminy/stili-proiznosheniya/?q=486&n=1830\\'>Стили произношения</a></div>\\r\\n\\t<div class=\\'list_aut\\'><a href=\\'http://www.textologia.ru/slovari/lingvisticheskie-terminy/stilizaciya/?q=486&n=1831\\'>Стилизация</a></div>\\r\\n\\t<div class=\\'list_aut\\'><a href=\\'http://www.textologia.ru/slovari/lingvisticheskie-terminy/stilistika/?q=486&n=1832\\'>Стилистика</a></div>\\r\\n\\t<div class=\\'list_aut\\'><a href=\\'http://www.textologia.ru/slovari/lingvisticheskie-terminy/stilisticheskaya-okraska/?q=486&n=1833\\'>Стилистическая окраска</a></div>\\r\\n\\t<div class=\\'list_aut\\'><a href=\\'http://www.textologia.ru/slovari/lingvisticheskie-terminy/stilisticheskaya-figura/?q=486&n=1834\\'>Стилистическая фигура</a></div>\\r\\n\\t<div class=\\'list_aut\\'><a href=\\'http://www.textologia.ru/slovari/lingvisticheskie-terminy/stilisticheskiy-sintaksis/?q=486&n=1835\\'>Стилистический синтаксис</a></div>\\r\\n\\t<div class=\\'list_aut\\'><a href=\\'http://www.textologia.ru/slovari/lingvisticheskie-terminy/stil/?q=486&n=1836\\'>Стиль</a></div>\\r\\n\\t<div class=\\'list_aut\\'><a href=\\'http://www.textologia.ru/slovari/lingvisticheskie-terminy/stil-delovoy/?q=486&n=2032\\'>Стиль деловой</a></div>\\r\\n\\t<div class=\\'list_aut\\'><a href=\\'http://www.textologia.ru/slovari/lingvisticheskie-terminy/stil-nauchniy/?q=486&n=2033\\'>Стиль научный</a></div>\\r\\n\\t<div class=\\'list_aut\\'><a href=\\'http://www.textologia.ru/slovari/lingvisticheskie-terminy/stil-publicisticheskiy/?q=486&n=2034\\'>Стиль публицистический</a></div>\\r\\n\\t<div class=\\'list_aut\\'><a href=\\'http://www.textologia.ru/slovari/lingvisticheskie-terminy/stil-razgovorniy/?q=486&n=2035\\'>Стиль разговорный</a></div>\\r\\n\\t<div class=\\'list_aut\\'><a href=\\'http://www.textologia.ru/slovari/lingvisticheskie-terminy/stil-rechi/?q=486&n=1837\\'>Стиль речи</a></div>\\r\\n\\t<div class=\\'list_aut\\'><a href=\\'http://www.textologia.ru/slovari/lingvisticheskie-terminy/stil-yazika/?q=486&n=1838\\'>Стиль языка</a></div>\\r\\n\\t<div class=\\'list_aut\\'><a href=\\'http://www.textologia.ru/slovari/lingvisticheskie-terminy/stradatelnaya-konstrukciya/?q=486&n=1839\\'>Страдательная конструкция</a></div>\\r\\n\\t<div class=\\'list_aut\\'><a href=\\'http://www.textologia.ru/slovari/lingvisticheskie-terminy/stradatelniy-passivniy-oborot/?q=486&n=1840\\'>Страдательный (пассивный) оборот</a></div>\\r\\n\\t<div class=\\'list_aut\\'><a href=\\'http://www.textologia.ru/slovari/lingvisticheskie-terminy/stroenie/?q=486&n=1841\\'>Строение</a></div>\\r\\n\\t<div class=\\'list_aut\\'><a href=\\'http://www.textologia.ru/slovari/lingvisticheskie-terminy/stroka/?q=486&n=1842\\'>Строка</a></div>\\r\\n\\t<div class=\\'list_aut\\'><a href=\\'http://www.textologia.ru/slovari/lingvisticheskie-terminy/strochnaya-malenkaya-bukva/?q=486&n=1843\\'>Строчная (маленькая) буква</a></div>\\r\\n\\t<div class=\\'list_aut\\'><a href=\\'http://www.textologia.ru/slovari/lingvisticheskie-terminy/struktura/?q=486&n=1844\\'>Структура</a></div>\\r\\n\\t<div class=\\'list_aut\\'><a href=\\'http://www.textologia.ru/slovari/lingvisticheskie-terminy/strukturalizm/?q=486&n=1845\\'>Структурализм</a></div>\\r\\n\\t<div class=\\'list_aut\\'><a href=\\'http://www.textologia.ru/slovari/lingvisticheskie-terminy/strukturnaya-lingvistika/?q=486&n=1846\\'>Структурная лингвистика</a></div>\\r\\n\\t<div class=\\'list_aut\\'><a href=\\'http://www.textologia.ru/slovari/lingvisticheskie-terminy/strukturnaya-shema-predlozheniya/?q=486&n=1847\\'>Структурная схема предложения</a></div>\\r\\n\\t<div class=\\'list_aut\\'><a href=\\'http://www.textologia.ru/slovari/lingvisticheskie-terminy/strukturi-gibkie/?q=486&n=1848\\'>Структуры гибкие</a></div>\\r\\n\\t<div class=\\'list_aut\\'><a href=\\'http://www.textologia.ru/slovari/lingvisticheskie-terminy/strukturi-negibkie/?q=486&n=1849\\'>Структуры негибкие</a></div>\\r\\n\\t<div class=\\'list_aut\\'><a href=\\'http://www.textologia.ru/slovari/lingvisticheskie-terminy/stupenchatoe-obrazovanie-vidov/?q=486&n=1850\\'>Ступенчатое образование видов</a></div>\\r\\n\\t<div class=\\'list_aut\\'><a href=\\'http://www.textologia.ru/slovari/lingvisticheskie-terminy/stik/?q=486&n=1851\\'>Стык</a></div>\\r\\n\\t<div class=\\'list_aut\\'><a href=\\'http://www.textologia.ru/slovari/lingvisticheskie-terminy/styazhenie-glasnih/?q=486&n=1852\\'>Стяжение гласных</a></div>\\r\\n\\t<div class=\\'list_aut\\'><a href=\\'http://www.textologia.ru/slovari/lingvisticheskie-terminy/substantivaciya/?q=486&n=1853\\'>Субстантивация</a></div>\\r\\n\\t<div class=\\'list_aut\\'><a href=\\'http://www.textologia.ru/slovari/lingvisticheskie-terminy/substantivaciya-nepolnaya/?q=486&n=1855\\'>Субстантивация неполная</a></div>\\r\\n\\t<div class=\\'list_aut\\'><a href=\\'http://www.textologia.ru/slovari/lingvisticheskie-terminy/substantivaciya-okkazionalnaya/?q=486&n=1856\\'>Субстантивация окказиональная</a></div>\\r\\n\\t<div class=\\'list_aut\\'><a href=\\'http://www.textologia.ru/slovari/lingvisticheskie-terminy/substantivaciya-polnaya/?q=486&n=1854\\'>Субстантивация полная</a></div>\\r\\n\\t<div class=\\'list_aut\\'><a href=\\'http://www.textologia.ru/slovari/lingvisticheskie-terminy/substituciya/?q=486&n=1857\\'>Субституция</a></div>\\r\\n\\t<div class=\\'list_aut\\'><a href=\\'http://www.textologia.ru/slovari/lingvisticheskie-terminy/substrat/?q=486&n=1858\\'>Субстрат</a></div>\\r\\n\\t<div class=\\'list_aut\\'><a href=\\'http://www.textologia.ru/slovari/lingvisticheskie-terminy/subekt/?q=486&n=1859\\'>Субъект</a></div>\\r\\n\\t<div class=\\'list_aut\\'><a href=\\'http://www.textologia.ru/slovari/lingvisticheskie-terminy/subektio-obektnie-otnosheniya/?q=486&n=1860\\'>Субъектио-объектные отношения</a></div>\\r\\n\\t<div class=\\'list_aut\\'><a href=\\'http://www.textologia.ru/slovari/lingvisticheskie-terminy/subektnie-otnosheniya/?q=486&n=1861\\'>Субъектные отношения</a></div>\\r\\n\\t<div class=\\'list_aut\\'><a href=\\'http://www.textologia.ru/slovari/lingvisticheskie-terminy/suzhenie-znacheniya/?q=486&n=1862\\'>Сужение значения</a></div>\\r\\n\\t<div class=\\'list_aut\\'><a href=\\'http://www.textologia.ru/slovari/lingvisticheskie-terminy/superstrat/?q=486&n=2221\\'>Суперстрат</a></div>\\r\\n\\t<div class=\\'list_aut\\'><a href=\\'http://www.textologia.ru/slovari/lingvisticheskie-terminy/supin/?q=486&n=1863\\'>Супин</a></div>\\r\\n\\t<div class=\\'list_aut\\'><a href=\\'http://www.textologia.ru/slovari/lingvisticheskie-terminy/suppletivnie-formi/?q=486&n=1864\\'>Супплетивные формы</a></div>\\r\\n\\t<div class=\\'list_aut\\'><a href=\\'http://www.textologia.ru/slovari/lingvisticheskie-terminy/suffiks/?q=486&n=1865\\'>Суффикс</a></div>\\r\\n\\t<div class=\\'list_aut\\'><a href=\\'http://www.textologia.ru/slovari/lingvisticheskie-terminy/suffiksaciya/?q=486&n=1866\\'>Суффиксация</a></div>\\r\\n\\t<div class=\\'list_aut\\'><a href=\\'http://www.textologia.ru/slovari/lingvisticheskie-terminy/suffiksoid/?q=486&n=1867\\'>Суффиксоид</a></div>\\r\\n\\t<div class=\\'list_aut\\'><a href=\\'http://www.textologia.ru/slovari/lingvisticheskie-terminy/suffiksi-subektivnoy-ocenki/?q=486&n=1868\\'>Суффиксы субъективной оценки</a></div>\\r\\n\\t<div class=\\'list_aut\\'><a href=\\'http://www.textologia.ru/slovari/lingvisticheskie-terminy/suschestvitelnoe/?q=486&n=1869\\'>Существительное</a></div>\\r\\n\\t<div class=\\'list_aut\\'><a href=\\'http://www.textologia.ru/slovari/lingvisticheskie-terminy/schetnoe-suschestvitelnoe/?q=486&n=1870\\'>Счетное существительное</a></div>\\r\\n\\t<div class=\\'list_aut\\'><a href=\\'http://www.textologia.ru/slovari/lingvisticheskie-terminy/schetniy-oborot/?q=486&n=1871\\'>Счетный оборот</a></div>\\r\\n\\t<div style=\"margin: 7px 0 5px 0;\"><b>Т</b></div><div class=\\'list_aut\\'><a href=\\'http://www.textologia.ru/slovari/lingvisticheskie-terminy/tabu-slovesnoe-polineziyskoe-slovo/?q=486&n=1872\\'>Табу словесное (полинезийское слово)</a></div>\\r\\n\\t<div class=\\'list_aut\\'><a href=\\'http://www.textologia.ru/slovari/lingvisticheskie-terminy/tavtologiya/?q=486&n=1873\\'>Тавтология</a></div>\\r\\n\\t<div class=\\'list_aut\\'><a href=\\'http://www.textologia.ru/slovari/lingvisticheskie-terminy/tagalskiy-yazik/?q=486&n=2303\\'>Тагальский язык</a></div>\\r\\n\\t<div class=\\'list_aut\\'><a href=\\'http://www.textologia.ru/slovari/lingvisticheskie-terminy/taynie-yaziki/?q=486&n=1874\\'>Тайные языки</a></div>\\r\\n\\t<div class=\\'list_aut\\'><a href=\\'http://www.textologia.ru/slovari/lingvisticheskie-terminy/takt/?q=486&n=1875\\'>Такт</a></div>\\r\\n\\t<div class=\\'list_aut\\'><a href=\\'http://www.textologia.ru/slovari/lingvisticheskie-terminy/taktovoe-udarenie/?q=486&n=1876\\'>Тактовое ударение</a></div>\\r\\n\\t<div class=\\'list_aut\\'><a href=\\'http://www.textologia.ru/slovari/lingvisticheskie-terminy/tverdaya-osnova/?q=486&n=1877\\'>Твердая основа</a></div>\\r\\n\\t<div class=\\'list_aut\\'><a href=\\'http://www.textologia.ru/slovari/lingvisticheskie-terminy/tverdost-soglasnih/?q=486&n=1878\\'>Твердость согласных</a></div>\\r\\n\\t<div class=\\'list_aut\\'><a href=\\'http://www.textologia.ru/slovari/lingvisticheskie-terminy/tvoritelniy-deystvuyuschego-lica/?q=486&n=1879\\'>Творительный действующего лица</a></div>\\r\\n\\t<div class=\\'list_aut\\'><a href=\\'http://www.textologia.ru/slovari/lingvisticheskie-terminy/tvoritelniy-padezh/?q=486&n=1880\\'>Творительный падеж</a></div>\\r\\n\\t<div class=\\'list_aut\\'><a href=\\'http://www.textologia.ru/slovari/lingvisticheskie-terminy/tekst/?q=486&n=1881\\'>Текст</a></div>\\r\\n\\t<div class=\\'list_aut\\'><a href=\\'http://www.textologia.ru/slovari/lingvisticheskie-terminy/tekstologiya/?q=486&n=1882\\'>Текстология</a></div>\\r\\n\\t<div class=\\'list_aut\\'><a href=\\'http://www.textologia.ru/slovari/lingvisticheskie-terminy/tekstualniy/?q=486&n=1883\\'>Текстуальный</a></div>\\r\\n\\t<div class=\\'list_aut\\'><a href=\\'http://www.textologia.ru/slovari/lingvisticheskie-terminy/tema/?q=486&n=1884\\'>Тема</a></div>\\r\\n\\t<div class=\\'list_aut\\'><a href=\\'http://www.textologia.ru/slovari/lingvisticheskie-terminy/tematicheskiy-glasniy/?q=486&n=1885\\'>Тематический гласный</a></div>\\r\\n\\t<div class=\\'list_aut\\'><a href=\\'http://www.textologia.ru/slovari/lingvisticheskie-terminy/tembr/?q=486&n=1886\\'>Тембр</a></div>\\r\\n\\t<div class=\\'list_aut\\'><a href=\\'http://www.textologia.ru/slovari/lingvisticheskie-terminy/temp-rechi/?q=486&n=1887\\'>Темп  речи</a></div>\\r\\n\\t<div class=\\'list_aut\\'><a href=\\'http://www.textologia.ru/slovari/lingvisticheskie-terminy/temporalnie-otnosheniya/?q=486&n=1888\\'>Темпоральные отношения</a></div>\\r\\n\\t<div class=\\'list_aut\\'><a href=\\'http://www.textologia.ru/slovari/lingvisticheskie-terminy/tendenciya/?q=486&n=1889\\'>Тенденция</a></div>\\r\\n\\t<div class=\\'list_aut\\'><a href=\\'http://www.textologia.ru/slovari/lingvisticheskie-terminy/teoriya-zvukopodrazhaniya/?q=486&n=1890\\'>Теория звукоподражания</a></div>\\r\\n\\t<div class=\\'list_aut\\'><a href=\\'http://www.textologia.ru/slovari/lingvisticheskie-terminy/teoriya-mezhdometiy/?q=486&n=1891\\'>Теория междометий</a></div>\\r\\n\\t<div class=\\'list_aut\\'><a href=\\'http://www.textologia.ru/slovari/lingvisticheskie-terminy/teoriya-socialnogo-dogovora/?q=486&n=1892\\'>Теория социального договора</a></div>\\r\\n\\t<div class=\\'list_aut\\'><a href=\\'http://www.textologia.ru/slovari/lingvisticheskie-terminy/teoriya-trudovih-vikrikov/?q=486&n=1893\\'>Теория трудовых выкриков</a></div>\\r\\n\\t<div class=\\'list_aut\\'><a href=\\'http://www.textologia.ru/slovari/lingvisticheskie-terminy/termin/?q=486&n=1894\\'>Термин</a></div>\\r\\n\\t<div class=\\'list_aut\\'><a href=\\'http://www.textologia.ru/slovari/lingvisticheskie-terminy/terminologicheskaya-leksika/?q=486&n=1895\\'>Терминологическая лексика</a></div>\\r\\n\\t<div class=\\'list_aut\\'><a href=\\'http://www.textologia.ru/slovari/lingvisticheskie-terminy/terminologicheskiy-slovar/?q=486&n=1896\\'>Терминологический словарь</a></div>\\r\\n\\t<div class=\\'list_aut\\'><a href=\\'http://www.textologia.ru/slovari/lingvisticheskie-terminy/terminologiya/?q=486&n=1897\\'>Терминология</a></div>\\r\\n\\t<div class=\\'list_aut\\'><a href=\\'http://www.textologia.ru/slovari/lingvisticheskie-terminy/tehnicizm/?q=486&n=1898\\'>Техницизм</a></div>\\r\\n\\t<div class=\\'list_aut\\'><a href=\\'http://www.textologia.ru/slovari/lingvisticheskie-terminy/tilda/?q=486&n=1899\\'>Тильда</a></div>\\r\\n\\t<div class=\\'list_aut\\'><a href=\\'http://www.textologia.ru/slovari/lingvisticheskie-terminy/tini-skloneniya/?q=486&n=1906\\'>Тины склонения</a></div>\\r\\n\\t<div class=\\'list_aut\\'><a href=\\'http://www.textologia.ru/slovari/lingvisticheskie-terminy/tip-predlozheniya/?q=486&n=1900\\'>Тип предложения</a></div>\\r\\n\\t<div class=\\'list_aut\\'><a href=\\'http://www.textologia.ru/slovari/lingvisticheskie-terminy/tip-slovosochetaniya/?q=486&n=1901\\'>Тип словосочетания</a></div>\\r\\n\\t<div class=\\'list_aut\\'><a href=\\'http://www.textologia.ru/slovari/lingvisticheskie-terminy/tip-yazika/?q=486&n=1902\\'>Тип языка</a></div>\\r\\n\\t<div class=\\'list_aut\\'><a href=\\'http://www.textologia.ru/slovari/lingvisticheskie-terminy/tipologicheskaya-klassifikaciya-yazikov/?q=486&n=1903\\'>Типологическая классификация языков</a></div>\\r\\n\\t<div class=\\'list_aut\\'><a href=\\'http://www.textologia.ru/slovari/lingvisticheskie-terminy/tipologiya/?q=486&n=1904\\'>Типология</a></div>\\r\\n\\t<div class=\\'list_aut\\'><a href=\\'http://www.textologia.ru/slovari/lingvisticheskie-terminy/tipi-leksicheskih-znacheniy-slov/?q=486&n=1905\\'>Типы лексических значений слов</a></div>\\r\\n\\t<div class=\\'list_aut\\'><a href=\\'http://www.textologia.ru/slovari/lingvisticheskie-terminy/tipi-spryazheniya/?q=486&n=1907\\'>Типы спряжения</a></div>\\r\\n\\t<div class=\\'list_aut\\'><a href=\\'http://www.textologia.ru/slovari/lingvisticheskie-terminy/tire/?q=486&n=1908\\'>Тире</a></div>\\r\\n\\t<div class=\\'list_aut\\'><a href=\\'http://www.textologia.ru/slovari/lingvisticheskie-terminy/titlo/?q=486&n=1909\\'>Титло</a></div>\\r\\n\\t<div class=\\'list_aut\\'><a href=\\'http://www.textologia.ru/slovari/lingvisticheskie-terminy/tolkoviy-slovar/?q=486&n=1691\\'>Толковый словарь</a></div>\\r\\n\\t<div class=\\'list_aut\\'><a href=\\'http://www.textologia.ru/slovari/lingvisticheskie-terminy/ton/?q=486&n=1910\\'>Тон</a></div>\\r\\n\\t<div class=\\'list_aut\\'><a href=\\'http://www.textologia.ru/slovari/lingvisticheskie-terminy/tonema/?q=486&n=2331\\'>Тонема</a></div>\\r\\n\\t<div class=\\'list_aut\\'><a href=\\'http://www.textologia.ru/slovari/lingvisticheskie-terminy/tonicheskoe-udarenie/?q=486&n=1911\\'>Тоническое ударение</a></div>\\r\\n\\t<div class=\\'list_aut\\'><a href=\\'http://www.textologia.ru/slovari/lingvisticheskie-terminy/tonovoe-udarenie/?q=486&n=1912\\'>Тоновое ударение</a></div>\\r\\n\\t<div class=\\'list_aut\\'><a href=\\'http://www.textologia.ru/slovari/lingvisticheskie-terminy/toponimika/?q=486&n=1913\\'>Топонимика</a></div>\\r\\n\\t<div class=\\'list_aut\\'><a href=\\'http://www.textologia.ru/slovari/lingvisticheskie-terminy/toponimicheskiy-slovar/?q=486&n=1692\\'>Топонимический словарь</a></div>\\r\\n\\t<div class=\\'list_aut\\'><a href=\\'http://www.textologia.ru/slovari/lingvisticheskie-terminy/toponimiya/?q=486&n=1914\\'>Топонимия</a></div>\\r\\n\\t<div class=\\'list_aut\\'><a href=\\'http://www.textologia.ru/slovari/lingvisticheskie-terminy/tochka/?q=486&n=1915\\'>Точка</a></div>\\r\\n\\t<div class=\\'list_aut\\'><a href=\\'http://www.textologia.ru/slovari/lingvisticheskie-terminy/tochka-s-zapyatoy/?q=486&n=1916\\'>Точка с запятой</a></div>\\r\\n\\t<div class=\\'list_aut\\'><a href=\\'http://www.textologia.ru/slovari/lingvisticheskie-terminy/tradicionnaya-lingvistika/?q=486&n=1917\\'>Традиционная лингвистика</a></div>\\r\\n\\t<div class=\\'list_aut\\'><a href=\\'http://www.textologia.ru/slovari/lingvisticheskie-terminy/tradicionnie-napisaniya/?q=486&n=1918\\'>Традиционные написания</a></div>\\r\\n\\t<div class=\\'list_aut\\'><a href=\\'http://www.textologia.ru/slovari/lingvisticheskie-terminy/tradicionnie-cheredovaniya-zvukov/?q=486&n=1919\\'>Традиционные чередования звуков</a></div>\\r\\n\\t<div class=\\'list_aut\\'><a href=\\'http://www.textologia.ru/slovari/lingvisticheskie-terminy/tranzitivnie-glagoli/?q=486&n=1920\\'>Транзитивные глаголы</a></div>\\r\\n\\t<div class=\\'list_aut\\'><a href=\\'http://www.textologia.ru/slovari/lingvisticheskie-terminy/transkribirovanie/?q=486&n=1921\\'>Транскрибирование</a></div>\\r\\n\\t<div class=\\'list_aut\\'><a href=\\'http://www.textologia.ru/slovari/lingvisticheskie-terminy/transkripciya/?q=486&n=1922\\'>Транскрипция</a></div>\\r\\n\\t<div class=\\'list_aut\\'><a href=\\'http://www.textologia.ru/slovari/lingvisticheskie-terminy/transliteraciya/?q=486&n=1923\\'>Транслитерация</a></div>\\r\\n\\t<div class=\\'list_aut\\'><a href=\\'http://www.textologia.ru/slovari/lingvisticheskie-terminy/transform/?q=486&n=1924\\'>Трансформ</a></div>\\r\\n\\t<div class=\\'list_aut\\'><a href=\\'http://www.textologia.ru/slovari/lingvisticheskie-terminy/transformaciya/?q=486&n=1925\\'>Трансформация</a></div>\\r\\n\\t<div class=\\'list_aut\\'><a href=\\'http://www.textologia.ru/slovari/lingvisticheskie-terminy/trehchlennoe-skazuemoe/?q=486&n=1926\\'>Трехчленное сказуемое</a></div>\\r\\n\\t<div class=\\'list_aut\\'><a href=\\'http://www.textologia.ru/slovari/lingvisticheskie-terminy/trop/?q=486&n=1927\\'>Троп</a></div>\\r\\n\\t<div class=\\'list_aut\\'><a href=\\'http://www.textologia.ru/slovari/lingvisticheskie-terminy/tunguso-manchzhurskie-yazika/?q=486&n=1928\\'>Тунгусо-маньчжурские языка</a></div>\\r\\n\\t<div class=\\'list_aut\\'><a href=\\'http://www.textologia.ru/slovari/lingvisticheskie-terminy/tyurkskie-yaziki/?q=486&n=1929\\'>Тюркские языки</a></div>\\r\\n\\t<div class=\\'list_aut\\'><a href=\\'http://www.textologia.ru/slovari/lingvisticheskie-terminy/tyagotenie/?q=486&n=1930\\'>Тяготение</a></div>\\r\\n\\t<div style=\"margin: 7px 0 5px 0;\"><b>У</b></div><div class=\\'list_aut\\'><a href=\\'http://www.textologia.ru/slovari/lingvisticheskie-terminy/uvelichitelnie-imena/?q=486&n=1931\\'>Увеличительные имена</a></div>\\r\\n\\t<div class=\\'list_aut\\'><a href=\\'http://www.textologia.ru/slovari/lingvisticheskie-terminy/uvulyarnie-soglasnie/?q=486&n=1932\\'>Увулярные согласные</a></div>\\r\\n\\t<div class=\\'list_aut\\'><a href=\\'http://www.textologia.ru/slovari/lingvisticheskie-terminy/udarenie/?q=486&n=1933\\'>Ударение</a></div>\\r\\n\\t<div class=\\'list_aut\\'><a href=\\'http://www.textologia.ru/slovari/lingvisticheskie-terminy/udarniy-glasniy/?q=486&n=1934\\'>Ударный гласный</a></div>\\r\\n\\t<div class=\\'list_aut\\'><a href=\\'http://www.textologia.ru/slovari/lingvisticheskie-terminy/udvoenie/?q=486&n=1935\\'>Удвоение</a></div>\\r\\n\\t<div class=\\'list_aut\\'><a href=\\'http://www.textologia.ru/slovari/lingvisticheskie-terminy/uzkiy-glasniy/?q=486&n=1936\\'>Узкий гласный</a></div>\\r\\n\\t<div class=\\'list_aut\\'><a href=\\'http://www.textologia.ru/slovari/lingvisticheskie-terminy/uzualniy/?q=486&n=1937\\'>Узуальный</a></div>\\r\\n\\t<div class=\\'list_aut\\'><a href=\\'http://www.textologia.ru/slovari/lingvisticheskie-terminy/uzus/?q=486&n=1938\\'>Узус</a></div>\\r\\n\\t<div class=\\'list_aut\\'><a href=\\'http://www.textologia.ru/slovari/lingvisticheskie-terminy/ukazatelnoe-nominativnoe-predlozhenie/?q=486&n=1939\\'>Указательное номинативное предложение</a></div>\\r\\n\\t<div class=\\'list_aut\\'><a href=\\'http://www.textologia.ru/slovari/lingvisticheskie-terminy/ukazatelnie-mestoimeniya/?q=486&n=1940\\'>Указательные местоимения</a></div>\\r\\n\\t<div class=\\'list_aut\\'><a href=\\'http://www.textologia.ru/slovari/lingvisticheskie-terminy/ukazatelnie-slova/?q=486&n=1941\\'>Указательные слова</a></div>\\r\\n\\t<div class=\\'list_aut\\'><a href=\\'http://www.textologia.ru/slovari/lingvisticheskie-terminy/ukazatelnie-chastici/?q=486&n=1942\\'>Указательные частицы</a></div>\\r\\n\\t<div class=\\'list_aut\\'><a href=\\'http://www.textologia.ru/slovari/lingvisticheskie-terminy/ultramgnovenniy-vid/?q=486&n=1943\\'>Ультрамгновенный вид</a></div>\\r\\n\\t<div class=\\'list_aut\\'><a href=\\'http://www.textologia.ru/slovari/lingvisticheskie-terminy/umenshitelnie-imena/?q=486&n=1944\\'>Уменьшительные имена</a></div>\\r\\n\\t<div class=\\'list_aut\\'><a href=\\'http://www.textologia.ru/slovari/lingvisticheskie-terminy/umlaut/?q=486&n=1945\\'>Умлаут</a></div>\\r\\n\\t<div class=\\'list_aut\\'><a href=\\'http://www.textologia.ru/slovari/lingvisticheskie-terminy/umolchanie/?q=486&n=1946\\'>Умолчание</a></div>\\r\\n\\t<div class=\\'list_aut\\'><a href=\\'http://www.textologia.ru/slovari/lingvisticheskie-terminy/universalnie-kvantifikatori/?q=486&n=2148\\'>Универсальные квантификаторы</a></div>\\r\\n\\t<div class=\\'list_aut\\'><a href=\\'http://www.textologia.ru/slovari/lingvisticheskie-terminy/unifiks/?q=486&n=2146\\'>Унификс</a></div>\\r\\n\\t<div class=\\'list_aut\\'><a href=\\'http://www.textologia.ru/slovari/lingvisticheskie-terminy/unichizhitelnie-imena/?q=486&n=1947\\'>Уничижительные имена</a></div>\\r\\n\\t<div class=\\'list_aut\\'><a href=\\'http://www.textologia.ru/slovari/lingvisticheskie-terminy/upodoblenie/?q=486&n=1948\\'>Уподобление</a></div>\\r\\n\\t<div class=\\'list_aut\\'><a href=\\'http://www.textologia.ru/slovari/lingvisticheskie-terminy/upravlenie/?q=486&n=1949\\'>Управление</a></div>\\r\\n\\t<div class=\\'list_aut\\'><a href=\\'http://www.textologia.ru/slovari/lingvisticheskie-terminy/upravlyaemiy/?q=486&n=1950\\'>Управляемый</a></div>\\r\\n\\t<div class=\\'list_aut\\'><a href=\\'http://www.textologia.ru/slovari/lingvisticheskie-terminy/upravlyayuschiy/?q=486&n=1951\\'>Управляющий</a></div>\\r\\n\\t<div class=\\'list_aut\\'><a href=\\'http://www.textologia.ru/slovari/lingvisticheskie-terminy/urdu/?q=486&n=2305\\'>Урду</a></div>\\r\\n\\t<div class=\\'list_aut\\'><a href=\\'http://www.textologia.ru/slovari/lingvisticheskie-terminy/uroven/?q=486&n=1952\\'>Уровень</a></div>\\r\\n\\t<div class=\\'list_aut\\'><a href=\\'http://www.textologia.ru/slovari/lingvisticheskie-terminy/usechenie/?q=486&n=1953\\'>Усечение</a></div>\\r\\n\\t<div class=\\'list_aut\\'><a href=\\'http://www.textologia.ru/slovari/lingvisticheskie-terminy/usechennaya-forma/?q=486&n=1954\\'>Усеченная форма</a></div>\\r\\n\\t<div class=\\'list_aut\\'><a href=\\'http://www.textologia.ru/slovari/lingvisticheskie-terminy/usechennie-prilagatelnie/?q=486&n=1955\\'>Усеченные прилагательные</a></div>\\r\\n\\t<div class=\\'list_aut\\'><a href=\\'http://www.textologia.ru/slovari/lingvisticheskie-terminy/usilitelnie-chastici/?q=486&n=1956\\'>Усилительные частицы</a></div>\\r\\n\\t<div class=\\'list_aut\\'><a href=\\'http://www.textologia.ru/slovari/lingvisticheskie-terminy/uslovnoe-naklonenie/?q=486&n=1957\\'>Условное наклонение</a></div>\\r\\n\\t<div class=\\'list_aut\\'><a href=\\'http://www.textologia.ru/slovari/lingvisticheskie-terminy/uslovnie-soyuzi/?q=486&n=1958\\'>Условные союзы</a></div>\\r\\n\\t<div class=\\'list_aut\\'><a href=\\'http://www.textologia.ru/slovari/lingvisticheskie-terminy/uslozhnenie-osnovi/?q=486&n=1959\\'>Усложнение основы</a></div>\\r\\n\\t<div class=\\'list_aut\\'><a href=\\'http://www.textologia.ru/slovari/lingvisticheskie-terminy/ustav/?q=486&n=1960\\'>Устав</a></div>\\r\\n\\t<div class=\\'list_aut\\'><a href=\\'http://www.textologia.ru/slovari/lingvisticheskie-terminy/ustarevshiy-ustareliy/?q=486&n=1961\\'>Устаревший (устарелый)</a></div>\\r\\n\\t<div class=\\'list_aut\\'><a href=\\'http://www.textologia.ru/slovari/lingvisticheskie-terminy/ustnaya-rech/?q=486&n=1962\\'>Устная речь</a></div>\\r\\n\\t<div class=\\'list_aut\\'><a href=\\'http://www.textologia.ru/slovari/lingvisticheskie-terminy/ustoychivoe-slovosochetanie/?q=486&n=1963\\'>Устойчивое словосочетание</a></div>\\r\\n\\t<div class=\\'list_aut\\'><a href=\\'http://www.textologia.ru/slovari/lingvisticheskie-terminy/ustoychivoe-udarenie/?q=486&n=1964\\'>Устойчивое ударение</a></div>\\r\\n\\t<div class=\\'list_aut\\'><a href=\\'http://www.textologia.ru/slovari/lingvisticheskie-terminy/ustupitelnie-soyuzi/?q=486&n=1965\\'>Уступительные союзы</a></div>\\r\\n\\t<div class=\\'list_aut\\'><a href=\\'http://www.textologia.ru/slovari/lingvisticheskie-terminy/utverditelnoe-predlozhenie/?q=486&n=1966\\'>Утвердительное предложение</a></div>\\r\\n\\t<div class=\\'list_aut\\'><a href=\\'http://www.textologia.ru/slovari/lingvisticheskie-terminy/utverditelnie-chastici/?q=486&n=1967\\'>Утвердительные частицы</a></div>\\r\\n\\t<div class=\\'list_aut\\'><a href=\\'http://www.textologia.ru/slovari/lingvisticheskie-terminy/utochnitelnie-chastici/?q=486&n=1968\\'>Уточнительные частицы</a></div>\\r\\n\\t<div class=\\'list_aut\\'><a href=\\'http://www.textologia.ru/slovari/lingvisticheskie-terminy/utochnyayuschie-chleni-predlozheniya/?q=486&n=1969\\'>Уточняющие члены предложения</a></div>\\r\\n\\t<div style=\"margin: 7px 0 5px 0;\"><b>Ф</b></div><div class=\\'list_aut\\'><a href=\\'http://www.textologia.ru/slovari/lingvisticheskie-terminy/fazovie-glagoli/?q=486&n=1970\\'>Фазовые глаголы</a></div>\\r\\n\\t<div class=\\'list_aut\\'><a href=\\'http://www.textologia.ru/slovari/lingvisticheskie-terminy/fakultativnaya-marfema/?q=486&n=2145\\'>Факультативная морфема</a></div>\\r\\n\\t<div class=\\'list_aut\\'><a href=\\'http://www.textologia.ru/slovari/lingvisticheskie-terminy/facultativnie-znaki-prepinania/?q=486&n=2135\\'>Факультативные знаки препинания</a></div>\\r\\n\\t<div class=\\'list_aut\\'><a href=\\'http://www.textologia.ru/slovari/lingvisticheskie-terminy/familyarnaya-leksika/?q=486&n=1971\\'>Фамильярная лексика</a></div>\\r\\n\\t<div class=\\'list_aut\\'><a href=\\'http://www.textologia.ru/slovari/lingvisticheskie-terminy/faringalnie-soglasnie/?q=486&n=1972\\'>Фарингальные согласные</a></div>\\r\\n\\t<div class=\\'list_aut\\'><a href=\\'http://www.textologia.ru/slovari/lingvisticheskie-terminy/faukalnie-soglasnie/?q=486&n=1973\\'>Фаукальные согласные</a></div>\\r\\n\\t<div class=\\'list_aut\\'><a href=\\'http://www.textologia.ru/slovari/lingvisticheskie-terminy/figura-rechi/?q=486&n=1974\\'>Фигура речи</a></div>\\r\\n\\t<div class=\\'list_aut\\'><a href=\\'http://www.textologia.ru/slovari/lingvisticheskie-terminy/figura-umolchaniya/?q=486&n=1975\\'>Фигура умолчания</a></div>\\r\\n\\t<div class=\\'list_aut\\'><a href=\\'http://www.textologia.ru/slovari/lingvisticheskie-terminy/figuri-rechi/?q=486&n=2183\\'>Фигуры речи</a></div>\\r\\n\\t<div class=\\'list_aut\\'><a href=\\'http://www.textologia.ru/slovari/lingvisticheskie-terminy/fiksirovannoe-udarenie/?q=486&n=1976\\'>Фиксированное ударение</a></div>\\r\\n\\t<div class=\\'list_aut\\'><a href=\\'http://www.textologia.ru/slovari/lingvisticheskie-terminy/filologicheskiy-slovar/?q=486&n=1977\\'>Филологический словарь</a></div>\\r\\n\\t<div class=\\'list_aut\\'><a href=\\'http://www.textologia.ru/slovari/lingvisticheskie-terminy/filologiya/?q=486&n=1978\\'>Филология</a></div>\\r\\n\\t<div class=\\'list_aut\\'><a href=\\'http://www.textologia.ru/slovari/lingvisticheskie-terminy/finikiyskiy-yazik/?q=486&n=2182\\'>Финикийский язык</a></div>\\r\\n\\t<div class=\\'list_aut\\'><a href=\\'http://www.textologia.ru/slovari/lingvisticheskie-terminy/finitniy-glagol/?q=486&n=1979\\'>Финитный глагол</a></div>\\r\\n\\t<div class=\\'list_aut\\'><a href=\\'http://www.textologia.ru/slovari/lingvisticheskie-terminy/finno-ugorskie-yaziki/?q=486&n=1980\\'>Финно-угорские языки</a></div>\\r\\n\\t<div class=\\'list_aut\\'><a href=\\'http://www.textologia.ru/slovari/lingvisticheskie-terminy/finno-ugrovedenie/?q=486&n=2181\\'>Финно-угроведение</a></div>\\r\\n\\t<div class=\\'list_aut\\'><a href=\\'http://www.textologia.ru/slovari/lingvisticheskie-terminy/fleksiya/?q=486&n=1981\\'>Флексия</a></div>\\r\\n\\t<div class=\\'list_aut\\'><a href=\\'http://www.textologia.ru/slovari/lingvisticheskie-terminy/fleksiya-osnovi/?q=486&n=1982\\'>Флексия основы</a></div>\\r\\n\\t<div class=\\'list_aut\\'><a href=\\'http://www.textologia.ru/slovari/lingvisticheskie-terminy/flektivnie-yaziki/?q=486&n=1983\\'>Флективные языки</a></div>\\r\\n\\t<div class=\\'list_aut\\'><a href=\\'http://www.textologia.ru/slovari/lingvisticheskie-terminy/fond-leksicheskiy-osnovnoy/?q=486&n=1984\\'>Фонд лексический основной</a></div>\\r\\n\\t<div class=\\'list_aut\\'><a href=\\'http://www.textologia.ru/slovari/lingvisticheskie-terminy/fonema/?q=486&n=1985\\'>Фонема</a></div>\\r\\n\\t<div class=\\'list_aut\\'><a href=\\'http://www.textologia.ru/slovari/lingvisticheskie-terminy/fonema-silnaya/?q=486&n=1986\\'>Фонема сильная</a></div>\\r\\n\\t<div class=\\'list_aut\\'><a href=\\'http://www.textologia.ru/slovari/lingvisticheskie-terminy/fonema-slabaya/?q=486&n=1987\\'>Фонема слабая</a></div>\\r\\n\\t<div class=\\'list_aut\\'><a href=\\'http://www.textologia.ru/slovari/lingvisticheskie-terminy/fonematicheskiy-princip-pravopisaniya/?q=486&n=1989\\'>Фонематический принцип правописания</a></div>\\r\\n\\t<div class=\\'list_aut\\'><a href=\\'http://www.textologia.ru/slovari/lingvisticheskie-terminy/fonemika/?q=486&n=2342\\'>Фонемика</a></div>\\r\\n\\t<div class=\\'list_aut\\'><a href=\\'http://www.textologia.ru/slovari/lingvisticheskie-terminy/fonemniy-ryad/?q=486&n=1988\\'>Фонемный ряд</a></div>\\r\\n\\t<div class=\\'list_aut\\'><a href=\\'http://www.textologia.ru/slovari/lingvisticheskie-terminy/fonetika/?q=486&n=1990\\'>Фонетика</a></div>\\r\\n\\t<div class=\\'list_aut\\'><a href=\\'http://www.textologia.ru/slovari/lingvisticheskie-terminy/fonetika-istoricheskaya/?q=486&n=1991\\'>Фонетика историческая</a></div>\\r\\n\\t<div class=\\'list_aut\\'><a href=\\'http://www.textologia.ru/slovari/lingvisticheskie-terminy/fonetika-obschaya/?q=486&n=1992\\'>Фонетика общая</a></div>\\r\\n\\t<div class=\\'list_aut\\'><a href=\\'http://www.textologia.ru/slovari/lingvisticheskie-terminy/fonetika-eksperimentalnaya/?q=486&n=1993\\'>Фонетика экспериментальная</a></div>\\r\\n\\t<div class=\\'list_aut\\'><a href=\\'http://www.textologia.ru/slovari/lingvisticheskie-terminy/foneticheskaya-transkripciya/?q=486&n=1994\\'>Фонетическая транскрипция</a></div>\\r\\n\\t<div class=\\'list_aut\\'><a href=\\'http://www.textologia.ru/slovari/lingvisticheskie-terminy/foneticheskie-edinici-rechi/?q=486&n=1995\\'>Фонетические единицы речи</a></div>\\r\\n\\t<div class=\\'list_aut\\'><a href=\\'http://www.textologia.ru/slovari/lingvisticheskie-terminy/foneticheskie-napisaniya/?q=486&n=1996\\'>Фонетические написания</a></div>\\r\\n\\t<div class=\\'list_aut\\'><a href=\\'http://www.textologia.ru/slovari/lingvisticheskie-terminy/foneticheskie-sredstva/?q=486&n=1997\\'>Фонетические средства</a></div>\\r\\n\\t<div class=\\'list_aut\\'><a href=\\'http://www.textologia.ru/slovari/lingvisticheskie-terminy/foneticheskie-cheredovaniya/?q=486&n=1998\\'>Фонетические чередования</a></div>\\r\\n\\t<div class=\\'list_aut\\'><a href=\\'http://www.textologia.ru/slovari/lingvisticheskie-terminy/foneticheskiy-zakon/?q=486&n=1999\\'>Фонетический закон</a></div>\\r\\n\\t<div class=\\'list_aut\\'><a href=\\'http://www.textologia.ru/slovari/lingvisticheskie-terminy/foneticheskiy-razbor/?q=486&n=2000\\'>Фонетический разбор</a></div>\\r\\n\\t<div class=\\'list_aut\\'><a href=\\'http://www.textologia.ru/slovari/lingvisticheskie-terminy/foneticheskoe-slovo/?q=486&n=2001\\'>Фонетическое слово</a></div>\\r\\n\\t<div class=\\'list_aut\\'><a href=\\'http://www.textologia.ru/slovari/lingvisticheskie-terminy/fonika/?q=486&n=2002\\'>Фоника</a></div>\\r\\n\\t<div class=\\'list_aut\\'><a href=\\'http://www.textologia.ru/slovari/lingvisticheskie-terminy/fonologiya/?q=486&n=2003\\'>Фонология</a></div>\\r\\n\\t<div class=\\'list_aut\\'><a href=\\'http://www.textologia.ru/slovari/lingvisticheskie-terminy/forma-v-yazikoznanii/?q=486&n=2180\\'>Форма в языкознании</a></div>\\r\\n\\t<div class=\\'list_aut\\'><a href=\\'http://www.textologia.ru/slovari/lingvisticheskie-terminy/forma-slova/?q=486&n=2004\\'>Форма слова</a></div>\\r\\n\\t<div class=\\'list_aut\\'><a href=\\'http://www.textologia.ru/slovari/lingvisticheskie-terminy/formalnaya-grammatika/?q=486&n=2005\\'>Формальная грамматика</a></div>\\r\\n\\t<div class=\\'list_aut\\'><a href=\\'http://www.textologia.ru/slovari/lingvisticheskie-terminy/formalnoe-znachenie/?q=486&n=2006\\'>Формальное значение</a></div>\\r\\n\\t<div class=\\'list_aut\\'><a href=\\'http://www.textologia.ru/slovari/lingvisticheskie-terminy/formant-formanta/?q=486&n=2007\\'>Формант (форманта)</a></div>\\r\\n\\t<div class=\\'list_aut\\'><a href=\\'http://www.textologia.ru/slovari/lingvisticheskie-terminy/formoobrazovanie/?q=486&n=2008\\'>Формообразование</a></div>\\r\\n\\t<div class=\\'list_aut\\'><a href=\\'http://www.textologia.ru/slovari/lingvisticheskie-terminy/formi-rechi/?q=486&n=2009\\'>Формы речи</a></div>\\r\\n\\t<div class=\\'list_aut\\'><a href=\\'http://www.textologia.ru/slovari/lingvisticheskie-terminy/formi-slovoizmeneniya/?q=486&n=2010\\'>Формы словоизменения</a></div>\\r\\n\\t<div class=\\'list_aut\\'><a href=\\'http://www.textologia.ru/slovari/lingvisticheskie-terminy/formi-subektivnoy-ocenki/?q=486&n=2011\\'>Формы субъективной оценки</a></div>\\r\\n\\t<div class=\\'list_aut\\'><a href=\\'http://www.textologia.ru/slovari/lingvisticheskie-terminy/fraza/?q=486&n=2012\\'>Фраза</a></div>\\r\\n\\t<div class=\\'list_aut\\'><a href=\\'http://www.textologia.ru/slovari/lingvisticheskie-terminy/frazeogramma/?q=486&n=2013\\'>Фразеограмма</a></div>\\r\\n\\t<div class=\\'list_aut\\'><a href=\\'http://www.textologia.ru/slovari/lingvisticheskie-terminy/frazeologizm/?q=486&n=2014\\'>Фразеологизм</a></div>\\r\\n\\t<div class=\\'list_aut\\'><a href=\\'http://www.textologia.ru/slovari/lingvisticheskie-terminy/frazeologicheskaya-edinica/?q=486&n=2015\\'>Фразеологическая единица</a></div>\\r\\n\\t<div class=\\'list_aut\\'><a href=\\'http://www.textologia.ru/slovari/lingvisticheskie-terminy/frazeologicheskie-virazheniya/?q=486&n=2016\\'>Фразеологические выражения</a></div>\\r\\n\\t<div class=\\'list_aut\\'><a href=\\'http://www.textologia.ru/slovari/lingvisticheskie-terminy/frazeologicheskie-sinonimi/?q=486&n=2017\\'>Фразеологические синонимы</a></div>\\r\\n\\t<div class=\\'list_aut\\'><a href=\\'http://www.textologia.ru/slovari/lingvisticheskie-terminy/frazeologicheskiy-oborot/?q=486&n=2018\\'>Фразеологический оборот</a></div>\\r\\n\\t<div class=\\'list_aut\\'><a href=\\'http://www.textologia.ru/slovari/lingvisticheskie-terminy/frazeologicheskiy-slovar/?q=486&n=1693\\'>Фразеологический словарь</a></div>\\r\\n\\t<div class=\\'list_aut\\'><a href=\\'http://www.textologia.ru/slovari/lingvisticheskie-terminy/frazeologicheskoe-edinstvo/?q=486&n=2021\\'>Фразеологическое единство</a></div>\\r\\n\\t<div class=\\'list_aut\\'><a href=\\'http://www.textologia.ru/slovari/lingvisticheskie-terminy/frazeologicheskoe-sochetanie/?q=486&n=2022\\'>Фразеологическое сочетание</a></div>\\r\\n\\t<div class=\\'list_aut\\'><a href=\\'http://www.textologia.ru/slovari/lingvisticheskie-terminy/frazeologicheskoe-sraschenie/?q=486&n=2023\\'>Фразеологическое сращение</a></div>\\r\\n\\t<div class=\\'list_aut\\'><a href=\\'http://www.textologia.ru/slovari/lingvisticheskie-terminy/frazeologiya/?q=486&n=2020\\'>Фразеология</a></div>\\r\\n\\t<div class=\\'list_aut\\'><a href=\\'http://www.textologia.ru/slovari/lingvisticheskie-terminy/frazovoe-fraznoe-udarenie/?q=486&n=2024\\'>Фразовое (фразное) ударение</a></div>\\r\\n\\t<div class=\\'list_aut\\'><a href=\\'http://www.textologia.ru/slovari/lingvisticheskie-terminy/frakiyskiy-yazik/?q=486&n=2179\\'>Фракийский язык</a></div>\\r\\n\\t<div class=\\'list_aut\\'><a href=\\'http://www.textologia.ru/slovari/lingvisticheskie-terminy/francuzskiy-yazik/?q=486&n=2178\\'>Французский язык</a></div>\\r\\n\\t<div class=\\'list_aut\\'><a href=\\'http://www.textologia.ru/slovari/lingvisticheskie-terminy/frikativnie-soglasnie/?q=486&n=2025\\'>Фрикативные согласные</a></div>\\r\\n\\t<div class=\\'list_aut\\'><a href=\\'http://www.textologia.ru/slovari/lingvisticheskie-terminy/fuziya/?q=486&n=2026\\'>Фузия</a></div>\\r\\n\\t<div class=\\'list_aut\\'><a href=\\'http://www.textologia.ru/slovari/lingvisticheskie-terminy/funkcii-slova/?q=486&n=2027\\'>Функции слова</a></div>\\r\\n\\t<div class=\\'list_aut\\'><a href=\\'http://www.textologia.ru/slovari/lingvisticheskie-terminy/funkcii-yazika/?q=486&n=2028\\'>Функции языка</a></div>\\r\\n\\t<div class=\\'list_aut\\'><a href=\\'http://www.textologia.ru/slovari/lingvisticheskie-terminy/funkcionalnaya-grammatika/?q=486&n=2177\\'>Функциональная грамматика</a></div>\\r\\n\\t<div class=\\'list_aut\\'><a href=\\'http://www.textologia.ru/slovari/lingvisticheskie-terminy/funkcionalnaya-stilistika/?q=486&n=2029\\'>Функциональная стилистика</a></div>\\r\\n\\t<div class=\\'list_aut\\'><a href=\\'http://www.textologia.ru/slovari/lingvisticheskie-terminy/funkcionalno-semanticheskoe-pole/?q=486&n=2176\\'>Функционально-семантическое поле</a></div>\\r\\n\\t<div class=\\'list_aut\\'><a href=\\'http://www.textologia.ru/slovari/lingvisticheskie-terminy/funkcionalnie-soyuzi/?q=486&n=2030\\'>Функциональные союзы</a></div>\\r\\n\\t<div class=\\'list_aut\\'><a href=\\'http://www.textologia.ru/slovari/lingvisticheskie-terminy/funkcionalnie-stili/?q=486&n=2031\\'>Функциональные стили</a></div>\\r\\n\\t<div class=\\'list_aut\\'><a href=\\'http://www.textologia.ru/slovari/lingvisticheskie-terminy/funkciya/?q=486&n=2036\\'>Функция</a></div>\\r\\n\\t<div style=\"margin: 7px 0 5px 0;\"><b>Х</b></div><div class=\\'list_aut\\'><a href=\\'http://www.textologia.ru/slovari/lingvisticheskie-terminy/hazarskiy-yazik/?q=486&n=2175\\'>Хазарский язык</a></div>\\r\\n\\t<div class=\\'list_aut\\'><a href=\\'http://www.textologia.ru/slovari/lingvisticheskie-terminy/hamitskie-yaziki-hamiticheskie/?q=486&n=2037\\'>Хамитские языки (хамитические)</a></div>\\r\\n\\t<div class=\\'list_aut\\'><a href=\\'http://www.textologia.ru/slovari/lingvisticheskie-terminy/harkovskaya-lingvisticheskaya-shkola/?q=486&n=2174\\'>Харьковская лингвистическая школа</a></div>\\r\\n\\t<div class=\\'list_aut\\'><a href=\\'http://www.textologia.ru/slovari/lingvisticheskie-terminy/hausa/?q=486&n=2173\\'>Хауса</a></div>\\r\\n\\t<div class=\\'list_aut\\'><a href=\\'http://www.textologia.ru/slovari/lingvisticheskie-terminy/hettskiy-yazik/?q=486&n=2172\\'>Хеттский язык</a></div>\\r\\n\\t<div class=\\'list_aut\\'><a href=\\'http://www.textologia.ru/slovari/lingvisticheskie-terminy/hokaltekskie-yaziki/?q=486&n=2171\\'>Хокальтекские языки</a></div>\\r\\n\\t<div class=\\'list_aut\\'><a href=\\'http://www.textologia.ru/slovari/lingvisticheskie-terminy/hurritskiy-yazik/?q=486&n=2170\\'>Хурритский язык</a></div>\\r\\n\\t<div style=\"margin: 7px 0 5px 0;\"><b>Ц</b></div><div class=\\'list_aut\\'><a href=\\'http://www.textologia.ru/slovari/lingvisticheskie-terminy/centr-rechi-centr-broka/?q=486&n=2344\\'>Центр речи (центр Брока)</a></div>\\r\\n\\t<div class=\\'list_aut\\'><a href=\\'http://www.textologia.ru/slovari/lingvisticheskie-terminy/tsitata/?q=486&n=2128\\'>Цитата</a></div>\\r\\n\\t<div style=\"margin: 7px 0 5px 0;\"><b>Ч</b></div><div class=\\'list_aut\\'><a href=\\'http://www.textologia.ru/slovari/lingvisticheskie-terminy/chadskie-yaziki/?q=486&n=2169\\'>Чадские языки</a></div>\\r\\n\\t<div class=\\'list_aut\\'><a href=\\'http://www.textologia.ru/slovari/lingvisticheskie-terminy/chasti-rechi/?q=486&n=2038\\'>Части речи</a></div>\\r\\n\\t<div class=\\'list_aut\\'><a href=\\'http://www.textologia.ru/slovari/lingvisticheskie-terminy/chastici-chastichnie-slova/?q=486&n=2039\\'>Частицы (частичные слова)</a></div>\\r\\n\\t<div class=\\'list_aut\\'><a href=\\'http://www.textologia.ru/slovari/lingvisticheskie-terminy/chastici-rechi-sluzhebnie-slova-sluzhebnie-chasti-rechi/?q=486&n=1665\\'>Частицы речи (служебные слова, служебные части речи)</a></div>\\r\\n\\t<div class=\\'list_aut\\'><a href=\\'http://www.textologia.ru/slovari/lingvisticheskie-terminy/chastichnie-slova/?q=486&n=2040\\'>Частичные слова</a></div>\\r\\n\\t<div class=\\'list_aut\\'><a href=\\'http://www.textologia.ru/slovari/lingvisticheskie-terminy/chastnootricatelnoe-predlozhenie/?q=486&n=2041\\'>Частноотрицательное предложение</a></div>\\r\\n\\t<div class=\\'list_aut\\'><a href=\\'http://www.textologia.ru/slovari/lingvisticheskie-terminy/chastotnost/?q=486&n=2042\\'>Частотность</a></div>\\r\\n\\t<div class=\\'list_aut\\'><a href=\\'http://www.textologia.ru/slovari/lingvisticheskie-terminy/chastotniy-slovar/?q=486&n=1694\\'>Частотный словарь</a></div>\\r\\n\\t<div class=\\'list_aut\\'><a href=\\'http://www.textologia.ru/slovari/lingvisticheskie-terminy/cheredovanie-zvukov/?q=486&n=2043\\'>Чередование звуков</a></div>\\r\\n\\t<div class=\\'list_aut\\'><a href=\\'http://www.textologia.ru/slovari/lingvisticheskie-terminy/cheshskiy-yazik/?q=486&n=2168\\'>Чешский язык</a></div>\\r\\n\\t<div class=\\'list_aut\\'><a href=\\'http://www.textologia.ru/slovari/lingvisticheskie-terminy/chibchanskie-yaziki/?q=486&n=2167\\'>Чибчанские языки</a></div>\\r\\n\\t<div class=\\'list_aut\\'><a href=\\'http://www.textologia.ru/slovari/lingvisticheskie-terminy/chislitelnoe/?q=486&n=2044\\'>Числительное</a></div>\\r\\n\\t<div class=\\'list_aut\\'><a href=\\'http://www.textologia.ru/slovari/lingvisticheskie-terminy/chislo-grammaticheskoe/?q=486&n=2045\\'>Число грамматическое</a></div>\\r\\n\\t<div class=\\'list_aut\\'><a href=\\'http://www.textologia.ru/slovari/lingvisticheskie-terminy/chlen/?q=486&n=2046\\'>Член</a></div>\\r\\n\\t<div class=\\'list_aut\\'><a href=\\'http://www.textologia.ru/slovari/lingvisticheskie-terminy/chlennoe-prilagatelnoe/?q=486&n=2047\\'>Членное прилагательное</a></div>\\r\\n\\t<div class=\\'list_aut\\'><a href=\\'http://www.textologia.ru/slovari/lingvisticheskie-terminy/chleni-predlozheniya/?q=486&n=2048\\'>Члены предложения</a></div>\\r\\n\\t<div class=\\'list_aut\\'><a href=\\'http://www.textologia.ru/slovari/lingvisticheskie-terminy/chokane/?q=486&n=2049\\'>Чоканье</a></div>\\r\\n\\t<div class=\\'list_aut\\'><a href=\\'http://www.textologia.ru/slovari/lingvisticheskie-terminy/chuzhaya-rech/?q=486&n=2050\\'>Чужая речь</a></div>\\r\\n\\t<div class=\\'list_aut\\'><a href=\\'http://www.textologia.ru/slovari/lingvisticheskie-terminy/chukotskiy-yazik/?q=486&n=2166\\'>Чукотский язык</a></div>\\r\\n\\t<div style=\"margin: 7px 0 5px 0;\"><b>Ш</b></div><div class=\\'list_aut\\'><a href=\\'http://www.textologia.ru/slovari/lingvisticheskie-terminy/shanskiy-yazik/?q=486&n=2165\\'>Шанский язык</a></div>\\r\\n\\t<div class=\\'list_aut\\'><a href=\\'http://www.textologia.ru/slovari/lingvisticheskie-terminy/shvedskiy-yazik/?q=486&n=2164\\'>Шведский язык</a></div>\\r\\n\\t<div class=\\'list_aut\\'><a href=\\'http://www.textologia.ru/slovari/lingvisticheskie-terminy/shepot/?q=486&n=2051\\'>Шепот</a></div>\\r\\n\\t<div class=\\'list_aut\\'><a href=\\'http://www.textologia.ru/slovari/lingvisticheskie-terminy/shepotniy-glasniy/?q=486&n=2052\\'>Шепотный гласный</a></div>\\r\\n\\t<div class=\\'list_aut\\'><a href=\\'http://www.textologia.ru/slovari/lingvisticheskie-terminy/shipyaschie-zvuki/?q=486&n=2053\\'>Шипящие звуки</a></div>\\r\\n\\t<div class=\\'list_aut\\'><a href=\\'http://www.textologia.ru/slovari/lingvisticheskie-terminy/shirokiy-glasniy/?q=486&n=2054\\'>Широкий гласный</a></div>\\r\\n\\t<div class=\\'list_aut\\'><a href=\\'http://www.textologia.ru/slovari/lingvisticheskie-terminy/shov-morfologicheskiy/?q=486&n=2055\\'>Шов морфологический</a></div>\\r\\n\\t<div class=\\'list_aut\\'><a href=\\'http://www.textologia.ru/slovari/lingvisticheskie-terminy/shtamp/?q=486&n=2056\\'>Штамп</a></div>\\r\\n\\t<div class=\\'list_aut\\'><a href=\\'http://www.textologia.ru/slovari/lingvisticheskie-terminy/shugnano-rushanskaya-gruppa-yazikov/?q=486&n=2163\\'>Шугнано-рушанская группа языков</a></div>\\r\\n\\t<div class=\\'list_aut\\'><a href=\\'http://www.textologia.ru/slovari/lingvisticheskie-terminy/shum/?q=486&n=2057\\'>Шум</a></div>\\r\\n\\t<div class=\\'list_aut\\'><a href=\\'http://www.textologia.ru/slovari/lingvisticheskie-terminy/shumnie-soglasnie/?q=486&n=2058\\'>Шумные согласные</a></div>\\r\\n\\t<div style=\"margin: 7px 0 5px 0;\"><b>Щ</b></div><div class=\\'list_aut\\'><a href=\\'http://www.textologia.ru/slovari/lingvisticheskie-terminy/schelevie-soglasnie/?q=486&n=2059\\'>Щелевые согласные</a></div>\\r\\n\\t<div class=\\'list_aut\\'><a href=\\'http://www.textologia.ru/slovari/lingvisticheskie-terminy/schelinnie-soglasnie/?q=486&n=2060\\'>Щелинные согласные</a></div>\\r\\n\\t<div style=\"margin: 7px 0 5px 0;\"><b>Э</b></div><div class=\\'list_aut\\'><a href=\\'http://www.textologia.ru/slovari/lingvisticheskie-terminy/evolyucii-yazika/?q=486&n=2061\\'>Эволюции языка</a></div>\\r\\n\\t<div class=\\'list_aut\\'><a href=\\'http://www.textologia.ru/slovari/lingvisticheskie-terminy/evolyucionnaya-lingvistika/?q=486&n=2335\\'>Эволюционная лингвистика</a></div>\\r\\n\\t<div class=\\'list_aut\\'><a href=\\'http://www.textologia.ru/slovari/lingvisticheskie-terminy/evfemizm/?q=486&n=2062\\'>Эвфемизм</a></div>\\r\\n\\t<div class=\\'list_aut\\'><a href=\\'http://www.textologia.ru/slovari/lingvisticheskie-terminy/evfoniya/?q=486&n=2063\\'>Эвфония</a></div>\\r\\n\\t<div class=\\'list_aut\\'><a href=\\'http://www.textologia.ru/slovari/lingvisticheskie-terminy/ekvivalent/?q=486&n=2064\\'>Эквивалент</a></div>\\r\\n\\t<div class=\\'list_aut\\'><a href=\\'http://www.textologia.ru/slovari/lingvisticheskie-terminy/ekvivalent-predlozheniya/?q=486&n=2065\\'>Эквивалент предложения</a></div>\\r\\n\\t<div class=\\'list_aut\\'><a href=\\'http://www.textologia.ru/slovari/lingvisticheskie-terminy/ekzistencialnoe-nominativnoe-predlozhenie/?q=486&n=2066\\'>Экзистенциальное номинативное предложение</a></div>\\r\\n\\t<div class=\\'list_aut\\'><a href=\\'http://www.textologia.ru/slovari/lingvisticheskie-terminy/ekzoticheskaya-leksika/?q=486&n=2067\\'>Экзотическая лексика</a></div>\\r\\n\\t<div class=\\'list_aut\\'><a href=\\'http://www.textologia.ru/slovari/lingvisticheskie-terminy/ekonomiya-lingvisticheskaya/?q=486&n=2068\\'>Экономия лингвистическая</a></div>\\r\\n\\t<div class=\\'list_aut\\'><a href=\\'http://www.textologia.ru/slovari/lingvisticheskie-terminy/ekskursiya/?q=486&n=2069\\'>Экскурсия</a></div>\\r\\n\\t<div class=\\'list_aut\\'><a href=\\'http://www.textologia.ru/slovari/lingvisticheskie-terminy/eksperimentalnaya-fonetika/?q=486&n=2070\\'>Экспериментальная фонетика</a></div>\\r\\n\\t<div class=\\'list_aut\\'><a href=\\'http://www.textologia.ru/slovari/lingvisticheskie-terminy/ekspiratornoe-udarenie/?q=486&n=2071\\'>Экспираторное ударение</a></div>\\r\\n\\t<div class=\\'list_aut\\'><a href=\\'http://www.textologia.ru/slovari/lingvisticheskie-terminy/eksplicitniy/?q=486&n=2072\\'>Эксплицитный</a></div>\\r\\n\\t<div class=\\'list_aut\\'><a href=\\'http://www.textologia.ru/slovari/lingvisticheskie-terminy/eksplozivnie-soglasnie/?q=486&n=2073\\'>Эксплозивные согласные</a></div>\\r\\n\\t<div class=\\'list_aut\\'><a href=\\'http://www.textologia.ru/slovari/lingvisticheskie-terminy/ekspressivnaya-leksika/?q=486&n=2074\\'>Экспрессивная лексика</a></div>\\r\\n\\t<div class=\\'list_aut\\'><a href=\\'http://www.textologia.ru/slovari/lingvisticheskie-terminy/ekspressivniy/?q=486&n=2075\\'>Экспрессивный</a></div>\\r\\n\\t<div class=\\'list_aut\\'><a href=\\'http://www.textologia.ru/slovari/lingvisticheskie-terminy/ekspressiya/?q=486&n=2076\\'>Экспрессия</a></div>\\r\\n\\t<div class=\\'list_aut\\'><a href=\\'http://www.textologia.ru/slovari/lingvisticheskie-terminy/ekstralingvisticheskiy/?q=486&n=2077\\'>Экстралингвистический</a></div>\\r\\n\\t<div class=\\'list_aut\\'><a href=\\'http://www.textologia.ru/slovari/lingvisticheskie-terminy/eliziya/?q=486&n=2078\\'>Элизия</a></div>\\r\\n\\t<div class=\\'list_aut\\'><a href=\\'http://www.textologia.ru/slovari/lingvisticheskie-terminy/ellipsis-ellips/?q=486&n=2079\\'>Эллипсис (эллипс)</a></div>\\r\\n\\t<div class=\\'list_aut\\'><a href=\\'http://www.textologia.ru/slovari/lingvisticheskie-terminy/ellipticheskoe-predlozhenie/?q=486&n=2080\\'>Эллиптическое предложение</a></div>\\r\\n\\t<div class=\\'list_aut\\'><a href=\\'http://www.textologia.ru/slovari/lingvisticheskie-terminy/elyativ-elativ/?q=486&n=2081\\'>Элятив (элатив)</a></div>\\r\\n\\t<div class=\\'list_aut\\'><a href=\\'http://www.textologia.ru/slovari/lingvisticheskie-terminy/emocionalnaya-leksika/?q=486&n=2082\\'>Эмоциональная лексика</a></div>\\r\\n\\t<div class=\\'list_aut\\'><a href=\\'http://www.textologia.ru/slovari/lingvisticheskie-terminy/emocionalnie-mezhdometiya/?q=486&n=2083\\'>Эмоциональные междометия</a></div>\\r\\n\\t<div class=\\'list_aut\\'><a href=\\'http://www.textologia.ru/slovari/lingvisticheskie-terminy/emocionalniy/?q=486&n=2084\\'>Эмоциональный</a></div>\\r\\n\\t<div class=\\'list_aut\\'><a href=\\'http://www.textologia.ru/slovari/lingvisticheskie-terminy/emfaza/?q=486&n=2085\\'>Эмфаза</a></div>\\r\\n\\t<div class=\\'list_aut\\'><a href=\\'http://www.textologia.ru/slovari/lingvisticheskie-terminy/emfaticheskoe-udarenie/?q=486&n=2086\\'>Эмфатическое ударение</a></div>\\r\\n\\t<div class=\\'list_aut\\'><a href=\\'http://www.textologia.ru/slovari/lingvisticheskie-terminy/enantiosemiya/?q=486&n=2087\\'>Энантиосемия</a></div>\\r\\n\\t<div class=\\'list_aut\\'><a href=\\'http://www.textologia.ru/slovari/lingvisticheskie-terminy/enklitika/?q=486&n=2088\\'>Энклитика</a></div>\\r\\n\\t<div class=\\'list_aut\\'><a href=\\'http://www.textologia.ru/slovari/lingvisticheskie-terminy/enciklopedicheskiy-slovar/?q=486&n=2089\\'>Энциклопедический словарь</a></div>\\r\\n\\t<div class=\\'list_aut\\'><a href=\\'http://www.textologia.ru/slovari/lingvisticheskie-terminy/epenteza/?q=486&n=2090\\'>Эпентеза</a></div>\\r\\n\\t<div class=\\'list_aut\\'><a href=\\'http://www.textologia.ru/slovari/lingvisticheskie-terminy/epenteticheskiy-zvuk/?q=486&n=2091\\'>Эпентетический звук</a></div>\\r\\n\\t<div class=\\'list_aut\\'><a href=\\'http://www.textologia.ru/slovari/lingvisticheskie-terminy/epitet/?q=486&n=2092\\'>Эпитет</a></div>\\r\\n\\t<div class=\\'list_aut\\'><a href=\\'http://www.textologia.ru/slovari/lingvisticheskie-terminy/epifora/?q=486&n=2094\\'>Эпифора</a></div>\\r\\n\\t<div class=\\'list_aut\\'><a href=\\'http://www.textologia.ru/slovari/lingvisticheskie-terminy/eponim/?q=486&n=2095\\'>Эпоним</a></div>\\r\\n\\t<div class=\\'list_aut\\'><a href=\\'http://www.textologia.ru/slovari/lingvisticheskie-terminy/ergativniy-stroy-predlozheniya/?q=486&n=2096\\'>Эргативный строй предложения</a></div>\\r\\n\\t<div class=\\'list_aut\\'><a href=\\'http://www.textologia.ru/slovari/lingvisticheskie-terminy/esperanto/?q=486&n=2097\\'>Эсперанто</a></div>\\r\\n\\t<div class=\\'list_aut\\'><a href=\\'http://www.textologia.ru/slovari/lingvisticheskie-terminy/etimologicheskie-rodstvenniki/?q=486&n=2137\\'>Этимологические родственники</a></div>\\r\\n\\t<div class=\\'list_aut\\'><a href=\\'http://www.textologia.ru/slovari/lingvisticheskie-terminy/etimologicheskiy-analiz/?q=486&n=2098\\'>Этимологический анализ</a></div>\\r\\n\\t<div class=\\'list_aut\\'><a href=\\'http://www.textologia.ru/slovari/lingvisticheskie-terminy/etimologicheskiy-koren/?q=486&n=2099\\'>Этимологический корень</a></div>\\r\\n\\t<div class=\\'list_aut\\'><a href=\\'http://www.textologia.ru/slovari/lingvisticheskie-terminy/etimologicheskiy-slovar/?q=486&n=2100\\'>Этимологический словарь</a></div>\\r\\n\\t<div class=\\'list_aut\\'><a href=\\'http://www.textologia.ru/slovari/lingvisticheskie-terminy/etimologiya/?q=486&n=2101\\'>Этимология</a></div>\\r\\n\\t<div class=\\'list_aut\\'><a href=\\'http://www.textologia.ru/slovari/lingvisticheskie-terminy/etimon/?q=486&n=2102\\'>Этимон</a></div>\\r\\n\\t<div class=\\'list_aut\\'><a href=\\'http://www.textologia.ru/slovari/lingvisticheskie-terminy/etnonimi/?q=486&n=2103\\'>Этнонимы</a></div>\\r\\n\\t<div class=\\'list_aut\\'><a href=\\'http://www.textologia.ru/slovari/lingvisticheskie-terminy/etnohoronimi/?q=486&n=2339\\'>Этнохоронимы</a></div>\\r\\n\\t<div style=\"margin: 7px 0 5px 0;\"><b>Ю</b></div><div class=\\'list_aut\\'><a href=\\'http://www.textologia.ru/slovari/lingvisticheskie-terminy/yuzhnoslavyanskie-yaziki/?q=486&n=2159\\'>Южнославянские языки</a></div>\\r\\n\\t<div class=\\'list_aut\\'><a href=\\'http://www.textologia.ru/slovari/lingvisticheskie-terminy/yus/?q=486&n=2104\\'>Юс</a></div>\\r\\n\\t<div style=\"margin: 7px 0 5px 0;\"><b>Я</b></div><div class=\\'list_aut\\'><a href=\\'http://www.textologia.ru/slovari/lingvisticheskie-terminy/yavanskiy-yazik/?q=486&n=2301\\'>Яванский язык</a></div>\\r\\n\\t<div class=\\'list_aut\\'><a href=\\'http://www.textologia.ru/slovari/lingvisticheskie-terminy/yadernie-strukturi/?q=486&n=2105\\'>Ядерные структуры</a></div>\\r\\n\\t<div class=\\'list_aut\\'><a href=\\'http://www.textologia.ru/slovari/lingvisticheskie-terminy/yadro-viskazivaniya/?q=486&n=2106\\'>Ядро высказывания</a></div>\\r\\n\\t<div class=\\'list_aut\\'><a href=\\'http://www.textologia.ru/slovari/lingvisticheskie-terminy/yazik/?q=486&n=2107\\'>Язык</a></div>\\r\\n\\t<div class=\\'list_aut\\'><a href=\\'http://www.textologia.ru/slovari/lingvisticheskie-terminy/yazik-zhestov/?q=486&n=2108\\'>Язык жестов</a></div>\\r\\n\\t<div class=\\'list_aut\\'><a href=\\'http://www.textologia.ru/slovari/lingvisticheskie-terminy/yazik-mezhnacionalnogo-obscheniya/?q=486&n=2109\\'>Язык межнационального общения</a></div>\\r\\n\\t<div class=\\'list_aut\\'><a href=\\'http://www.textologia.ru/slovari/lingvisticheskie-terminy/yazik-istochnik/?q=486&n=2119\\'>Язык-источник</a></div>\\r\\n\\t<div class=\\'list_aut\\'><a href=\\'http://www.textologia.ru/slovari/lingvisticheskie-terminy/yazik-osnova/?q=486&n=2123\\'>Язык-основа</a></div>\\r\\n\\t<div class=\\'list_aut\\'><a href=\\'http://www.textologia.ru/slovari/lingvisticheskie-terminy/yazik-posrednik/?q=486&n=2124\\'>Язык-посредник</a></div>\\r\\n\\t<div class=\\'list_aut\\'><a href=\\'http://www.textologia.ru/slovari/lingvisticheskie-terminy/yaziki-agglyutiniruyuschie/?q=486&n=2110\\'>Языки агглютинирующие</a></div>\\r\\n\\t<div class=\\'list_aut\\'><a href=\\'http://www.textologia.ru/slovari/lingvisticheskie-terminy/yaziki-amorfnie/?q=486&n=2111\\'>Языки аморфные</a></div>\\r\\n\\t<div class=\\'list_aut\\'><a href=\\'http://www.textologia.ru/slovari/lingvisticheskie-terminy/yaziki-analiticheskie/?q=486&n=2112\\'>Языки аналитические</a></div>\\r\\n\\t<div class=\\'list_aut\\'><a href=\\'http://www.textologia.ru/slovari/lingvisticheskie-terminy/yaziki-bantu/?q=486&n=2113\\'>Языки банту</a></div>\\r\\n\\t<div class=\\'list_aut\\'><a href=\\'http://www.textologia.ru/slovari/lingvisticheskie-terminy/yaziki-besformennie/?q=486&n=2114\\'>Языки бесформенные</a></div>\\r\\n\\t<div class=\\'list_aut\\'><a href=\\'http://www.textologia.ru/slovari/lingvisticheskie-terminy/yaziki-inkorporiruyuschie/?q=486&n=2115\\'>Языки инкорпорирующие</a></div>\\r\\n\\t<div class=\\'list_aut\\'><a href=\\'http://www.textologia.ru/slovari/lingvisticheskie-terminy/yaziki-korneizoliruyuschie/?q=486&n=2116\\'>Языки корнеизолирующие</a></div>\\r\\n\\t<div class=\\'list_aut\\'><a href=\\'http://www.textologia.ru/slovari/lingvisticheskie-terminy/yaziki-polisinteticheskie/?q=486&n=2117\\'>Языки полисинтетические</a></div>\\r\\n\\t<div class=\\'list_aut\\'><a href=\\'http://www.textologia.ru/slovari/lingvisticheskie-terminy/yaziki-sinteticheskie/?q=486&n=2118\\'>Языки синтетические</a></div>\\r\\n\\t<div class=\\'list_aut\\'><a href=\\'http://www.textologia.ru/slovari/lingvisticheskie-terminy/yazikovaya-edinica/?q=486&n=2120\\'>Языковая единица</a></div>\\r\\n\\t<div class=\\'list_aut\\'><a href=\\'http://www.textologia.ru/slovari/lingvisticheskie-terminy/yazikovaya-konstruktsia/?q=486&n=2139\\'>Языковая конструкция</a></div>\\r\\n\\t<div class=\\'list_aut\\'><a href=\\'http://www.textologia.ru/slovari/lingvisticheskie-terminy/yazikovedenie/?q=486&n=2121\\'>Языковедение</a></div>\\r\\n\\t<div class=\\'list_aut\\'><a href=\\'http://www.textologia.ru/slovari/lingvisticheskie-terminy/yazikoznanie/?q=486&n=2122\\'>Языкознание</a></div>\\r\\n\\t<div class=\\'list_aut\\'><a href=\\'http://www.textologia.ru/slovari/lingvisticheskie-terminy/yazichnie-soglasnie/?q=486&n=2125\\'>Язычные согласные</a></div>\\r\\n\\t<div class=\\'list_aut\\'><a href=\\'http://www.textologia.ru/slovari/lingvisticheskie-terminy/yakane/?q=486&n=2126\\'>Яканье</a></div>\\r\\n\\t<div class=\\'list_aut\\'><a href=\\'http://www.textologia.ru/slovari/lingvisticheskie-terminy/yarus/?q=486&n=2127\\'>Ярус</a></div>\\r\\n\\t   </td>\\r\\n </tr>\\r\\n</table></div>\\n    <div style=\"margin: 22px -5px 0 -8px; background-color: #FCFFEA;\">\\n<div id=\"yandex_rtb_R-A-192501-7\"></div>\\n<script type=\"text/javascript\">\\n    (function(w, d, n, s, t) {\\n        w[n] = w[n] || [];\\n        w[n].push(function() {\\n            Ya.Context.AdvManager.render({\\n                blockId: \"R-A-192501-7\",\\n                renderTo: \"yandex_rtb_R-A-192501-7\",\\n                horizontalAlign: false,\\n                async: true\\n            });\\n        });\\n        t = d.getElementsByTagName(\"script\")[0];\\n        s = d.createElement(\"script\");\\n        s.type = \"text/javascript\";\\n        s.src = \"//an.yandex.ru/system/context.js\";\\n        s.async = true;\\n        t.parentNode.insertBefore(s, t);\\n    })(this, this.document, \"yandexContextAsyncCallbacks\");\\n</script>\\n    </div><noindex><div class=\"hpmd-content-native\" style=\"width:100%\"></div></noindex><div style=\"color:#3D4722; font-weight:bold; font-size:115%; margin:20px 0px 11px 0;\">События и новости культуры и образования:</div><table width=\"100%\" border=\"0\" cellspacing=\"0\" cellpadding=\"0\">\\r\\n        <tr>\\r\\n         <td width=\"100\" align=\"center\" valign=\"top\" class=\"tab_foto\"><a href=\"http://event.textologia.ru/one-federalnie-vuzi-uderzhivayut-spros-dazhe-pri-uslovii-platnogo-obucheniya/?q=933&n=1013\" title=\"Федеральные вузы удерживают спрос даже при условии платного обучения\"><img src=\"/img/evnt_1013_pr.jpg\" height=\"99\" width=\"99\" style=\"border: 1px solid #CFCFCF;\" alt=\"Федеральные вузы удерживают спрос даже при условии платного обучения\"></a></td>\\r\\n         <td><img src=\"/templates/img/x.gif\" width=\"10\" height=\"1\"></td>\\r\\n         <td valign=\"top\">\\r\\n\\t\\t <div style=\"font-size:11px;\" class=\"tab_cen_data\">02.10.2019</div>\\r\\n\\t\\t \\r\\n\\t\\t <div class=\"tab_cen_z\"><a href=\"http://event.textologia.ru/one-federalnie-vuzi-uderzhivayut-spros-dazhe-pri-uslovii-platnogo-obucheniya/?q=933&n=1013\">Федеральные вузы удерживают спрос даже при условии платного обучения</a></div>\\r\\n\\t\\t <div class=\"tab_m\" style=\"padding-top:5px; font-size: 11px;\"><img src=\"/templates/img/cloud_sml.gif\" alt=\"\" height=\"10\" width=\"23\"><img src=\"/templates/img/x.gif\" alt=\"\" height=\"1\" width=\"3\"><a href=\"http://event.textologia.ru/mark-novosti-obrazovaniya/?q=934&tp=126\">Новости образования</a>, <a href=\"http://event.textologia.ru/\">Все события</a></div>\\t\\t \\r\\n\\t\\t <div class=\"tab_txt\">Ректоры ведущих университетов России рассказали об окончании работы приемной комиссии ... </div>\\r\\n\\t\\t <div align=\"right\" class=\"tab_cen_dal\"><a href=\"http://event.textologia.ru/one-federalnie-vuzi-uderzhivayut-spros-dazhe-pri-uslovii-platnogo-obucheniya/?q=933&n=1013\">подробнее</a></div>\\r\\n\\t\\t </td>\\r\\n        </tr>\\r\\n       </table><table width=\"100%\" border=\"0\" cellspacing=\"0\" cellpadding=\"0\">\\r\\n        <tr>\\r\\n         <td width=\"100\" align=\"center\" valign=\"top\" class=\"tab_foto\"><a href=\"http://event.textologia.ru/one-bolshinstvo-rossiyan-uvereno-chto-vazhno-vladet-inostrannimi-yazikami/?q=933&n=1012\" title=\"Большинство россиян уверено, что важно владеть иностранными языками\"><img src=\"/img/evnt_1012_pr.jpg\" height=\"99\" width=\"99\" style=\"border: 1px solid #CFCFCF;\" alt=\"Большинство россиян уверено, что важно владеть иностранными языками\"></a></td>\\r\\n         <td><img src=\"/templates/img/x.gif\" width=\"10\" height=\"1\"></td>\\r\\n         <td valign=\"top\">\\r\\n\\t\\t <div style=\"font-size:11px;\" class=\"tab_cen_data\">01.10.2019</div>\\r\\n\\t\\t \\r\\n\\t\\t <div class=\"tab_cen_z\"><a href=\"http://event.textologia.ru/one-bolshinstvo-rossiyan-uvereno-chto-vazhno-vladet-inostrannimi-yazikami/?q=933&n=1012\">Большинство россиян уверено, что важно владеть иностранными языками</a></div>\\r\\n\\t\\t <div class=\"tab_m\" style=\"padding-top:5px; font-size: 11px;\"><img src=\"/templates/img/cloud_sml.gif\" alt=\"\" height=\"10\" width=\"23\"><img src=\"/templates/img/x.gif\" alt=\"\" height=\"1\" width=\"3\"><a href=\"http://event.textologia.ru/mark-novosti-obrazovaniya/?q=934&tp=126\">Новости образования</a>, <a href=\"http://event.textologia.ru/\">Все события</a></div>\\t\\t \\r\\n\\t\\t <div class=\"tab_txt\">Социологи провели опрос общественного мнения россиян на предмет владения иностранными ... </div>\\r\\n\\t\\t <div align=\"right\" class=\"tab_cen_dal\"><a href=\"http://event.textologia.ru/one-bolshinstvo-rossiyan-uvereno-chto-vazhno-vladet-inostrannimi-yazikami/?q=933&n=1012\">подробнее</a></div>\\r\\n\\t\\t </td>\\r\\n        </tr>\\r\\n       </table><noindex>\\r\\n<div style=\"color:#3D4722; font-weight:bold; font-size:115%; margin:8px 0px 11px 0;\">Сообщить об ошибке на сайте:</div><div style=\"float:left;\"><a href=\"http://www.textologia.ru/guestbook/?q=395&arror=1\" rel=\"nofollow\" title=\"Сообщить об ошибке на сайте\"><img src=\"/templates/img/textol-error-site.jpg\" height=\"100\" width=\"100\" style=\"margin: 3px 10px 2px 0\" alt=\"Сообщить об ошибке на сайте\"></a></div>\\r\\n\\t\\t<div style=\"margin: 0 0 5px 0;\" class=\"tab_cen_z\"><a href=\"http://www.textologia.ru/guestbook/?q=395&arror=1\" rel=\"nofollow\">Сообщите нам, если Вы обнаружили ошибку или опечатку</a></div>\\r\\n\\t\\t<div style=\"margin: 0 0 5px 0; line-height:19px;\">Пожалуйста, если Вы нашли ошибку или опечатку на сайте, сообщите нам, и мы ее исправим. Давайте вместе сделаем сайт лучше и качественнее!</div>\\r\\n\\t\\t<div align=\"right\" class=\"tab_cen_dal\"><a href=\"http://www.textologia.ru/guestbook/?q=395&arror=1\" rel=\"nofollow\">сообщить об ошибке</a></div>\\r\\n     </noindex>\\r\\n\\r\\n\\n    <div style=\"margin: 16px -5px 0 -8px; background-color: #FCFFEA;\">\\n<div id=\"yandex_rtb_R-A-192501-8\"></div>\\n<script type=\"text/javascript\">\\n    (function(w, d, n, s, t) {\\n        w[n] = w[n] || [];\\n        w[n].push(function() {\\n            Ya.Context.AdvManager.render({\\n                blockId: \"R-A-192501-8\",\\n                renderTo: \"yandex_rtb_R-A-192501-8\",\\n                horizontalAlign: false,\\n                async: true\\n            });\\n        });\\n        t = d.getElementsByTagName(\"script\")[0];\\n        s = d.createElement(\"script\");\\n        s.type = \"text/javascript\";\\n        s.src = \"//an.yandex.ru/system/context.js\";\\n        s.async = true;\\n        t.parentNode.insertBefore(s, t);\\n    })(this, this.document, \"yandexContextAsyncCallbacks\");\\n</script>\\n    </div>\\n<div align=\"center\" style=\"margin: 10px 0 0 0;\">&nbsp;</div>\\n\\n<div style=\"margin: 0 0 0 -4px;\" align=\"center\">\\r\\n<div class=\"ya-share2\"\\r\\n data-services=\"vkontakte,facebook,collections,odnoklassniki,moimir,gplus,twitter,viber,whatsapp,skype\" \\r\\n data-counter=\"\"\\r\\n></div>\\r\\n</div>\\r\\n\\r\\n      </div>\\r\\n\\t </div>\\r\\n\\t</td>\\r\\n    <td valign=\"top\" width=\"258\" class=\"cen_fon\">\\r\\n    <noindex><div align=\"center\" style=\"padding:18px 0 20px 0;\"><div id=\"yandex_rtb_R-A-192501-13\"></div>\\r\\n\\t\\t\\t\\t<script type=\"text/javascript\">\\r\\n\\t\\t\\t\\t    (function(w, d, n, s, t) {\\r\\n\\t\\t\\t\\t        w[n] = w[n] || [];\\r\\n\\t\\t\\t\\t        w[n].push(function() {\\r\\n\\t\\t\\t\\t            Ya.Context.AdvManager.render({\\r\\n\\t\\t\\t\\t                blockId: \"R-A-192501-13\",\\r\\n\\t\\t\\t\\t                renderTo: \"yandex_rtb_R-A-192501-13\",\\r\\n\\t\\t\\t\\t                horizontalAlign: true,\\r\\n\\t\\t\\t\\t                async: true\\r\\n\\t\\t\\t\\t            });\\r\\n\\t\\t\\t\\t        });\\r\\n\\t\\t\\t\\t        t = d.getElementsByTagName(\"script\")[0];\\r\\n\\t\\t\\t\\t        s = d.createElement(\"script\");\\r\\n\\t\\t\\t\\t        s.type = \"text/javascript\";\\r\\n\\t\\t\\t\\t        s.src = \"//an.yandex.ru/system/context.js\";\\r\\n\\t\\t\\t\\t        s.async = true;\\r\\n\\t\\t\\t\\t        t.parentNode.insertBefore(s, t);\\r\\n\\t\\t\\t\\t    })(this, this.document, \"yandexContextAsyncCallbacks\");\\r\\n\\t\\t\\t\\t</script></div>\\r\\n\\t</noindex>\\n\\n<div align=\"center\">\\n<div style=\"background-color:#ffffff; padding:20px 0 20px 0;\"><div class=\"menu_3\" style=\"margin:0 20px 0 7px;\">Кнопки социальных сетей</div>\\r\\n\\r\\n<div align=\"center\" style=\"margin:0 0 10px 0;\">\\r\\n\\r\\n<div class=\"ya-share2\"\\r\\n data-services=\"vkontakte,facebook,collections\" \\r\\n data-counter=\"\"\\r\\n></div>\\r\\n\\r\\n<div style=\"margin:6px 0 0 0;\" class=\"ya-share2\"\\r\\n data-services=\"odnoklassniki,moimir,gplus\" \\r\\n data-counter=\"\"\\r\\n></div>\\r\\n\\r\\n<div style=\"margin:6px 0 0 0;\" class=\"ya-share2\"\\r\\n data-services=\"twitter,viber,whatsapp,skype,telegram\" \\r\\n data-counter=\"\"\\r\\n></div>\\r\\n\\r\\n<div style=\"margin:6px 0 0 0;\" class=\"ya-share2\"\\r\\n data-services=\"lj,tumblr\" \\r\\n data-counter=\"\"\\r\\n></div>\\r\\n\\r\\n</div></div></div>\\n\\n<noindex><div align=\"center\" style=\"padding: 20px 0 20px 0; margin: 0 0 0 0;\"><div style=\"width: 160px;\"><div id=\"yandex_rtb_R-A-192501-1\"></div></div>\\r\\n\\t\\t\\t\\t<script type=\"text/javascript\">\\r\\n\\t\\t\\t\\t    (function(w, d, n, s, t) {\\r\\n\\t\\t\\t\\t        w[n] = w[n] || [];\\r\\n\\t\\t\\t\\t        w[n].push(function() {\\r\\n\\t\\t\\t\\t            Ya.Context.AdvManager.render({\\r\\n\\t\\t\\t\\t                blockId: \"R-A-192501-1\",\\r\\n\\t\\t\\t\\t                renderTo: \"yandex_rtb_R-A-192501-1\",\\r\\n\\t                \\t\\t\\thorizontalAlign: true,\\r\\n\\t\\t\\t\\t                async: true\\r\\n\\t\\t\\t\\t            });\\r\\n\\t\\t\\t\\t        });\\r\\n\\t\\t\\t\\t        t = d.getElementsByTagName(\"script\")[0];\\r\\n\\t\\t\\t\\t        s = d.createElement(\"script\");\\r\\n\\t\\t\\t\\t        s.type = \"text/javascript\";\\r\\n\\t\\t\\t\\t        s.src = \"//an.yandex.ru/system/context.js\";\\r\\n\\t\\t\\t\\t        s.async = true;\\r\\n\\t\\t\\t\\t        t.parentNode.insertBefore(s, t);\\r\\n\\t\\t\\t\\t    })(this, this.document, \"yandexContextAsyncCallbacks\");\\r\\n\\t\\t\\t\\t</script></div></noindex>\\n\\n\\n<div align=\"left\" style=\"background-color:#ffffff; padding:20px 0 6px 0;\"><div class=\"menu_3\" style=\"margin:0 20px 0 7px;\">Последние публикации на сайте</div>\\t<div style=\"float:left;\"><a href=\"http://www.textologia.ru/angliyskiy/alfavit-istoria/istoria-bukv/bukva-z/7012/?q=1070&n=7012\" title=\"Буква Z\"><img src=\"/templates/img/text-staty-12.jpg\" height=\"50\" width=\"50\" style=\"margin: 3px 8px 2px 20px\" alt=\"Буква Z\"></a></div>\\t\\n\\t\\t\\t\\t    <div style=\"font-size: 11px; margin:0 20px 0 20px;\"><a href=\"http://www.textologia.ru/angliyskiy/alfavit-istoria/istoria-bukv/bukva-z/7012/?q=1070&n=7012\">Буква Z</a></div>\\n\\t\\t\\t\\t\\t<div style=\"font-size: 11px; margin: 5px 20px 0 20px; color:#336130;\">&laquo;Z, z&raquo; (&laquo;зэд&raquo;) является последней (двадцать шестой) буквой английского алфавита, она с... </div>\\n\\t\\t\\t\\t\\t<div style=\"margin:0 0 16px 0;\"><img src=\"/templates/img/x.gif\" width=\"1\" height=\"1\"></div>\\t<div style=\"float:left;\"><a href=\"http://www.textologia.ru/angliyskiy/alfavit-istoria/istoria-bukv/bukva-y/7011/?q=1070&n=7011\" title=\"Буква Y\"><img src=\"/templates/img/text-staty-11.jpg\" height=\"50\" width=\"50\" style=\"margin: 3px 8px 2px 20px\" alt=\"Буква Y\"></a></div>\\t\\n\\t\\t\\t\\t    <div style=\"font-size: 11px; margin:0 20px 0 20px;\"><a href=\"http://www.textologia.ru/angliyskiy/alfavit-istoria/istoria-bukv/bukva-y/7011/?q=1070&n=7011\">Буква Y</a></div>\\n\\t\\t\\t\\t\\t<div style=\"font-size: 11px; margin: 5px 20px 0 20px; color:#336130;\">Буква &laquo;Y, y&raquo; (&laquo;уай&raquo;) находится на предпоследней позиции английского алфавита, она двад... </div>\\n\\t\\t\\t\\t\\t<div style=\"margin:0 0 16px 0;\"><img src=\"/templates/img/x.gif\" width=\"1\" height=\"1\"></div>\\t<div style=\"float:left;\"><a href=\"http://www.textologia.ru/angliyskiy/alfavit-istoria/istoria-bukv/bukva-x/7010/?q=1070&n=7010\" title=\"Буква X\"><img src=\"/templates/img/text-staty-10.jpg\" height=\"50\" width=\"50\" style=\"margin: 3px 8px 2px 20px\" alt=\"Буква X\"></a></div>\\t\\n\\t\\t\\t\\t    <div style=\"font-size: 11px; margin:0 20px 0 20px;\"><a href=\"http://www.textologia.ru/angliyskiy/alfavit-istoria/istoria-bukv/bukva-x/7010/?q=1070&n=7010\">Буква X</a></div>\\n\\t\\t\\t\\t\\t<div style=\"font-size: 11px; margin: 5px 20px 0 20px; color:#336130;\">&laquo;X, x&raquo; (&laquo;экс&raquo;) &ndash; двадцать четвёртая буква в алфавите английского языка. Она отно... </div>\\n\\t\\t\\t\\t\\t<div style=\"margin:0 0 16px 0;\"><img src=\"/templates/img/x.gif\" width=\"1\" height=\"1\"></div></div>\\n\\n<div align=\"center\" style=\"padding: 20px 0 20px 0; margin: 0 0 0 0;\"><div id=\"yandex_rtb_R-A-192501-15\"></div>\\r\\n\\t\\t\\t\\t<script type=\"text/javascript\">\\r\\n\\t\\t\\t\\t    (function(w, d, n, s, t) {\\r\\n\\t\\t\\t\\t        w[n] = w[n] || [];\\r\\n\\t\\t\\t\\t        w[n].push(function() {\\r\\n\\t\\t\\t\\t            Ya.Context.AdvManager.render({\\r\\n\\t\\t\\t\\t                blockId: \"R-A-192501-15\",\\r\\n\\t\\t\\t\\t                renderTo: \"yandex_rtb_R-A-192501-15\",\\r\\n\\t\\t\\t\\t                horizontalAlign: true,\\r\\n\\t\\t\\t\\t                async: true\\r\\n\\t\\t\\t\\t            });\\r\\n\\t\\t\\t\\t        });\\r\\n\\t\\t\\t\\t        t = d.getElementsByTagName(\"script\")[0];\\r\\n\\t\\t\\t\\t        s = d.createElement(\"script\");\\r\\n\\t\\t\\t\\t        s.type = \"text/javascript\";\\r\\n\\t\\t\\t\\t        s.src = \"//an.yandex.ru/system/context.js\";\\r\\n\\t\\t\\t\\t        s.async = true;\\r\\n\\t\\t\\t\\t        t.parentNode.insertBefore(s, t);\\r\\n\\t\\t\\t\\t    })(this, this.document, \"yandexContextAsyncCallbacks\");\\r\\n\\t\\t\\t\\t</script></div>\\n\\n\\r\\n\\n\\r\\n\\n<div align=\"left\" style=\"background-color:#ffffff; padding:20px 0 6px 0;\"><div class=\"menu_3\" style=\"margin:0 20px 0 7px;\">Случайные статьи на сайте</div>\\t<div style=\"float:left;\"><a href=\"http://www.textologia.ru/russkiy/leksikologia/frazeologia/ispolzovanie-frazeologii/1229/?q=463&n=1229\" title=\"Использование фразеологии\"><img src=\"/templates/img/text-staty-29.jpg\" height=\"50\" width=\"50\" style=\"margin: 3px 8px 2px 20px\" alt=\"Использование фразеологии\"></a></div>\\t\\n\\t\\t\\t\\t    <div style=\"font-size: 11px; margin:0 20px 0 20px;\"><a href=\"http://www.textologia.ru/russkiy/leksikologia/frazeologia/ispolzovanie-frazeologii/1229/?q=463&n=1229\">Использование фразеологии</a></div>\\n\\t\\t\\t\\t\\t<div style=\"font-size: 11px; margin: 5px 20px 0 20px; color:#336130;\">Фразеология &ndash; неисчерпаемый источник выразительных средств. Выразительность множества фразеологизмов объ... </div>\\n\\t\\t\\t\\t\\t<div style=\"margin:0 0 16px 0;\"><img src=\"/templates/img/x.gif\" width=\"1\" height=\"1\"></div>\\t<div style=\"float:left;\"><a href=\"http://www.textologia.ru/russkiy/onomastika/metodi-issledovaniy/statisticheskiy-metod/1143/?q=463&n=1143\" title=\"Статистический метод\"><img src=\"/templates/img/text-staty-43.jpg\" height=\"50\" width=\"50\" style=\"margin: 3px 8px 2px 20px\" alt=\"Статистический метод\"></a></div>\\t\\n\\t\\t\\t\\t    <div style=\"font-size: 11px; margin:0 20px 0 20px;\"><a href=\"http://www.textologia.ru/russkiy/onomastika/metodi-issledovaniy/statisticheskiy-metod/1143/?q=463&n=1143\">Статистический метод</a></div>\\n\\t\\t\\t\\t\\t<div style=\"font-size: 11px; margin: 5px 20px 0 20px; color:#336130;\">Использование статистического метода основано на том, что у объекта изучения, помимо его качественной стороны,... </div>\\n\\t\\t\\t\\t\\t<div style=\"margin:0 0 16px 0;\"><img src=\"/templates/img/x.gif\" width=\"1\" height=\"1\"></div></div>\\n\\n\\r\\n\\n\\r\\n<div align=\"center\" style=\"padding: 20px 0 20px 0; margin: 0 0 0 0;\"></div>\\n    </td>\\r\\n  </tr>\\r\\n </table>\\r\\n</div>\\r\\n<div align=\"center\" id=\"menu_bot\">\\r\\n <div style=\"width: 1000px;\" class=\"menu_b\"><a href=\"http://www.textologia.ru/\" title=\"Текстология.ру\">Текстология.ру</a><img src=\"/templates/img/x.gif\" alt=\"\" height=\"1\" width=\"10\">|<img src=\"/templates/img/x.gif\" alt=\"\" height=\"1\" width=\"10\">\\r\\n <a href=\"http://www.textologia.ru/russkiy/?q=394\" title=\"Русский язык\">Русский язык</a><img src=\"/templates/img/x.gif\" alt=\"\" height=\"1\" width=\"10\">|<img src=\"/templates/img/x.gif\" alt=\"\" height=\"1\" width=\"10\">\\r\\n <a href=\"http://www.textologia.ru/yazikoznanie/?q=628\" title=\"Языкознание\">Языкознание</a><img src=\"/templates/img/x.gif\" alt=\"\" height=\"1\" width=\"10\">|<img src=\"/templates/img/x.gif\" alt=\"\" height=\"1\" width=\"10\">\\r\\n <a href=\"http://www.textologia.ru/literature/?q=397\" title=\"Литература\">Литература</a><img src=\"/templates/img/x.gif\" alt=\"\" height=\"1\" width=\"10\">|<img src=\"/templates/img/x.gif\" alt=\"\" height=\"1\" width=\"10\">\\r\\n <a href=\"http://forum.textologia.ru/\" title=\"Форум\">Форум</a><img src=\"/templates/img/x.gif\" alt=\"\" height=\"1\" width=\"10\">|<img src=\"/templates/img/x.gif\" alt=\"\" height=\"1\" width=\"10\">\\r\\n <a href=\"http://www.textologia.ru/slovari/?q=408\" title=\"Словари\">Словари</a><img src=\"/templates/img/x.gif\" alt=\"\" height=\"1\" width=\"10\">|<img src=\"/templates/img/x.gif\" alt=\"\" height=\"1\" width=\"10\">\\r\\n <a href=\"http://www.textologia.ru/guestbook/?q=395\" title=\"Сообщить об ошибке\">Сообщить об ошибке</a><img src=\"/templates/img/x.gif\" alt=\"\" height=\"1\" width=\"10\">|<img src=\"/templates/img/x.gif\" alt=\"\" height=\"1\" width=\"10\">\\r\\n <a href=\"http://www.textologia.ru/reklama/?q=396\" title=\"Реклама на сайте\">Реклама на сайте</a><img src=\"/templates/img/x.gif\" alt=\"\" height=\"1\" width=\"10\">|<img src=\"/templates/img/x.gif\" alt=\"\" height=\"1\" width=\"10\"> \\r\\n <a href=\"http://www.textologia.ru/qwery/?q=378\" title=\"Обратная связь\">Обратная связь</a><img src=\"/templates/img/x.gif\" alt=\"\" height=\"1\" width=\"10\">|<img src=\"/templates/img/x.gif\" alt=\"\" height=\"1\" width=\"10\">\\r\\n <a href=\"http://www.textologia.ru/sitemap/?q=10\" title=\"Карта сайта\">Карта сайта</a> \\r\\n </div>\\r\\n</div><div align=\"center\" id=\"bot\">\\r\\n <table width=\"1000px\" border=\"0\" cellspacing=\"0\" cellpadding=\"0\">\\r\\n  <tr>\\r\\n    <td align=\"left\" valign=\"top\" width=\"639\" class=\"bot_left\">\\r\\n\\t <div class=\"bot_l_txt\">2011 - 2019 ©   Интернет-журнал Textologia.ru — <a href=\"http://www.textologia.ru/\" title=\"Сайт об образовании и обучении\">образовательный портал Текстология</a>. Помощь в получении образования и обучении различным дисциплинам.</div>\\r\\n\\t <div class=\"bot_l_txt2\">Администрация не несет ответственности за достоверность информации, опубликованной в рекламных материалах на сайте. Копирование, перепечатка и другое использование материалов сайта возможны только с письменного разрешения администрации.</div>\\r\\n\\t</td>\\r\\n    <td width=\"1\"><img src=\"/templates/img/x.gif\" alt=\"\" height=\"1\" width=\"1\"></td>\\r\\n    <td align=\"left\" valign=\"top\" width=\"360\" class=\"bot_right\">\\r\\n\\t <div align=\"right\" class=\"bot_r_txt\">\\r\\n\\t <noindex>\\r\\n<script language=\"javascript\"><!--\\r\\nd=document;var a=\\'\\';a+=\\';r=\\'+escape(d.referrer);js=10;//--></script>\\r\\n<script language=\"javascript1.1\"><!--\\r\\na+=\\';j=\\'+navigator.javaEnabled();js=11;//--></script>\\r\\n<script language=\"javascript1.2\"><!--\\r\\ns=screen;a+=\\';s=\\'+s.width+\\'*\\'+s.height;\\r\\na+=\\';d=\\'+(s.colorDepth?s.colorDepth:s.pixelDepth);js=12;//--></script>\\r\\n<script language=\"javascript1.3\"><!--\\r\\njs=13;//--></script><script language=\"javascript\" type=\"text/javascript\"><!--\\r\\nd.write(\\'\\'+\\r\\n\\'<img src=\"http://d1.c1.b0.a2.top.mail.ru/counter?id=2101590;t=74;js=\\'+js+\\r\\na+\\';rand=\\'+Math.random()+\\'\" alt=\"Рейтинг@Mail.ru\" border=\"0\" \\'+\\r\\n\\'height=\"1\" width=\"1\">\\');if(11<js)d.write(\\'<\\'+\\'!-- \\');//--></script>\\r\\n<noscript>\\r\\n<img src=\"http://d1.c1.b0.a2.top.mail.ru/counter?js=na;id=2101590;t=74\" \\r\\nheight=\"1\" width=\"1\" border=\"0\" alt=\"Рейтинг@Mail.ru\"></noscript>\\r\\n<script language=\"javascript\" type=\"text/javascript\"><!--\\r\\nif(11<js)d.write(\\'--\\'+\\'>\\');//--></script>\\r\\n\\r\\n<script type=\"text/javascript\">document.write(\"<img src=\\'//counter.yadro.ru/hit;TextoLogia?t14.16;r\" + escape(document.referrer) + ((typeof(screen)==\"undefined\")?\"\":\";s\"+screen.width+\"*\"+screen.height+\"*\"+(screen.colorDepth?screen.colorDepth:screen.pixelDepth)) + \";u\" + escape(document.URL) + \";\" + Math.random() + \"\\' border=0 width=88 height=31 alt=\\'\\' title=\\'\\'>\")</script>\\r\\n\\t </noindex>\\r\\n\\t </div>\\r\\n\\t</td>\\r\\n  </tr>\\r\\n </table>\\r\\n</div>\\r\\n\\r\\n<script type=\"text/javascript\">\\r\\n$(function()\\r\\n{\\r\\n\\t$(\"#content_txtl\").addtocopy({htmlcopytxt: \\'<br> Источник: <a href=\"\\'+window.location.href+\\'\">\\'+window.location.href+\\'</a>\\'});\\r\\n});\\r\\n</script>\\r\\n\\r\\n<script type=\"text/javascript\">(function (d, w, c) { (w[c] = w[c] || []).push(function() { try { w.yaCounter23054827 = new Ya.Metrika({id:23054827, webvisor:true, clickmap:true, trackLinks:true, accurateTrackBounce:true}); } catch(e) { } }); var n = d.getElementsByTagName(\"script\")[0], s = d.createElement(\"script\"), f = function () { n.parentNode.insertBefore(s, n); }; s.type = \"text/javascript\"; s.async = true; s.src = (d.location.protocol == \"https:\" ? \"https:\" : \"http:\") + \"//mc.yandex.ru/metrika/watch.js\"; if (w.opera == \"[object Opera]\") { d.addEventListener(\"DOMContentLoaded\", f, false); } else { f(); } })(document, window, \"yandex_metrika_callbacks\");</script><noscript><div><img src=\"//mc.yandex.ru/watch/23054827\" style=\"position:absolute; left:-9999px;\" alt=\"\" /></div></noscript>\\r\\n\\r\\n<script src=\"//yastatic.net/es5-shims/0.0.2/es5-shims.min.js\"></script>\\r\\n<script src=\"//yastatic.net/share2/share.js\"></script>\\r\\n\\r\\n\\n<img src=\"http://counter.rambler.ru/top100.cnt?2559677\" alt=\"\" height=\"1\" width=\"1\" border=\"0\" /><noindex>\\n\\t<div class=\\'hpmd-footer-native\\' style=\\'width:100%\\'></div>\\n\\t<script>top.hpmd=top.hpmd||[];(function(l,a,d,b){if(d.querySelector(\\'script[src=\\\\\\'\\'+l+\\'\\\\\\']\\'))return;b=d.createElement(a);b.async=1;b.src=l;a=d.querySelector(a);a.parentNode.insertBefore(b,a)})(\\'//banner.hpmdnetwork.ru/client/380.min.js\\',\\'script\\',top.document);</script>\\n\\t</noindex></body>\\r\\n</html>'"
      ]
     },
     "execution_count": 5,
     "metadata": {},
     "output_type": "execute_result"
    }
   ],
   "source": [
    "user = 'Google Chrome/61.0 (Windows NT 6.1; Win64; x64)'\n",
    "page = page = urllib.request.Request('http://www.textologia.ru/slovari/lingvisticheskie-terminy/?q=484', headers={'User-Agent':user})\n",
    "with urllib.request.urlopen(page) as p:\n",
    "    html = p.read().decode('windows-1251')\n",
    "html"
   ]
  },
  {
   "cell_type": "code",
   "execution_count": 6,
   "metadata": {},
   "outputs": [
    {
     "data": {
      "text/plain": [
       "1807"
      ]
     },
     "execution_count": 6,
     "metadata": {},
     "output_type": "execute_result"
    }
   ],
   "source": [
    "reg_terms = re.compile(\"lingvisticheskie-terminy\\/[-a-z]+\\/\\?[q=n&0-9]+.'>([-А-Яа-яёЁ\\s]+)<\\/a><\\/div>\", re.DOTALL)\n",
    "up_terms = re.findall(reg_terms, html)\n",
    "len(up_terms)"
   ]
  },
  {
   "cell_type": "code",
   "execution_count": 27,
   "metadata": {},
   "outputs": [
    {
     "data": {
      "text/plain": [
       "['абазинский',\n",
       " 'язык',\n",
       " 'аббревиатура',\n",
       " 'аббревиация',\n",
       " 'абецедарий',\n",
       " 'абзац',\n",
       " 'аблатив',\n",
       " 'аблаут',\n",
       " 'абсолютный',\n",
       " 'время',\n",
       " 'синоним',\n",
       " 'абстрактный',\n",
       " 'лексика',\n",
       " 'существительное',\n",
       " 'абхазский',\n",
       " 'абхазско-адыгский',\n",
       " 'аваро-андо-цезский',\n",
       " 'аварский',\n",
       " 'авестийский',\n",
       " 'австралийский',\n",
       " 'австронезийский',\n",
       " 'авторский',\n",
       " 'речь',\n",
       " 'знак',\n",
       " 'препинание',\n",
       " 'слово',\n",
       " 'автосемантический',\n",
       " 'агавский',\n",
       " 'агванский',\n",
       " 'письмо',\n",
       " 'агглютинация',\n",
       " 'теория',\n",
       " 'агглютинация',\n",
       " 'агглютинирующий',\n",
       " 'агенс',\n",
       " 'агентйвный',\n",
       " 'значение',\n",
       " 'агульский',\n",
       " 'адамауа-восточный',\n",
       " 'адаптация',\n",
       " 'адаптация',\n",
       " 'адвербиализация',\n",
       " 'адстрат',\n",
       " 'адъективация',\n",
       " 'адъективировать',\n",
       " 'причастие',\n",
       " 'адъективный',\n",
       " 'словосочетание',\n",
       " 'адыгейский',\n",
       " 'азбука',\n",
       " 'азбуковники',\n",
       " 'азербайджанский',\n",
       " 'аймара',\n",
       " 'айнский',\n",
       " 'академия',\n",
       " 'российский',\n",
       " 'акан',\n",
       " 'аканье',\n",
       " 'аккадский',\n",
       " 'аккомодация',\n",
       " 'активный',\n",
       " 'орган',\n",
       " 'оборот',\n",
       " 'актуализация',\n",
       " 'актуальный',\n",
       " 'членение',\n",
       " 'предложение',\n",
       " 'акустический',\n",
       " 'акцент',\n",
       " 'акцентировать',\n",
       " 'акцентология',\n",
       " 'акцентуация',\n",
       " 'аллофон',\n",
       " 'алфавит',\n",
       " 'алфавитный',\n",
       " 'альвеолярный',\n",
       " 'согласный',\n",
       " 'альтернация',\n",
       " 'алюторский',\n",
       " 'аморфный',\n",
       " 'амфиболия',\n",
       " 'анаграмма',\n",
       " 'анаколуф',\n",
       " 'анализ',\n",
       " 'аналитический',\n",
       " 'форма',\n",
       " 'аналогия',\n",
       " 'анафорический',\n",
       " 'антонимия',\n",
       " 'антонимы',\n",
       " 'антропологический',\n",
       " 'лингвистика',\n",
       " 'антропоним',\n",
       " 'антропонимика',\n",
       " 'аорист',\n",
       " 'апеллятив',\n",
       " 'апикальный',\n",
       " 'аподозис',\n",
       " 'апокопа',\n",
       " 'апостроф',\n",
       " 'аппликация',\n",
       " 'аппозитивный',\n",
       " 'связь',\n",
       " 'отношение',\n",
       " 'аппозиция',\n",
       " 'арго',\n",
       " 'арготизмы',\n",
       " 'ареал',\n",
       " 'артикль',\n",
       " 'артикуляционный',\n",
       " 'база',\n",
       " 'артикуляция',\n",
       " 'архетип',\n",
       " 'асемантический',\n",
       " 'союз',\n",
       " 'асиндетон',\n",
       " 'аспираты',\n",
       " 'ассимиляция',\n",
       " 'атлас',\n",
       " 'диалектологический',\n",
       " 'атрибут',\n",
       " 'атрибутивный',\n",
       " 'атрибутивно-предикативный',\n",
       " 'глагол',\n",
       " 'атрибутивный',\n",
       " 'афористичность',\n",
       " 'аффикс',\n",
       " 'аффиксация',\n",
       " 'аффиксоид',\n",
       " 'аффриката',\n",
       " 'ахвахский',\n",
       " 'багирми',\n",
       " 'балтийский',\n",
       " 'балтославянский',\n",
       " 'бамана',\n",
       " 'беглый',\n",
       " 'гласный',\n",
       " 'безаффиксный',\n",
       " 'способ',\n",
       " 'словообразование',\n",
       " 'безличный',\n",
       " 'безлично-предикативный',\n",
       " 'безударный',\n",
       " 'бесповерочный',\n",
       " 'написание',\n",
       " 'бесподлежащпой',\n",
       " 'беспредложвой',\n",
       " 'управление',\n",
       " 'беспредложный',\n",
       " 'бессказуемный',\n",
       " 'бессказуемо-подлежащный',\n",
       " 'бессоюзие',\n",
       " 'бессоюзный',\n",
       " 'сложный',\n",
       " 'бессубъектный',\n",
       " 'бесформенный',\n",
       " 'бикольский',\n",
       " 'билабиальный',\n",
       " 'билингва',\n",
       " 'билингвизм',\n",
       " 'бинарный',\n",
       " 'благозвучие',\n",
       " 'блат',\n",
       " 'блатной',\n",
       " 'боков',\n",
       " 'большой',\n",
       " 'буква',\n",
       " 'брахуи',\n",
       " 'будущее',\n",
       " 'буква',\n",
       " 'букварь',\n",
       " 'буквенный',\n",
       " 'буквица',\n",
       " 'бурушаски',\n",
       " 'бытийный',\n",
       " 'номинативный',\n",
       " 'бытовой',\n",
       " 'валентность',\n",
       " 'вариант',\n",
       " 'корень',\n",
       " 'морфема',\n",
       " 'фонема',\n",
       " 'вариантный',\n",
       " 'флексия',\n",
       " 'фразеологический',\n",
       " 'единица',\n",
       " 'вариация',\n",
       " 'вводный',\n",
       " 'веляризация',\n",
       " 'веляризовать',\n",
       " 'велярный',\n",
       " 'вербализация',\n",
       " 'ветвь',\n",
       " 'языковой',\n",
       " 'вещественный',\n",
       " 'связка',\n",
       " 'взаимный',\n",
       " 'подчинение',\n",
       " 'залог',\n",
       " 'взрыв',\n",
       " 'взрывной',\n",
       " 'вибранты',\n",
       " 'вид',\n",
       " 'видовой',\n",
       " 'корреляция',\n",
       " 'пара',\n",
       " 'винительный',\n",
       " 'падеж',\n",
       " 'висячий',\n",
       " 'дефис',\n",
       " 'включение',\n",
       " 'внелитературный',\n",
       " 'внесение',\n",
       " 'внешний',\n",
       " 'внеязыковой',\n",
       " 'средство',\n",
       " 'общение',\n",
       " 'внутренний',\n",
       " 'закон',\n",
       " 'развитие',\n",
       " 'возвратный',\n",
       " 'частица',\n",
       " 'вокабула',\n",
       " 'вокализм',\n",
       " 'вокатив',\n",
       " 'вокативный',\n",
       " 'волоф',\n",
       " 'воляпюк',\n",
       " 'вопрос',\n",
       " 'вопросительный',\n",
       " 'восклицание',\n",
       " 'восклицательный',\n",
       " 'восточнославянский',\n",
       " 'временной',\n",
       " 'всесоюзный',\n",
       " 'комитет',\n",
       " 'новое',\n",
       " 'вспомогательный',\n",
       " 'вставка',\n",
       " 'звук',\n",
       " 'вставной',\n",
       " 'конструкция',\n",
       " 'два',\n",
       " 'сигнальный',\n",
       " 'система',\n",
       " 'полногласие',\n",
       " 'именительный',\n",
       " 'второстепенный',\n",
       " 'сказуемое',\n",
       " 'ударение',\n",
       " 'член',\n",
       " 'выдержка',\n",
       " 'выдыхательный',\n",
       " 'группа',\n",
       " 'выпадение',\n",
       " 'выразительный',\n",
       " 'высказывание',\n",
       " 'высота',\n",
       " 'тон',\n",
       " 'вьетмыонгский',\n",
       " 'галлицизм',\n",
       " 'гапакс',\n",
       " 'гаплология',\n",
       " 'генеалогический',\n",
       " 'классификация',\n",
       " 'генеративный',\n",
       " 'генитивный',\n",
       " 'германизм',\n",
       " 'германский',\n",
       " 'гидроним',\n",
       " 'гиперкоррекция',\n",
       " 'главный',\n",
       " 'главное',\n",
       " 'односоставной',\n",
       " 'глагол',\n",
       " 'глаголица',\n",
       " 'движение',\n",
       " 'глагольный',\n",
       " 'междометие',\n",
       " 'глагольность',\n",
       " 'глосса',\n",
       " 'глоссематика',\n",
       " 'глоттогонический',\n",
       " 'процесс',\n",
       " 'глоттогония',\n",
       " 'глухой',\n",
       " 'гнездо',\n",
       " 'говор',\n",
       " 'голос',\n",
       " 'голосовой',\n",
       " 'гонди',\n",
       " 'гортанный',\n",
       " 'гортань',\n",
       " 'готский',\n",
       " 'градационный',\n",
       " 'градация',\n",
       " 'грамматика',\n",
       " 'грамматикализация',\n",
       " 'грамматический',\n",
       " 'категория',\n",
       " 'стилистика',\n",
       " 'чередование',\n",
       " 'строить',\n",
       " 'подлежащее',\n",
       " 'согласование',\n",
       " 'граммема',\n",
       " 'грамота',\n",
       " 'графема',\n",
       " 'графика',\n",
       " 'грецизм',\n",
       " 'губно-губной',\n",
       " 'губно-зубной',\n",
       " 'губный',\n",
       " 'давнопрошедший',\n",
       " 'далматинский',\n",
       " 'дардский',\n",
       " 'дательный',\n",
       " 'адресат',\n",
       " 'датский',\n",
       " 'двоеточие',\n",
       " 'двойной',\n",
       " 'отрицание',\n",
       " 'двойственный',\n",
       " 'число',\n",
       " 'двувидовой',\n",
       " 'двусказуемое',\n",
       " 'двусоставной',\n",
       " 'двуязычие',\n",
       " 'деепричастие',\n",
       " 'деепричастный',\n",
       " 'дезаффиксация',\n",
       " 'дейксис',\n",
       " 'в',\n",
       " 'действительный',\n",
       " 'декорреляция',\n",
       " 'деловой',\n",
       " 'деминутив',\n",
       " 'денотат',\n",
       " 'дериват',\n",
       " 'деривационный',\n",
       " 'деривация',\n",
       " 'десемантизация',\n",
       " 'дескриптивный',\n",
       " 'детерминант',\n",
       " 'детерминатив',\n",
       " 'дефис',\n",
       " 'дешифровка',\n",
       " 'деэтимологизация',\n",
       " 'дзеканье',\n",
       " 'диакритический',\n",
       " 'диалект',\n",
       " 'профессиональный',\n",
       " 'русский',\n",
       " 'диалектология',\n",
       " 'диалогический',\n",
       " 'диахрония',\n",
       " 'диереза',\n",
       " 'динамический',\n",
       " 'дискурс',\n",
       " 'диссимиляция',\n",
       " 'дистантной',\n",
       " 'положение',\n",
       " 'дистрибутивный',\n",
       " 'метод',\n",
       " 'дифтонг',\n",
       " 'дифференциальный',\n",
       " 'признак',\n",
       " 'дифференцировать',\n",
       " 'длительность',\n",
       " 'длительный',\n",
       " 'долгий',\n",
       " 'долгота',\n",
       " 'долготный',\n",
       " 'доминанта',\n",
       " 'дополнение',\n",
       " 'дорсальный',\n",
       " 'достигательный',\n",
       " 'наклонение',\n",
       " 'дравидский',\n",
       " 'древнеегипетский',\n",
       " 'древнеперсидский',\n",
       " 'древнерусский',\n",
       " 'древнетюркский',\n",
       " 'дублеты',\n",
       " 'дунганский',\n",
       " 'дыхательный',\n",
       " 'единственный',\n",
       " 'еканье',\n",
       " 'ер',\n",
       " 'еры',\n",
       " 'ерь',\n",
       " 'естественный',\n",
       " 'жаргон',\n",
       " 'же',\n",
       " 'желательный',\n",
       " 'женский',\n",
       " 'род',\n",
       " 'зависимый',\n",
       " 'состав',\n",
       " 'задненёбный',\n",
       " 'открытый',\n",
       " 'слог',\n",
       " 'закрытый',\n",
       " 'структура',\n",
       " 'словесный',\n",
       " 'ряд',\n",
       " 'западнославянский',\n",
       " 'запятая',\n",
       " 'затвор',\n",
       " 'затворный',\n",
       " 'заударный',\n",
       " 'звонкий',\n",
       " 'звуковой',\n",
       " 'звукопись',\n",
       " 'звукоподражательный',\n",
       " 'зенетский',\n",
       " 'зияние',\n",
       " 'перенос',\n",
       " 'знаковый',\n",
       " 'знаменательный',\n",
       " 'часть',\n",
       " 'зубной',\n",
       " 'и',\n",
       " 'неслоговой',\n",
       " 'иберийско-кавказский',\n",
       " 'идеограмма',\n",
       " 'идеографический',\n",
       " 'идиома',\n",
       " 'идиоматика',\n",
       " 'идиоматкческий',\n",
       " 'выражение',\n",
       " 'идо',\n",
       " 'иероглифический',\n",
       " 'иероглифы',\n",
       " 'изменяемый',\n",
       " 'изобиловать',\n",
       " 'изоглосса',\n",
       " 'изолировать',\n",
       " 'изъявительный',\n",
       " 'изъяснительный',\n",
       " 'иканье',\n",
       " 'именной',\n",
       " 'прилагательное',\n",
       " 'составной',\n",
       " 'склонение',\n",
       " 'императив',\n",
       " 'императивный',\n",
       " 'имперфект',\n",
       " 'имперфективация',\n",
       " 'имплицитный',\n",
       " 'имя',\n",
       " 'числительное',\n",
       " 'инвариант',\n",
       " 'инверсия',\n",
       " 'ингрессивный',\n",
       " 'индикатив',\n",
       " 'индоевропейский',\n",
       " 'инкорпорация',\n",
       " 'иностранный',\n",
       " 'иноязычный',\n",
       " 'интенсивность',\n",
       " 'интервокальный',\n",
       " 'интердентальный',\n",
       " 'интерлингва',\n",
       " 'интернациональный',\n",
       " 'интерпозиция',\n",
       " 'интерференция',\n",
       " 'интерфикс',\n",
       " 'интерфиксация',\n",
       " 'интеръективация',\n",
       " 'интонационный',\n",
       " 'тире',\n",
       " 'интонация',\n",
       " 'интонирование',\n",
       " 'интранзитивный',\n",
       " 'инфикс',\n",
       " 'инфинитив',\n",
       " 'инфинитивный',\n",
       " 'информация',\n",
       " 'исключение',\n",
       " 'исконный',\n",
       " 'искусственный',\n",
       " 'историзмы',\n",
       " 'исторический',\n",
       " 'словарь',\n",
       " 'ительменский',\n",
       " 'йот',\n",
       " 'йота',\n",
       " 'йотация',\n",
       " 'кавказоведение',\n",
       " 'кавычки',\n",
       " 'кадайский',\n",
       " 'кайли-памон',\n",
       " 'какография',\n",
       " 'какофония',\n",
       " 'каллиграфия',\n",
       " 'калька',\n",
       " 'калькирование',\n",
       " 'караимский',\n",
       " 'карельский',\n",
       " 'карибский',\n",
       " 'катахреза',\n",
       " 'категориальный',\n",
       " 'состояние',\n",
       " 'субъективный',\n",
       " 'оценка',\n",
       " 'качественный',\n",
       " 'ква',\n",
       " 'квазиалфавитный',\n",
       " 'квантитативный',\n",
       " 'кельтология',\n",
       " 'кельтский',\n",
       " 'кечуа',\n",
       " 'киданьский',\n",
       " 'кинема',\n",
       " 'кинестезия',\n",
       " 'речевой',\n",
       " 'кинетический',\n",
       " 'кипу',\n",
       " 'кириллица',\n",
       " 'китайский',\n",
       " 'языковедческий',\n",
       " 'традиция',\n",
       " 'китайско-тибетёкий',\n",
       " 'класс',\n",
       " 'клинопись',\n",
       " 'клише',\n",
       " 'книгопечатание',\n",
       " 'книжный',\n",
       " 'когнитивный',\n",
       " 'койне',\n",
       " 'койсанский',\n",
       " 'комбинаторный',\n",
       " 'изменение',\n",
       " 'коммуникация',\n",
       " 'компаратив',\n",
       " 'компаративистика',\n",
       " 'комплетивный',\n",
       " 'композита',\n",
       " 'компонентный',\n",
       " 'конверсия',\n",
       " 'конго-кордофанский',\n",
       " 'конкретный',\n",
       " 'коннотация',\n",
       " 'консонантизм',\n",
       " 'консонатизм',\n",
       " 'конститутивный',\n",
       " 'конструкция',\n",
       " 'контактный',\n",
       " 'контаминация',\n",
       " 'контекст',\n",
       " 'контекстуальный',\n",
       " 'контрастивный',\n",
       " 'конфикс',\n",
       " 'конфиксация',\n",
       " 'конъюнктив',\n",
       " 'координация',\n",
       " 'копенгагенский',\n",
       " 'школа',\n",
       " 'коптский',\n",
       " 'корейский',\n",
       " 'морфологический',\n",
       " 'этимологический',\n",
       " 'корневой',\n",
       " 'корнеизолирующий',\n",
       " 'коррелят',\n",
       " 'корреляция',\n",
       " 'коса',\n",
       " 'косвенный',\n",
       " 'косвенно-переходный',\n",
       " 'объект',\n",
       " 'красный',\n",
       " 'строка',\n",
       " 'краткий',\n",
       " 'кру',\n",
       " 'крылатый',\n",
       " 'крымскотатарский',\n",
       " 'культура',\n",
       " 'курдский',\n",
       " 'курсив',\n",
       " 'лабиализация',\n",
       " 'лабиализованный',\n",
       " 'лабиальный',\n",
       " 'лабио-дентальный',\n",
       " 'ласкательный',\n",
       " 'латеральный',\n",
       " 'латинизм',\n",
       " 'латиница',\n",
       " 'латинский',\n",
       " 'лексема',\n",
       " 'лексика',\n",
       " 'общеупотребительный',\n",
       " 'разговорный',\n",
       " 'специальный',\n",
       " 'терминологический',\n",
       " 'фамильярный',\n",
       " 'эмоциональный',\n",
       " 'лексикализация',\n",
       " 'лексикализовать',\n",
       " 'сочетание',\n",
       " 'лексико-семантический',\n",
       " 'лексикография',\n",
       " 'лексикология',\n",
       " 'лексикон',\n",
       " 'лексический',\n",
       " 'ленинградский',\n",
       " 'фонологический',\n",
       " 'лигатура',\n",
       " 'лингвистика',\n",
       " 'лингвистический',\n",
       " 'география',\n",
       " 'статистика',\n",
       " 'комментарий',\n",
       " 'эксперимент',\n",
       " 'лингвокультурология',\n",
       " 'лингвостилистика',\n",
       " 'литературный',\n",
       " 'литота',\n",
       " 'лицо',\n",
       " 'личный',\n",
       " 'местоимение',\n",
       " 'окончание',\n",
       " 'логический',\n",
       " 'локальный',\n",
       " 'лондонский',\n",
       " 'маркированный',\n",
       " 'массовый',\n",
       " 'мат',\n",
       " 'математический',\n",
       " 'машинный',\n",
       " 'перевод',\n",
       " 'мгновенный',\n",
       " 'меетоименно-соотносительный',\n",
       " 'сложноподчинённый',\n",
       " 'междометие',\n",
       " 'междометный',\n",
       " 'межзубный',\n",
       " 'межстилевой',\n",
       " 'мелодика',\n",
       " 'мелодический',\n",
       " 'местный',\n",
       " 'местоимение',\n",
       " 'местоименный',\n",
       " 'местоименно-союзный',\n",
       " 'соотносительный',\n",
       " 'наречие',\n",
       " 'метамодель',\n",
       " 'метатеза',\n",
       " 'метафора',\n",
       " 'метаязык',\n",
       " 'как',\n",
       " 'текст',\n",
       " 'метонимия',\n",
       " 'мёртвый',\n",
       " 'младописьменный',\n",
       " 'многократный',\n",
       " 'подвид',\n",
       " 'многоточие',\n",
       " 'многочленный',\n",
       " 'множественный',\n",
       " 'модально-волевой',\n",
       " 'модальность',\n",
       " 'модальный',\n",
       " 'моделирование',\n",
       " 'модель',\n",
       " 'монолог',\n",
       " 'моносемия',\n",
       " 'монофтонг',\n",
       " 'морф',\n",
       " 'морфема',\n",
       " 'синтаксический',\n",
       " 'морфемика',\n",
       " 'морфемный',\n",
       " 'морфологизовать',\n",
       " 'норма',\n",
       " 'принцип',\n",
       " 'правописание',\n",
       " 'разбор',\n",
       " 'шов',\n",
       " 'морфология',\n",
       " 'морфолый-синтаксический',\n",
       " 'морфонология',\n",
       " 'московский',\n",
       " 'мотивированный',\n",
       " 'мотивировать',\n",
       " 'моторно-некратный',\n",
       " 'муби',\n",
       " 'мягкий',\n",
       " 'основа',\n",
       " 'мягкость',\n",
       " 'надстрочный',\n",
       " 'назализация',\n",
       " 'назывной',\n",
       " 'повелительный',\n",
       " 'условный',\n",
       " 'наложение',\n",
       " 'нанайский',\n",
       " 'нанизывание',\n",
       " 'написание',\n",
       " 'обстоятельственный',\n",
       " 'наречный',\n",
       " 'нарицательный',\n",
       " 'народный',\n",
       " 'этимология',\n",
       " 'настоящее',\n",
       " 'нахский',\n",
       " 'национальный',\n",
       " 'неварский',\n",
       " 'незнаменательный',\n",
       " 'неизменяемый',\n",
       " 'нейролингвистика',\n",
       " 'нейтрализация',\n",
       " 'нейтральный',\n",
       " 'неличный',\n",
       " 'неморфологизовать',\n",
       " 'неогумбольдтианство',\n",
       " 'неоднородный',\n",
       " 'неологизм',\n",
       " 'неопределённый',\n",
       " 'неопределенно-личный',\n",
       " 'непараллельный',\n",
       " 'непарный',\n",
       " 'неполногласие',\n",
       " 'неполногласный',\n",
       " 'неполный',\n",
       " 'смягчение',\n",
       " 'непосредственно',\n",
       " 'составлять',\n",
       " 'непредикативный',\n",
       " 'неприкрытый',\n",
       " 'непроизносимый',\n",
       " 'нераспространенный',\n",
       " 'нерасчлененный',\n",
       " 'нерасчленять',\n",
       " 'несинтаксический',\n",
       " 'несклоняемый',\n",
       " 'несобственно-прямая',\n",
       " 'несогласованный',\n",
       " 'несочетаемость',\n",
       " 'лексико-синтаксический',\n",
       " 'нечленимый',\n",
       " 'нечленный',\n",
       " 'нёбно-зубной',\n",
       " 'нигеро-конголезский',\n",
       " 'никобарский',\n",
       " 'нилотский',\n",
       " 'номенклатура',\n",
       " 'номинатив',\n",
       " 'указательный',\n",
       " 'номинация',\n",
       " 'норма',\n",
       " 'нормативный',\n",
       " 'носовой',\n",
       " 'нулевой',\n",
       " 'нуль',\n",
       " 'нумерализация',\n",
       " 'нуристанскиий',\n",
       " 'областной',\n",
       " 'обобщать',\n",
       " 'обобщенно-личный',\n",
       " 'обозначаемое',\n",
       " 'обозначающее',\n",
       " 'оборот',\n",
       " 'обособление',\n",
       " 'обособленный',\n",
       " 'обстоятельство',\n",
       " 'определение',\n",
       " 'приложение',\n",
       " 'обратный',\n",
       " 'обращение',\n",
       " 'обстоятельство',\n",
       " 'общеотрицательный',\n",
       " 'общеславянский',\n",
       " 'общий',\n",
       " 'объект',\n",
       " 'объективный',\n",
       " 'объектный',\n",
       " 'огамический',\n",
       " 'оглушение',\n",
       " 'огубление',\n",
       " 'одновидовой',\n",
       " 'однокоренной',\n",
       " 'однокорневой',\n",
       " 'однократный',\n",
       " 'однородный',\n",
       " 'соподчинение',\n",
       " 'одночленный',\n",
       " 'одушевленность',\n",
       " 'одушевлённый',\n",
       " 'озвончение',\n",
       " 'означающее',\n",
       " 'ойконим',\n",
       " 'оканье',\n",
       " 'окказионализм',\n",
       " 'окказиональный',\n",
       " 'окраска',\n",
       " 'оксиденталь',\n",
       " 'оксюморон',\n",
       " 'олицетворение',\n",
       " 'омографы',\n",
       " 'омоморфемы',\n",
       " 'омонимика',\n",
       " 'омонимия',\n",
       " 'графический',\n",
       " 'словообразовательный',\n",
       " 'фонетический',\n",
       " 'омонимы',\n",
       " 'омоним',\n",
       " 'частичный',\n",
       " 'омофоны',\n",
       " 'омоформы',\n",
       " 'ономастика',\n",
       " 'ономатопея',\n",
       " 'описательный',\n",
       " 'опорный',\n",
       " 'оппозиция',\n",
       " 'определение',\n",
       " 'согласовать',\n",
       " 'не',\n",
       " 'определенно-количественный',\n",
       " 'определенно-личный',\n",
       " 'определённый',\n",
       " 'определительно-уточнительный',\n",
       " 'определительный',\n",
       " 'опрощение',\n",
       " 'орфограмма',\n",
       " 'орфографический',\n",
       " 'орфография',\n",
       " 'орфоэпический',\n",
       " 'орфоэпия',\n",
       " 'осложнить',\n",
       " 'простой',\n",
       " 'непроизводный',\n",
       " 'производный',\n",
       " 'свободный',\n",
       " 'связать',\n",
       " 'основный',\n",
       " 'основной',\n",
       " 'словарный',\n",
       " 'фонд',\n",
       " 'основосложение',\n",
       " 'отвлечённый',\n",
       " 'отглагольный',\n",
       " 'образование',\n",
       " 'предлог',\n",
       " 'относительно-вопросительный',\n",
       " 'относительный',\n",
       " 'отрицание',\n",
       " 'отрицательный',\n",
       " 'отточие',\n",
       " 'отымённый',\n",
       " 'падеж',\n",
       " 'падение',\n",
       " 'редуцировать',\n",
       " 'палайский',\n",
       " 'палатализация',\n",
       " 'палатализовать',\n",
       " 'палатальный',\n",
       " 'палеоазиатский',\n",
       " 'палеография',\n",
       " 'пасть',\n",
       " 'палиндром',\n",
       " 'парадигма',\n",
       " 'парадигматика',\n",
       " 'паралингвистика',\n",
       " 'параллелизм',\n",
       " 'параллельный',\n",
       " 'тип',\n",
       " 'позиционный',\n",
       " 'мена',\n",
       " 'паратаксис',\n",
       " 'парафраз',\n",
       " 'парный',\n",
       " 'паронимия',\n",
       " 'паронимы',\n",
       " 'парономазия',\n",
       " 'партитивный',\n",
       " 'парцеллят',\n",
       " 'парцелляция',\n",
       " 'пассивный',\n",
       " 'бргана',\n",
       " 'патронимия',\n",
       " 'пауза',\n",
       " 'соединительный',\n",
       " 'пейоративный',\n",
       " 'первообразный',\n",
       " 'перевод',\n",
       " 'художественный',\n",
       " 'переводоведение',\n",
       " 'перегласовка',\n",
       " 'передненёбный',\n",
       " 'переднеязычный',\n",
       " 'перекрещиваться',\n",
       " 'переносный',\n",
       " 'переразложение',\n",
       " 'перестановка',\n",
       " 'период',\n",
       " 'времениий',\n",
       " 'заключительный',\n",
       " 'противительный',\n",
       " 'сравнительный',\n",
       " 'уступительный',\n",
       " 'периодический',\n",
       " 'периферийный',\n",
       " 'перифраз',\n",
       " 'персонификация',\n",
       " 'перфект',\n",
       " 'перфективация',\n",
       " 'перфоматив',\n",
       " 'перцептивный',\n",
       " 'фонетика',\n",
       " 'пиджины',\n",
       " 'пиктография',\n",
       " 'письменный',\n",
       " 'письменность',\n",
       " 'письмо',\n",
       " 'пиктографический',\n",
       " 'плавный',\n",
       " 'план',\n",
       " 'содержание',\n",
       " 'плеоназм',\n",
       " 'плюсквамперфект',\n",
       " 'побочный',\n",
       " 'побудительный',\n",
       " 'повествовательный',\n",
       " 'повторяться',\n",
       " 'повышение',\n",
       " 'поговорка',\n",
       " 'подвид',\n",
       " 'подлежащее',\n",
       " 'подтекст',\n",
       " 'подчинение',\n",
       " 'косвенно-вопросительный',\n",
       " 'союзный',\n",
       " 'подчинительный',\n",
       " 'подъём',\n",
       " 'позиция',\n",
       " 'полабский',\n",
       " 'полиглот',\n",
       " 'полипредикативность',\n",
       " 'полисемия',\n",
       " 'полисиндетон',\n",
       " 'полисинтетический',\n",
       " 'полный',\n",
       " 'полногласие',\n",
       " 'полнозначный',\n",
       " 'положительный',\n",
       " 'степень',\n",
       " 'полугласный',\n",
       " 'полузнаменательный',\n",
       " 'полумягкий',\n",
       " 'полуотвлечённый',\n",
       " 'полупредикативный',\n",
       " 'полупрямой',\n",
       " 'полусвязочный',\n",
       " 'полуустав',\n",
       " 'польский',\n",
       " 'помета',\n",
       " 'понятийный',\n",
       " 'порождать',\n",
       " 'фонология',\n",
       " 'португальский',\n",
       " 'порядковый',\n",
       " 'порядок',\n",
       " 'посессивность',\n",
       " 'последовательный',\n",
       " 'послелог',\n",
       " 'пословица',\n",
       " 'посредственный',\n",
       " 'постоянный',\n",
       " 'эпитет',\n",
       " 'постпозитивный',\n",
       " 'постпозиция',\n",
       " 'постфикс',\n",
       " 'потенциальный',\n",
       " 'пояснительный',\n",
       " 'правило',\n",
       " 'правописание',\n",
       " 'прагматик',\n",
       " 'пражский',\n",
       " 'практический',\n",
       " 'превосходный',\n",
       " 'предикат',\n",
       " 'предикативный',\n",
       " 'предикативно-атрибутивный',\n",
       " 'ядро',\n",
       " 'предикативность',\n",
       " 'предикативы',\n",
       " 'предикация',\n",
       " 'предицирование',\n",
       " 'предлог',\n",
       " 'предложение',\n",
       " 'тождество',\n",
       " 'предложный',\n",
       " 'предложно-именной',\n",
       " 'предударный',\n",
       " 'предупредительный',\n",
       " 'пренебрежительный',\n",
       " 'препозитивный',\n",
       " 'препозиция',\n",
       " ...]"
      ]
     },
     "execution_count": 27,
     "metadata": {},
     "output_type": "execute_result"
    }
   ],
   "source": [
    "terms = []\n",
    "for i in up_terms:\n",
    "    item = i.lower()\n",
    "    if re.search('\\s', item):\n",
    "        s = item.split()\n",
    "        for i in s:\n",
    "            m = morph.parse(i)\n",
    "            if isinstance(m, list):\n",
    "                m = m[0]\n",
    "            if m.normal_form not in terms:\n",
    "                terms.append(m.normal_form)\n",
    "    else:\n",
    "        terms.append(item)\n",
    "terms"
   ]
  },
  {
   "cell_type": "code",
   "execution_count": 28,
   "metadata": {},
   "outputs": [
    {
     "data": {
      "text/plain": [
       "1487"
      ]
     },
     "execution_count": 28,
     "metadata": {},
     "output_type": "execute_result"
    }
   ],
   "source": [
    "len(terms)"
   ]
  },
  {
   "cell_type": "code",
   "execution_count": 138,
   "metadata": {},
   "outputs": [],
   "source": [
    "curr_dir = os.getcwd()\n",
    "p_arr = []\n",
    "for root, dirs, files in os.walk(curr_dir):\n",
    "    for file in files:\n",
    "        if file.endswith('.txt') == True:\n",
    "            file_arr = {}\n",
    "            with open(file, 'r', encoding = 'utf-8') as f: \n",
    "                for sent in f.readlines():\n",
    "                    arr = []\n",
    "                    words = sent.split()\n",
    "                    for word in words:\n",
    "                        word_morph = morph.parse(word)\n",
    "                        if isinstance(word_morph, list):\n",
    "                            word_morph = word_morph[0]\n",
    "                        arr.append(word_morph)\n",
    "                    file_arr[sent] = arr\n",
    "                p_arr.append(file_arr)"
   ]
  },
  {
   "cell_type": "code",
   "execution_count": 139,
   "metadata": {},
   "outputs": [
    {
     "data": {
      "text/plain": [
       "18880"
      ]
     },
     "execution_count": 139,
     "metadata": {},
     "output_type": "execute_result"
    }
   ],
   "source": [
    "num_defs = 0\n",
    "for i in range(12):\n",
    "    for key in p_arr[i].items():\n",
    "        num_defs += 1\n",
    "num_defs"
   ]
  },
  {
   "cell_type": "code",
   "execution_count": 164,
   "metadata": {},
   "outputs": [],
   "source": [
    "#pattern 1\n",
    "arr_1 = []\n",
    "for key, values in p_arr[0].items():\n",
    "    for value in values:\n",
    "        if 'nomn' in str(value):\n",
    "            if value.normal_form in terms:\n",
    "                if key not in arr_1:\n",
    "                    arr_1.append(key)"
   ]
  },
  {
   "cell_type": "code",
   "execution_count": 165,
   "metadata": {},
   "outputs": [],
   "source": [
    "#pattern 2\n",
    "arr_2 = []\n",
    "for key, values in p_arr[4].items():\n",
    "    for value in values:\n",
    "        if 'nomn' in str(value):\n",
    "            if value.normal_form in terms:\n",
    "                if key not in arr_2:\n",
    "                    arr_2.append(key)\n",
    "        elif 'ablt' in str(value):\n",
    "            if value.normal_form in terms:\n",
    "                if key not in arr_2:\n",
    "                    arr_2.append(key)"
   ]
  },
  {
   "cell_type": "code",
   "execution_count": 166,
   "metadata": {},
   "outputs": [],
   "source": [
    "#pattern 3\n",
    "arr_3 = []\n",
    "for key, values in p_arr[5].items():\n",
    "    for value in values:\n",
    "        if 'nomn' in str(value):\n",
    "            if value.normal_form in terms:\n",
    "                if key not in arr_3:\n",
    "                    arr_3.append(key)"
   ]
  },
  {
   "cell_type": "code",
   "execution_count": 168,
   "metadata": {},
   "outputs": [],
   "source": [
    "#pattern 4\n",
    "arr_4 = []\n",
    "for key, values in p_arr[6].items():\n",
    "    for value in values:\n",
    "        if 'nomn' in str(value):\n",
    "            if value.normal_form in terms:\n",
    "                if key not in arr_4:\n",
    "                    arr_4.append(key)"
   ]
  },
  {
   "cell_type": "code",
   "execution_count": 169,
   "metadata": {},
   "outputs": [],
   "source": [
    "#patter 5\n",
    "arr_5 = []\n",
    "for key, values in p_arr[7].items():\n",
    "    for value in values:\n",
    "        if value.normal_form in terms:\n",
    "            if key not in arr_5:\n",
    "                arr_5.append(key)"
   ]
  },
  {
   "cell_type": "code",
   "execution_count": 170,
   "metadata": {},
   "outputs": [],
   "source": [
    "#pattern 6\n",
    "arr_6 = []\n",
    "for key, values in p_arr[8].items():\n",
    "    for value in values:\n",
    "        if 'nomn' in str(value):\n",
    "            if value.normal_form in terms:\n",
    "                if key not in arr_6:\n",
    "                    arr_6.append(key)"
   ]
  },
  {
   "cell_type": "code",
   "execution_count": 171,
   "metadata": {},
   "outputs": [],
   "source": [
    "#pattern 7\n",
    "arr_7 = []\n",
    "for key, values in p_arr[9].items():\n",
    "    for value in values:\n",
    "        if 'nomn' in str(value):\n",
    "            if value.normal_form in terms:\n",
    "                if key not in arr_7:\n",
    "                    arr_7.append(key)\n",
    "        elif 'ablt' in str(value):\n",
    "            if value.normal_form in terms:\n",
    "                if key not in arr_7:\n",
    "                    arr_7.append(key)"
   ]
  },
  {
   "cell_type": "code",
   "execution_count": 172,
   "metadata": {},
   "outputs": [],
   "source": [
    "#pattern 8\n",
    "arr_8 = []\n",
    "for key, values in p_arr[10].items():\n",
    "    for value in values:\n",
    "        if 'nomn' in str(value):\n",
    "            if value.normal_form in terms:\n",
    "                if key not in arr_8:\n",
    "                    arr_8.append(key)\n",
    "        elif 'datv' in str(value):\n",
    "            if value.normal_form in terms:\n",
    "                if key not in arr_8:\n",
    "                    arr_8.append(key)"
   ]
  },
  {
   "cell_type": "code",
   "execution_count": 173,
   "metadata": {},
   "outputs": [],
   "source": [
    "#pattern 9\n",
    "arr_9 = []\n",
    "for key, values in p_arr[11].items():\n",
    "    for value in values:\n",
    "        if 'nomn' in str(value):\n",
    "            if value.normal_form in terms:\n",
    "                if key not in arr_9:\n",
    "                    arr_9.append(key)"
   ]
  },
  {
   "cell_type": "code",
   "execution_count": 174,
   "metadata": {},
   "outputs": [],
   "source": [
    "#pattern 10\n",
    "arr_10 = []\n",
    "for key, values in p_arr[1].items():\n",
    "    for value in values:\n",
    "        if 'nomn' in str(value):\n",
    "            if value.normal_form in terms:\n",
    "                if key not in arr_10:\n",
    "                    arr_10.append(key)"
   ]
  },
  {
   "cell_type": "code",
   "execution_count": 175,
   "metadata": {},
   "outputs": [],
   "source": [
    "#pattern 11\n",
    "arr_11 = []\n",
    "for key, values in p_arr[2].items():\n",
    "    for value in values:\n",
    "        if 'nomn' in str(value):\n",
    "            if value.normal_form in terms:\n",
    "                if key not in arr_11:\n",
    "                    arr_11.append(key)"
   ]
  },
  {
   "cell_type": "code",
   "execution_count": 176,
   "metadata": {},
   "outputs": [],
   "source": [
    "#pattern 12\n",
    "arr_12 = []\n",
    "for key, values in p_arr[3].items():\n",
    "    for value in values:\n",
    "        if 'nomn' in str(value):\n",
    "            if value.normal_form in terms:\n",
    "                if key not in arr_12:\n",
    "                    arr_12.append(key)"
   ]
  },
  {
   "cell_type": "code",
   "execution_count": 177,
   "metadata": {},
   "outputs": [
    {
     "data": {
      "text/plain": [
       "13446"
      ]
     },
     "execution_count": 177,
     "metadata": {},
     "output_type": "execute_result"
    }
   ],
   "source": [
    "new_num_defs = len(arr_1) + len(arr_2) + len(arr_3) + len(arr_4) + len(arr_5) + len(arr_6) + len(arr_7) + len(arr_8) + len(arr_9) + len(arr_10) + len(arr_11) + len(arr_12)\n",
    "new_num_defs"
   ]
  },
  {
   "cell_type": "code",
   "execution_count": 178,
   "metadata": {},
   "outputs": [
    {
     "data": {
      "text/plain": [
       "5434"
      ]
     },
     "execution_count": 178,
     "metadata": {},
     "output_type": "execute_result"
    }
   ],
   "source": [
    "num_defs - new_num_defs"
   ]
  },
  {
   "cell_type": "code",
   "execution_count": 179,
   "metadata": {},
   "outputs": [
    {
     "data": {
      "text/plain": [
       "13446"
      ]
     },
     "execution_count": 179,
     "metadata": {},
     "output_type": "execute_result"
    }
   ],
   "source": [
    "defs_arr = arr_1 + arr_2 + arr_3 + arr_4 + arr_5 + arr_6 + arr_7 + arr_8 + arr_9 + arr_10 + arr_11 + arr_12\n",
    "len(defs_arr)"
   ]
  },
  {
   "cell_type": "code",
   "execution_count": 180,
   "metadata": {},
   "outputs": [],
   "source": [
    "with open('new_1.txt', 'w', encoding = 'utf-8') as f:\n",
    "    for i in arr_1:\n",
    "        f.write(i)"
   ]
  },
  {
   "cell_type": "code",
   "execution_count": 181,
   "metadata": {},
   "outputs": [],
   "source": [
    "with open('new_2.txt', 'w', encoding = 'utf-8') as f:\n",
    "    for i in arr_2:\n",
    "        f.write(i)"
   ]
  },
  {
   "cell_type": "code",
   "execution_count": 182,
   "metadata": {},
   "outputs": [],
   "source": [
    "with open('new_3.txt', 'w', encoding = 'utf-8') as f:\n",
    "    for i in arr_3:\n",
    "        f.write(i)"
   ]
  },
  {
   "cell_type": "code",
   "execution_count": 183,
   "metadata": {},
   "outputs": [],
   "source": [
    "with open('new_4.txt', 'w', encoding = 'utf-8') as f:\n",
    "    for i in arr_4:\n",
    "        f.write(i)"
   ]
  },
  {
   "cell_type": "code",
   "execution_count": 184,
   "metadata": {},
   "outputs": [],
   "source": [
    "with open('new_5.txt', 'w', encoding = 'utf-8') as f:\n",
    "    for i in arr_5:\n",
    "        f.write(i)"
   ]
  },
  {
   "cell_type": "code",
   "execution_count": 185,
   "metadata": {},
   "outputs": [],
   "source": [
    "with open('new_6.txt', 'w', encoding = 'utf-8') as f:\n",
    "    for i in arr_6:\n",
    "        f.write(i)"
   ]
  },
  {
   "cell_type": "code",
   "execution_count": 186,
   "metadata": {},
   "outputs": [],
   "source": [
    "with open('new_7.txt', 'w', encoding = 'utf-8') as f:\n",
    "    for i in arr_7:\n",
    "        f.write(i)"
   ]
  },
  {
   "cell_type": "code",
   "execution_count": 187,
   "metadata": {},
   "outputs": [],
   "source": [
    "with open('new_8.txt', 'w', encoding = 'utf-8') as f:\n",
    "    for i in arr_8:\n",
    "        f.write(i)"
   ]
  },
  {
   "cell_type": "code",
   "execution_count": 188,
   "metadata": {},
   "outputs": [],
   "source": [
    "with open('new_9.txt', 'w', encoding = 'utf-8') as f:\n",
    "    for i in arr_9:\n",
    "        f.write(i)"
   ]
  },
  {
   "cell_type": "code",
   "execution_count": 189,
   "metadata": {},
   "outputs": [],
   "source": [
    "with open('new_10.txt', 'w', encoding = 'utf-8') as f:\n",
    "    for i in arr_10:\n",
    "        f.write(i)"
   ]
  },
  {
   "cell_type": "code",
   "execution_count": 190,
   "metadata": {},
   "outputs": [],
   "source": [
    "with open('new_11.txt', 'w', encoding = 'utf-8') as f:\n",
    "    for i in arr_11:\n",
    "        f.write(i)"
   ]
  },
  {
   "cell_type": "code",
   "execution_count": 191,
   "metadata": {},
   "outputs": [],
   "source": [
    "with open('new_12.txt', 'w', encoding = 'utf-8') as f:\n",
    "    for i in arr_12:\n",
    "        f.write(i)"
   ]
  },
  {
   "cell_type": "code",
   "execution_count": 8,
   "metadata": {},
   "outputs": [],
   "source": [
    "import subprocess"
   ]
  },
  {
   "cell_type": "code",
   "execution_count": 193,
   "metadata": {
    "scrolled": true
   },
   "outputs": [
    {
     "data": {
      "text/plain": [
       "<subprocess.Popen at 0x213eb48f9b0>"
      ]
     },
     "execution_count": 193,
     "metadata": {},
     "output_type": "execute_result"
    }
   ],
   "source": [
    "subprocess.Popen( \"Parser.exe -verbose -parser 0 -lemmatizer 0 -emit_morph 0 -eol -d dictionary.xml new_1.txt -o 1.xml\", stdin=subprocess.PIPE, shell=True )"
   ]
  },
  {
   "cell_type": "code",
   "execution_count": 194,
   "metadata": {},
   "outputs": [
    {
     "data": {
      "text/plain": [
       "<subprocess.Popen at 0x213eb48f3c8>"
      ]
     },
     "execution_count": 194,
     "metadata": {},
     "output_type": "execute_result"
    }
   ],
   "source": [
    "subprocess.Popen( \"Parser.exe -verbose -parser 0 -lemmatizer 0 -emit_morph 0 -eol -d dictionary.xml new_2.txt -o 2.xml\", stdin=subprocess.PIPE, shell=True )"
   ]
  },
  {
   "cell_type": "code",
   "execution_count": 195,
   "metadata": {},
   "outputs": [
    {
     "data": {
      "text/plain": [
       "<subprocess.Popen at 0x213eb485b00>"
      ]
     },
     "execution_count": 195,
     "metadata": {},
     "output_type": "execute_result"
    }
   ],
   "source": [
    "subprocess.Popen( \"Parser.exe -verbose -parser 0 -lemmatizer 0 -emit_morph 0 -eol -d dictionary.xml new_3.txt -o 3.xml\", stdin=subprocess.PIPE, shell=True )"
   ]
  },
  {
   "cell_type": "code",
   "execution_count": 196,
   "metadata": {},
   "outputs": [
    {
     "data": {
      "text/plain": [
       "<subprocess.Popen at 0x213eb485780>"
      ]
     },
     "execution_count": 196,
     "metadata": {},
     "output_type": "execute_result"
    }
   ],
   "source": [
    "subprocess.Popen( \"Parser.exe -verbose -parser 0 -lemmatizer 0 -emit_morph 0 -eol -d dictionary.xml new_4.txt -o 4.xml\", stdin=subprocess.PIPE, shell=True )"
   ]
  },
  {
   "cell_type": "code",
   "execution_count": 197,
   "metadata": {},
   "outputs": [
    {
     "data": {
      "text/plain": [
       "<subprocess.Popen at 0x213eb485208>"
      ]
     },
     "execution_count": 197,
     "metadata": {},
     "output_type": "execute_result"
    }
   ],
   "source": [
    "subprocess.Popen( \"Parser.exe -verbose -parser 0 -lemmatizer 0 -emit_morph 0 -eol -d dictionary.xml new_5.txt -o 5.xml\", stdin=subprocess.PIPE, shell=True )"
   ]
  },
  {
   "cell_type": "code",
   "execution_count": 198,
   "metadata": {},
   "outputs": [
    {
     "data": {
      "text/plain": [
       "<subprocess.Popen at 0x213eb4857b8>"
      ]
     },
     "execution_count": 198,
     "metadata": {},
     "output_type": "execute_result"
    }
   ],
   "source": [
    "subprocess.Popen( \"Parser.exe -verbose -parser 0 -lemmatizer 0 -emit_morph 0 -eol -d dictionary.xml new_6.txt -o 6.xml\", stdin=subprocess.PIPE, shell=True )"
   ]
  },
  {
   "cell_type": "code",
   "execution_count": 199,
   "metadata": {},
   "outputs": [
    {
     "data": {
      "text/plain": [
       "<subprocess.Popen at 0x2142d7dfd30>"
      ]
     },
     "execution_count": 199,
     "metadata": {},
     "output_type": "execute_result"
    }
   ],
   "source": [
    "subprocess.Popen( \"Parser.exe -verbose -parser 0 -lemmatizer 0 -emit_morph 0 -eol -d dictionary.xml new_7.txt -o 7.xml\", stdin=subprocess.PIPE, shell=True )"
   ]
  },
  {
   "cell_type": "code",
   "execution_count": 200,
   "metadata": {},
   "outputs": [
    {
     "data": {
      "text/plain": [
       "<subprocess.Popen at 0x2142d7dff28>"
      ]
     },
     "execution_count": 200,
     "metadata": {},
     "output_type": "execute_result"
    }
   ],
   "source": [
    "subprocess.Popen( \"Parser.exe -verbose -parser 0 -lemmatizer 0 -emit_morph 0 -eol -d dictionary.xml new_8.txt -o 8.xml\", stdin=subprocess.PIPE, shell=True )"
   ]
  },
  {
   "cell_type": "code",
   "execution_count": 10,
   "metadata": {},
   "outputs": [
    {
     "data": {
      "text/plain": [
       "<subprocess.Popen at 0x4391850>"
      ]
     },
     "execution_count": 10,
     "metadata": {},
     "output_type": "execute_result"
    }
   ],
   "source": [
    "subprocess.Popen( \"Parser.exe -verbose -parser 0 -lemmatizer 0 -emit_morph 0 -eol -d dictionary.xml new_9.txt -o 9.xml\", stdin=subprocess.PIPE, shell=True )"
   ]
  },
  {
   "cell_type": "code",
   "execution_count": 55,
   "metadata": {},
   "outputs": [
    {
     "data": {
      "text/plain": [
       "<subprocess.Popen at 0x1370b2b0>"
      ]
     },
     "execution_count": 55,
     "metadata": {},
     "output_type": "execute_result"
    }
   ],
   "source": [
    "subprocess.Popen( \"Parser.exe -verbose -parser 0 -lemmatizer 0 -emit_morph 0 -eol -d dictionary.xml new_10.txt -o 10.xml\", stdin=subprocess.PIPE, shell=True )"
   ]
  },
  {
   "cell_type": "code",
   "execution_count": 56,
   "metadata": {},
   "outputs": [
    {
     "data": {
      "text/plain": [
       "<subprocess.Popen at 0x1370b590>"
      ]
     },
     "execution_count": 56,
     "metadata": {},
     "output_type": "execute_result"
    }
   ],
   "source": [
    "subprocess.Popen( \"Parser.exe -verbose -parser 0 -lemmatizer 0 -emit_morph 0 -eol -d dictionary.xml new_11.txt -o 11.xml\", stdin=subprocess.PIPE, shell=True )"
   ]
  },
  {
   "cell_type": "code",
   "execution_count": 57,
   "metadata": {},
   "outputs": [
    {
     "data": {
      "text/plain": [
       "<subprocess.Popen at 0x1370b470>"
      ]
     },
     "execution_count": 57,
     "metadata": {},
     "output_type": "execute_result"
    }
   ],
   "source": [
    "subprocess.Popen( \"Parser.exe -verbose -parser 0 -lemmatizer 0 -emit_morph 0 -eol -d dictionary.xml new_12.txt -o 12.xml\", stdin=subprocess.PIPE, shell=True )"
   ]
  },
  {
   "cell_type": "code",
   "execution_count": 11,
   "metadata": {},
   "outputs": [],
   "source": [
    "import xml.etree.ElementTree as ET"
   ]
  },
  {
   "cell_type": "code",
   "execution_count": 10,
   "metadata": {},
   "outputs": [
    {
     "data": {
      "text/plain": [
       "1983"
      ]
     },
     "execution_count": 10,
     "metadata": {},
     "output_type": "execute_result"
    }
   ],
   "source": [
    "with open('new_1.txt', 'r', encoding = 'utf-8') as f:\n",
    "    arr_1 = f.readlines()\n",
    "len(arr_1)"
   ]
  },
  {
   "cell_type": "code",
   "execution_count": 9,
   "metadata": {},
   "outputs": [
    {
     "data": {
      "text/plain": [
       "3816"
      ]
     },
     "execution_count": 9,
     "metadata": {},
     "output_type": "execute_result"
    }
   ],
   "source": [
    "with open('new_2.txt', 'r', encoding = 'utf-8') as f:\n",
    "    arr_2 = f.readlines()\n",
    "len(arr_2)"
   ]
  },
  {
   "cell_type": "code",
   "execution_count": 12,
   "metadata": {},
   "outputs": [
    {
     "data": {
      "text/plain": [
       "206"
      ]
     },
     "execution_count": 12,
     "metadata": {},
     "output_type": "execute_result"
    }
   ],
   "source": [
    "with open('new_3.txt', 'r', encoding = 'utf-8') as f:\n",
    "    arr_3 = f.readlines()\n",
    "len(arr_3)"
   ]
  },
  {
   "cell_type": "code",
   "execution_count": 13,
   "metadata": {},
   "outputs": [
    {
     "data": {
      "text/plain": [
       "163"
      ]
     },
     "execution_count": 13,
     "metadata": {},
     "output_type": "execute_result"
    }
   ],
   "source": [
    "with open('new_4.txt', 'r', encoding = 'utf-8') as f:\n",
    "    arr_4 = f.readlines()\n",
    "len(arr_4)"
   ]
  },
  {
   "cell_type": "code",
   "execution_count": 14,
   "metadata": {},
   "outputs": [
    {
     "data": {
      "text/plain": [
       "367"
      ]
     },
     "execution_count": 14,
     "metadata": {},
     "output_type": "execute_result"
    }
   ],
   "source": [
    "with open('new_5.txt', 'r', encoding = 'utf-8') as f:\n",
    "    arr_5 = f.readlines()\n",
    "len(arr_5)"
   ]
  },
  {
   "cell_type": "code",
   "execution_count": 15,
   "metadata": {},
   "outputs": [
    {
     "data": {
      "text/plain": [
       "2789"
      ]
     },
     "execution_count": 15,
     "metadata": {},
     "output_type": "execute_result"
    }
   ],
   "source": [
    "with open('new_6.txt', 'r', encoding = 'utf-8') as f:\n",
    "    arr_6 = f.readlines()\n",
    "len(arr_6)"
   ]
  },
  {
   "cell_type": "code",
   "execution_count": 16,
   "metadata": {},
   "outputs": [
    {
     "data": {
      "text/plain": [
       "85"
      ]
     },
     "execution_count": 16,
     "metadata": {},
     "output_type": "execute_result"
    }
   ],
   "source": [
    "with open('new_7.txt', 'r', encoding = 'utf-8') as f:\n",
    "    arr_7 = f.readlines()\n",
    "len(arr_7)"
   ]
  },
  {
   "cell_type": "code",
   "execution_count": 17,
   "metadata": {},
   "outputs": [
    {
     "data": {
      "text/plain": [
       "1274"
      ]
     },
     "execution_count": 17,
     "metadata": {},
     "output_type": "execute_result"
    }
   ],
   "source": [
    "with open('new_8.txt', 'r', encoding = 'utf-8') as f:\n",
    "    arr_8 = f.readlines()\n",
    "len(arr_8)"
   ]
  },
  {
   "cell_type": "code",
   "execution_count": 18,
   "metadata": {},
   "outputs": [
    {
     "data": {
      "text/plain": [
       "1841"
      ]
     },
     "execution_count": 18,
     "metadata": {},
     "output_type": "execute_result"
    }
   ],
   "source": [
    "with open('new_9.txt', 'r', encoding = 'utf-8') as f:\n",
    "    arr_9 = f.readlines()\n",
    "len(arr_9)"
   ]
  },
  {
   "cell_type": "code",
   "execution_count": 19,
   "metadata": {},
   "outputs": [
    {
     "data": {
      "text/plain": [
       "218"
      ]
     },
     "execution_count": 19,
     "metadata": {},
     "output_type": "execute_result"
    }
   ],
   "source": [
    "with open('new_10.txt', 'r', encoding = 'utf-8') as f:\n",
    "    arr_10 = f.readlines()\n",
    "len(arr_10)"
   ]
  },
  {
   "cell_type": "code",
   "execution_count": 20,
   "metadata": {},
   "outputs": [
    {
     "data": {
      "text/plain": [
       "205"
      ]
     },
     "execution_count": 20,
     "metadata": {},
     "output_type": "execute_result"
    }
   ],
   "source": [
    "with open('new_11.txt', 'r', encoding = 'utf-8') as f:\n",
    "    arr_11 = f.readlines()\n",
    "len(arr_11)"
   ]
  },
  {
   "cell_type": "code",
   "execution_count": 21,
   "metadata": {},
   "outputs": [
    {
     "data": {
      "text/plain": [
       "499"
      ]
     },
     "execution_count": 21,
     "metadata": {},
     "output_type": "execute_result"
    }
   ],
   "source": [
    "with open('new_12.txt', 'r', encoding = 'utf-8') as f:\n",
    "    arr_12 = f.readlines()\n",
    "len(arr_12)"
   ]
  },
  {
   "cell_type": "code",
   "execution_count": 22,
   "metadata": {},
   "outputs": [],
   "source": [
    "#1\n",
    "synt_1 = {}\n",
    "root_1 = ET.parse('1.xml').getroot()\n",
    "for i in range(len(arr_1)):\n",
    "    sent = root_1[i][0].text\n",
    "    for ab in root_1[i][2]:\n",
    "        word = ab[1].text\n",
    "        parent = ab[2].text\n",
    "        if sent in synt_1:\n",
    "            synt_1[sent].append((word, parent))\n",
    "        else:\n",
    "            synt_1[sent] = [(word, parent)]"
   ]
  },
  {
   "cell_type": "code",
   "execution_count": 12,
   "metadata": {},
   "outputs": [],
   "source": [
    "#2\n",
    "synt_2 = {}\n",
    "root_2 = ET.parse('2.xml').getroot()\n",
    "for i in range(len(arr_2)):\n",
    "    sent = root_2[i][0].text\n",
    "    for ab in root_2[i][2]:\n",
    "        word = ab[1].text\n",
    "        parent = ab[2].text\n",
    "        if sent in synt_2:\n",
    "            synt_2[sent].append((word, parent))\n",
    "        else:\n",
    "            synt_2[sent] = [(word, parent)]"
   ]
  },
  {
   "cell_type": "code",
   "execution_count": 24,
   "metadata": {},
   "outputs": [],
   "source": [
    "#3\n",
    "synt_3 = {}\n",
    "root_3 = ET.parse('3.xml').getroot()\n",
    "for i in range(len(arr_3)):\n",
    "    sent = root_3[i][0].text\n",
    "    for ab in root_3[i][2]:\n",
    "        word = ab[1].text\n",
    "        parent = ab[2].text\n",
    "        if sent in synt_3:\n",
    "            synt_3[sent].append((word, parent))\n",
    "        else:\n",
    "            synt_3[sent] = [(word, parent)]"
   ]
  },
  {
   "cell_type": "code",
   "execution_count": 25,
   "metadata": {},
   "outputs": [],
   "source": [
    "#4\n",
    "synt_4 = {}\n",
    "root_4 = ET.parse('4.xml').getroot()\n",
    "for i in range(len(arr_4)):\n",
    "    sent = root_4[i][0].text\n",
    "    for ab in root_4[i][2]:\n",
    "        word = ab[1].text\n",
    "        parent = ab[2].text\n",
    "        if sent in synt_4:\n",
    "            synt_4[sent].append((word, parent))\n",
    "        else:\n",
    "            synt_4[sent] = [(word, parent)]"
   ]
  },
  {
   "cell_type": "code",
   "execution_count": 26,
   "metadata": {},
   "outputs": [],
   "source": [
    "#5\n",
    "synt_5 = {}\n",
    "root_5 = ET.parse('5.xml').getroot()\n",
    "for i in range(len(arr_5)):\n",
    "    sent = root_5[i][0].text\n",
    "    for ab in root_5[i][2]:\n",
    "        word = ab[1].text\n",
    "        parent = ab[2].text\n",
    "        if sent in synt_5:\n",
    "            synt_5[sent].append((word, parent))\n",
    "        else:\n",
    "            synt_5[sent] = [(word, parent)]"
   ]
  },
  {
   "cell_type": "code",
   "execution_count": 27,
   "metadata": {},
   "outputs": [],
   "source": [
    "#6\n",
    "synt_6 = {}\n",
    "root_6 = ET.parse('6.xml').getroot()\n",
    "for i in range(len(arr_6)):\n",
    "    sent = root_6[i][0].text\n",
    "    for ab in root_6[i][2]:\n",
    "        word = ab[1].text\n",
    "        parent = ab[2].text\n",
    "        if sent in synt_6:\n",
    "            synt_6[sent].append((word, parent))\n",
    "        else:\n",
    "            synt_6[sent] = [(word, parent)]"
   ]
  },
  {
   "cell_type": "code",
   "execution_count": 28,
   "metadata": {},
   "outputs": [],
   "source": [
    "#7\n",
    "synt_7 = {}\n",
    "root_7 = ET.parse('7.xml').getroot()\n",
    "for i in range(len(arr_7)):\n",
    "    sent = root_7[i][0].text\n",
    "    for ab in root_7[i][2]:\n",
    "        word = ab[1].text\n",
    "        parent = ab[2].text\n",
    "        if sent in synt_7:\n",
    "            synt_7[sent].append((word, parent))\n",
    "        else:\n",
    "            synt_7[sent] = [(word, parent)]"
   ]
  },
  {
   "cell_type": "code",
   "execution_count": 29,
   "metadata": {},
   "outputs": [],
   "source": [
    "#8\n",
    "synt_8 = {}\n",
    "root_8 = ET.parse('8.xml').getroot()\n",
    "for i in range(len(arr_8)):\n",
    "    sent = root_8[i][0].text\n",
    "    for ab in root_8[i][2]:\n",
    "        word = ab[1].text\n",
    "        parent = ab[2].text\n",
    "        if sent in synt_8:\n",
    "            synt_8[sent].append((word, parent))\n",
    "        else:\n",
    "            synt_8[sent] = [(word, parent)]"
   ]
  },
  {
   "cell_type": "code",
   "execution_count": 30,
   "metadata": {},
   "outputs": [],
   "source": [
    "#9\n",
    "synt_9 = {}\n",
    "root_9 = ET.parse('9.xml').getroot()\n",
    "for i in range(1834):\n",
    "    sent = root_9[i][0].text\n",
    "    for ab in root_9[i][2]:\n",
    "        word = ab[1].text\n",
    "        parent = ab[2].text\n",
    "        if sent in synt_9:\n",
    "            synt_9[sent].append((word, parent))\n",
    "        else:\n",
    "            synt_9[sent] = [(word, parent)]"
   ]
  },
  {
   "cell_type": "code",
   "execution_count": 31,
   "metadata": {},
   "outputs": [],
   "source": [
    "#10\n",
    "synt_10 = {}\n",
    "root_10 = ET.parse('10.xml').getroot()\n",
    "for i in range(len(arr_10)):\n",
    "    sent = root_10[i][0].text\n",
    "    for ab in root_10[i][2]:\n",
    "        word = ab[1].text\n",
    "        parent = ab[2].text\n",
    "        if sent in synt_10:\n",
    "            synt_10[sent].append((word, parent))\n",
    "        else:\n",
    "            synt_10[sent] = [(word, parent)]"
   ]
  },
  {
   "cell_type": "code",
   "execution_count": 32,
   "metadata": {},
   "outputs": [],
   "source": [
    "#11\n",
    "synt_11 = {}\n",
    "root_11 = ET.parse('11.xml').getroot()\n",
    "for i in range(len(arr_11)):\n",
    "    sent = root_11[i][0].text\n",
    "    for ab in root_11[i][2]:\n",
    "        word = ab[1].text\n",
    "        parent = ab[2].text\n",
    "        if sent in synt_11:\n",
    "            synt_11[sent].append((word, parent))\n",
    "        else:\n",
    "            synt_11[sent] = [(word, parent)]"
   ]
  },
  {
   "cell_type": "code",
   "execution_count": 33,
   "metadata": {},
   "outputs": [],
   "source": [
    "#12\n",
    "synt_12 = {}\n",
    "root_12 = ET.parse('12.xml').getroot()\n",
    "for i in range(498):\n",
    "    sent = root_12[i][0].text\n",
    "    for ab in root_12[i][2]:\n",
    "        word = ab[1].text\n",
    "        parent = ab[2].text\n",
    "        if sent in synt_12:\n",
    "            synt_12[sent].append((word, parent))\n",
    "        else:\n",
    "            synt_12[sent] = [(word, parent)]"
   ]
  },
  {
   "cell_type": "code",
   "execution_count": 34,
   "metadata": {},
   "outputs": [],
   "source": [
    "#defs_1\n",
    "d_1 = {}\n",
    "for key, values in synt_1.items():\n",
    "    arr = []\n",
    "    spl = key.split()\n",
    "    for index, i in enumerate(spl):\n",
    "        if i == 'это':\n",
    "            arr.append(index)\n",
    "    if len(arr) > 0:\n",
    "        w_indx = arr[0]\n",
    "        def_arr = spl[w_indx:]\n",
    "        defn = ' '.join(def_arr)\n",
    "        term_arr = spl[:w_indx]\n",
    "        if len(term_arr) < 4:\n",
    "            term_bad = ' '.join(term_arr)\n",
    "            term = re.sub(r'[—–:-]', '', term_bad)\n",
    "            d_1[term] = defn"
   ]
  },
  {
   "cell_type": "code",
   "execution_count": 35,
   "metadata": {},
   "outputs": [],
   "source": [
    "#defs_2\n",
    "verbs = ['называться', 'назвать', 'называть', 'являться', 'служить', 'считаться', 'оказываться']\n",
    "d_2 = {}\n",
    "for key, values in synt_2.items():\n",
    "    spl = key.split()\n",
    "    index = []\n",
    "    for indx, i in enumerate(spl):\n",
    "        m = morph.parse(i)\n",
    "        if isinstance(m, list):\n",
    "            m = m[0]\n",
    "        if m.normal_form in verbs and 'VERB' in m.tag:\n",
    "            index.append(indx)\n",
    "    if len(index) > 0:\n",
    "        terms = []\n",
    "        for indx, value in enumerate(values):\n",
    "            m = morph.parse(value[0])\n",
    "            if isinstance(m, list):\n",
    "                m = m[0]\n",
    "            if 'NOUN' or 'ADJF' in m.tag:\n",
    "                if value[1] == str(index[0]):\n",
    "                    terms.append([value[0], indx])\n",
    "        if len(terms) > 0:\n",
    "            term = terms[0][0]\n",
    "            for indx, value in enumerate(values):\n",
    "                if value[1] == terms[0][1]:\n",
    "                    term == terms[0][0] + ' ' + value[0]\n",
    "                    break\n",
    "            verb_indx = index[0]\n",
    "            def_arr = spl[verb_indx:]\n",
    "            defn = ' '.join(def_arr)\n",
    "            d_2[term] = defn"
   ]
  },
  {
   "cell_type": "code",
   "execution_count": 36,
   "metadata": {},
   "outputs": [],
   "source": [
    "#defs_3\n",
    "d_3 = {}\n",
    "verbs = ['пониматься', 'трактоваться', 'проявляться', 'рассматриваться', 'определить', 'толковаться']\n",
    "for key, values in synt_3.items():\n",
    "    index = []\n",
    "    verb = []\n",
    "    for idx, i in enumerate(values):\n",
    "        m = morph.parse(i[0])\n",
    "        if isinstance(m, list):\n",
    "            m = m[0]\n",
    "        if m.normal_form in verbs and 'VERB' in m.tag:\n",
    "            index.append(idx)\n",
    "            verb.append(i[0])\n",
    "    if len(index) > 0:\n",
    "        terms = []\n",
    "        for indx, value in enumerate(values):\n",
    "            m = morph.parse(value[0])\n",
    "            if isinstance(m, list):\n",
    "                m = m[0]\n",
    "            if 'NOUN' in m.tag or 'ADJF' in m.tag:\n",
    "                if value[1] == str(index[0]):\n",
    "                    terms.append([value[0], indx])\n",
    "        if len(terms) > 0:\n",
    "            term = terms[0][0]\n",
    "            t = []\n",
    "            for indx, value in enumerate(values):\n",
    "                if value[1] == str(terms[0][1]):\n",
    "                    mo = morph.parse(value[0])\n",
    "                    if isinstance(mo, list):\n",
    "                        mo = mo[0]\n",
    "                    if 'ADJF' in mo.tag:\n",
    "                        t.append([value[0], terms[0][0]])\n",
    "                    if 'NOUN' in mo.tag:\n",
    "                        t.append([terms[0][0], value[0]])\n",
    "            if len(t) > 0:\n",
    "                term_arr = t[0]\n",
    "                term = ' '.join(term_arr)\n",
    "            spl = key.split()\n",
    "            verb_indx = spl.index(verb[0])\n",
    "            def_arr = spl[verb_indx:]\n",
    "            defn = ' '.join(def_arr)\n",
    "            d_3[term] = defn"
   ]
  },
  {
   "cell_type": "code",
   "execution_count": 37,
   "metadata": {},
   "outputs": [],
   "source": [
    "#defs_4\n",
    "d_4 = {}\n",
    "for key, values in synt_4.items():\n",
    "    index = []\n",
    "    verb = []\n",
    "    for idx, i in enumerate(values):\n",
    "        m = morph.parse(i[0])\n",
    "        if isinstance(m, list):\n",
    "            m = m[0]\n",
    "        if m.normal_form == 'служить' and 'VERB' in m.tag:\n",
    "            index.append(idx)\n",
    "            verb.append(i[0])\n",
    "    if len(index) > 0:\n",
    "        terms = []\n",
    "        for indx, value in enumerate(values):\n",
    "            m = morph.parse(value[0])\n",
    "            if isinstance(m, list):\n",
    "                m = m[0]\n",
    "            if 'NOUN' in m.tag or 'ADJF' in m.tag:\n",
    "                if value[1] == str(index[0]):\n",
    "                    terms.append([value[0], indx])\n",
    "        if len(terms) > 0:\n",
    "            term = terms[0][0]\n",
    "            t = []\n",
    "            for indx, value in enumerate(values):\n",
    "                if value[1] == str(terms[0][1]):\n",
    "                    mo = morph.parse(value[0])\n",
    "                    if isinstance(mo, list):\n",
    "                        mo = mo[0]\n",
    "                    if 'ADJF' in mo.tag:\n",
    "                        t.append([value[0], terms[0][0]])\n",
    "                    if 'NOUN' in mo.tag:\n",
    "                        t.append([terms[0][0], value[0]])\n",
    "            if len(t) > 0:\n",
    "                term_arr = t[0]\n",
    "                term = ' '.join(term_arr)\n",
    "            spl = key.split()\n",
    "            verb_indx = spl.index(verb[0])\n",
    "            def_arr = spl[verb_indx:]\n",
    "            defn = ' '.join(def_arr)\n",
    "            d_4[term] = defn"
   ]
  },
  {
   "cell_type": "code",
   "execution_count": 38,
   "metadata": {},
   "outputs": [],
   "source": [
    "#defs_5\n",
    "d_5 = {}\n",
    "for key, values in synt_5.items():\n",
    "    index = []\n",
    "    verb = []\n",
    "    for idx, i in enumerate(values):\n",
    "        m = morph.parse(i[0])\n",
    "        if isinstance(m, list):\n",
    "            m = m[0]\n",
    "        if m.normal_form == 'называть' and 'PRTF' in m.tag and 'pssv' in m.tag:\n",
    "            index.append(idx)\n",
    "            verb.append(i[0])\n",
    "    if len(index) > 0:\n",
    "        terms = []\n",
    "        for indx, value in enumerate(values):\n",
    "            m = morph.parse(value[0])\n",
    "            if isinstance(m, list):\n",
    "                m = m[0]\n",
    "            if 'NOUN' in m.tag or 'ADJF' in m.tag:\n",
    "                if value[1] == str(index[0]):\n",
    "                    terms.append([value[0], indx])\n",
    "        if len(terms) > 0:\n",
    "            term = terms[0][0]\n",
    "            t = []\n",
    "            for indx, value in enumerate(values):\n",
    "                if value[1] == str(terms[0][1]):\n",
    "                    mo = morph.parse(value[0])\n",
    "                    if isinstance(mo, list):\n",
    "                        mo = mo[0]\n",
    "                    if 'ADJF' in mo.tag:\n",
    "                        t.append([value[0], terms[0][0]])\n",
    "                    if 'NOUN' in mo.tag:\n",
    "                        t.append([terms[0][0], value[0]])\n",
    "            if len(t) > 0:\n",
    "                term_arr = t[0]\n",
    "                term = ' '.join(term_arr)\n",
    "            spl_bad = key.split()\n",
    "            spl = []\n",
    "            for i in spl_bad:\n",
    "                s = re.sub(r'[()»:«'',\"]', '', i)\n",
    "                spl.append(s)\n",
    "            verb_indx = spl.index(verb[0])\n",
    "            def_arr = spl[:verb_indx]\n",
    "            defn = ' '.join(def_arr)\n",
    "            d_5[term] = defn"
   ]
  },
  {
   "cell_type": "code",
   "execution_count": 39,
   "metadata": {},
   "outputs": [],
   "source": [
    "#defs_6\n",
    "d_6 = {}\n",
    "verbs = ['составлять', 'образовать', 'изучать', 'обозначать', 'выражать', 'указывать']\n",
    "for key, values in synt_6.items():\n",
    "    index = []\n",
    "    verb = []\n",
    "    for idx, i in enumerate(values):\n",
    "        m = morph.parse(i[0])\n",
    "        if isinstance(m, list):\n",
    "            m = m[0]\n",
    "        if m.normal_form in verbs and 'VERB' in m.tag:\n",
    "            index.append(idx)\n",
    "            verb.append(i[0])\n",
    "    if len(index) > 0:\n",
    "        terms = []\n",
    "        for indx, value in enumerate(values):\n",
    "            m = morph.parse(value[0])\n",
    "            if isinstance(m, list):\n",
    "                m = m[0]\n",
    "            if 'NOUN' in m.tag or 'ADJF' in m.tag:\n",
    "                if value[1] == str(index[0]):\n",
    "                    terms.append([value[0], indx])\n",
    "        if len(terms) > 0:\n",
    "            term = terms[0][0]\n",
    "            t = []\n",
    "            for indx, value in enumerate(values):\n",
    "                if value[1] == str(terms[0][1]):\n",
    "                    mo = morph.parse(value[0])\n",
    "                    if isinstance(mo, list):\n",
    "                        mo = mo[0]\n",
    "                    if 'ADJF' in mo.tag:\n",
    "                        t.append([value[0], terms[0][0]])\n",
    "                    if 'NOUN' in mo.tag:\n",
    "                        t.append([terms[0][0], value[0]])\n",
    "            if len(t) > 0:\n",
    "                term_arr = t[0]\n",
    "                term = ' '.join(term_arr)\n",
    "            spl_bad = key.split()\n",
    "            spl = []\n",
    "            for i in spl_bad:\n",
    "                s = re.sub(r'[()»«'',\"]', '', i)\n",
    "                spl.append(s)\n",
    "            verb_indx = spl.index(verb[0])\n",
    "            def_arr = spl[verb_indx:]\n",
    "            defn = ' '.join(def_arr)\n",
    "            d_6[term] = defn"
   ]
  },
  {
   "cell_type": "code",
   "execution_count": 40,
   "metadata": {},
   "outputs": [],
   "source": [
    "#defs_7\n",
    "d_7 = {}\n",
    "verbs = ['пониматься', 'разуметься', 'понимать', 'разуметь', 'объединяться'] \n",
    "for key, values in synt_7.items():\n",
    "    index = []\n",
    "    verb = []\n",
    "    pod_indx = []\n",
    "    for idx, i in enumerate(values):\n",
    "        if i[0] == 'под':\n",
    "            pod_indx.append(idx)\n",
    "        else:\n",
    "            m = morph.parse(i[0])\n",
    "            if isinstance(m, list):\n",
    "                m = m[0]\n",
    "            if m.normal_form in verbs and 'VERB' in m.tag and 'pres' in m.tag:\n",
    "                index.append(idx)\n",
    "                verb.append(i[0])\n",
    "    if len(pod_indx) > 0:\n",
    "        terms = []\n",
    "        for indx, value in enumerate(values):\n",
    "            m = morph.parse(value[0])\n",
    "            if isinstance(m, list):\n",
    "                m = m[0]\n",
    "            if 'NOUN' in m.tag or 'ADJF' in m.tag:\n",
    "                if value[1] == str(pod_indx[0]):\n",
    "                    terms.append([value[0], indx])\n",
    "        if len(terms) > 0:\n",
    "            term = terms[0][0]\n",
    "            t = []\n",
    "            for indx, value in enumerate(values):\n",
    "                if value[1] == str(terms[0][1]):\n",
    "                    mo = morph.parse(value[0])\n",
    "                    if isinstance(mo, list):\n",
    "                        mo = mo[0]\n",
    "                    if 'ADJF' in mo.tag:\n",
    "                        t.append([value[0], terms[0][0]])\n",
    "                    if 'NOUN' in mo.tag:\n",
    "                        t.append([terms[0][0], value[0]])\n",
    "            if len(t) > 0:\n",
    "                term_arr = t[0]\n",
    "                term = ' '.join(term_arr)\n",
    "            spl_bad = key.split()\n",
    "            spl = []\n",
    "            for i in spl_bad:\n",
    "                s = re.sub(r'[()»:«'',\"]', '', i)\n",
    "                spl.append(s)\n",
    "            verb_indx = spl.index(verb[0])\n",
    "            def_arr = spl[verb_indx:]\n",
    "            defn = ' '.join(def_arr)\n",
    "            d_7[term] = defn"
   ]
  },
  {
   "cell_type": "code",
   "execution_count": 41,
   "metadata": {},
   "outputs": [],
   "source": [
    "#defs_8\n",
    "d_8 = {}\n",
    "for key, values in synt_8.items():\n",
    "    index = []\n",
    "    verb = []\n",
    "    k_indx = []\n",
    "    for idx, i in enumerate(values):\n",
    "        if i[0] == 'к':\n",
    "            k_indx.append(idx)\n",
    "        else:\n",
    "            m = morph.parse(i[0])\n",
    "            if isinstance(m, list):\n",
    "                m = m[0]\n",
    "            if m.normal_form == 'относиться' and 'VERB' in m.tag and 'pres' in m.tag:\n",
    "                index.append(idx)\n",
    "                verb.append(i[0])\n",
    "    if len(k_indx) > 0 and len(verb) > 0:\n",
    "        terms = []\n",
    "        for indx, value in enumerate(values):\n",
    "            m = morph.parse(value[0])\n",
    "            if isinstance(m, list):\n",
    "                m = m[0]\n",
    "            if 'NOUN' in m.tag or 'ADJF' in m.tag:\n",
    "                if value[1] == str(k_indx[0]):\n",
    "                    terms.append([value[0], indx])\n",
    "        if len(terms) > 0:\n",
    "            term = terms[0][0]\n",
    "            t = []\n",
    "            for indx, value in enumerate(values):\n",
    "                if value[1] == str(terms[0][1]):\n",
    "                    mo = morph.parse(value[0])\n",
    "                    if isinstance(mo, list):\n",
    "                        mo = mo[0]\n",
    "                    if 'ADJF' in mo.tag:\n",
    "                        t.append([value[0], terms[0][0]])\n",
    "                    if 'NOUN' in mo.tag:\n",
    "                        t.append([terms[0][0], value[0]])\n",
    "            if len(t) > 0:\n",
    "                term_arr = t[0]\n",
    "                term = ' '.join(term_arr)\n",
    "            spl_bad = key.split()\n",
    "            spl = []\n",
    "            for i in spl_bad:\n",
    "                s = re.sub(r'[()»:«'',\"]', '', i)\n",
    "                spl.append(s)\n",
    "            verb_indx = spl.index(verb[0])\n",
    "            def_arr = spl[:verb_indx]\n",
    "            defn = ' '.join(def_arr)\n",
    "            d_8[term] = defn"
   ]
  },
  {
   "cell_type": "code",
   "execution_count": 42,
   "metadata": {},
   "outputs": [],
   "source": [
    "#defs_9\n",
    "d_9 = {}\n",
    "for key, values in synt_9.items():\n",
    "    index = []\n",
    "    verb = []\n",
    "    for idx, i in enumerate(values):\n",
    "        m = morph.parse(i[0])\n",
    "        if isinstance(m, list):\n",
    "            m = m[0]\n",
    "        if m.normal_form == 'быть' and 'VERB' in m.tag and 'pres' in m.tag:\n",
    "            index.append(idx)\n",
    "            verb.append(i[0])\n",
    "        elif m.normal_form == 'быть' and 'INTJ' in m.tag:  \n",
    "            index.append(idx)\n",
    "            verb.append(i[0]) \n",
    "    if len(index) > 0:\n",
    "        terms = []\n",
    "        for indx, value in enumerate(values):\n",
    "            m = morph.parse(value[0])\n",
    "            if isinstance(m, list):\n",
    "                m = m[0]\n",
    "            if 'NOUN' in m.tag or 'ADJF' in m.tag:\n",
    "                if value[1] == str(index[0]):\n",
    "                    terms.append([value[0], indx])\n",
    "        if len(terms) > 0:\n",
    "            term = terms[0][0]\n",
    "            t = []\n",
    "            for indx, value in enumerate(values):\n",
    "                if value[1] == str(terms[0][1]):\n",
    "                    mo = morph.parse(value[0])\n",
    "                    if isinstance(mo, list):\n",
    "                        mo = mo[0]\n",
    "                    if 'ADJF' in mo.tag:\n",
    "                        t.append([value[0], terms[0][0]])\n",
    "                    if 'NOUN' in mo.tag:\n",
    "                        t.append([terms[0][0], value[0]])\n",
    "            if len(t) > 0:\n",
    "                term_arr = t[0]\n",
    "                term = ' '.join(term_arr)\n",
    "            spl_bad = key.split()\n",
    "            spl = []\n",
    "            for i in spl_bad:\n",
    "                s = re.sub(r'[()»:«'',\"]', '', i)\n",
    "                spl.append(s)\n",
    "            verb_indx = spl.index(verb[0])\n",
    "            def_arr = spl[verb_indx:]\n",
    "            defn = ' '.join(def_arr)\n",
    "            d_9[term] = defn"
   ]
  },
  {
   "cell_type": "code",
   "execution_count": 43,
   "metadata": {},
   "outputs": [],
   "source": [
    "#defs_10\n",
    "d_10 = {}\n",
    "for key, values in synt_10.items():\n",
    "    index = []\n",
    "    verb = []\n",
    "    for idx, i in enumerate(values):\n",
    "        m = morph.parse(i[0])\n",
    "        if isinstance(m, list):\n",
    "            m = m[0]\n",
    "        if m.normal_form == 'заключаться' and 'VERB' in m.tag:\n",
    "            index.append(idx)\n",
    "            verb.append(i[0])\n",
    "    if len(index) > 0:\n",
    "        terms = []\n",
    "        for indx, value in enumerate(values):\n",
    "            m = morph.parse(value[0])\n",
    "            if isinstance(m, list):\n",
    "                m = m[0]\n",
    "            if 'NOUN' in m.tag or 'ADJF' in m.tag:\n",
    "                if value[1] == str(index[0]):\n",
    "                    terms.append([value[0], indx])\n",
    "        if len(terms) > 0:\n",
    "            term = terms[0][0]\n",
    "            t = []\n",
    "            for indx, value in enumerate(values):\n",
    "                if value[1] == str(terms[0][1]):\n",
    "                    mo = morph.parse(value[0])\n",
    "                    if isinstance(mo, list):\n",
    "                        mo = mo[0]\n",
    "                    if 'ADJF' in mo.tag:\n",
    "                        t.append([value[0], terms[0][0]])\n",
    "                    if 'NOUN' in mo.tag:\n",
    "                        t.append([terms[0][0], value[0]])\n",
    "            if len(t) > 0:\n",
    "                term_arr = t[0]\n",
    "                term = ' '.join(term_arr)\n",
    "            spl = key.split()\n",
    "            verb_indx = spl.index(verb[0])\n",
    "            def_arr = spl[verb_indx:]\n",
    "            defn = ' '.join(def_arr)\n",
    "            d_10[term] = defn"
   ]
  },
  {
   "cell_type": "code",
   "execution_count": 44,
   "metadata": {},
   "outputs": [],
   "source": [
    "#defs_11\n",
    "d_11 = {}\n",
    "for key, values in synt_11.items():\n",
    "    index = []\n",
    "    verb = []\n",
    "    for idx, i in enumerate(values):\n",
    "        m = morph.parse(i[0])\n",
    "        if isinstance(m, list):\n",
    "            m = m[0]\n",
    "        if m.normal_form == 'состоять' and 'VERB' in m.tag and 'pres' in m.tag:\n",
    "            index.append(idx)\n",
    "            verb.append(i[0])\n",
    "    if len(index) > 0:\n",
    "        terms = []\n",
    "        for indx, value in enumerate(values):\n",
    "            m = morph.parse(value[0])\n",
    "            if isinstance(m, list):\n",
    "                m = m[0]\n",
    "            if 'NOUN' in m.tag or 'ADJF' in m.tag:\n",
    "                if value[1] == str(index[0]):\n",
    "                    terms.append([value[0], indx])\n",
    "        if len(terms) > 0:\n",
    "            term = terms[0][0]\n",
    "            t = []\n",
    "            for indx, value in enumerate(values):\n",
    "                if value[1] == str(terms[0][1]):\n",
    "                    mo = morph.parse(value[0])\n",
    "                    if isinstance(mo, list):\n",
    "                        mo = mo[0]\n",
    "                    if 'ADJF' in mo.tag:\n",
    "                        t.append([value[0], terms[0][0]])\n",
    "                    if 'NOUN' in mo.tag:\n",
    "                        t.append([terms[0][0], value[0]])\n",
    "            if len(t) > 0:\n",
    "                term_arr = t[0]\n",
    "                term = ' '.join(term_arr)\n",
    "            spl_bad = key.split()\n",
    "            spl = []\n",
    "            for i in spl_bad:\n",
    "                s = re.sub(r'[()»:«'',\"]', '', i)\n",
    "                spl.append(s)\n",
    "            verb_indx = spl.index(verb[0])\n",
    "            def_arr = spl[verb_indx:]\n",
    "            defn = ' '.join(def_arr)\n",
    "            d_11[term] = defn"
   ]
  },
  {
   "cell_type": "code",
   "execution_count": 45,
   "metadata": {},
   "outputs": [],
   "source": [
    "#defs_12\n",
    "d_12 = {}\n",
    "verbs = ['включать', 'представлять']\n",
    "for key, values in synt_12.items():\n",
    "    index = []\n",
    "    verb = []\n",
    "    for idx, i in enumerate(values):\n",
    "        m = morph.parse(i[0])\n",
    "        if isinstance(m, list):\n",
    "            m = m[0]\n",
    "        if m.normal_form in verbs and 'VERB' in m.tag and 'pres' in m.tag:\n",
    "            index.append(idx)\n",
    "            verb.append(i[0])\n",
    "    if len(index) > 0:\n",
    "        terms = []\n",
    "        for indx, value in enumerate(values):\n",
    "            m = morph.parse(value[0])\n",
    "            if isinstance(m, list):\n",
    "                m = m[0]\n",
    "            if 'NOUN' in m.tag or 'ADJF' in m.tag:\n",
    "                if value[1] == str(index[0]):\n",
    "                    terms.append([value[0], indx])\n",
    "        if len(terms) > 0:\n",
    "            term = terms[0][0]\n",
    "            t = []\n",
    "            for indx, value in enumerate(values):\n",
    "                if value[1] == str(terms[0][1]):\n",
    "                    mo = morph.parse(value[0])\n",
    "                    if isinstance(mo, list):\n",
    "                        mo = mo[0]\n",
    "                    if 'ADJF' in mo.tag:\n",
    "                        t.append([value[0], terms[0][0]])\n",
    "                    if 'NOUN' in mo.tag:\n",
    "                        t.append([terms[0][0], value[0]])\n",
    "            if len(t) > 0:\n",
    "                term_arr = t[0]\n",
    "                term = ' '.join(term_arr)\n",
    "            spl_bad = key.split()\n",
    "            spl = []\n",
    "            for i in spl_bad:\n",
    "                s = re.sub(r'[()»:«'',\"]', '', i)\n",
    "                spl.append(s)\n",
    "            verb_indx = spl.index(verb[0])\n",
    "            def_arr = spl[verb_indx:]\n",
    "            defn = ' '.join(def_arr)\n",
    "            d_12[term] = defn"
   ]
  },
  {
   "cell_type": "code",
   "execution_count": 112,
   "metadata": {},
   "outputs": [
    {
     "name": "stdout",
     "output_type": "stream",
     "text": [
      "Sentence has subject: Изучение\n"
     ]
    }
   ],
   "source": [
    "values = [('Изучение',\n",
    "   4),\n",
    "  ('фундаментальных', 3),\n",
    "  ('синтаксических', 3),\n",
    "  ('связей', 0),\n",
    "  ('является', -1),\n",
    "  ('центральным', 6),\n",
    "  ('вопросом', 4),\n",
    "  ('синтаксиса', 6)]\n",
    "          \n",
    "def parseFrom(n, data):\n",
    "    if values[n][1] != -1:\n",
    "        #print('Stepping (%s,%d)' % (values[n][0], values[n][1]))\n",
    "        data.append(values[n][0])\n",
    "        return parseFrom(values[n][1], data)\n",
    "    else:\n",
    "        #print('At verb')\n",
    "        return data\n",
    "\n",
    "subject = ' '.join(parseFrom(0, []))\n",
    "\n",
    "print('Sentence has subject:', subject)"
   ]
  },
  {
   "cell_type": "code",
   "execution_count": 174,
   "metadata": {},
   "outputs": [
    {
     "data": {
      "text/plain": [
       "[Parse(word='сложноподчинённым', tag=OpencorporaTag('ADJF masc,sing,ablt'), normal_form='сложноподчинённый', score=0.3333333333333333, methods_stack=((<DictionaryAnalyzer>, 'сложноподчинённым', 118, 5),)),\n",
       " Parse(word='сложноподчинённым', tag=OpencorporaTag('ADJF neut,sing,ablt'), normal_form='сложноподчинённый', score=0.3333333333333333, methods_stack=((<DictionaryAnalyzer>, 'сложноподчинённым', 118, 18),)),\n",
       " Parse(word='сложноподчинённым', tag=OpencorporaTag('ADJF plur,datv'), normal_form='сложноподчинённый', score=0.3333333333333333, methods_stack=((<DictionaryAnalyzer>, 'сложноподчинённым', 118, 22),))]"
      ]
     },
     "execution_count": 174,
     "metadata": {},
     "output_type": "execute_result"
    }
   ],
   "source": [
    "w = 'сложноподчиненным'\n",
    "m = morph.parse(w)\n",
    "m\n",
    "#m[0].normal_form"
   ]
  },
  {
   "cell_type": "code",
   "execution_count": 46,
   "metadata": {},
   "outputs": [],
   "source": [
    "import sys\n",
    "import gensim, logging"
   ]
  },
  {
   "cell_type": "code",
   "execution_count": 47,
   "metadata": {},
   "outputs": [],
   "source": [
    "logging.basicConfig(format='%(asctime)s : %(levelname)s : %(message)s', level=logging.INFO)"
   ]
  },
  {
   "cell_type": "code",
   "execution_count": 48,
   "metadata": {},
   "outputs": [],
   "source": [
    "with open('gram_1.txt', 'r', encoding = 'utf-8') as a:\n",
    "    text_1 = a.read()\n",
    "with open('gram_2.txt', 'r', encoding = 'utf-8') as b:\n",
    "    text_2 = b.read()\n",
    "with open('gram_3.txt', 'r', encoding = 'utf-8') as c:\n",
    "    text_3 = c.read()\n",
    "with open('gram_4.txt', 'r', encoding = 'utf-8') as d:\n",
    "    text_4 = d.read()\n",
    "with open('gram_5.txt', 'r', encoding = 'utf-8') as e:\n",
    "    text_5 = e.read()\n",
    "with open('gram_6.txt', 'r', encoding = 'utf-8') as f:\n",
    "    text_6 = f.read()\n",
    "with open('gram_7.txt', 'r', encoding = 'utf-8') as g:\n",
    "    text_7 = g.read()\n",
    "with open('gram_8.txt', 'r', encoding = 'utf-8') as h:\n",
    "    text_8 = h.read()\n",
    "with open('gram_9.txt', 'r', encoding = 'utf-8') as i:\n",
    "    text_9 = i.read()\n",
    "with open('gram_10.txt', 'r', encoding = 'utf-8') as j:\n",
    "    text_10 = j.read()\n",
    "with open('gram_11.txt', 'r', encoding = 'utf-8') as k:\n",
    "    text_11 = k.read()\n",
    "with open('gram_12.txt', 'r', encoding = 'utf-8') as l:\n",
    "    text_12 = l.read()\n",
    "with open('gram_13.txt', 'r', encoding = 'utf-8') as m:\n",
    "    text_13 = m.read()\n",
    "with open('gram_14.txt', 'r', encoding = 'utf-8') as n:\n",
    "    text_14 = n.read()\n",
    "with open('gram_15.txt', 'r', encoding = 'utf-8') as o:\n",
    "    text_15 = o.read()\n",
    "with open('gram_16.txt', 'r', encoding = 'utf-8') as p:\n",
    "    text_16 = p.read()"
   ]
  },
  {
   "cell_type": "code",
   "execution_count": 49,
   "metadata": {},
   "outputs": [],
   "source": [
    "bad_grams = text_1 + text_2 + text_3 + text_4 + text_5 + text_6 + text_7 + text_8 + text_9 + text_10 + text_11 + text_12 + text_13 + text_14 + text_15 + text_16"
   ]
  },
  {
   "cell_type": "code",
   "execution_count": 50,
   "metadata": {},
   "outputs": [],
   "source": [
    "reg_n = re.compile('(\\n)+', re.DOTALL)\n",
    "reg_space = re.compile('\\s{2,}', re.DOTALL)\n",
    "text = reg_n.sub(' ', bad_grams)\n",
    "text = reg_space.sub(' ', text)\n",
    "sents = re.split('(?<=[.!?]) (?=[A-ЯЁA-Z])', text)  "
   ]
  },
  {
   "cell_type": "code",
   "execution_count": 51,
   "metadata": {},
   "outputs": [],
   "source": [
    "import string\n",
    "gr = []\n",
    "for sent in sents:\n",
    "    arr = []\n",
    "    new = sent.translate(str.maketrans('', '', string.punctuation))\n",
    "    new = new.lower()\n",
    "    for i in new.split():\n",
    "        m = morph.parse(i)\n",
    "        if isinstance(m, list):\n",
    "            m = m[0]\n",
    "        arr.append(m.normal_form)\n",
    "    gr.append(arr)"
   ]
  },
  {
   "cell_type": "code",
   "execution_count": 52,
   "metadata": {},
   "outputs": [
    {
     "data": {
      "text/plain": [
       "153219"
      ]
     },
     "execution_count": 52,
     "metadata": {},
     "output_type": "execute_result"
    }
   ],
   "source": [
    "len(gr)"
   ]
  },
  {
   "cell_type": "code",
   "execution_count": 53,
   "metadata": {},
   "outputs": [],
   "source": [
    "with open('grams.txt', 'w', encoding = 'utf-8') as q:\n",
    "    for i in gr:\n",
    "        s = ' '.join(i)\n",
    "        n = re.sub(r'[()»:«'',\"0-9*&%#№$@§\u0004▬]', '', s)\n",
    "        if re.search(r'­\\n', n):\n",
    "            n = re.sub(r'­\\n', '', n)\n",
    "        q.write(n)\n",
    "        q.write('\\n')"
   ]
  },
  {
   "cell_type": "code",
   "execution_count": 54,
   "metadata": {},
   "outputs": [],
   "source": [
    "data = gensim.models.word2vec.LineSentence('grams.txt')"
   ]
  },
  {
   "cell_type": "code",
   "execution_count": 55,
   "metadata": {},
   "outputs": [
    {
     "name": "stderr",
     "output_type": "stream",
     "text": [
      "2019-09-30 20:25:23,588 : INFO : collecting all words and their counts\n",
      "2019-09-30 20:25:23,604 : INFO : PROGRESS: at sentence #0, processed 0 words, keeping 0 word types\n",
      "2019-09-30 20:25:23,780 : INFO : PROGRESS: at sentence #10000, processed 135774 words, keeping 12531 word types\n",
      "2019-09-30 20:25:23,917 : INFO : PROGRESS: at sentence #20000, processed 236578 words, keeping 21164 word types\n",
      "2019-09-30 20:25:24,020 : INFO : PROGRESS: at sentence #30000, processed 347898 words, keeping 28404 word types\n",
      "2019-09-30 20:25:24,130 : INFO : PROGRESS: at sentence #40000, processed 462888 words, keeping 38370 word types\n",
      "2019-09-30 20:25:24,320 : INFO : PROGRESS: at sentence #50000, processed 700321 words, keeping 52255 word types\n",
      "2019-09-30 20:25:24,461 : INFO : PROGRESS: at sentence #60000, processed 867037 words, keeping 57653 word types\n",
      "2019-09-30 20:25:24,619 : INFO : PROGRESS: at sentence #70000, processed 1060624 words, keeping 68789 word types\n",
      "2019-09-30 20:25:24,813 : INFO : PROGRESS: at sentence #80000, processed 1273194 words, keeping 91245 word types\n",
      "2019-09-30 20:25:25,042 : INFO : PROGRESS: at sentence #90000, processed 1533552 words, keeping 98298 word types\n",
      "2019-09-30 20:25:25,274 : INFO : PROGRESS: at sentence #100000, processed 1812221 words, keeping 102957 word types\n",
      "2019-09-30 20:25:25,507 : INFO : PROGRESS: at sentence #110000, processed 2069021 words, keeping 106506 word types\n",
      "2019-09-30 20:25:25,694 : INFO : PROGRESS: at sentence #120000, processed 2260190 words, keeping 108995 word types\n",
      "2019-09-30 20:25:25,878 : INFO : PROGRESS: at sentence #130000, processed 2441898 words, keeping 112986 word types\n",
      "2019-09-30 20:25:26,222 : INFO : PROGRESS: at sentence #140000, processed 2657978 words, keeping 116508 word types\n",
      "2019-09-30 20:25:26,722 : INFO : collected 127703 word types from a corpus of 2858724 raw words and 147631 sentences\n",
      "2019-09-30 20:25:26,737 : INFO : Loading a fresh vocabulary\n",
      "2019-09-30 20:25:27,074 : INFO : effective_min_count=2 retains 57658 unique words (45% of original 127703, drops 70045)\n",
      "2019-09-30 20:25:27,074 : INFO : effective_min_count=2 leaves 2788679 word corpus (97% of original 2858724, drops 70045)\n",
      "2019-09-30 20:25:27,455 : INFO : deleting the raw counts dictionary of 127703 items\n",
      "2019-09-30 20:25:27,469 : INFO : sample=0.001 downsamples 48 most-common words\n",
      "2019-09-30 20:25:27,470 : INFO : downsampling leaves estimated 2280794 word corpus (81.8% of prior 2788679)\n",
      "2019-09-30 20:25:27,808 : INFO : estimated required memory for 57658 words and 100 dimensions: 74955400 bytes\n",
      "2019-09-30 20:25:27,808 : INFO : resetting layer weights\n",
      "2019-09-30 20:25:29,197 : INFO : training model with 3 workers on 57658 vocabulary and 100 features, using sg=0 hs=0 sample=0.001 negative=5 window=10\n",
      "2019-09-30 20:25:30,205 : INFO : EPOCH 1 - PROGRESS: at 22.04% examples, 300294 words/s, in_qsize 5, out_qsize 0\n",
      "2019-09-30 20:25:31,215 : INFO : EPOCH 1 - PROGRESS: at 37.81% examples, 316804 words/s, in_qsize 5, out_qsize 0\n",
      "2019-09-30 20:25:32,213 : INFO : EPOCH 1 - PROGRESS: at 52.78% examples, 322239 words/s, in_qsize 5, out_qsize 0\n",
      "2019-09-30 20:25:33,238 : INFO : EPOCH 1 - PROGRESS: at 64.35% examples, 322794 words/s, in_qsize 6, out_qsize 0\n",
      "2019-09-30 20:25:34,242 : INFO : EPOCH 1 - PROGRESS: at 74.48% examples, 323495 words/s, in_qsize 5, out_qsize 0\n",
      "2019-09-30 20:25:35,255 : INFO : EPOCH 1 - PROGRESS: at 89.04% examples, 325327 words/s, in_qsize 5, out_qsize 0\n",
      "2019-09-30 20:25:36,155 : INFO : worker thread finished; awaiting finish of 2 more threads\n",
      "2019-09-30 20:25:36,175 : INFO : worker thread finished; awaiting finish of 1 more threads\n",
      "2019-09-30 20:25:36,191 : INFO : worker thread finished; awaiting finish of 0 more threads\n",
      "2019-09-30 20:25:36,192 : INFO : EPOCH - 1 : training on 2858724 raw words (2280964 effective words) took 7.0s, 326337 effective words/s\n",
      "2019-09-30 20:25:37,208 : INFO : EPOCH 2 - PROGRESS: at 22.72% examples, 305760 words/s, in_qsize 2, out_qsize 0\n",
      "2019-09-30 20:25:38,229 : INFO : EPOCH 2 - PROGRESS: at 38.19% examples, 316629 words/s, in_qsize 5, out_qsize 0\n",
      "2019-09-30 20:25:39,244 : INFO : EPOCH 2 - PROGRESS: at 53.13% examples, 321361 words/s, in_qsize 5, out_qsize 0\n",
      "2019-09-30 20:25:40,265 : INFO : EPOCH 2 - PROGRESS: at 64.53% examples, 322045 words/s, in_qsize 5, out_qsize 0\n",
      "2019-09-30 20:25:41,275 : INFO : EPOCH 2 - PROGRESS: at 75.14% examples, 324290 words/s, in_qsize 4, out_qsize 0\n",
      "2019-09-30 20:25:42,278 : INFO : EPOCH 2 - PROGRESS: at 89.33% examples, 325132 words/s, in_qsize 5, out_qsize 0\n",
      "2019-09-30 20:25:43,176 : INFO : worker thread finished; awaiting finish of 2 more threads\n",
      "2019-09-30 20:25:43,176 : INFO : worker thread finished; awaiting finish of 1 more threads\n",
      "2019-09-30 20:25:43,205 : INFO : worker thread finished; awaiting finish of 0 more threads\n",
      "2019-09-30 20:25:43,206 : INFO : EPOCH - 2 : training on 2858724 raw words (2280843 effective words) took 7.0s, 325491 effective words/s\n",
      "2019-09-30 20:25:44,230 : INFO : EPOCH 3 - PROGRESS: at 22.72% examples, 304696 words/s, in_qsize 1, out_qsize 0\n",
      "2019-09-30 20:25:45,229 : INFO : EPOCH 3 - PROGRESS: at 38.19% examples, 320413 words/s, in_qsize 5, out_qsize 0\n",
      "2019-09-30 20:25:46,233 : INFO : EPOCH 3 - PROGRESS: at 52.78% examples, 322893 words/s, in_qsize 5, out_qsize 0\n",
      "2019-09-30 20:25:47,242 : INFO : EPOCH 3 - PROGRESS: at 64.17% examples, 321349 words/s, in_qsize 5, out_qsize 0\n",
      "2019-09-30 20:25:48,255 : INFO : EPOCH 3 - PROGRESS: at 73.85% examples, 319639 words/s, in_qsize 5, out_qsize 0\n",
      "2019-09-30 20:25:49,275 : INFO : EPOCH 3 - PROGRESS: at 88.48% examples, 321406 words/s, in_qsize 5, out_qsize 0\n",
      "2019-09-30 20:25:50,197 : INFO : worker thread finished; awaiting finish of 2 more threads\n",
      "2019-09-30 20:25:50,229 : INFO : worker thread finished; awaiting finish of 1 more threads\n",
      "2019-09-30 20:25:50,255 : INFO : worker thread finished; awaiting finish of 0 more threads\n",
      "2019-09-30 20:25:50,257 : INFO : EPOCH - 3 : training on 2858724 raw words (2280177 effective words) took 7.0s, 323814 effective words/s\n",
      "2019-09-30 20:25:51,270 : INFO : EPOCH 4 - PROGRESS: at 22.72% examples, 306869 words/s, in_qsize 4, out_qsize 0\n",
      "2019-09-30 20:25:52,282 : INFO : EPOCH 4 - PROGRESS: at 38.19% examples, 319718 words/s, in_qsize 6, out_qsize 0\n",
      "2019-09-30 20:25:53,287 : INFO : EPOCH 4 - PROGRESS: at 53.13% examples, 324722 words/s, in_qsize 5, out_qsize 0\n",
      "2019-09-30 20:25:54,276 : INFO : EPOCH 4 - PROGRESS: at 64.53% examples, 325091 words/s, in_qsize 5, out_qsize 0\n",
      "2019-09-30 20:25:55,292 : INFO : EPOCH 4 - PROGRESS: at 74.48% examples, 323367 words/s, in_qsize 5, out_qsize 0\n",
      "2019-09-30 20:25:56,292 : INFO : EPOCH 4 - PROGRESS: at 89.04% examples, 325665 words/s, in_qsize 5, out_qsize 0\n",
      "2019-09-30 20:25:57,195 : INFO : worker thread finished; awaiting finish of 2 more threads\n",
      "2019-09-30 20:25:57,231 : INFO : worker thread finished; awaiting finish of 1 more threads\n",
      "2019-09-30 20:25:57,244 : INFO : worker thread finished; awaiting finish of 0 more threads\n",
      "2019-09-30 20:25:57,246 : INFO : EPOCH - 4 : training on 2858724 raw words (2280624 effective words) took 7.0s, 326592 effective words/s\n",
      "2019-09-30 20:25:58,273 : INFO : EPOCH 5 - PROGRESS: at 22.04% examples, 293350 words/s, in_qsize 6, out_qsize 0\n",
      "2019-09-30 20:25:59,302 : INFO : EPOCH 5 - PROGRESS: at 37.81% examples, 310692 words/s, in_qsize 6, out_qsize 0\n",
      "2019-09-30 20:26:00,304 : INFO : EPOCH 5 - PROGRESS: at 52.78% examples, 317515 words/s, in_qsize 5, out_qsize 0\n",
      "2019-09-30 20:26:01,342 : INFO : EPOCH 5 - PROGRESS: at 64.53% examples, 319266 words/s, in_qsize 5, out_qsize 0\n",
      "2019-09-30 20:26:02,358 : INFO : EPOCH 5 - PROGRESS: at 75.52% examples, 323217 words/s, in_qsize 5, out_qsize 0\n",
      "2019-09-30 20:26:03,384 : INFO : EPOCH 5 - PROGRESS: at 90.01% examples, 324379 words/s, in_qsize 5, out_qsize 0\n",
      "2019-09-30 20:26:04,265 : INFO : worker thread finished; awaiting finish of 2 more threads\n",
      "2019-09-30 20:26:04,270 : INFO : worker thread finished; awaiting finish of 1 more threads\n",
      "2019-09-30 20:26:04,291 : INFO : worker thread finished; awaiting finish of 0 more threads\n",
      "2019-09-30 20:26:04,293 : INFO : EPOCH - 5 : training on 2858724 raw words (2280558 effective words) took 7.0s, 323840 effective words/s\n"
     ]
    },
    {
     "name": "stderr",
     "output_type": "stream",
     "text": [
      "2019-09-30 20:26:04,294 : INFO : training on a 14293620 raw words (11403166 effective words) took 35.1s, 324921 effective words/s\n"
     ]
    },
    {
     "name": "stdout",
     "output_type": "stream",
     "text": [
      "Wall time: 40.7 s\n"
     ]
    }
   ],
   "source": [
    "%time model = gensim.models.Word2Vec(data, size=100, window=10, min_count=2, sg=0)"
   ]
  },
  {
   "cell_type": "code",
   "execution_count": 56,
   "metadata": {},
   "outputs": [
    {
     "data": {
      "text/plain": [
       "57658"
      ]
     },
     "execution_count": 56,
     "metadata": {},
     "output_type": "execute_result"
    }
   ],
   "source": [
    "len(model.wv.vocab)"
   ]
  },
  {
   "cell_type": "code",
   "execution_count": 58,
   "metadata": {},
   "outputs": [
    {
     "data": {
      "text/plain": [
       "array([ 1.2025212 , -1.2315123 , -3.328977  ,  1.4313164 ,  1.4565957 ,\n",
       "        1.8676387 , -0.6284736 , -1.146776  ,  1.2687451 , -2.666671  ,\n",
       "       -0.6473771 ,  1.6889073 , -3.9650297 ,  0.05500857,  1.790556  ,\n",
       "        2.3248935 ,  0.692677  ,  0.9584283 ,  1.3656814 , -2.927298  ,\n",
       "        0.41663447,  2.404571  , -0.18257987, -0.9005837 , -0.5248092 ,\n",
       "       -3.3818555 , -2.7859886 , -0.8787803 , -0.32460278, -0.58298457,\n",
       "        0.6350306 , -0.2471617 ,  1.5941707 ,  0.44777304, -2.8125572 ,\n",
       "       -1.0776373 ,  3.8634112 ,  2.1995158 , -0.8731895 , -0.5023174 ,\n",
       "        2.1620357 , -1.6673069 ,  0.80213267, -0.68688726, -0.47856465,\n",
       "       -3.9808483 ,  0.9144581 , -1.2428154 , -0.87422657,  1.5527365 ,\n",
       "        0.9777513 ,  1.9406496 ,  2.945947  ,  0.95789266, -0.06829539,\n",
       "       -0.5327529 , -0.8655824 ,  1.8941174 ,  0.20417775, -0.4743431 ,\n",
       "       -5.809748  ,  1.8421693 , -0.30468222,  2.5718908 , -0.0899735 ,\n",
       "       -0.28338853, -0.40837765, -2.2013113 ,  0.36419314, -1.777408  ,\n",
       "       -1.4007707 , -1.0121214 , -0.8560622 , -1.141531  , -1.7792697 ,\n",
       "       -1.8070737 , -0.9619274 ,  4.365322  , -2.3153663 , -1.9999187 ,\n",
       "       -2.013873  , -1.347644  ,  1.3261384 , -2.7612364 , -4.1946187 ,\n",
       "       -1.8858373 ,  4.044008  ,  2.1018496 , -2.519122  , -1.5899559 ,\n",
       "       -0.03706991,  1.227858  ,  4.0808744 ,  0.8797018 , -0.943517  ,\n",
       "        3.0540078 ,  2.1956592 ,  1.7217768 ,  1.9640108 ,  1.9143965 ],\n",
       "      dtype=float32)"
      ]
     },
     "execution_count": 58,
     "metadata": {},
     "output_type": "execute_result"
    }
   ],
   "source": [
    "model.wv['предложение']"
   ]
  },
  {
   "cell_type": "code",
   "execution_count": 59,
   "metadata": {},
   "outputs": [
    {
     "name": "stderr",
     "output_type": "stream",
     "text": [
      "c:\\users\\asus\\appdata\\local\\programs\\python\\python37-32\\lib\\site-packages\\ipykernel_launcher.py:1: DeprecationWarning: Call to deprecated `most_similar` (Method will be removed in 4.0.0, use self.wv.most_similar() instead).\n",
      "  \"\"\"Entry point for launching an IPython kernel.\n",
      "2019-09-30 22:01:41,005 : INFO : precomputing L2-norms of word weight vectors\n"
     ]
    },
    {
     "data": {
      "text/plain": [
       "[('предло\\xad', 0.7119869589805603),\n",
       " ('предложе\\xad', 0.6891000866889954),\n",
       " ('предложения', 0.6799916625022888),\n",
       " ('односоставной', 0.6657339334487915),\n",
       " ('пред\\xad', 0.6499176025390625),\n",
       " ('конструкция', 0.6453999876976013),\n",
       " ('жения', 0.6446036696434021),\n",
       " ('неполный', 0.639857828617096),\n",
       " ('двусоставной', 0.6278507709503174),\n",
       " ('сказуемое', 0.604745626449585)]"
      ]
     },
     "execution_count": 59,
     "metadata": {},
     "output_type": "execute_result"
    }
   ],
   "source": [
    "model.most_similar(positive='предложение')"
   ]
  },
  {
   "cell_type": "code",
   "execution_count": 67,
   "metadata": {},
   "outputs": [],
   "source": [
    "import csv"
   ]
  },
  {
   "cell_type": "code",
   "execution_count": 74,
   "metadata": {},
   "outputs": [
    {
     "name": "stderr",
     "output_type": "stream",
     "text": [
      "c:\\users\\asus\\appdata\\local\\programs\\python\\python37-32\\lib\\site-packages\\ipykernel_launcher.py:23: DeprecationWarning: Call to deprecated `__contains__` (Method will be removed in 4.0.0, use self.wv.__contains__() instead).\n",
      "c:\\users\\asus\\appdata\\local\\programs\\python\\python37-32\\lib\\site-packages\\ipykernel_launcher.py:24: DeprecationWarning: Call to deprecated `__getitem__` (Method will be removed in 4.0.0, use self.wv.__getitem__() instead).\n",
      "c:\\users\\asus\\appdata\\local\\programs\\python\\python37-32\\lib\\site-packages\\ipykernel_launcher.py:29: DeprecationWarning: Call to deprecated `__contains__` (Method will be removed in 4.0.0, use self.wv.__contains__() instead).\n",
      "c:\\users\\asus\\appdata\\local\\programs\\python\\python37-32\\lib\\site-packages\\ipykernel_launcher.py:30: DeprecationWarning: Call to deprecated `__getitem__` (Method will be removed in 4.0.0, use self.wv.__getitem__() instead).\n"
     ]
    }
   ],
   "source": [
    "with open('term_def.csv', 'r', encoding = 'utf-8') as f_obj:\n",
    "    file = csv.reader(f_obj)\n",
    "    defs_vectors = []\n",
    "    for row in file:\n",
    "        term = row[0].translate(str.maketrans('', '', string.punctuation))\n",
    "        term = re.sub(r'[()»:«'',\"0-9*&%#№$@§\u0004▬]', '', term)\n",
    "        defn = row[1].translate(str.maketrans('', '', string.punctuation))\n",
    "        defn = re.sub(r'[()»:«'',\"0-9*&%#№$@§\u0004▬]', '', defn)\n",
    "        trm = []\n",
    "        for i in term.split():\n",
    "            m = morph.parse(i)\n",
    "            if isinstance(m, list):\n",
    "                m = m[0]\n",
    "            trm.append(m.normal_form)\n",
    "        dfn = []\n",
    "        for i in defn.split():\n",
    "            m = morph.parse(i)\n",
    "            if isinstance(m, list):\n",
    "                m = m[0]\n",
    "            dfn.append(m.normal_form)\n",
    "        w_vs = []\n",
    "        for i in trm:\n",
    "            if i in model:\n",
    "                w_vector = model[i]\n",
    "                av = sum(w_vector) / float(len(w_vector))\n",
    "                w_vs.append(av)\n",
    "        d_vs = []\n",
    "        for i in dfn:\n",
    "            if i in model:\n",
    "                d_vector = model[i]\n",
    "                av = sum(d_vector) / float(len(d_vector))\n",
    "                d_vs.append(av)\n",
    "        if len(w_vs) > 0 and len(d_vs) > 0:\n",
    "            w_av = sum(w_vs) / float(len(w_vs))\n",
    "            d_av = sum(d_vs) / float(len(d_vs))\n",
    "            defs_vectors.append([w_av, d_av])"
   ]
  },
  {
   "cell_type": "code",
   "execution_count": 136,
   "metadata": {},
   "outputs": [
    {
     "name": "stderr",
     "output_type": "stream",
     "text": [
      "c:\\users\\asus\\appdata\\local\\programs\\python\\python37-32\\lib\\site-packages\\ipykernel_launcher.py:16: DeprecationWarning: Call to deprecated `__contains__` (Method will be removed in 4.0.0, use self.wv.__contains__() instead).\n",
      "  app.launch_new_instance()\n",
      "c:\\users\\asus\\appdata\\local\\programs\\python\\python37-32\\lib\\site-packages\\ipykernel_launcher.py:17: DeprecationWarning: Call to deprecated `similarity` (Method will be removed in 4.0.0, use self.wv.similarity() instead).\n"
     ]
    }
   ],
   "source": [
    "with open('term_def.csv', 'r', encoding = 'utf-8') as f_obj:\n",
    "    file = csv.reader(f_obj)\n",
    "    defs_vectors = []\n",
    "    sims = []\n",
    "    sims_d = {}\n",
    "    for row in file:\n",
    "        arr = []\n",
    "        term = row[0].translate(str.maketrans('', '', string.punctuation))\n",
    "        term = re.sub(r'[()»:«'',\"0-9*&%#№$@§\u0004▬]', '', term)\n",
    "        term = term.lower()\n",
    "        for i in term.split():\n",
    "            m = morph.parse(i)\n",
    "            if isinstance(m, list):\n",
    "                m = m[0]\n",
    "            for t in terms:\n",
    "                if m.normal_form in model and t in model:\n",
    "                    sim = model.similarity(m.normal_form, t)\n",
    "                    arr.append(sim)\n",
    "        if len(arr) > 0:\n",
    "            sims.append(max(arr))\n",
    "            sims_d[term] = max(arr)        "
   ]
  },
  {
   "cell_type": "code",
   "execution_count": 137,
   "metadata": {},
   "outputs": [],
   "source": [
    "import operator"
   ]
  },
  {
   "cell_type": "code",
   "execution_count": 138,
   "metadata": {},
   "outputs": [
    {
     "data": {
      "text/plain": [
       "[('она', 0.43326607),\n",
       " ('моноремой', 0.5335292),\n",
       " ('так', 0.5952909),\n",
       " ('средой', 0.6055913),\n",
       " ('темпоральность', 0.62935984),\n",
       " ('употребление', 0.65578437),\n",
       " ('непосредст\\xadвенной мотивацией', 0.67739904),\n",
       " ('опо\\xadсредствованной мотивацией', 0.67739904),\n",
       " ('завершенными', 0.71312684),\n",
       " ('векторными величинами', 0.7144908),\n",
       " ('несамостоятельными', 0.7168834),\n",
       " ('субституционными', 0.723764),\n",
       " ('антецедентом', 0.7285499),\n",
       " ('морфологизованными', 0.7381487),\n",
       " ('герундий', 0.7432706),\n",
       " ('предметность', 0.74364007),\n",
       " ('классифицирующей', 0.75033575),\n",
       " ('эллипсис', 0.7555361),\n",
       " ('регулярности', 0.7564047),\n",
       " ('лексически несамостоятельных', 0.7606805),\n",
       " ('вторичнопредикативной', 0.7719399),\n",
       " ('пресуппозицией', 0.7725107),\n",
       " ('полупредикативностью', 0.775444),\n",
       " ('типовыми', 0.7779558),\n",
       " ('кумулема', 0.78397727),\n",
       " ('обобщенноличные', 0.7868857),\n",
       " ('обобщенноличными', 0.7868857),\n",
       " ('типизированных', 0.78792053),\n",
       " ('лексикограмматические разряды', 0.7901107),\n",
       " ('сложение или чистое сло\\xadжение', 0.7904999),\n",
       " ('морфонемой', 0.7916951),\n",
       " ('алломорф', 0.79177505),\n",
       " ('алломорфами', 0.79177505),\n",
       " ('персуазивность', 0.79536784),\n",
       " ('перформативным', 0.802864),\n",
       " ('аттрибутивнопредикативные', 0.80638385),\n",
       " ('производящим', 0.8068218),\n",
       " ('переходность', 0.8081328),\n",
       " ('сегментированным', 0.808286),\n",
       " ('неопределенноличными', 0.80963534),\n",
       " ('наращения', 0.8098739),\n",
       " ('пропозиция', 0.81279004),\n",
       " ('ситуативными', 0.8128608),\n",
       " ('развёртывание', 0.8130992),\n",
       " ('синтаксически делимым', 0.81550133),\n",
       " ('синтаксически неделимым', 0.81550133),\n",
       " ('идентификацию', 0.81761867),\n",
       " ('квеситив', 0.82228047),\n",
       " ('непродуктивными', 0.8239341),\n",
       " ('определенноличными', 0.8266693),\n",
       " ('эквиполентные', 0.8274037),\n",
       " ('импликацией', 0.83031344),\n",
       " ('событийными', 0.83127445),\n",
       " ('событийной', 0.83127445),\n",
       " ('опущение', 0.83233404),\n",
       " ('дублированием компонентов', 0.834057),\n",
       " ('синтаксически организующей', 0.8354167),\n",
       " ('инференцией', 0.835921),\n",
       " ('минимальной', 0.8388716),\n",
       " ('парадигматическим', 0.8443022),\n",
       " ('антиципацией', 0.84451544),\n",
       " ('ссц', 0.845145),\n",
       " ('недостаточными', 0.8451702),\n",
       " ('диктемами ', 0.8495162),\n",
       " ('синтагматическим', 0.8518341),\n",
       " ('исчисляемым', 0.8540086),\n",
       " ('исчисляемыми', 0.8540086),\n",
       " ('традиционно неопределенноличными', 0.85468674),\n",
       " ('неисчисляемыми', 0.8637416),\n",
       " ('элементами непосредственного распространения комплемента', 0.86489433),\n",
       " ('фсп', 0.8675262),\n",
       " ('структурно законченным', 0.868183),\n",
       " ('замещение', 0.86853236),\n",
       " ('замещением', 0.86853236),\n",
       " ('диахроническое', 0.8774913),\n",
       " ('рема', 0.88044757),\n",
       " ('диреме', 0.88247997),\n",
       " ('инерцией', 0.8824995),\n",
       " ('пергаментом', 0.89457744),\n",
       " ('эллипс', 0.9157522),\n",
       " ('директив', 0.92295194),\n",
       " ('внутримодельная формоизменительная синпарадигма', 0.9232222),\n",
       " ('субстантивные', 0.9324411),\n",
       " ('мехом', 0.9377746),\n",
       " ('патиенс', 0.9546649),\n",
       " ('морфологией', 1.0),\n",
       " ('лексемой', 1.0),\n",
       " ('экспрессией слова', 1.0),\n",
       " ('фразеологическими сращениями', 1.0),\n",
       " ('фразеологические единства', 1.0),\n",
       " ('фразеологическими сочетаниями', 1.0),\n",
       " ('аналитический', 1.0),\n",
       " ('такие слова', 1.0),\n",
       " ('формой слова', 1.0),\n",
       " ('форма слова', 1.0),\n",
       " ('формы словоизменения', 1.0),\n",
       " ('формы словообразования', 1.0),\n",
       " ('формообразующими', 1.0),\n",
       " ('суффиксов словообразующих', 1.0),\n",
       " ('живыми продуктивными', 1.0),\n",
       " ('синтаксисом', 1.0),\n",
       " ('знаменательное слово', 1.0),\n",
       " ('область син\\xadтаксиса слова', 1.0),\n",
       " ('словосочетание', 1.0),\n",
       " ('области синтаксиса словосочетания', 1.0),\n",
       " ('синтаксису формы слова', 1.0),\n",
       " ('простое предложение', 1.0),\n",
       " ('сложное предложение', 1.0),\n",
       " ('область синтаксиса сложного предложения', 1.0),\n",
       " ('парадигматические отношения', 1.0),\n",
       " ('синтаксической категорией', 1.0),\n",
       " ('синтаксическими категориями предложения', 1.0),\n",
       " ('присловной подчинительной связью', 1.0),\n",
       " ('подчинительная связь', 1.0),\n",
       " ('сочетаемостью слова', 1.0),\n",
       " ('лексико \\xad грамматическими свойства\\xadми', 1.0),\n",
       " ('информативно недостаточными словами', 1.0),\n",
       " ('первый вид формального вы\\xadражения зависимости', 1.0),\n",
       " ('второй вид формального выражения зависимости', 1.0),\n",
       " ('третий вид формального вы\\xadражения зависимости', 1.0),\n",
       " ('объектные отношения', 1.0),\n",
       " ('определительные отноше\\xadния', 1.0),\n",
       " ('субъектно\\xad определительными', 1.0),\n",
       " ('согласование', 1.0),\n",
       " ('управление', 1.0),\n",
       " ('примыкание', 1.0),\n",
       " ('собственно примыкание', 1.0),\n",
       " ('падежное примыкание', 1.0),\n",
       " ('вариативные связи', 1.0),\n",
       " ('случаям грамматического гла\\xadвенствования группы', 1.0),\n",
       " ('руппы форм находящиеся в зависимой позиции', 1.0),\n",
       " ('семантикой структурной схемы предложения', 1.0),\n",
       " ('семантическая структура предложения', 1.0),\n",
       " ('субъективномодальными значениями', 1.0),\n",
       " ('темой', 1.0),\n",
       " ('актуальным членением', 1.0),\n",
       " ('коммуникативную парадигму предложения', 1.0),\n",
       " ('инверсией', 1.0),\n",
       " ('координацией', 1.0),\n",
       " ('обособлением', 1.0),\n",
       " ('сочинительной связью', 1.0),\n",
       " ('общим', 1.0),\n",
       " ('сочинительной', 1.0),\n",
       " ('частно отрицательными', 1.0),\n",
       " ('двойным отрицанием', 1.0),\n",
       " ('семантика схемы', 1.0),\n",
       " ('придаточным предложением', 1.0),\n",
       " ('местоименно \\xadинтенсифицирующей', 1.0),\n",
       " ('словообразованию', 1.0),\n",
       " ('морфологии', 1.0),\n",
       " ('грамматическая наука', 1.0),\n",
       " ('фонетика', 1.0),\n",
       " ('речевой поток', 1.0),\n",
       " ('фонетиче\\xadской транскрипцией', 1.0),\n",
       " ('слог', 1.0),\n",
       " ('открытые слоги', 1.0),\n",
       " ('закрытые слоги', 1.0),\n",
       " ('сонорные', 1.0),\n",
       " ('шумные', 1.0),\n",
       " ('словообразовательная моти\\xadвация', 1.0),\n",
       " ('словообразовательная це\\xadпочка', 1.0),\n",
       " ('словообразовательное гнездо', 1.0),\n",
       " ('мотивирующая основа', 1.0),\n",
       " ('словообразовательный фор\\xadмант', 1.0),\n",
       " ('словообра\\xadзовательным значением слов', 1.0),\n",
       " ('словообразовательная регулярность', 1.0),\n",
       " ('общим словообразо\\xadвательным значением', 1.0),\n",
       " ('частными словообра\\xadзовательными значениями', 1.0),\n",
       " ('окказиональными словами', 1.0),\n",
       " ('словообразователь\\xadной системой', 1.0),\n",
       " ('продуктивность типа', 1.0),\n",
       " ('способ словообразова\\xadния', 1.0),\n",
       " ('смешанный способ словообразования', 1.0),\n",
       " ('аббревиация', 1.0),\n",
       " ('чередование', 1.0),\n",
       " ('совмещением морфов', 1.0),\n",
       " ('синтаксис языка', 1.0),\n",
       " ('синтаксис как наука', 1.0),\n",
       " ('синтаксис', 1.0),\n",
       " ('фундаментальные понятия синтаксиса', 1.0),\n",
       " ('синтаксические единицы', 1.0),\n",
       " ('словоформы', 1.0),\n",
       " ('члены предложения', 1.0),\n",
       " ('интонация', 1.0),\n",
       " ('грамматическими значениями словосочетаний', 1.0),\n",
       " ('синтаксическая семантика', 1.0),\n",
       " ('лексические значения знаменательных слов', 1.0),\n",
       " ('морфологические формы', 1.0),\n",
       " ('лексический повтор', 1.0),\n",
       " ('тема', 1.0),\n",
       " ('ремой', 1.0),\n",
       " ('язык', 1.0),\n",
       " ('предикативные сочетания', 1.0),\n",
       " ('адъективные', 1.0),\n",
       " ('словосочетания наречные', 1.0),\n",
       " ('способы подчинительной связи', 1.0),\n",
       " ('атрибутивные определительные отношения', 1.0),\n",
       " ('обстоятельственные отношения', 1.0),\n",
       " ('комплетивные восполняющие отношения', 1.0),\n",
       " ('предложение', 1.0),\n",
       " ('объективная модальность', 1.0),\n",
       " ('субъективная модальность', 1.0),\n",
       " ('предикативность', 1.0),\n",
       " ('предикативные отношения', 1.0),\n",
       " ('парадигму предложения', 1.0),\n",
       " ('вопросительная интонация', 1.0),\n",
       " ('лексикограмматическими разрядами слов', 1.0),\n",
       " ('морфологизованные члены предложения', 1.0),\n",
       " ('неморфологизованные члены предложения', 1.0),\n",
       " ('двусоставные предложения', 1.0),\n",
       " ('переходным промежуточным конструкциям между двусоставными и определенноличными предложениями ',\n",
       "  1.0),\n",
       " ('промежуточным между двусоставными и неопределенноличными предложениями',\n",
       "  1.0),\n",
       " ('безличные предложения', 1.0),\n",
       " ('инфинитивные', 1.0),\n",
       " ('инфинитивные предложения', 1.0),\n",
       " ('номинативные предложения', 1.0),\n",
       " ('фонемами', 1.0),\n",
       " ('сегментные единицы', 1.0),\n",
       " ('фонетическая система', 1.0),\n",
       " ('лексическая система', 1.0),\n",
       " ('грамматическая система', 1.0),\n",
       " ('морфология', 1.0),\n",
       " ('грамматическая норма', 1.0),\n",
       " ('узус', 1.0),\n",
       " ('грамматическое значение', 1.0),\n",
       " ('термин парадигматические отношения', 1.0),\n",
       " ('парадигма', 1.0),\n",
       " ('синтагматические отношения', 1.0),\n",
       " ('грамматическая форма', 1.0),\n",
       " ('категория', 1.0),\n",
       " ('оппозициями', 1.0),\n",
       " ('грамматическими способами', 1.0),\n",
       " ('морфема', 1.0),\n",
       " ('нулевая морфема', 1.0),\n",
       " ('знаменательные части речи', 1.0),\n",
       " ('существительное', 1.0),\n",
       " ('нарицательные имена', 1.0),\n",
       " ('глагол', 1.0),\n",
       " ('время', 1.0),\n",
       " ('настоящее время', 1.0),\n",
       " ('прошедшее', 1.0),\n",
       " ('будущее', 1.0),\n",
       " ('наклонением', 1.0),\n",
       " ('изъявительное наклонение', 1.0),\n",
       " ('повелительное наклонение', 1.0),\n",
       " ('инфинитив', 1.0),\n",
       " ('причастие первое', 1.0),\n",
       " ('причастие второе', 1.0),\n",
       " ('прилагательное', 1.0),\n",
       " ('притяжательные местоимения', 1.0),\n",
       " ('возвратные местоимения', 1.0),\n",
       " ('неопределённые местоимения', 1.0),\n",
       " ('качественные наречия', 1.0),\n",
       " ('количественные наречия', 1.0),\n",
       " ('обстоятельственные наречия', 1.0),\n",
       " ('служебные части речи', 1.0),\n",
       " ('союз', 1.0),\n",
       " ('предлоги', 1.0),\n",
       " ('союзными словами', 1.0),\n",
       " ('частицы', 1.0),\n",
       " ('предикацию', 1.0),\n",
       " ('центром предикации', 1.0),\n",
       " ('предикативную линию предложения', 1.0),\n",
       " ('сложноподчиненное предложение', 1.0),\n",
       " ('сложносочиненное предложение', 1.0),\n",
       " ('тему', 1.0),\n",
       " ('сочинением', 1.0),\n",
       " ('сегментированным предложением', 1.0),\n",
       " ('французский язык', 1.0),\n",
       " ('синтаксической фонологии', 1.0),\n",
       " ('слово', 1.0),\n",
       " ('грамматическая категория', 1.0),\n",
       " ('инварианта', 1.0),\n",
       " ('флексия', 1.0),\n",
       " ('имя существительное', 1.0),\n",
       " ('синтаксическими дериватами', 1.0),\n",
       " ('элятивные сочетания', 1.0),\n",
       " ('глаголы знаменательные', 1.0),\n",
       " ('глаголы служебные', 1.0),\n",
       " ('предельные глаголы', 1.0),\n",
       " ('грамматическая категория времени', 1.0),\n",
       " ('временным центром прошедшего времени', 1.0),\n",
       " ('систематизированным контекстом', 1.0),\n",
       " ('инклюзивное значение перфекта', 1.0),\n",
       " ('дополнение объекта', 1.0),\n",
       " ('определение', 1.0),\n",
       " ('замкнутость синтаксических связей', 1.0),\n",
       " ('структурной схемой предложения', 1.0),\n",
       " ('усложнение', 1.0),\n",
       " ('обособление', 1.0),\n",
       " ('репрезентация', 1.0),\n",
       " ('семантическими ролями', 1.0),\n",
       " ('ролевую структуру глагола', 1.0),\n",
       " ('семантическая конфигурация', 1.0),\n",
       " ('агенс', 1.0),\n",
       " ('референцией', 1.0),\n",
       " ('прагматическим синтаксисом', 1.0),\n",
       " ('коммуникативная интенция', 1.0),\n",
       " ('локутивная сила предложения', 1.0),\n",
       " ('историческая грамматика русского языка', 1.0),\n",
       " ('мстиславова грамота', 1.0),\n",
       " ('топонимики', 1.0),\n",
       " ('беглым полууставом', 1.0),\n",
       " ('основы', 1.0),\n",
       " ('полногласия', 1.0),\n",
       " ('синхронное словообразование', 1.0),\n",
       " ('производным', 1.0),\n",
       " ('непроизводным', 1.0),\n",
       " ('фразеологичностью семантики слова', 1.0),\n",
       " ('переразложение', 1.0),\n",
       " ('морфом', 1.0),\n",
       " ('морфы', 1.0),\n",
       " ('дополнительным распределением', 1.0),\n",
       " ('вариантами  морфемы', 1.0),\n",
       " ('корневые морфемы', 1.0),\n",
       " ('аффиксальные морфемы', 1.0),\n",
       " ('корни', 1.0),\n",
       " ('формами субъективной оценки', 1.0),\n",
       " ('флексиями', 1.0),\n",
       " ('нулевыми', 1.0),\n",
       " ('грамматический нуль', 1.0),\n",
       " ('связанными', 1.0),\n",
       " ('членимыми и производными', 1.0),\n",
       " ('членимыми но непроизводными', 1.0),\n",
       " ('отношениями множественной производности', 1.0),\n",
       " ('морфонология', 1.0),\n",
       " ('чередования', 1.0),\n",
       " ('интерфиксами', 1.0),\n",
       " ('интерфиксация', 1.0),\n",
       " ('наложение или интерференция морфов', 1.0),\n",
       " ('наложение морфов', 1.0),\n",
       " ('грамматикой', 1.0),\n",
       " ('функция', 1.0),\n",
       " ('функциональная система', 1.0),\n",
       " ('функциональная единица языка', 1.0),\n",
       " ('грамматические значения', 1.0),\n",
       " ('словоформа', 1.0),\n",
       " ('аналитические словоформы', 1.0),\n",
       " ('морфологическая категория', 1.0),\n",
       " ('грамматическая оппозиция', 1.0),\n",
       " ('части речи', 1.0),\n",
       " ('морфологосинтаксические разновидности частей речи', 1.0),\n",
       " ('синтаксические разновидности частей речи', 1.0),\n",
       " ('одушевленным существительным', 1.0),\n",
       " ('функциональный диапазон', 1.0),\n",
       " ('система языка', 1.0),\n",
       " ('частные значения видов', 1.0),\n",
       " ('двувидовыми глаголами', 1.0),\n",
       " ('вариантными или частными значениями системнокатегориальной единицы', 1.0),\n",
       " ('функциями от употребления единицы', 1.0),\n",
       " ('аспектуальные разряды глаголов способы действия', 1.0),\n",
       " ('однократные действия', 1.0),\n",
       " ('многократные итеративные действия', 1.0),\n",
       " ('парцелляция', 1.0),\n",
       " ('речевыми контекстами выражения целостных действий', 1.0),\n",
       " ('речевым актом', 1.0),\n",
       " ('нерасчлененные предложения', 1.0),\n",
       " ('речевой функцией', 1.0),\n",
       " ('настоящее эмоциональной актуализации', 1.0),\n",
       " ('категория числа существительных', 1.0),\n",
       " ('предикативными категориями предложени', 1.0),\n",
       " ('категорией предикативности', 1.0),\n",
       " ('переходные глаголы', 1.0),\n",
       " ('переходным глаголам', 1.0),\n",
       " ('непереходные глаголы', 1.0),\n",
       " ('членами предложения', 1.0),\n",
       " ('субъект предложения', 1.0),\n",
       " ('двусоставными', 1.0),\n",
       " ('односоставными', 1.0),\n",
       " ('предикат сказуемое предложения', 1.0),\n",
       " ('коммуникативными вариантами предложения', 1.0),\n",
       " ('простыми', 1.0),\n",
       " ('локальными глаголами', 1.0),\n",
       " ('собственно вопросительными', 1.0),\n",
       " ('обособленными оборотами', 1.0),\n",
       " ('скрытая предикативность', 1.0),\n",
       " ('понятийными', 1.0),\n",
       " ('базовая модель', 1.0),\n",
       " ('модус предложения', 1.0),\n",
       " ('языковой знак', 1.0),\n",
       " ('линейная организация простого предложения', 1.0),\n",
       " ('нейтральный порядок слов', 1.0),\n",
       " ('информативноактуальное членение предложения', 1.0),\n",
       " ('падеж', 1.0),\n",
       " ('его функцию', 1.0),\n",
       " ('нейтральным актуальным членением', 1.0),\n",
       " ('синтаксическая модель предложения', 1.0),\n",
       " ('эту функцию', 1.0),\n",
       " ('однородные члены предложения', 1.0),\n",
       " ('разделительные отношения', 1.0),\n",
       " ('базовая модель сложного предложения', 1.0),\n",
       " ('предикативными наречиями', 1.0),\n",
       " ('изъявительное наклонение индикатив', 1.0),\n",
       " ('структурная связность сверхфразового единства', 1.0),\n",
       " ('диалогическая речь', 1.0),\n",
       " ('период', 1.0),\n",
       " ('прямая речь', 1.0),\n",
       " ('косвенная речь', 1.0),\n",
       " ('несобственнопрямая речь', 1.0),\n",
       " ('сов вид', 1.0),\n",
       " ('несов вид', 1.0),\n",
       " ('речью', 1.0),\n",
       " ('предложениями', 1.0),\n",
       " ('задачей синтаксиса', 1.0),\n",
       " ('коммуникацией', 1.0),\n",
       " ('внутренняя речь', 1.0),\n",
       " ('подлежащим суждения', 1.0),\n",
       " ('грамматическим подлежащим', 1.0),\n",
       " ('коммуникациями суждениями эксистенциальными', 1.0),\n",
       " ('отношениями', 1.0),\n",
       " ('изъяснительные', 1.0),\n",
       " ('атрибутивными', 1.0),\n",
       " ('главным членом', 1.0),\n",
       " ('подлежащим и сказуемым', 1.0),\n",
       " ('подлежащее', 1.0),\n",
       " ('главным членом господствующего состава', 1.0),\n",
       " ('грамматическим единством', 1.0),\n",
       " ('словосочетанием', 1.0),\n",
       " ('самостоятельными', 1.0),\n",
       " ('составами предложения', 1.0),\n",
       " ('второстепенными членами предложения', 1.0),\n",
       " ('объективные отношения', 1.0),\n",
       " ('объективными', 1.0),\n",
       " ('релятивные отношения', 1.0),\n",
       " ('приложением', 1.0),\n",
       " ('дополнением', 1.0),\n",
       " ('прямым дополнением', 1.0),\n",
       " ('косвенным дополнением', 1.0),\n",
       " ('предлогами', 1.0),\n",
       " ('дополнениями релятивными', 1.0),\n",
       " ('сказуемым именем', 1.0),\n",
       " ('связкой', 1.0),\n",
       " ('слитными главными членами', 1.0),\n",
       " ('неполными', 1.0),\n",
       " ('сложными', 1.0),\n",
       " ('подлежащные предложения', 1.0),\n",
       " ('осложненными инфинитивными предложениями', 1.0),\n",
       " ('неполными недостаточными двусоставными предложениями', 1.0),\n",
       " ('сказуемое', 1.0),\n",
       " ('знаменательными подлежащими', 1.0),\n",
       " ('слитными подлежащими', 1.0),\n",
       " ('приименным падежом', 1.0),\n",
       " ('причастия', 1.0),\n",
       " ('деепричастия', 1.0),\n",
       " ('грамматическим понятием', 1.0),\n",
       " ('частью речи', 1.0),\n",
       " ('грамматическою формой', 1.0),\n",
       " ('сопутствующими основным значениями', 1.0),\n",
       " ('объективация инфинитива', 1.0),\n",
       " ('личные формы глагола', 1.0),\n",
       " ('безличными формами глагола', 1.0),\n",
       " ('причастие', 1.0),\n",
       " ('категория объекта', 1.0),\n",
       " ('местоимение', 1.0),\n",
       " ('предлог', 1.0),\n",
       " ('префиксы', 1.0),\n",
       " ('это та часть речи', 1.0),\n",
       " ('это часть речи', 1.0),\n",
       " ('эмфаза', 1.0),\n",
       " ('супин', 1.0),\n",
       " ('это такие отношения', 1.0),\n",
       " ('синтаксическая связь', 1.0),\n",
       " ('синтаксические отношения', 1.0),\n",
       " ('высказыванием', 1.0),\n",
       " ('грамматической организации', 1.0),\n",
       " ('модальностью', 1.0),\n",
       " ('парадигм предложений', 1.0),\n",
       " ('главное слово', 1.0),\n",
       " ('зависимое слово', 1.0),\n",
       " ('синтаксически несвободные словосочетания', 1.0),\n",
       " ('фразеологически несвободные словосочетания', 1.0),\n",
       " ('детерминантами', 1.0),\n",
       " ('аппликацией', 1.0),\n",
       " ('синтаксический индикатив', 1.0),\n",
       " ('предложениями ирреальной модальности', 1.0),\n",
       " ('утвердительными', 1.0),\n",
       " ('общеотрицательным', 1.0),\n",
       " ('частноотрицательными', 1.0),\n",
       " ('повествовательными', 1.0),\n",
       " ('вопросительными', 1.0),\n",
       " ('побудительными', 1.0),\n",
       " ('восклицательными', 1.0),\n",
       " ('нераспространенным', 1.0),\n",
       " ('распространенными', 1.0),\n",
       " ('двусоставным', 1.0),\n",
       " ('составом подлежащего', 1.0),\n",
       " ('предикативное ядро', 1.0),\n",
       " ('второстепенными', 1.0),\n",
       " ('дополнение', 1.0),\n",
       " ('обстоятельство', 1.0),\n",
       " ('связанные словоформы', 1.0),\n",
       " ('простым глагольным сказуемым', 1.0),\n",
       " ('осложненным', 1.0),\n",
       " ('составным глагольным сказуемым', 1.0),\n",
       " ('именное сказуемое', 1.0),\n",
       " ('именная часть сказуемого', 1.0),\n",
       " ('смешанным', 1.0),\n",
       " ('приложение', 1.0),\n",
       " ('прямое дополнение', 1.0),\n",
       " ('косвенное дополнение', 1.0),\n",
       " ('субъектным', 1.0),\n",
       " ('объектным', 1.0),\n",
       " ('действительным', 1.0),\n",
       " ('страдательным', 1.0),\n",
       " ('порядком слов', 1.0),\n",
       " ('актуальное членение', 1.0),\n",
       " ('основа высказывания', 1.0),\n",
       " ('ядро высказывания', 1.0),\n",
       " ('логическое ударение', 1.0),\n",
       " ('прямой порядок слов', 1.0),\n",
       " ('односоставные предложения', 1.0),\n",
       " ('безличными', 1.0),\n",
       " ('инфинитивными', 1.0),\n",
       " ('генитивными', 1.0),\n",
       " ('неполным', 1.0),\n",
       " ('контекстуальными', 1.0),\n",
       " ('эллиптическими', 1.0),\n",
       " ('однородными', 1.0),\n",
       " ('средствами обособления членов предложения', 1.0),\n",
       " ('сложносочиненным', 1.0),\n",
       " ('сложноподчиненным', 1.0),\n",
       " ('придаточной', 1.0),\n",
       " ('главной', 1.0),\n",
       " ('нерасчлененными', 1.0),\n",
       " ('семантическими', 1.0),\n",
       " ('функциональными', 1.0),\n",
       " ('относительные союзные слова', 1.0),\n",
       " ('соотносительные слова', 1.0),\n",
       " ('сложноподчиненные предложения с изъяснительной придаточной частью', 1.0),\n",
       " ('бессоюзным', 1.0),\n",
       " ('многочленными сложными предложениями', 1.0),\n",
       " ('неоднородными', 1.0),\n",
       " ('наречные словосочетания', 1.0),\n",
       " ('синтаксическая связь компонентов', 1.0),\n",
       " ('семантикоформальная структура словосочетания', 1.0),\n",
       " ('сослагательное наклонение', 1.0),\n",
       " ('желательное наклонение', 1.0),\n",
       " ('побудительное наклонение', 1.0),\n",
       " ('структурная схема', 1.0),\n",
       " ('повествовательные предложения', 1.0),\n",
       " ('вопросительные предложения', 1.0),\n",
       " ('побудительные предложения', 1.0),\n",
       " ('координация', 1.0),\n",
       " ('второстепенные члены предложения', 1.0),\n",
       " ('осложненными', 1.0),\n",
       " ('однородные ряды', 1.0),\n",
       " ('обобщающие слова', 1.0),\n",
       " ('присоединение', 1.0),\n",
       " ('обращение', 1.0),\n",
       " ('синтаксическими отношениями', 1.0),\n",
       " ('модальность', 1.0),\n",
       " ('нечленимые предложения', 1.0),\n",
       " ('обобщенноличные предложения', 1.0),\n",
       " ('именным односоставным предложениям', 1.0),\n",
       " ('генитивные предложения', 1.0),\n",
       " ('синтагматически не связанные виды осложнения простого предложения', 1.0),\n",
       " ('вводные конструкции', 1.0),\n",
       " ('вставные конструкции', 1.0),\n",
       " ('модальные частицы', 1.0),\n",
       " ('целеустановка предложения', 1.0),\n",
       " ('расчлененными', 1.0),\n",
       " ('инверсия', 1.0),\n",
       " ('бессоюзное сложное предложение', 1.0),\n",
       " ('сложное синтаксическое целое', 1.0),\n",
       " ('цепная связь', 1.0),\n",
       " ('параллельная связь', 1.0),\n",
       " ('пунктуацией', 1.0),\n",
       " ('точка', 1.0),\n",
       " ('речь', 1.0),\n",
       " ('типичная парадигма', 1.0),\n",
       " ('определенная парадигма', 1.0),\n",
       " ('лексикология', 1.0),\n",
       " ('грамматика', 1.0),\n",
       " ('порядок слов', 1.0),\n",
       " ('предикацией', 1.0),\n",
       " ('предикация', 1.0),\n",
       " ('субъект', 1.0),\n",
       " ('квалификативное сказуемое', 1.0),\n",
       " ('личное предложение', 1.0),\n",
       " ('безличным', 1.0),\n",
       " ('агентивным дополнением', 1.0),\n",
       " ('общий вопрос', 1.0),\n",
       " ('специальные вопросы', 1.0),\n",
       " ('сложным подлежащим', 1.0),\n",
       " ('сложным дополнением', 1.0),\n",
       " ('сложным определением', 1.0),\n",
       " ('сложным', 1.0),\n",
       " ('общий падеж', 1.0),\n",
       " ('простые', 1.0),\n",
       " ('производные', 1.0),\n",
       " ('сложные', 1.0),\n",
       " ('имена нарицательные', 1.0),\n",
       " ('взаимным местоимениям относятся д', 1.0),\n",
       " ('неопределенным местоимениям', 1.0),\n",
       " ('субстантивированным прилагательным', 1.0),\n",
       " ('производным глаголам', 1.0),\n",
       " ('простым глаголам', 1.0),\n",
       " ('сложным глаголам', 1.0),\n",
       " ('правильные глаголы', 1.0),\n",
       " ('неправильные глаголы', 1.0),\n",
       " ('самостоятельные глаголы', 1.0),\n",
       " ('вспомогательные глаголы', 1.0),\n",
       " ('простые наречия', 1.0),\n",
       " ('производные наречия', 1.0),\n",
       " ('сложные наречия', 1.0),\n",
       " ('составные наречия', 1.0),\n",
       " ('модальные слова', 1.0),\n",
       " ('простые предлоги', 1.0),\n",
       " ('сложные предлоги', 1.0),\n",
       " ('составные предлоги', 1.0),\n",
       " ('простые союзы', 1.0),\n",
       " ('сложные союзы', 1.0),\n",
       " ('составные союзы', 1.0),\n",
       " ('союзные слова', 1.0),\n",
       " ('объектный предикативный инфинитивный оборот', 1.0),\n",
       " ('объектный инфинитивный оборот', 1.0),\n",
       " ('субъектный предикативный инфинитивный оборот', 1.0),\n",
       " ('инфинитивные обороты с предлогом', 1.0),\n",
       " ('сложный герундиальный оборот', 1.0),\n",
       " ('объектный предикативный причастный оборот', 1.0),\n",
       " ('субъектный предикативный причастный оборот', 1.0),\n",
       " ('независимый причастный оборот', 1.0),\n",
       " ('синтаксической деривации', 1.0),\n",
       " ('синтагматика и парадигматика', 1.0),\n",
       " ('ассоциативные отношения', 1.0),\n",
       " ('морфологическая парадигма', 1.0),\n",
       " ('внутримодельными трансформационными парадигмами', 1.0),\n",
       " ('трансформацией', 1.0),\n",
       " ('внутримодельная парадигма', 1.0),\n",
       " ('производными', 1.0),\n",
       " ('составным именным сказуемым', 1.0),\n",
       " ('структурой', 1.0),\n",
       " ('слабым обособлением', 1.0),\n",
       " ('обобщенное грамматическое значение вводных компонентов', 1.0),\n",
       " ('соотнесенными предикативными конструкциями', 1.0),\n",
       " ('назывные предложения', 1.0),\n",
       " ('опорным словом', 1.0),\n",
       " ('функциональнопозиционные модели', 1.0),\n",
       " ('ядерными компонентами', 1.0),\n",
       " ('зависимыми', 1.0),\n",
       " ('адъективные группы', 1.0),\n",
       " ('уточняющим', 1.0),\n",
       " ('соподчинение', 1.0),\n",
       " ('словообразовательную парадигму', 1.0),\n",
       " ('альтернативным дополнением', 1.0),\n",
       " ('внутримодельную трансформационную парадигму', 1.0),\n",
       " ('дополнение iii', 1.0),\n",
       " ('синтаксическая функция', 1.0),\n",
       " ('позиция', 1.0),\n",
       " ('зависимые', 1.0),\n",
       " ('предикативностью', 1.0),\n",
       " ('метода субституции', 1.0)]"
      ]
     },
     "execution_count": 138,
     "metadata": {},
     "output_type": "execute_result"
    }
   ],
   "source": [
    "sorted(sims_d.items(), key=lambda kv: kv[1])"
   ]
  },
  {
   "cell_type": "code",
   "execution_count": 139,
   "metadata": {},
   "outputs": [
    {
     "data": {
      "text/plain": [
       "192"
      ]
     },
     "execution_count": 139,
     "metadata": {},
     "output_type": "execute_result"
    }
   ],
   "source": [
    "len(d_1)"
   ]
  },
  {
   "cell_type": "code",
   "execution_count": 140,
   "metadata": {},
   "outputs": [
    {
     "name": "stderr",
     "output_type": "stream",
     "text": [
      "c:\\users\\asus\\appdata\\local\\programs\\python\\python37-32\\lib\\site-packages\\ipykernel_launcher.py:11: DeprecationWarning: Call to deprecated `__contains__` (Method will be removed in 4.0.0, use self.wv.__contains__() instead).\n",
      "  # This is added back by InteractiveShellApp.init_path()\n",
      "c:\\users\\asus\\appdata\\local\\programs\\python\\python37-32\\lib\\site-packages\\ipykernel_launcher.py:12: DeprecationWarning: Call to deprecated `similarity` (Method will be removed in 4.0.0, use self.wv.similarity() instead).\n",
      "  if sys.path[0] == '':\n"
     ]
    }
   ],
   "source": [
    "final_1 = {}\n",
    "for key, value in d_1.items():\n",
    "    arr = []\n",
    "    ke = key.translate(str.maketrans('', '', string.punctuation))\n",
    "    ke = re.sub(r'[()»:«'',\"0-9*&%#№$@§\u0004▬]', '', key)\n",
    "    for i in key.split():\n",
    "        m = morph.parse(i)\n",
    "        if isinstance(m, list):\n",
    "            m = m[0]\n",
    "            for t in terms:\n",
    "                if m.normal_form in model and t in model:\n",
    "                    sim = model.similarity(m.normal_form, t)\n",
    "                    arr.append(sim)\n",
    "    if len(arr) > 0:\n",
    "        if max(arr) > 0.5335291:\n",
    "            final_1[key] = value"
   ]
  },
  {
   "cell_type": "code",
   "execution_count": 141,
   "metadata": {},
   "outputs": [
    {
     "data": {
      "text/plain": [
       "169"
      ]
     },
     "execution_count": 141,
     "metadata": {},
     "output_type": "execute_result"
    }
   ],
   "source": [
    "len(final_1)"
   ]
  },
  {
   "cell_type": "code",
   "execution_count": 142,
   "metadata": {},
   "outputs": [
    {
     "data": {
      "text/plain": [
       "1291"
      ]
     },
     "execution_count": 142,
     "metadata": {},
     "output_type": "execute_result"
    }
   ],
   "source": [
    "len(d_2)"
   ]
  },
  {
   "cell_type": "code",
   "execution_count": 143,
   "metadata": {},
   "outputs": [
    {
     "name": "stderr",
     "output_type": "stream",
     "text": [
      "c:\\users\\asus\\appdata\\local\\programs\\python\\python37-32\\lib\\site-packages\\ipykernel_launcher.py:11: DeprecationWarning: Call to deprecated `__contains__` (Method will be removed in 4.0.0, use self.wv.__contains__() instead).\n",
      "  # This is added back by InteractiveShellApp.init_path()\n",
      "c:\\users\\asus\\appdata\\local\\programs\\python\\python37-32\\lib\\site-packages\\ipykernel_launcher.py:12: DeprecationWarning: Call to deprecated `similarity` (Method will be removed in 4.0.0, use self.wv.similarity() instead).\n",
      "  if sys.path[0] == '':\n"
     ]
    }
   ],
   "source": [
    "final_2 = {}\n",
    "for key, value in d_2.items():\n",
    "    arr = []\n",
    "    ke = key.translate(str.maketrans('', '', string.punctuation))\n",
    "    ke = re.sub(r'[()»:«'',\"0-9*&%#№$@§\u0004▬]', '', key)\n",
    "    for i in key.split():\n",
    "        m = morph.parse(i)\n",
    "        if isinstance(m, list):\n",
    "            m = m[0]\n",
    "            for t in terms:\n",
    "                if m.normal_form in model and t in model:\n",
    "                    sim = model.similarity(m.normal_form, t)\n",
    "                    arr.append(sim)\n",
    "    if len(arr) > 0:\n",
    "        if max(arr) > 0.5335291:\n",
    "            final_2[key] = value"
   ]
  },
  {
   "cell_type": "code",
   "execution_count": 144,
   "metadata": {},
   "outputs": [
    {
     "data": {
      "text/plain": [
       "1163"
      ]
     },
     "execution_count": 144,
     "metadata": {},
     "output_type": "execute_result"
    }
   ],
   "source": [
    "len(final_2)"
   ]
  },
  {
   "cell_type": "code",
   "execution_count": 145,
   "metadata": {},
   "outputs": [
    {
     "data": {
      "text/plain": [
       "159"
      ]
     },
     "execution_count": 145,
     "metadata": {},
     "output_type": "execute_result"
    }
   ],
   "source": [
    "len(d_3)"
   ]
  },
  {
   "cell_type": "code",
   "execution_count": 146,
   "metadata": {},
   "outputs": [
    {
     "name": "stderr",
     "output_type": "stream",
     "text": [
      "c:\\users\\asus\\appdata\\local\\programs\\python\\python37-32\\lib\\site-packages\\ipykernel_launcher.py:11: DeprecationWarning: Call to deprecated `__contains__` (Method will be removed in 4.0.0, use self.wv.__contains__() instead).\n",
      "  # This is added back by InteractiveShellApp.init_path()\n",
      "c:\\users\\asus\\appdata\\local\\programs\\python\\python37-32\\lib\\site-packages\\ipykernel_launcher.py:12: DeprecationWarning: Call to deprecated `similarity` (Method will be removed in 4.0.0, use self.wv.similarity() instead).\n",
      "  if sys.path[0] == '':\n"
     ]
    }
   ],
   "source": [
    "final_3 = {}\n",
    "for key, value in d_3.items():\n",
    "    arr = []\n",
    "    ke = key.translate(str.maketrans('', '', string.punctuation))\n",
    "    ke = re.sub(r'[()»:«'',\"0-9*&%#№$@§\u0004▬]', '', key)\n",
    "    for i in key.split():\n",
    "        m = morph.parse(i)\n",
    "        if isinstance(m, list):\n",
    "            m = m[0]\n",
    "            for t in terms:\n",
    "                if m.normal_form in model and t in model:\n",
    "                    sim = model.similarity(m.normal_form, t)\n",
    "                    arr.append(sim)\n",
    "    if len(arr) > 0:\n",
    "        if max(arr) > 0.5335291:\n",
    "            final_3[key] = value"
   ]
  },
  {
   "cell_type": "code",
   "execution_count": 147,
   "metadata": {},
   "outputs": [
    {
     "data": {
      "text/plain": [
       "158"
      ]
     },
     "execution_count": 147,
     "metadata": {},
     "output_type": "execute_result"
    }
   ],
   "source": [
    "len(final_3)"
   ]
  },
  {
   "cell_type": "code",
   "execution_count": 148,
   "metadata": {},
   "outputs": [
    {
     "data": {
      "text/plain": [
       "123"
      ]
     },
     "execution_count": 148,
     "metadata": {},
     "output_type": "execute_result"
    }
   ],
   "source": [
    "len(d_4)"
   ]
  },
  {
   "cell_type": "code",
   "execution_count": 149,
   "metadata": {},
   "outputs": [
    {
     "name": "stderr",
     "output_type": "stream",
     "text": [
      "c:\\users\\asus\\appdata\\local\\programs\\python\\python37-32\\lib\\site-packages\\ipykernel_launcher.py:11: DeprecationWarning: Call to deprecated `__contains__` (Method will be removed in 4.0.0, use self.wv.__contains__() instead).\n",
      "  # This is added back by InteractiveShellApp.init_path()\n",
      "c:\\users\\asus\\appdata\\local\\programs\\python\\python37-32\\lib\\site-packages\\ipykernel_launcher.py:12: DeprecationWarning: Call to deprecated `similarity` (Method will be removed in 4.0.0, use self.wv.similarity() instead).\n",
      "  if sys.path[0] == '':\n"
     ]
    }
   ],
   "source": [
    "final_4 = {}\n",
    "for key, value in d_4.items():\n",
    "    arr = []\n",
    "    ke = key.translate(str.maketrans('', '', string.punctuation))\n",
    "    ke = re.sub(r'[()»:«'',\"0-9*&%#№$@§\u0004▬]', '', key)\n",
    "    for i in key.split():\n",
    "        m = morph.parse(i)\n",
    "        if isinstance(m, list):\n",
    "            m = m[0]\n",
    "            for t in terms:\n",
    "                if m.normal_form in model and t in model:\n",
    "                    sim = model.similarity(m.normal_form, t)\n",
    "                    arr.append(sim)\n",
    "    if len(arr) > 0:\n",
    "        if max(arr) > 0.5335291:\n",
    "            final_4[key] = value"
   ]
  },
  {
   "cell_type": "code",
   "execution_count": 150,
   "metadata": {},
   "outputs": [
    {
     "data": {
      "text/plain": [
       "121"
      ]
     },
     "execution_count": 150,
     "metadata": {},
     "output_type": "execute_result"
    }
   ],
   "source": [
    "len(final_4)"
   ]
  },
  {
   "cell_type": "code",
   "execution_count": 151,
   "metadata": {},
   "outputs": [
    {
     "data": {
      "text/plain": [
       "76"
      ]
     },
     "execution_count": 151,
     "metadata": {},
     "output_type": "execute_result"
    }
   ],
   "source": [
    "len(d_5)"
   ]
  },
  {
   "cell_type": "code",
   "execution_count": 152,
   "metadata": {},
   "outputs": [
    {
     "name": "stderr",
     "output_type": "stream",
     "text": [
      "c:\\users\\asus\\appdata\\local\\programs\\python\\python37-32\\lib\\site-packages\\ipykernel_launcher.py:11: DeprecationWarning: Call to deprecated `__contains__` (Method will be removed in 4.0.0, use self.wv.__contains__() instead).\n",
      "  # This is added back by InteractiveShellApp.init_path()\n",
      "c:\\users\\asus\\appdata\\local\\programs\\python\\python37-32\\lib\\site-packages\\ipykernel_launcher.py:12: DeprecationWarning: Call to deprecated `similarity` (Method will be removed in 4.0.0, use self.wv.similarity() instead).\n",
      "  if sys.path[0] == '':\n"
     ]
    }
   ],
   "source": [
    "final_5 = {}\n",
    "for key, value in d_5.items():\n",
    "    arr = []\n",
    "    ke = key.translate(str.maketrans('', '', string.punctuation))\n",
    "    ke = re.sub(r'[()»:«'',\"0-9*&%#№$@§\u0004▬]', '', key)\n",
    "    for i in key.split():\n",
    "        m = morph.parse(i)\n",
    "        if isinstance(m, list):\n",
    "            m = m[0]\n",
    "            for t in terms:\n",
    "                if m.normal_form in model and t in model:\n",
    "                    sim = model.similarity(m.normal_form, t)\n",
    "                    arr.append(sim)\n",
    "    if len(arr) > 0:\n",
    "        if max(arr) > 0.5335291:\n",
    "            final_5[key] = value"
   ]
  },
  {
   "cell_type": "code",
   "execution_count": 153,
   "metadata": {},
   "outputs": [
    {
     "data": {
      "text/plain": [
       "69"
      ]
     },
     "execution_count": 153,
     "metadata": {},
     "output_type": "execute_result"
    }
   ],
   "source": [
    "len(final_5)"
   ]
  },
  {
   "cell_type": "code",
   "execution_count": 154,
   "metadata": {},
   "outputs": [
    {
     "data": {
      "text/plain": [
       "1311"
      ]
     },
     "execution_count": 154,
     "metadata": {},
     "output_type": "execute_result"
    }
   ],
   "source": [
    "len(d_6)"
   ]
  },
  {
   "cell_type": "code",
   "execution_count": 155,
   "metadata": {},
   "outputs": [
    {
     "name": "stderr",
     "output_type": "stream",
     "text": [
      "c:\\users\\asus\\appdata\\local\\programs\\python\\python37-32\\lib\\site-packages\\ipykernel_launcher.py:11: DeprecationWarning: Call to deprecated `__contains__` (Method will be removed in 4.0.0, use self.wv.__contains__() instead).\n",
      "  # This is added back by InteractiveShellApp.init_path()\n",
      "c:\\users\\asus\\appdata\\local\\programs\\python\\python37-32\\lib\\site-packages\\ipykernel_launcher.py:12: DeprecationWarning: Call to deprecated `similarity` (Method will be removed in 4.0.0, use self.wv.similarity() instead).\n",
      "  if sys.path[0] == '':\n"
     ]
    }
   ],
   "source": [
    "final_6 = {}\n",
    "for key, value in d_6.items():\n",
    "    arr = []\n",
    "    ke = key.translate(str.maketrans('', '', string.punctuation))\n",
    "    ke = re.sub(r'[()»:«'',\"0-9*&%#№$@§\u0004▬]', '', key)\n",
    "    for i in key.split():\n",
    "        m = morph.parse(i)\n",
    "        if isinstance(m, list):\n",
    "            m = m[0]\n",
    "            for t in terms:\n",
    "                if m.normal_form in model and t in model:\n",
    "                    sim = model.similarity(m.normal_form, t)\n",
    "                    arr.append(sim)\n",
    "    if len(arr) > 0:\n",
    "        if max(arr) > 0.5335291:\n",
    "            final_6[key] = value"
   ]
  },
  {
   "cell_type": "code",
   "execution_count": 156,
   "metadata": {},
   "outputs": [
    {
     "data": {
      "text/plain": [
       "1279"
      ]
     },
     "execution_count": 156,
     "metadata": {},
     "output_type": "execute_result"
    }
   ],
   "source": [
    "len(final_6)"
   ]
  },
  {
   "cell_type": "code",
   "execution_count": 157,
   "metadata": {},
   "outputs": [
    {
     "data": {
      "text/plain": [
       "15"
      ]
     },
     "execution_count": 157,
     "metadata": {},
     "output_type": "execute_result"
    }
   ],
   "source": [
    "len(d_7)"
   ]
  },
  {
   "cell_type": "code",
   "execution_count": 158,
   "metadata": {},
   "outputs": [
    {
     "name": "stderr",
     "output_type": "stream",
     "text": [
      "c:\\users\\asus\\appdata\\local\\programs\\python\\python37-32\\lib\\site-packages\\ipykernel_launcher.py:11: DeprecationWarning: Call to deprecated `__contains__` (Method will be removed in 4.0.0, use self.wv.__contains__() instead).\n",
      "  # This is added back by InteractiveShellApp.init_path()\n",
      "c:\\users\\asus\\appdata\\local\\programs\\python\\python37-32\\lib\\site-packages\\ipykernel_launcher.py:12: DeprecationWarning: Call to deprecated `similarity` (Method will be removed in 4.0.0, use self.wv.similarity() instead).\n",
      "  if sys.path[0] == '':\n"
     ]
    }
   ],
   "source": [
    "final_7 = {}\n",
    "for key, value in d_7.items():\n",
    "    arr = []\n",
    "    ke = key.translate(str.maketrans('', '', string.punctuation))\n",
    "    ke = re.sub(r'[()»:«'',\"0-9*&%#№$@§\u0004▬]', '', key)\n",
    "    for i in key.split():\n",
    "        m = morph.parse(i)\n",
    "        if isinstance(m, list):\n",
    "            m = m[0]\n",
    "            for t in terms:\n",
    "                if m.normal_form in model and t in model:\n",
    "                    sim = model.similarity(m.normal_form, t)\n",
    "                    arr.append(sim)\n",
    "    if len(arr) > 0:\n",
    "        if max(arr) > 0.5335291:\n",
    "            final_7[key] = value"
   ]
  },
  {
   "cell_type": "code",
   "execution_count": 159,
   "metadata": {},
   "outputs": [
    {
     "data": {
      "text/plain": [
       "15"
      ]
     },
     "execution_count": 159,
     "metadata": {},
     "output_type": "execute_result"
    }
   ],
   "source": [
    "len(final_7)"
   ]
  },
  {
   "cell_type": "code",
   "execution_count": 160,
   "metadata": {},
   "outputs": [
    {
     "data": {
      "text/plain": [
       "393"
      ]
     },
     "execution_count": 160,
     "metadata": {},
     "output_type": "execute_result"
    }
   ],
   "source": [
    "len(d_8)"
   ]
  },
  {
   "cell_type": "code",
   "execution_count": 161,
   "metadata": {},
   "outputs": [
    {
     "name": "stderr",
     "output_type": "stream",
     "text": [
      "c:\\users\\asus\\appdata\\local\\programs\\python\\python37-32\\lib\\site-packages\\ipykernel_launcher.py:11: DeprecationWarning: Call to deprecated `__contains__` (Method will be removed in 4.0.0, use self.wv.__contains__() instead).\n",
      "  # This is added back by InteractiveShellApp.init_path()\n",
      "c:\\users\\asus\\appdata\\local\\programs\\python\\python37-32\\lib\\site-packages\\ipykernel_launcher.py:12: DeprecationWarning: Call to deprecated `similarity` (Method will be removed in 4.0.0, use self.wv.similarity() instead).\n",
      "  if sys.path[0] == '':\n"
     ]
    }
   ],
   "source": [
    "final_8 = {}\n",
    "for key, value in d_8.items():\n",
    "    arr = []\n",
    "    ke = key.translate(str.maketrans('', '', string.punctuation))\n",
    "    ke = re.sub(r'[()»:«'',\"0-9*&%#№$@§\u0004▬]', '', key)\n",
    "    for i in key.split():\n",
    "        m = morph.parse(i)\n",
    "        if isinstance(m, list):\n",
    "            m = m[0]\n",
    "            for t in terms:\n",
    "                if m.normal_form in model and t in model:\n",
    "                    sim = model.similarity(m.normal_form, t)\n",
    "                    arr.append(sim)\n",
    "    if len(arr) > 0:\n",
    "        if max(arr) > 0.5335291:\n",
    "            final_8[key] = value"
   ]
  },
  {
   "cell_type": "code",
   "execution_count": 162,
   "metadata": {},
   "outputs": [
    {
     "data": {
      "text/plain": [
       "387"
      ]
     },
     "execution_count": 162,
     "metadata": {},
     "output_type": "execute_result"
    }
   ],
   "source": [
    "len(final_8)"
   ]
  },
  {
   "cell_type": "code",
   "execution_count": 163,
   "metadata": {},
   "outputs": [
    {
     "data": {
      "text/plain": [
       "24"
      ]
     },
     "execution_count": 163,
     "metadata": {},
     "output_type": "execute_result"
    }
   ],
   "source": [
    "len(d_9)"
   ]
  },
  {
   "cell_type": "code",
   "execution_count": 164,
   "metadata": {},
   "outputs": [
    {
     "name": "stderr",
     "output_type": "stream",
     "text": [
      "c:\\users\\asus\\appdata\\local\\programs\\python\\python37-32\\lib\\site-packages\\ipykernel_launcher.py:11: DeprecationWarning: Call to deprecated `__contains__` (Method will be removed in 4.0.0, use self.wv.__contains__() instead).\n",
      "  # This is added back by InteractiveShellApp.init_path()\n",
      "c:\\users\\asus\\appdata\\local\\programs\\python\\python37-32\\lib\\site-packages\\ipykernel_launcher.py:12: DeprecationWarning: Call to deprecated `similarity` (Method will be removed in 4.0.0, use self.wv.similarity() instead).\n",
      "  if sys.path[0] == '':\n"
     ]
    }
   ],
   "source": [
    "final_9 = {}\n",
    "for key, value in d_9.items():\n",
    "    arr = []\n",
    "    ke = key.translate(str.maketrans('', '', string.punctuation))\n",
    "    ke = re.sub(r'[()»:«'',\"0-9*&%#№$@§\u0004▬]', '', key)\n",
    "    for i in key.split():\n",
    "        m = morph.parse(i)\n",
    "        if isinstance(m, list):\n",
    "            m = m[0]\n",
    "            for t in terms:\n",
    "                if m.normal_form in model and t in model:\n",
    "                    sim = model.similarity(m.normal_form, t)\n",
    "                    arr.append(sim)\n",
    "    if len(arr) > 0:\n",
    "        if max(arr) > 0.5335291:\n",
    "            final_9[key] = value"
   ]
  },
  {
   "cell_type": "code",
   "execution_count": 165,
   "metadata": {},
   "outputs": [
    {
     "data": {
      "text/plain": [
       "21"
      ]
     },
     "execution_count": 165,
     "metadata": {},
     "output_type": "execute_result"
    }
   ],
   "source": [
    "len(final_9)"
   ]
  },
  {
   "cell_type": "code",
   "execution_count": 166,
   "metadata": {},
   "outputs": [
    {
     "data": {
      "text/plain": [
       "173"
      ]
     },
     "execution_count": 166,
     "metadata": {},
     "output_type": "execute_result"
    }
   ],
   "source": [
    "len(d_10)"
   ]
  },
  {
   "cell_type": "code",
   "execution_count": 167,
   "metadata": {},
   "outputs": [
    {
     "name": "stderr",
     "output_type": "stream",
     "text": [
      "c:\\users\\asus\\appdata\\local\\programs\\python\\python37-32\\lib\\site-packages\\ipykernel_launcher.py:11: DeprecationWarning: Call to deprecated `__contains__` (Method will be removed in 4.0.0, use self.wv.__contains__() instead).\n",
      "  # This is added back by InteractiveShellApp.init_path()\n",
      "c:\\users\\asus\\appdata\\local\\programs\\python\\python37-32\\lib\\site-packages\\ipykernel_launcher.py:12: DeprecationWarning: Call to deprecated `similarity` (Method will be removed in 4.0.0, use self.wv.similarity() instead).\n",
      "  if sys.path[0] == '':\n"
     ]
    }
   ],
   "source": [
    "final_10 = {}\n",
    "for key, value in d_10.items():\n",
    "    arr = []\n",
    "    ke = key.translate(str.maketrans('', '', string.punctuation))\n",
    "    ke = re.sub(r'[()»:«'',\"0-9*&%#№$@§\u0004▬]', '', key)\n",
    "    for i in key.split():\n",
    "        m = morph.parse(i)\n",
    "        if isinstance(m, list):\n",
    "            m = m[0]\n",
    "            for t in terms:\n",
    "                if m.normal_form in model and t in model:\n",
    "                    sim = model.similarity(m.normal_form, t)\n",
    "                    arr.append(sim)\n",
    "    if len(arr) > 0:\n",
    "        if max(arr) > 0.5335291:\n",
    "            final_10[key] = value"
   ]
  },
  {
   "cell_type": "code",
   "execution_count": 168,
   "metadata": {},
   "outputs": [
    {
     "data": {
      "text/plain": [
       "170"
      ]
     },
     "execution_count": 168,
     "metadata": {},
     "output_type": "execute_result"
    }
   ],
   "source": [
    "len(final_10)"
   ]
  },
  {
   "cell_type": "code",
   "execution_count": 169,
   "metadata": {},
   "outputs": [
    {
     "data": {
      "text/plain": [
       "147"
      ]
     },
     "execution_count": 169,
     "metadata": {},
     "output_type": "execute_result"
    }
   ],
   "source": [
    "len(d_11)"
   ]
  },
  {
   "cell_type": "code",
   "execution_count": 170,
   "metadata": {},
   "outputs": [
    {
     "name": "stderr",
     "output_type": "stream",
     "text": [
      "c:\\users\\asus\\appdata\\local\\programs\\python\\python37-32\\lib\\site-packages\\ipykernel_launcher.py:11: DeprecationWarning: Call to deprecated `__contains__` (Method will be removed in 4.0.0, use self.wv.__contains__() instead).\n",
      "  # This is added back by InteractiveShellApp.init_path()\n",
      "c:\\users\\asus\\appdata\\local\\programs\\python\\python37-32\\lib\\site-packages\\ipykernel_launcher.py:12: DeprecationWarning: Call to deprecated `similarity` (Method will be removed in 4.0.0, use self.wv.similarity() instead).\n",
      "  if sys.path[0] == '':\n"
     ]
    }
   ],
   "source": [
    "final_11 = {}\n",
    "for key, value in d_11.items():\n",
    "    arr = []\n",
    "    ke = key.translate(str.maketrans('', '', string.punctuation))\n",
    "    ke = re.sub(r'[()»:«'',\"0-9*&%#№$@§\u0004▬]', '', key)\n",
    "    for i in key.split():\n",
    "        m = morph.parse(i)\n",
    "        if isinstance(m, list):\n",
    "            m = m[0]\n",
    "            for t in terms:\n",
    "                if m.normal_form in model and t in model:\n",
    "                    sim = model.similarity(m.normal_form, t)\n",
    "                    arr.append(sim)\n",
    "    if len(arr) > 0:\n",
    "        if max(arr) > 0.5335291:\n",
    "            final_11[key] = value"
   ]
  },
  {
   "cell_type": "code",
   "execution_count": 171,
   "metadata": {},
   "outputs": [
    {
     "data": {
      "text/plain": [
       "145"
      ]
     },
     "execution_count": 171,
     "metadata": {},
     "output_type": "execute_result"
    }
   ],
   "source": [
    "len(final_11)"
   ]
  },
  {
   "cell_type": "code",
   "execution_count": 172,
   "metadata": {},
   "outputs": [
    {
     "data": {
      "text/plain": [
       "377"
      ]
     },
     "execution_count": 172,
     "metadata": {},
     "output_type": "execute_result"
    }
   ],
   "source": [
    "len(d_12)"
   ]
  },
  {
   "cell_type": "code",
   "execution_count": 173,
   "metadata": {},
   "outputs": [
    {
     "name": "stderr",
     "output_type": "stream",
     "text": [
      "c:\\users\\asus\\appdata\\local\\programs\\python\\python37-32\\lib\\site-packages\\ipykernel_launcher.py:11: DeprecationWarning: Call to deprecated `__contains__` (Method will be removed in 4.0.0, use self.wv.__contains__() instead).\n",
      "  # This is added back by InteractiveShellApp.init_path()\n",
      "c:\\users\\asus\\appdata\\local\\programs\\python\\python37-32\\lib\\site-packages\\ipykernel_launcher.py:12: DeprecationWarning: Call to deprecated `similarity` (Method will be removed in 4.0.0, use self.wv.similarity() instead).\n",
      "  if sys.path[0] == '':\n"
     ]
    }
   ],
   "source": [
    "final_12 = {}\n",
    "for key, value in d_12.items():\n",
    "    arr = []\n",
    "    ke = key.translate(str.maketrans('', '', string.punctuation))\n",
    "    ke = re.sub(r'[()»:«'',\"0-9*&%#№$@§\u0004▬]', '', key)\n",
    "    for i in key.split():\n",
    "        m = morph.parse(i)\n",
    "        if isinstance(m, list):\n",
    "            m = m[0]\n",
    "            for t in terms:\n",
    "                if m.normal_form in model and t in model:\n",
    "                    sim = model.similarity(m.normal_form, t)\n",
    "                    arr.append(sim)\n",
    "    if len(arr) > 0:\n",
    "        if max(arr) > 0.5335291:\n",
    "            final_12[key] = value"
   ]
  },
  {
   "cell_type": "code",
   "execution_count": 174,
   "metadata": {},
   "outputs": [
    {
     "data": {
      "text/plain": [
       "364"
      ]
     },
     "execution_count": 174,
     "metadata": {},
     "output_type": "execute_result"
    }
   ],
   "source": [
    "len(final_12)"
   ]
  },
  {
   "cell_type": "code",
   "execution_count": 180,
   "metadata": {},
   "outputs": [],
   "source": [
    "with open('extr_defs.csv', 'w', encoding = 'utf-8') as csv_file:\n",
    "    writer = csv.writer(csv_file)\n",
    "    for key, value in final_1.items():\n",
    "        writer.writerow([key, value, 1])\n",
    "    for key, value in final_2.items():\n",
    "        writer.writerow([key, value, 2])\n",
    "    for key, value in final_3.items():\n",
    "        writer.writerow([key, value, 3])\n",
    "    for key, value in final_4.items():\n",
    "        writer.writerow([key, value, 4])\n",
    "    for key, value in final_5.items():\n",
    "        writer.writerow([key, value, 5])\n",
    "    for key, value in final_6.items():\n",
    "        writer.writerow([key, value, 6])\n",
    "    for key, value in final_7.items():\n",
    "        writer.writerow([key, value, 7])\n",
    "    for key, value in final_8.items():\n",
    "        writer.writerow([key, value, 8])\n",
    "    for key, value in final_9.items():\n",
    "        writer.writerow([key, value, 9])\n",
    "    for key, value in final_10.items():\n",
    "        writer.writerow([key, value, 10])\n",
    "    for key, value in final_11.items():\n",
    "        writer.writerow([key, value, 11])\n",
    "    for key, value in final_12.items():\n",
    "        writer.writerow([key, value, 12])"
   ]
  },
  {
   "cell_type": "code",
   "execution_count": 2,
   "metadata": {},
   "outputs": [],
   "source": [
    "import csv\n",
    "with open('term_def.csv', 'r', encoding = 'utf-8') as f_obj:\n",
    "    file = csv.reader(f_obj)\n",
    "    terms = []\n",
    "    for row in file:\n",
    "        terms.append(row[0])"
   ]
  },
  {
   "cell_type": "code",
   "execution_count": 21,
   "metadata": {},
   "outputs": [],
   "source": [
    "len_terms = []\n",
    "for term in terms:\n",
    "    len_terms.append(len(term.split()))"
   ]
  },
  {
   "cell_type": "code",
   "execution_count": 25,
   "metadata": {},
   "outputs": [
    {
     "data": {
      "text/plain": [
       "1.7699115044247788"
      ]
     },
     "execution_count": 25,
     "metadata": {},
     "output_type": "execute_result"
    }
   ],
   "source": [
    "import statistics \n",
    "statistics.mean(len_terms)"
   ]
  },
  {
   "cell_type": "code",
   "execution_count": 3,
   "metadata": {},
   "outputs": [],
   "source": [
    "from rutermextract import TermExtractor"
   ]
  },
  {
   "cell_type": "code",
   "execution_count": 4,
   "metadata": {},
   "outputs": [],
   "source": [
    "term_extractor = TermExtractor()"
   ]
  },
  {
   "cell_type": "code",
   "execution_count": 5,
   "metadata": {},
   "outputs": [],
   "source": [
    "ruterm_dict = {}\n",
    "terms_str = ' '.join(terms)\n",
    "for term in term_extractor(terms_str):\n",
    "    ruterm_dict[term.normalized] = term.count"
   ]
  },
  {
   "cell_type": "code",
   "execution_count": 6,
   "metadata": {},
   "outputs": [
    {
     "data": {
      "text/plain": [
       "{'синтаксис': 12,\n",
       " 'предложение': 11,\n",
       " 'подлежащее': 7,\n",
       " 'дополнение': 7,\n",
       " 'функция': 6,\n",
       " 'сказуемое': 6,\n",
       " 'словосочетание': 5,\n",
       " 'речь': 5,\n",
       " 'примыкание': 5,\n",
       " 'члены предложения': 4,\n",
       " 'сложное предложение': 4,\n",
       " 'управление': 4,\n",
       " 'существительное': 4,\n",
       " 'согласование': 4,\n",
       " 'предикативность': 4,\n",
       " 'определение': 4,\n",
       " 'морфология': 4,\n",
       " 'морфема': 4,\n",
       " 'инфинитив': 4,\n",
       " 'часть речи': 3,\n",
       " 'прямое дополнение': 3,\n",
       " 'косвенное дополнение': 3,\n",
       " 'язык': 3,\n",
       " 'член': 3,\n",
       " 'тема': 3,\n",
       " 'простой': 3,\n",
       " 'причастие': 3,\n",
       " 'предикация': 3,\n",
       " 'координация': 3,\n",
       " 'зависимость': 3,\n",
       " 'грамматика': 3,\n",
       " 'главное': 3,\n",
       " 'структурная схема предложения': 2,\n",
       " 'второстепенные члены предложения': 2,\n",
       " 'формальный вы\\xadражения': 2,\n",
       " 'форма слова': 2,\n",
       " 'сложный предложение': 2,\n",
       " 'речевой функция': 2,\n",
       " 'простое предложение': 2,\n",
       " 'порядок слов': 2,\n",
       " 'подчинительная связь': 2,\n",
       " 'переходные глаголы': 2,\n",
       " 'парадигматические отношение': 2,\n",
       " 'объектные отношение': 2,\n",
       " 'объективная модальность': 2,\n",
       " 'номинативные предложение': 2,\n",
       " 'несвободные словосочетание': 2,\n",
       " 'непереходные глаголы': 2,\n",
       " 'двусоставные предложение': 2,\n",
       " 'грамматический единство': 2,\n",
       " 'грамматическая форма': 2,\n",
       " 'актуальное членение': 2,\n",
       " 'частные': 2,\n",
       " 'флексии': 2,\n",
       " 'слово': 2,\n",
       " 'прямые': 2,\n",
       " 'приложение': 2,\n",
       " 'предложения': 2,\n",
       " 'предлоги': 2,\n",
       " 'предлог': 2,\n",
       " 'отношение': 2,\n",
       " 'обстоятельство': 2,\n",
       " 'обособление': 2,\n",
       " 'настоящее': 2,\n",
       " 'наклонение': 2,\n",
       " 'морфы': 2,\n",
       " 'модальность': 2,\n",
       " 'местоимение': 2,\n",
       " 'лексема': 2,\n",
       " 'инверсия': 2,\n",
       " 'имя': 2,\n",
       " 'детерминанты': 2,\n",
       " 'время': 2,\n",
       " 'утвердительные общеотрицательный частноотрицательные повествовательные вопросительные побудительные восклицательные нераспространенный распространённые детерминанты': 1,\n",
       " 'определенно-личные неопределенно-личные обобщенно-личные безличные инфинитивные генитивные неполный контекстуальные ситуативные предложение-реплика': 1,\n",
       " 'диахроническое производный производящий непроизводный фразеологичность семантики слова': 1,\n",
       " 'форма слова формы словоизменения формы словообразования': 1,\n",
       " 'нарицательные исчисляемые неисчисляемые классифицирующая взаимный местоимения': 1,\n",
       " 'простые производные сложные субстантивированный прилагательное': 1,\n",
       " 'неполные недостаточные сложные подлежащные предложение': 1,\n",
       " 'грамматический гла\\xadвенствование группы руппы форм': 1,\n",
       " 'глас\\xadные сонорные шумные словообразовательная моти\\xadвация': 1,\n",
       " 'безличные инфинитивные именной односоставной предложения': 1,\n",
       " 'эллиптические однородные однородные обособление': 1,\n",
       " 'субъектный предикативный причастный оборот': 1,\n",
       " 'субъектный предикативный инфинитивный оборот': 1,\n",
       " 'сопровож\\xadдающие словообра\\xadзовательный значение слов': 1,\n",
       " 'событийные понятийные дополнение объекта': 1,\n",
       " 'синтаксические разновидности частей речи': 1,\n",
       " 'синтаксические единица словоформы словоформы': 1,\n",
       " 'самостоятельные несамостоятельные составы предложения': 1,\n",
       " 'простые производные сложные имена': 1,\n",
       " 'производные составной именной сказуемое': 1,\n",
       " 'приставочно-суффиксальный нулевые грамматический нуль': 1,\n",
       " 'парадигматический темпорально-многократные базовая модель': 1,\n",
       " 'осложнённый составной глагольный сказуемое': 1,\n",
       " 'объектный предикативный причастный оборот': 1,\n",
       " 'объектный предикативный инфинитивный оборот': 1,\n",
       " 'морфолого-синтаксические разновидности частей речи': 1,\n",
       " 'киноварь основы полногласия корелляции': 1,\n",
       " 'временной центр прошедшего времени': 1,\n",
       " 'бессоюзный многочленные сложные предложения': 1,\n",
       " 'эквиполентные грамматические способы': 1,\n",
       " 'частные значения видов': 1,\n",
       " 'функциональная единица языка': 1,\n",
       " 'фундаментальные понятие синтаксиса': 1,\n",
       " 'субституционные уточняющий соподчинение': 1,\n",
       " 'субстантивные адъективные словосочетание': 1,\n",
       " 'союзные слова частицы': 1,\n",
       " 'сопутствующие основный значения': 1,\n",
       " 'соотнесённые предикативные конструкции': 1,\n",
       " 'смешанный способ словообразования': 1,\n",
       " 'смешанный морфологизованные приложение': 1,\n",
       " 'служебные часть речи': 1,\n",
       " 'служебные предельные глаголы': 1,\n",
       " 'сложный общий падеж': 1,\n",
       " 'сложный герундиальный оборот': 1,\n",
       " 'сложносочинённый сложноподчинённое предложение': 1,\n",
       " 'сложносочинённое предложение кумулема': 1,\n",
       " 'сложное синтаксическое целое': 1,\n",
       " 'слитные главные члены': 1,\n",
       " 'синтаксические категории предложения': 1,\n",
       " 'синтаксическая связь компонентов': 1,\n",
       " 'синтаксическая модель предложения': 1,\n",
       " 'синтаксис формы слова': 1,\n",
       " 'семантическая структура предложения': 1,\n",
       " 'семантико-формальная структура словосочетания': 1,\n",
       " 'сегментированный сегментированный предложение': 1,\n",
       " 'связанные виды осложнения': 1,\n",
       " 'ролевая структура глагола': 1,\n",
       " 'речевые контексты выражения': 1,\n",
       " 'простые локальные глаголы': 1,\n",
       " 'простые глагольный сказуемое': 1,\n",
       " 'продуктивные непродуктивные синтаксис': 1,\n",
       " 'присловная подчинительная связь': 1,\n",
       " 'предикативность парадигм предложений': 1,\n",
       " 'предикативность метода субституции': 1,\n",
       " 'отрицательные двойные отрицание': 1,\n",
       " 'осложнённые однородные ряды': 1,\n",
       " 'осложнённые инфинитивные предложения': 1,\n",
       " 'однородные члены предложения': 1,\n",
       " 'однородные неоднородные словосочетание': 1,\n",
       " 'объектный инфинитивный оборот': 1,\n",
       " 'объективные релятивные отношение': 1,\n",
       " 'общие словообразо\\xadвательный значение': 1,\n",
       " 'обобщённое грамматическое значение': 1,\n",
       " 'обобщенно-личные безличные предложение': 1,\n",
       " 'область синтаксиса словосочетания': 1,\n",
       " 'область син\\xadтаксиса слова': 1,\n",
       " 'нерасчлененные расчленённые инверсия': 1,\n",
       " 'непосредственное распространение комплемента': 1,\n",
       " 'неопределенно-личные обобщенно-личные предложение': 1,\n",
       " 'неморфологизованные члены предложения': 1,\n",
       " 'нейтральный порядок слов': 1,\n",
       " 'нейтральные актуальное членение': 1,\n",
       " 'независимый причастный оборот': 1,\n",
       " 'неделимый наречные словосочетание': 1,\n",
       " 'мотивирующая основа внетипо\\xadвыми': 1,\n",
       " 'морфологизованные члены предложения': 1,\n",
       " 'локутивная сила предложения': 1,\n",
       " 'логическое ударение прямой': 1,\n",
       " 'личные форма глагола': 1,\n",
       " 'лексико-грамматические разряды слов': 1,\n",
       " 'коммуникативные варианты предложения': 1,\n",
       " 'коммуникативно-актуализирующая изъявительное наклонение': 1,\n",
       " 'коммуникативная парадигма предложения': 1,\n",
       " 'категория числа существительных': 1,\n",
       " 'информативно-актуальное членение предложения': 1,\n",
       " 'инфинитивные инфинитивные предложение': 1,\n",
       " 'интенсифицирующая словообразование морфологии': 1,\n",
       " 'инклюзивное значение перфекта': 1,\n",
       " 'именная часть сказуемого': 1,\n",
       " 'изъяснительные атрибутивные предложение': 1,\n",
       " 'знаменательные часть речи': 1,\n",
       " 'законченный синтаксическая функция': 1,\n",
       " 'зависимые адъективные группа': 1,\n",
       " 'зависимое слово лексичёски': 1,\n",
       " 'завершённые члены предложения': 1,\n",
       " 'дейксисом части речи': 1,\n",
       " 'двусоставные односоставные предикат': 1,\n",
       " 'двусоставной состав подлежащего': 1,\n",
       " 'грамматическое значение инварианта': 1,\n",
       " 'грамматические значения словосочетаний': 1,\n",
       " 'грамматическая наука регулярности': 1,\n",
       " 'грамматическая категория времени': 1,\n",
       " 'глагол причастия деепричастия': 1,\n",
       " 'вопросительные обособленные обороты': 1,\n",
       " 'внутримодельные трансформационные парадигмы': 1,\n",
       " 'внутримодельная трансформационная парадигма': 1,\n",
       " 'векторные величины частицы': 1,\n",
       " 'бессоюзное сложное предложение': 1,\n",
       " 'безличные формы глагола': 1,\n",
       " 'аттрибутивно-предикативные объективные отношение': 1,\n",
       " 'аспектуальные разряды глаголов': 1,\n",
       " 'аналитический такие слово': 1,\n",
       " 'языковой знак': 1,\n",
       " 'ядро высказывания': 1,\n",
       " 'ядерные компоненты': 1,\n",
       " 'эмоциональная актуализация': 1,\n",
       " 'элятивные сочетание': 1,\n",
       " 'экспрессия слова': 1,\n",
       " 'чистое сло\\xadжение': 1,\n",
       " 'цепная связь': 1,\n",
       " 'центр предикации': 1,\n",
       " 'целостные действия': 1,\n",
       " 'целеустановка предложения': 1,\n",
       " 'функциональный диапазон': 1,\n",
       " 'функционально-позиционные модель': 1,\n",
       " 'функциональная система': 1,\n",
       " 'французский язык': 1,\n",
       " 'фразеологические сращения': 1,\n",
       " 'фразеологические сочетания': 1,\n",
       " 'фразеологические единство': 1,\n",
       " 'формообразующие суффиксы': 1,\n",
       " 'формальный выражение': 1,\n",
       " 'фонетическая система': 1,\n",
       " 'фонетиче\\xadская транскрипция': 1,\n",
       " 'употребление единицы': 1,\n",
       " 'третий вид': 1,\n",
       " 'типичная парадигма': 1,\n",
       " 'типизированные интонация': 1,\n",
       " 'тема рема': 1,\n",
       " 'такие отношение': 1,\n",
       " 'субъективно-модальные значения': 1,\n",
       " 'субъективная оценка': 1,\n",
       " 'субъективная модальность': 1,\n",
       " 'субъект предложения': 1,\n",
       " 'структурная схема': 1,\n",
       " 'структурная связность': 1,\n",
       " 'средства обособления': 1,\n",
       " 'способы действия': 1,\n",
       " 'способ словообразова\\xadния': 1,\n",
       " 'специальные вопросы': 1,\n",
       " 'союзные слово': 1,\n",
       " 'сочинительная связь': 1,\n",
       " 'сочетаемость слова': 1,\n",
       " 'составные союзы': 1,\n",
       " 'составные предлоги': 1,\n",
       " 'составные наречие': 1,\n",
       " 'сослагательное наклонение': 1,\n",
       " 'соотносительные слово': 1,\n",
       " 'совмещение морфов': 1,\n",
       " 'событийная совы': 1,\n",
       " 'сложный подлежащее': 1,\n",
       " 'сложный определение': 1,\n",
       " 'сложный дополнение': 1,\n",
       " 'сложный глаголы': 1,\n",
       " 'сложные союзы': 1,\n",
       " 'сложные предлоги': 1,\n",
       " 'сложные наречие': 1,\n",
       " 'сложноподчинённые предложение': 1,\n",
       " 'сложноподчинённое предложение': 1,\n",
       " 'словообразующие живые': 1,\n",
       " 'словообразовательный фор\\xadмант': 1,\n",
       " 'словообразовательное гнездо': 1,\n",
       " 'словообразовательная це\\xadпочка': 1,\n",
       " 'словообразовательная регулярность': 1,\n",
       " 'словообразовательная парадигма': 1,\n",
       " 'словообразователь\\xadная система': 1,\n",
       " 'словообра\\xadзовательные значения': 1,\n",
       " 'слитные подлежащие': 1,\n",
       " 'слабый обособление': 1,\n",
       " 'скрытая предикативность': 1,\n",
       " 'системно-категориальная единица': 1,\n",
       " 'систематизированный контекст': 1,\n",
       " 'система языка': 1,\n",
       " 'синхронное словообразование': 1,\n",
       " 'синтаксический индикатив': 1,\n",
       " 'синтаксические связи': 1,\n",
       " 'синтаксические отношения': 1,\n",
       " 'синтаксические отношение': 1,\n",
       " 'синтаксические дериваты': 1,\n",
       " 'синтаксическая фонология': 1,\n",
       " 'синтаксическая семантика': 1,\n",
       " 'синтаксическая связь': 1,\n",
       " 'синтаксическая категория': 1,\n",
       " 'синтаксическая деривация': 1,\n",
       " 'синтаксис языка': 1,\n",
       " 'синтагматический пунктуация': 1,\n",
       " 'синтагматические отношение': 1,\n",
       " 'семантические роли': 1,\n",
       " 'семантическая конфигурация': 1,\n",
       " 'семантика схемы': 1,\n",
       " 'сегментные единица': 1,\n",
       " 'связанные словоформа': 1,\n",
       " 'связанные наращение': 1,\n",
       " 'сверхфразовый единство': 1,\n",
       " 'самостоятельные глаголы': 1,\n",
       " 'русский язык': 1,\n",
       " 'речевой поток': 1,\n",
       " 'речевой акт': 1,\n",
       " 'рема рема': 1,\n",
       " 'релятивные сказуемое': 1,\n",
       " 'разделительные отношение': 1,\n",
       " 'простые союзы': 1,\n",
       " 'простые предлоги': 1,\n",
       " 'простые наречие': 1,\n",
       " 'простые глаголы': 1,\n",
       " 'производный глаголы': 1,\n",
       " 'производные наречие': 1,\n",
       " 'производно-исторические среда': 1,\n",
       " 'продуктивность типа': 1,\n",
       " 'притяжательные местоимение': 1,\n",
       " 'приименной падеж': 1,\n",
       " 'придаточный предложение': 1,\n",
       " 'предикативные сочетание': 1,\n",
       " 'предикативные отношение': 1,\n",
       " 'предикативные наречия': 1,\n",
       " 'предикативные категории': 1,\n",
       " 'предикативное ядро': 1,\n",
       " 'предикативная линия': 1,\n",
       " 'прагматический синтаксис': 1,\n",
       " 'правильные глаголы': 1,\n",
       " 'подлежащее суждения': 1,\n",
       " 'повествовательные предложение': 1,\n",
       " 'повелительное наклонение': 1,\n",
       " 'побудительные предложение': 1,\n",
       " 'побудительное наклонение': 1,\n",
       " 'перформативный директивы': 1,\n",
       " 'переходный глаголы': 1,\n",
       " 'первый вид': 1,\n",
       " 'параллельная связь': 1,\n",
       " 'парадигма предложения': 1,\n",
       " 'падежное примыкание': 1,\n",
       " 'открытые слоги': 1,\n",
       " 'основа высказывания': 1,\n",
       " 'организующая прямая': 1,\n",
       " 'определённая парадигма': 1,\n",
       " 'определительные согласование': 1,\n",
       " 'определительные отноше\\xadние': 1,\n",
       " 'определенно-личные предложения': 1,\n",
       " 'опорный слово': 1,\n",
       " 'опо\\xadсредствованная мотивация': 1,\n",
       " 'окказиональные слова': 1,\n",
       " 'односоставные предложение': 1,\n",
       " 'однократные действие': 1,\n",
       " 'объективация инфинитива': 1,\n",
       " 'общий вопрос': 1,\n",
       " 'обстоятельственные отношение': 1,\n",
       " 'обстоятельственные наречие': 1,\n",
       " 'обобщающие слово': 1,\n",
       " 'область синтаксиса': 1,\n",
       " 'нулевая морфема': 1,\n",
       " 'нечленимые предложение': 1,\n",
       " 'нерасчлененные предложение': 1,\n",
       " 'непроизводные отношения': 1,\n",
       " 'неправильные глаголы': 1,\n",
       " 'непосредст\\xadвенная мотивация': 1,\n",
       " 'неопределённый местоимения': 1,\n",
       " 'неопределённые местоимение': 1,\n",
       " 'неопределенноличные предложения': 1,\n",
       " 'недостаточные слова': 1,\n",
       " 'нарицательные имена': 1,\n",
       " 'наречные способы': 1,\n",
       " 'наложение морфов': 1,\n",
       " 'назывные предложение': 1,\n",
       " 'морфонема чередования': 1,\n",
       " 'морфологические форма': 1,\n",
       " 'морфологическая парадигма': 1,\n",
       " 'морфологическая категория': 1,\n",
       " 'модус предложения': 1,\n",
       " 'модальные частица': 1,\n",
       " 'модальные слово': 1,\n",
       " 'множественная производность': 1,\n",
       " 'минимальная замещение': 1,\n",
       " 'личное предложение': 1,\n",
       " 'линейная организация': 1,\n",
       " 'лексический повтор': 1,\n",
       " 'лексические значение': 1,\n",
       " 'лексическая система': 1,\n",
       " 'лексико-грамматические разряды': 1,\n",
       " 'косвенный дополнение': 1,\n",
       " 'косвенная речь': 1,\n",
       " 'корневые морфема': 1,\n",
       " 'коммуникативная интенция': 1,\n",
       " 'количественные наречие': 1,\n",
       " 'квалификативное сказуемое': 1,\n",
       " 'качественные наречие': 1,\n",
       " 'категория предикативности': 1,\n",
       " 'категория объекта': 1,\n",
       " 'исчисляемый глагол': 1,\n",
       " 'историческая грамматика': 1,\n",
       " 'ирреальная модальность': 1,\n",
       " 'инфинитивные обороты': 1,\n",
       " 'именное сказуемое': 1,\n",
       " 'изъявительное наклонение': 1,\n",
       " 'знаменательные слова': 1,\n",
       " 'знаменательные подлежащие': 1,\n",
       " 'знаменательные глаголы': 1,\n",
       " 'знаменательное слово': 1,\n",
       " 'закрытые слоги': 1,\n",
       " 'задача синтаксиса': 1,\n",
       " 'зависимые предложение': 1,\n",
       " 'зависимая позиция': 1,\n",
       " 'желательное наклонение': 1,\n",
       " 'дублирование компонентов': 1,\n",
       " 'дополнительные распределение': 1,\n",
       " 'дополнение объекта': 1,\n",
       " 'диалогическая речь': 1,\n",
       " 'двусоставные предложения': 1,\n",
       " 'двувидовые глаголы': 1,\n",
       " 'грамота топонимики': 1,\n",
       " 'грамматическое значение': 1,\n",
       " 'грамматический понятие': 1,\n",
       " 'грамматический подлежащее': 1,\n",
       " 'грамматические значение': 1,\n",
       " 'грамматическая система': 1,\n",
       " 'грамматическая организация': 1,\n",
       " 'грамматическая оппозиция': 1,\n",
       " 'грамматическая норма': 1,\n",
       " 'грамматическая категория': 1,\n",
       " 'господствующий состав': 1,\n",
       " 'главное слово': 1,\n",
       " 'генитивные предложение': 1,\n",
       " 'второстепенные определение': 1,\n",
       " 'второй вид': 1,\n",
       " 'второе прилагательное': 1,\n",
       " 'вставные конструкция': 1,\n",
       " 'вспомогательные глаголы': 1,\n",
       " 'вопросительные предложение': 1,\n",
       " 'вопросительная интонация': 1,\n",
       " 'возвратные местоимение': 1,\n",
       " 'внутримодельная формовна-изменительная': 1,\n",
       " 'внутримодельная парадигма': 1,\n",
       " 'внутренняя речь': 1,\n",
       " 'вид несов': 1,\n",
       " 'вводные конструкция': 1,\n",
       " 'вводные компоненты': 1,\n",
       " 'вариативные связь': 1,\n",
       " 'варианты морфемы': 1,\n",
       " 'безличный дополнение': 1,\n",
       " 'безличные предложение': 1,\n",
       " 'беглый полуустав': 1,\n",
       " 'базовая модель': 1,\n",
       " 'аффиксальные морфема': 1,\n",
       " 'ассоциативные отношение': 1,\n",
       " 'аппликация словоформы': 1,\n",
       " 'аналитические словоформа': 1,\n",
       " 'альтернативный дополнение': 1,\n",
       " 'агентивный дополнение': 1,\n",
       " 'эмфаза': 1,\n",
       " 'эллипсис': 1,\n",
       " 'эллипс': 1,\n",
       " 'элементы': 1,\n",
       " 'чередование': 1,\n",
       " 'функции': 1,\n",
       " 'формы': 1,\n",
       " 'фонетика': 1,\n",
       " 'фонемы': 1,\n",
       " 'флексия': 1,\n",
       " 'усложнение': 1,\n",
       " 'употребление': 1,\n",
       " 'узус': 1,\n",
       " 'трансформация': 1,\n",
       " 'точка': 1,\n",
       " 'термин': 1,\n",
       " 'темпоральность': 1,\n",
       " 'супин': 1,\n",
       " 'суждения': 1,\n",
       " 'субъект': 1,\n",
       " 'структура': 1,\n",
       " 'союз': 1,\n",
       " 'сочинение': 1,\n",
       " 'случаи': 1,\n",
       " 'сложение': 1,\n",
       " 'слог': 1,\n",
       " 'словоформа': 1,\n",
       " 'слова': 1,\n",
       " 'синтагматика': 1,\n",
       " 'синпарадигма': 1,\n",
       " 'семантика': 1,\n",
       " 'связка': 1,\n",
       " 'референция': 1,\n",
       " 'репрезентация': 1,\n",
       " 'развёртывание': 1,\n",
       " 'прошедшее': 1,\n",
       " 'пропозиция': 1,\n",
       " 'присоединение': 1,\n",
       " 'прилагательное': 1,\n",
       " 'префиксы': 1,\n",
       " 'пресуппозиция': 1,\n",
       " 'предметность': 1,\n",
       " 'полупредикативность': 1,\n",
       " 'позиция': 1,\n",
       " 'персуазивность': 1,\n",
       " 'период': 1,\n",
       " 'переходность': 1,\n",
       " 'переразложение': 1,\n",
       " 'пергамент': 1,\n",
       " 'первое': 1,\n",
       " 'патиенс': 1,\n",
       " 'парцелляция': 1,\n",
       " 'парадигматик': 1,\n",
       " 'парадигма': 1,\n",
       " 'падеж': 1,\n",
       " 'отношения': 1,\n",
       " 'опущение': 1,\n",
       " 'оппозиции': 1,\n",
       " 'обращение': 1,\n",
       " 'несобственно-прямая': 1,\n",
       " 'наука': 1,\n",
       " 'наложение': 1,\n",
       " 'морфонология': 1,\n",
       " 'морф': 1,\n",
       " 'монорема': 1,\n",
       " 'мех': 1,\n",
       " 'лексикология': 1,\n",
       " 'лексико': 1,\n",
       " 'корни': 1,\n",
       " 'кореферентность': 1,\n",
       " 'конструкции': 1,\n",
       " 'коммуникация': 1,\n",
       " 'коммуникации': 1,\n",
       " 'квеситив': 1,\n",
       " 'категория': 1,\n",
       " 'инференция': 1,\n",
       " 'интонация': 1,\n",
       " 'интерфиксы': 1,\n",
       " 'интерфиксация': 1,\n",
       " 'интерференция': 1,\n",
       " 'инерция': 1,\n",
       " 'индикатив': 1,\n",
       " 'импликация': 1,\n",
       " 'идентификация': 1,\n",
       " 'значения': 1,\n",
       " 'замкнутость': 1,\n",
       " 'замещение': 1,\n",
       " 'дополнения': 1,\n",
       " 'дирем': 1,\n",
       " 'диктемы': 1,\n",
       " 'делимое': 1,\n",
       " 'действие': 1,\n",
       " 'глаголы': 1,\n",
       " 'герундий': 1,\n",
       " 'высказывание': 1,\n",
       " 'вид': 1,\n",
       " 'будущее': 1,\n",
       " 'антиципация': 1,\n",
       " 'антецедент': 1,\n",
       " 'алломорфы': 1,\n",
       " 'алломорф': 1,\n",
       " 'агенс': 1,\n",
       " 'аббревиация': 1}"
      ]
     },
     "execution_count": 6,
     "metadata": {},
     "output_type": "execute_result"
    }
   ],
   "source": [
    "ruterm_dict"
   ]
  },
  {
   "cell_type": "code",
   "execution_count": null,
   "metadata": {},
   "outputs": [],
   "source": []
  }
 ],
 "metadata": {
  "kernelspec": {
   "display_name": "Python 3",
   "language": "python",
   "name": "python3"
  },
  "language_info": {
   "codemirror_mode": {
    "name": "ipython",
    "version": 3
   },
   "file_extension": ".py",
   "mimetype": "text/x-python",
   "name": "python",
   "nbconvert_exporter": "python",
   "pygments_lexer": "ipython3",
   "version": "3.7.2"
  }
 },
 "nbformat": 4,
 "nbformat_minor": 2
}
